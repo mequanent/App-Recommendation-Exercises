{
  "cells": [
    {
      "cell_type": "markdown",
      "metadata": {
        "id": "view-in-github",
        "colab_type": "text"
      },
      "source": [
        "<a href=\"https://colab.research.google.com/github/mequanent/App-Recommendation-Exercises/blob/main/Chapter%201%20-%20Mining%20Twitter.ipynb\" target=\"_parent\"><img src=\"https://colab.research.google.com/assets/colab-badge.svg\" alt=\"Open In Colab\"/></a>"
      ]
    },
    {
      "cell_type": "markdown",
      "metadata": {
        "id": "POhR9DnKCyNc"
      },
      "source": [
        "# Mining Twitter\n",
        "\n",
        "Twitter implements OAuth 1.0A as its standard authentication mechanism, and in order to use it to make requests to Twitter's API, you'll need to go to https://developer.twitter.com/en/apps and create a sample application. It is possible that Twitter no longer supports sandboxed applications and you may need to submit a request for permission to develop an app on Twitter.\n",
        "\n",
        "There are four primary identifiers you'll need to note for an OAuth 1.0A workflow: consumer key, consumer secret, access token, and access token secret. Note that you will need an ordinary Twitter account in order to login, create an app, and get these credentials.\n",
        "\n",
        "<img src=\"https://github.com/mequanent/App-Recommendation-Exercises/blob/main/resources/ch01-twitter/images/Twitter-AppCredentials.png?raw=1\" width=\"600px\">"
      ]
    },
    {
      "cell_type": "markdown",
      "metadata": {
        "id": "6ffB5bz7CyNo"
      },
      "source": [
        "If you are running this code on Binder or from the Docker container, you should just be able to execute the code in this notebook without any worries whatsoever about installing dependencies. If you are running the code from your own development envioronment, however, be advised that these examples in this chapter take advantage of a Python package called [twitter](https://github.com/sixohsix/twitter) to make API calls. You can install this package in a terminal with [pip](https://pypi.python.org/pypi/pip) with the command `pip install twitter`, preferably from within a [Python virtual environment](https://pypi.python.org/pypi/virtualenv). "
      ]
    },
    {
      "cell_type": "markdown",
      "metadata": {
        "id": "PcOYVL2OCyNq"
      },
      "source": [
        "Once installed, you should be able to open up a Python interpreter (or better yet, your [IPython](http://ipython.org/) interpreter) and get rolling."
      ]
    },
    {
      "cell_type": "markdown",
      "metadata": {
        "id": "W65dc47kCyNt"
      },
      "source": [
        "## Authorizing an application to access Twitter account data"
      ]
    },
    {
      "cell_type": "code",
      "source": [
        "pip install twitter -q"
      ],
      "metadata": {
        "colab": {
          "base_uri": "https://localhost:8080/"
        },
        "id": "vgfOlpncQSS7",
        "outputId": "7c338406-963c-4f75-efb3-7e1fff27e66a"
      },
      "execution_count": 2,
      "outputs": [
        {
          "output_type": "stream",
          "name": "stdout",
          "text": [
            "\u001b[?25l\r\u001b[K     |██████▌                         | 10 kB 20.1 MB/s eta 0:00:01\r\u001b[K     |█████████████                   | 20 kB 27.6 MB/s eta 0:00:01\r\u001b[K     |███████████████████▋            | 30 kB 25.2 MB/s eta 0:00:01\r\u001b[K     |██████████████████████████      | 40 kB 19.1 MB/s eta 0:00:01\r\u001b[K     |████████████████████████████████| 50 kB 4.6 MB/s \n",
            "\u001b[?25h"
          ]
        }
      ]
    },
    {
      "cell_type": "code",
      "execution_count": 3,
      "metadata": {
        "id": "Gi4e5earCyNu",
        "colab": {
          "base_uri": "https://localhost:8080/"
        },
        "outputId": "6bcc3a55-636d-4aa9-c225-f04a00fdc382"
      },
      "outputs": [
        {
          "output_type": "stream",
          "name": "stdout",
          "text": [
            "<twitter.api.Twitter object at 0x7f23f47137d0>\n"
          ]
        }
      ],
      "source": [
        "import twitter\n",
        "\n",
        "# Go to https://developer.twitter.com/en/apps to create an app and get values\n",
        "# for these credentials, which you'll need to provide in place of these\n",
        "# empty string values that are defined as placeholders.\n",
        "# See https://developer.twitter.com/en/docs/basics/authentication/overview/oauth\n",
        "# for more information on Twitter's OAuth implementation.\n",
        "\n",
        "CONSUMER_KEY = ''\n",
        "CONSUMER_SECRET = ''\n",
        "OAUTH_TOKEN = ''\n",
        "OAUTH_TOKEN_SECRET = ''\n",
        "\n",
        "auth = twitter.oauth.OAuth(OAUTH_TOKEN, OAUTH_TOKEN_SECRET,\n",
        "                           CONSUMER_KEY, CONSUMER_SECRET)\n",
        "\n",
        "twitter_api = twitter.Twitter(auth=auth)\n",
        "\n",
        "# Nothing to see by displaying twitter_api except that it's now a\n",
        "# defined variable\n",
        "\n",
        "print(twitter_api)"
      ]
    },
    {
      "cell_type": "markdown",
      "metadata": {
        "id": "7UWXLL0WCyNy"
      },
      "source": [
        "## Retrieving trends"
      ]
    },
    {
      "cell_type": "code",
      "execution_count": 4,
      "metadata": {
        "id": "J4y1FJSoCyN0",
        "colab": {
          "base_uri": "https://localhost:8080/"
        },
        "outputId": "477d00bd-6b20-4847-adf0-750b9f56cd41"
      },
      "outputs": [
        {
          "output_type": "stream",
          "name": "stdout",
          "text": [
            "[{'trends': [{'name': '#ProofOfInspiration1', 'url': 'http://twitter.com/search?q=%23ProofOfInspiration1', 'promoted_content': None, 'query': '%23ProofOfInspiration1', 'tweet_volume': 161718}, {'name': 'Pat Bev', 'url': 'http://twitter.com/search?q=%22Pat+Bev%22', 'promoted_content': None, 'query': '%22Pat+Bev%22', 'tweet_volume': 13711}, {'name': '#恋マジ', 'url': 'http://twitter.com/search?q=%23%E6%81%8B%E3%83%9E%E3%82%B8', 'promoted_content': None, 'query': '%23%E6%81%8B%E3%83%9E%E3%82%B8', 'tweet_volume': 63576}, {'name': '#CaratSelcaDay', 'url': 'http://twitter.com/search?q=%23CaratSelcaDay', 'promoted_content': None, 'query': '%23CaratSelcaDay', 'tweet_volume': 101234}, {'name': '#ラニバ1曲目予想', 'url': 'http://twitter.com/search?q=%23%E3%83%A9%E3%83%8B%E3%83%901%E6%9B%B2%E7%9B%AE%E4%BA%88%E6%83%B3', 'promoted_content': None, 'query': '%23%E3%83%A9%E3%83%8B%E3%83%901%E6%9B%B2%E7%9B%AE%E4%BA%88%E6%83%B3', 'tweet_volume': 11372}, {'name': '#身長マイナス体重は110がベストらしい', 'url': 'http://twitter.com/search?q=%23%E8%BA%AB%E9%95%B7%E3%83%9E%E3%82%A4%E3%83%8A%E3%82%B9%E4%BD%93%E9%87%8D%E3%81%AF110%E3%81%8C%E3%83%99%E3%82%B9%E3%83%88%E3%82%89%E3%81%97%E3%81%84', 'promoted_content': None, 'query': '%23%E8%BA%AB%E9%95%B7%E3%83%9E%E3%82%A4%E3%83%8A%E3%82%B9%E4%BD%93%E9%87%8D%E3%81%AF110%E3%81%8C%E3%83%99%E3%82%B9%E3%83%88%E3%82%89%E3%81%97%E3%81%84', 'tweet_volume': None}, {'name': 'CANSAR DE DANÇAR NO YTB', 'url': 'http://twitter.com/search?q=%22CANSAR+DE+DAN%C3%87AR+NO+YTB%22', 'promoted_content': None, 'query': '%22CANSAR+DE+DAN%C3%87AR+NO+YTB%22', 'tweet_volume': 42733}, {'name': 'Benedict', 'url': 'http://twitter.com/search?q=Benedict', 'promoted_content': None, 'query': 'Benedict', 'tweet_volume': 23410}, {'name': 'ARTHUR NO ENCONTRO', 'url': 'http://twitter.com/search?q=%22ARTHUR+NO+ENCONTRO%22', 'promoted_content': None, 'query': '%22ARTHUR+NO+ENCONTRO%22', 'tweet_volume': 149318}, {'name': 'TE AMAMOS ARTHUR', 'url': 'http://twitter.com/search?q=%22TE+AMAMOS+ARTHUR%22', 'promoted_content': None, 'query': '%22TE+AMAMOS+ARTHUR%22', 'tweet_volume': 18175}, {'name': 'Heizou', 'url': 'http://twitter.com/search?q=Heizou', 'promoted_content': None, 'query': 'Heizou', 'tweet_volume': 119263}, {'name': 'BRI Liga 1', 'url': 'http://twitter.com/search?q=%22BRI+Liga+1%22', 'promoted_content': None, 'query': '%22BRI+Liga+1%22', 'tweet_volume': None}, {'name': 'Colin', 'url': 'http://twitter.com/search?q=Colin', 'promoted_content': None, 'query': 'Colin', 'tweet_volume': 46813}, {'name': 'Ubisoft', 'url': 'http://twitter.com/search?q=Ubisoft', 'promoted_content': None, 'query': 'Ubisoft', 'tweet_volume': None}, {'name': 'サルゲッチュ', 'url': 'http://twitter.com/search?q=%E3%82%B5%E3%83%AB%E3%82%B2%E3%83%83%E3%83%81%E3%83%A5', 'promoted_content': None, 'query': '%E3%82%B5%E3%83%AB%E3%82%B2%E3%83%83%E3%83%81%E3%83%A5', 'tweet_volume': None}, {'name': 'Can Sevinç', 'url': 'http://twitter.com/search?q=%22Can+Sevin%C3%A7%22', 'promoted_content': None, 'query': '%22Can+Sevin%C3%A7%22', 'tweet_volume': None}, {'name': 'GOT7 COMEBACK', 'url': 'http://twitter.com/search?q=%22GOT7+COMEBACK%22', 'promoted_content': None, 'query': '%22GOT7+COMEBACK%22', 'tweet_volume': 54152}, {'name': 'すばるくん', 'url': 'http://twitter.com/search?q=%E3%81%99%E3%81%B0%E3%82%8B%E3%81%8F%E3%82%93', 'promoted_content': None, 'query': '%E3%81%99%E3%81%B0%E3%82%8B%E3%81%8F%E3%82%93', 'tweet_volume': None}, {'name': 'Haftanın Yalanları', 'url': 'http://twitter.com/search?q=%22Haftan%C4%B1n+Yalanlar%C4%B1%22', 'promoted_content': None, 'query': '%22Haftan%C4%B1n+Yalanlar%C4%B1%22', 'tweet_volume': None}, {'name': 'Penelope', 'url': 'http://twitter.com/search?q=Penelope', 'promoted_content': None, 'query': 'Penelope', 'tweet_volume': 24226}, {'name': 'PS Plus', 'url': 'http://twitter.com/search?q=%22PS+Plus%22', 'promoted_content': None, 'query': '%22PS+Plus%22', 'tweet_volume': None}, {'name': 'ニュースZERO', 'url': 'http://twitter.com/search?q=%E3%83%8B%E3%83%A5%E3%83%BC%E3%82%B9ZERO', 'promoted_content': None, 'query': '%E3%83%8B%E3%83%A5%E3%83%BC%E3%82%B9ZERO', 'tweet_volume': None}, {'name': 'PlayStation Plus', 'url': 'http://twitter.com/search?q=%22PlayStation+Plus%22', 'promoted_content': None, 'query': '%22PlayStation+Plus%22', 'tweet_volume': 15304}, {'name': 'Black Mirror', 'url': 'http://twitter.com/search?q=%22Black+Mirror%22', 'promoted_content': None, 'query': '%22Black+Mirror%22', 'tweet_volume': None}, {'name': 'ARIA MV TEASER', 'url': 'http://twitter.com/search?q=%22ARIA+MV+TEASER%22', 'promoted_content': None, 'query': '%22ARIA+MV+TEASER%22', 'tweet_volume': None}, {'name': 'Iron Giant', 'url': 'http://twitter.com/search?q=%22Iron+Giant%22', 'promoted_content': None, 'query': '%22Iron+Giant%22', 'tweet_volume': None}, {'name': 'SEEDs24', 'url': 'http://twitter.com/search?q=SEEDs24', 'promoted_content': None, 'query': 'SEEDs24', 'tweet_volume': 10321}, {'name': 'VAGABUNDO DA REPÚBLICA', 'url': 'http://twitter.com/search?q=%22VAGABUNDO+DA+REP%C3%9ABLICA%22', 'promoted_content': None, 'query': '%22VAGABUNDO+DA+REP%C3%9ABLICA%22', 'tweet_volume': None}, {'name': 'OhmNanon', 'url': 'http://twitter.com/search?q=OhmNanon', 'promoted_content': None, 'query': 'OhmNanon', 'tweet_volume': 25002}, {'name': 'First Take', 'url': 'http://twitter.com/search?q=%22First+Take%22', 'promoted_content': None, 'query': '%22First+Take%22', 'tweet_volume': 42185}, {'name': 'DREAM SQUAD STUDIO 4', 'url': 'http://twitter.com/search?q=%22DREAM+SQUAD+STUDIO+4%22', 'promoted_content': None, 'query': '%22DREAM+SQUAD+STUDIO+4%22', 'tweet_volume': 34003}, {'name': '全53公演', 'url': 'http://twitter.com/search?q=%E5%85%A853%E5%85%AC%E6%BC%94', 'promoted_content': None, 'query': '%E5%85%A853%E5%85%AC%E6%BC%94', 'tweet_volume': None}, {'name': 'Liz Cheney', 'url': 'http://twitter.com/search?q=%22Liz+Cheney%22', 'promoted_content': None, 'query': '%22Liz+Cheney%22', 'tweet_volume': 23584}, {'name': 'jaehyun', 'url': 'http://twitter.com/search?q=jaehyun', 'promoted_content': None, 'query': 'jaehyun', 'tweet_volume': 142717}, {'name': 'Sophie', 'url': 'http://twitter.com/search?q=Sophie', 'promoted_content': None, 'query': 'Sophie', 'tweet_volume': 47777}, {'name': 'La Liga', 'url': 'http://twitter.com/search?q=%22La+Liga%22', 'promoted_content': None, 'query': '%22La+Liga%22', 'tweet_volume': 69972}, {'name': 'sky合コン', 'url': 'http://twitter.com/search?q=sky%E5%90%88%E3%82%B3%E3%83%B3', 'promoted_content': None, 'query': 'sky%E5%90%88%E3%82%B3%E3%83%B3', 'tweet_volume': None}, {'name': 'MV解禁', 'url': 'http://twitter.com/search?q=MV%E8%A7%A3%E7%A6%81', 'promoted_content': None, 'query': 'MV%E8%A7%A3%E7%A6%81', 'tweet_volume': None}, {'name': 'ウルトラマンZ', 'url': 'http://twitter.com/search?q=%E3%82%A6%E3%83%AB%E3%83%88%E3%83%A9%E3%83%9E%E3%83%B3Z', 'promoted_content': None, 'query': '%E3%82%A6%E3%83%AB%E3%83%88%E3%83%A9%E3%83%9E%E3%83%B3Z', 'tweet_volume': None}, {'name': 'Bias Wrecker', 'url': 'http://twitter.com/search?q=%22Bias+Wrecker%22', 'promoted_content': None, 'query': '%22Bias+Wrecker%22', 'tweet_volume': None}, {'name': 'Fav Bside', 'url': 'http://twitter.com/search?q=%22Fav+Bside%22', 'promoted_content': None, 'query': '%22Fav+Bside%22', 'tweet_volume': None}, {'name': 'Predator', 'url': 'http://twitter.com/search?q=Predator', 'promoted_content': None, 'query': 'Predator', 'tweet_volume': 14677}, {'name': '松丸くん', 'url': 'http://twitter.com/search?q=%E6%9D%BE%E4%B8%B8%E3%81%8F%E3%82%93', 'promoted_content': None, 'query': '%E6%9D%BE%E4%B8%B8%E3%81%8F%E3%82%93', 'tweet_volume': None}, {'name': '公式マーク', 'url': 'http://twitter.com/search?q=%E5%85%AC%E5%BC%8F%E3%83%9E%E3%83%BC%E3%82%AF', 'promoted_content': None, 'query': '%E5%85%AC%E5%BC%8F%E3%83%9E%E3%83%BC%E3%82%AF', 'tweet_volume': None}, {'name': 'Fav Title Track', 'url': 'http://twitter.com/search?q=%22Fav+Title+Track%22', 'promoted_content': None, 'query': '%22Fav+Title+Track%22', 'tweet_volume': None}, {'name': 'フルサイズ', 'url': 'http://twitter.com/search?q=%E3%83%95%E3%83%AB%E3%82%B5%E3%82%A4%E3%82%BA', 'promoted_content': None, 'query': '%E3%83%95%E3%83%AB%E3%82%B5%E3%82%A4%E3%82%BA', 'tweet_volume': 23294}, {'name': '商標登録', 'url': 'http://twitter.com/search?q=%E5%95%86%E6%A8%99%E7%99%BB%E9%8C%B2', 'promoted_content': None, 'query': '%E5%95%86%E6%A8%99%E7%99%BB%E9%8C%B2', 'tweet_volume': 376140}, {'name': 'Patrick Beverly', 'url': 'http://twitter.com/search?q=%22Patrick+Beverly%22', 'promoted_content': None, 'query': '%22Patrick+Beverly%22', 'tweet_volume': None}, {'name': 'Martha Karua', 'url': 'http://twitter.com/search?q=%22Martha+Karua%22', 'promoted_content': None, 'query': '%22Martha+Karua%22', 'tweet_volume': 54511}, {'name': '#花丸特番配信中', 'url': 'http://twitter.com/search?q=%23%E8%8A%B1%E4%B8%B8%E7%89%B9%E7%95%AA%E9%85%8D%E4%BF%A1%E4%B8%AD', 'promoted_content': None, 'query': '%23%E8%8A%B1%E4%B8%B8%E7%89%B9%E7%95%AA%E9%85%8D%E4%BF%A1%E4%B8%AD', 'tweet_volume': 26376}], 'as_of': '2022-05-16T14:57:03Z', 'created_at': '2022-05-15T02:45:45Z', 'locations': [{'name': 'Worldwide', 'woeid': 1}]}]\n",
            "\n",
            "[{'trends': [{'name': 'Pat Bev', 'url': 'http://twitter.com/search?q=%22Pat+Bev%22', 'promoted_content': None, 'query': '%22Pat+Bev%22', 'tweet_volume': 13711}, {'name': '#mondaythoughts', 'url': 'http://twitter.com/search?q=%23mondaythoughts', 'promoted_content': None, 'query': '%23mondaythoughts', 'tweet_volume': 21124}, {'name': '#MondayMotivation', 'url': 'http://twitter.com/search?q=%23MondayMotivation', 'promoted_content': None, 'query': '%23MondayMotivation', 'tweet_volume': 77034}, {'name': '#DeppHeardTrial', 'url': 'http://twitter.com/search?q=%23DeppHeardTrial', 'promoted_content': None, 'query': '%23DeppHeardTrial', 'tweet_volume': None}, {'name': 'First Take', 'url': 'http://twitter.com/search?q=%22First+Take%22', 'promoted_content': None, 'query': '%22First+Take%22', 'tweet_volume': 42185}, {'name': '#JusticeForJohhnyDepp', 'url': 'http://twitter.com/search?q=%23JusticeForJohhnyDepp', 'promoted_content': None, 'query': '%23JusticeForJohhnyDepp', 'tweet_volume': 24794}, {'name': '#ProofOfInspiration1', 'url': 'http://twitter.com/search?q=%23ProofOfInspiration1', 'promoted_content': None, 'query': '%23ProofOfInspiration1', 'tweet_volume': 161718}, {'name': 'Liz Cheney', 'url': 'http://twitter.com/search?q=%22Liz+Cheney%22', 'promoted_content': None, 'query': '%22Liz+Cheney%22', 'tweet_volume': 23584}, {'name': 'Patrick Beverly', 'url': 'http://twitter.com/search?q=%22Patrick+Beverly%22', 'promoted_content': None, 'query': '%22Patrick+Beverly%22', 'tweet_volume': None}, {'name': 'Iron Giant', 'url': 'http://twitter.com/search?q=%22Iron+Giant%22', 'promoted_content': None, 'query': '%22Iron+Giant%22', 'tweet_volume': None}, {'name': 'Daily Quordle 112', 'url': 'http://twitter.com/search?q=%22Daily+Quordle+112%22', 'promoted_content': None, 'query': '%22Daily+Quordle+112%22', 'tweet_volume': None}, {'name': 'Get Up', 'url': 'http://twitter.com/search?q=%22Get+Up%22', 'promoted_content': None, 'query': '%22Get+Up%22', 'tweet_volume': 268375}, {'name': 'Big Tech', 'url': 'http://twitter.com/search?q=%22Big+Tech%22', 'promoted_content': None, 'query': '%22Big+Tech%22', 'tweet_volume': None}, {'name': 'Jaire', 'url': 'http://twitter.com/search?q=Jaire', 'promoted_content': None, 'query': 'Jaire', 'tweet_volume': None}, {'name': 'Waukesha', 'url': 'http://twitter.com/search?q=Waukesha', 'promoted_content': None, 'query': 'Waukesha', 'tweet_volume': 90782}, {'name': 'Benedict', 'url': 'http://twitter.com/search?q=Benedict', 'promoted_content': None, 'query': 'Benedict', 'tweet_volume': 23410}, {'name': 'Fauci', 'url': 'http://twitter.com/search?q=Fauci', 'promoted_content': None, 'query': 'Fauci', 'tweet_volume': 55985}, {'name': 'Ubisoft', 'url': 'http://twitter.com/search?q=Ubisoft', 'promoted_content': None, 'query': 'Ubisoft', 'tweet_volume': None}, {'name': 'Elaine', 'url': 'http://twitter.com/search?q=Elaine', 'promoted_content': None, 'query': 'Elaine', 'tweet_volume': None}, {'name': 'Camille', 'url': 'http://twitter.com/search?q=Camille', 'promoted_content': None, 'query': 'Camille', 'tweet_volume': 10896}, {'name': 'Penelope', 'url': 'http://twitter.com/search?q=Penelope', 'promoted_content': None, 'query': 'Penelope', 'tweet_volume': 24284}, {'name': 'Predator', 'url': 'http://twitter.com/search?q=Predator', 'promoted_content': None, 'query': 'Predator', 'tweet_volume': 14677}, {'name': 'Colin', 'url': 'http://twitter.com/search?q=Colin', 'promoted_content': None, 'query': 'Colin', 'tweet_volume': 46756}, {'name': 'Great Replacement Theory', 'url': 'http://twitter.com/search?q=%22Great+Replacement+Theory%22', 'promoted_content': None, 'query': '%22Great+Replacement+Theory%22', 'tweet_volume': 104631}, {'name': 'Black Mirror', 'url': 'http://twitter.com/search?q=%22Black+Mirror%22', 'promoted_content': None, 'query': '%22Black+Mirror%22', 'tweet_volume': None}, {'name': 'PlayStation Plus', 'url': 'http://twitter.com/search?q=%22PlayStation+Plus%22', 'promoted_content': None, 'query': '%22PlayStation+Plus%22', 'tweet_volume': 15304}, {'name': 'Heizou', 'url': 'http://twitter.com/search?q=Heizou', 'promoted_content': None, 'query': 'Heizou', 'tweet_volume': 119503}, {'name': 'Ultra Instinct Shaggy', 'url': 'http://twitter.com/search?q=%22Ultra+Instinct+Shaggy%22', 'promoted_content': None, 'query': '%22Ultra+Instinct+Shaggy%22', 'tweet_volume': None}, {'name': 'Elise', 'url': 'http://twitter.com/search?q=Elise', 'promoted_content': None, 'query': 'Elise', 'tweet_volume': 72268}, {'name': 'Ape Escape', 'url': 'http://twitter.com/search?q=%22Ape+Escape%22', 'promoted_content': None, 'query': '%22Ape+Escape%22', 'tweet_volume': None}, {'name': 'PS Plus', 'url': 'http://twitter.com/search?q=%22PS+Plus%22', 'promoted_content': None, 'query': '%22PS+Plus%22', 'tweet_volume': None}, {'name': 'Gorillaz', 'url': 'http://twitter.com/search?q=Gorillaz', 'promoted_content': None, 'query': 'Gorillaz', 'tweet_volume': None}, {'name': 'Uniqlo', 'url': 'http://twitter.com/search?q=Uniqlo', 'promoted_content': None, 'query': 'Uniqlo', 'tweet_volume': None}, {'name': 'Cara Delevingne', 'url': 'http://twitter.com/search?q=%22Cara+Delevingne%22', 'promoted_content': None, 'query': '%22Cara+Delevingne%22', 'tweet_volume': 19028}, {'name': 'PS Now', 'url': 'http://twitter.com/search?q=%22PS+Now%22', 'promoted_content': None, 'query': '%22PS+Now%22', 'tweet_volume': None}, {'name': 'New Week', 'url': 'http://twitter.com/search?q=%22New+Week%22', 'promoted_content': None, 'query': '%22New+Week%22', 'tweet_volume': 127316}, {'name': 'San Junipero', 'url': 'http://twitter.com/search?q=%22San+Junipero%22', 'promoted_content': None, 'query': '%22San+Junipero%22', 'tweet_volume': None}, {'name': 'Trump 2024', 'url': 'http://twitter.com/search?q=%22Trump+2024%22', 'promoted_content': None, 'query': '%22Trump+2024%22', 'tweet_volume': 24598}, {'name': 'Another Monday', 'url': 'http://twitter.com/search?q=%22Another+Monday%22', 'promoted_content': None, 'query': '%22Another+Monday%22', 'tweet_volume': None}, {'name': 'BMTH', 'url': 'http://twitter.com/search?q=BMTH', 'promoted_content': None, 'query': 'BMTH', 'tweet_volume': None}, {'name': 'Payroll', 'url': 'http://twitter.com/search?q=Payroll', 'promoted_content': None, 'query': 'Payroll', 'tweet_volume': None}, {'name': 'Syphon Filter', 'url': 'http://twitter.com/search?q=%22Syphon+Filter%22', 'promoted_content': None, 'query': '%22Syphon+Filter%22', 'tweet_volume': None}, {'name': 'Every Monday', 'url': 'http://twitter.com/search?q=%22Every+Monday%22', 'promoted_content': None, 'query': '%22Every+Monday%22', 'tweet_volume': None}, {'name': 'Happy 20th', 'url': 'http://twitter.com/search?q=%22Happy+20th%22', 'promoted_content': None, 'query': '%22Happy+20th%22', 'tweet_volume': None}, {'name': 'Jim Acosta', 'url': 'http://twitter.com/search?q=%22Jim+Acosta%22', 'promoted_content': None, 'query': '%22Jim+Acosta%22', 'tweet_volume': 15593}, {'name': 'Neil deGrasse Tyson', 'url': 'http://twitter.com/search?q=%22Neil+deGrasse+Tyson%22', 'promoted_content': None, 'query': '%22Neil+deGrasse+Tyson%22', 'tweet_volume': None}, {'name': 'Drew Brees', 'url': 'http://twitter.com/search?q=%22Drew+Brees%22', 'promoted_content': None, 'query': '%22Drew+Brees%22', 'tweet_volume': None}, {'name': 'jaehyun', 'url': 'http://twitter.com/search?q=jaehyun', 'promoted_content': None, 'query': 'jaehyun', 'tweet_volume': 142717}, {'name': 'Rachel Maddow', 'url': 'http://twitter.com/search?q=%22Rachel+Maddow%22', 'promoted_content': None, 'query': '%22Rachel+Maddow%22', 'tweet_volume': None}, {'name': 'Anemo', 'url': 'http://twitter.com/search?q=Anemo', 'promoted_content': None, 'query': 'Anemo', 'tweet_volume': 38913}], 'as_of': '2022-05-16T14:57:03Z', 'created_at': '2022-05-14T20:33:13Z', 'locations': [{'name': 'United States', 'woeid': 23424977}]}]\n"
          ]
        }
      ],
      "source": [
        "# The Yahoo! Where On Earth ID for the entire world is 1.\n",
        "# See https://dev.twitter.com/docs/api/1.1/get/trends/place and\n",
        "# http://developer.yahoo.com/geo/geoplanet/\n",
        "\n",
        "WORLD_WOE_ID = 1\n",
        "US_WOE_ID = 23424977\n",
        "\n",
        "# Prefix ID with the underscore for query string parameterization.\n",
        "# Without the underscore, the twitter package appends the ID value\n",
        "# to the URL itself as a special case keyword argument.\n",
        "\n",
        "world_trends = twitter_api.trends.place(_id=WORLD_WOE_ID)\n",
        "us_trends = twitter_api.trends.place(_id=US_WOE_ID)\n",
        "\n",
        "print(world_trends)\n",
        "print()\n",
        "print(us_trends)"
      ]
    },
    {
      "cell_type": "code",
      "execution_count": 5,
      "metadata": {
        "id": "mdlojKlOCyN3",
        "colab": {
          "base_uri": "https://localhost:8080/"
        },
        "outputId": "9e1f4707-18df-4b31-8295-b5aa4d46cffb"
      },
      "outputs": [
        {
          "output_type": "stream",
          "name": "stdout",
          "text": [
            "#ProofOfInspiration1\n",
            "Pat Bev\n",
            "#恋マジ\n",
            "#CaratSelcaDay\n",
            "#ラニバ1曲目予想\n",
            "#身長マイナス体重は110がベストらしい\n",
            "CANSAR DE DANÇAR NO YTB\n",
            "Benedict\n",
            "ARTHUR NO ENCONTRO\n",
            "TE AMAMOS ARTHUR\n",
            "Heizou\n",
            "BRI Liga 1\n",
            "Colin\n",
            "Ubisoft\n",
            "サルゲッチュ\n",
            "Can Sevinç\n",
            "GOT7 COMEBACK\n",
            "すばるくん\n",
            "Haftanın Yalanları\n",
            "Penelope\n",
            "PS Plus\n",
            "ニュースZERO\n",
            "PlayStation Plus\n",
            "Black Mirror\n",
            "ARIA MV TEASER\n",
            "Iron Giant\n",
            "SEEDs24\n",
            "VAGABUNDO DA REPÚBLICA\n",
            "OhmNanon\n",
            "First Take\n",
            "DREAM SQUAD STUDIO 4\n",
            "全53公演\n",
            "Liz Cheney\n",
            "jaehyun\n",
            "Sophie\n",
            "La Liga\n",
            "sky合コン\n",
            "MV解禁\n",
            "ウルトラマンZ\n",
            "Bias Wrecker\n",
            "Fav Bside\n",
            "Predator\n",
            "松丸くん\n",
            "公式マーク\n",
            "Fav Title Track\n",
            "フルサイズ\n",
            "商標登録\n",
            "Patrick Beverly\n",
            "Martha Karua\n",
            "#花丸特番配信中\n"
          ]
        }
      ],
      "source": [
        "for trend in world_trends[0]['trends']:\n",
        "    print(trend['name'])"
      ]
    },
    {
      "cell_type": "code",
      "execution_count": 6,
      "metadata": {
        "id": "_CNXYrPXCyN5",
        "colab": {
          "base_uri": "https://localhost:8080/"
        },
        "outputId": "37564e65-a921-4ad0-99be-7a9966cfd52a"
      },
      "outputs": [
        {
          "output_type": "stream",
          "name": "stdout",
          "text": [
            "Pat Bev\n",
            "#mondaythoughts\n",
            "#MondayMotivation\n",
            "#DeppHeardTrial\n",
            "First Take\n",
            "#JusticeForJohhnyDepp\n",
            "#ProofOfInspiration1\n",
            "Liz Cheney\n",
            "Patrick Beverly\n",
            "Iron Giant\n",
            "Daily Quordle 112\n",
            "Get Up\n",
            "Big Tech\n",
            "Jaire\n",
            "Waukesha\n",
            "Benedict\n",
            "Fauci\n",
            "Ubisoft\n",
            "Elaine\n",
            "Camille\n",
            "Penelope\n",
            "Predator\n",
            "Colin\n",
            "Great Replacement Theory\n",
            "Black Mirror\n",
            "PlayStation Plus\n",
            "Heizou\n",
            "Ultra Instinct Shaggy\n",
            "Elise\n",
            "Ape Escape\n",
            "PS Plus\n",
            "Gorillaz\n",
            "Uniqlo\n",
            "Cara Delevingne\n",
            "PS Now\n",
            "New Week\n",
            "San Junipero\n",
            "Trump 2024\n",
            "Another Monday\n",
            "BMTH\n",
            "Payroll\n",
            "Syphon Filter\n",
            "Every Monday\n",
            "Happy 20th\n",
            "Jim Acosta\n",
            "Neil deGrasse Tyson\n",
            "Drew Brees\n",
            "jaehyun\n",
            "Rachel Maddow\n",
            "Anemo\n"
          ]
        }
      ],
      "source": [
        "for trend in us_trends[0]['trends']:\n",
        "    print(trend['name'])"
      ]
    },
    {
      "cell_type": "code",
      "execution_count": 7,
      "metadata": {
        "id": "M67Sx1DjCyN7",
        "colab": {
          "base_uri": "https://localhost:8080/"
        },
        "outputId": "0724a7da-9fb9-43b8-fd51-6c7bbe913c78"
      },
      "outputs": [
        {
          "output_type": "stream",
          "name": "stdout",
          "text": [
            "{'Heizou', 'First Take', 'Black Mirror', 'Patrick Beverly', 'Predator', 'Ubisoft', 'Liz Cheney', 'jaehyun', 'Benedict', 'Penelope', 'Colin', '#ProofOfInspiration1', 'PS Plus', 'Pat Bev', 'PlayStation Plus', 'Iron Giant'}\n"
          ]
        }
      ],
      "source": [
        "world_trends_set = set([trend['name'] \n",
        "                        for trend in world_trends[0]['trends']])\n",
        "\n",
        "us_trends_set = set([trend['name'] \n",
        "                     for trend in us_trends[0]['trends']]) \n",
        "\n",
        "common_trends = world_trends_set.intersection(us_trends_set)\n",
        "\n",
        "print(common_trends)"
      ]
    },
    {
      "cell_type": "markdown",
      "metadata": {
        "id": "UjtToWyvCyN9"
      },
      "source": [
        "## Anatomy of a Tweet"
      ]
    },
    {
      "cell_type": "code",
      "execution_count": 8,
      "metadata": {
        "id": "2GEkSQJDCyN_",
        "colab": {
          "base_uri": "https://localhost:8080/"
        },
        "outputId": "13668421-ea18-4c75-b1ad-0f09debf0a7e"
      },
      "outputs": [
        {
          "output_type": "stream",
          "name": "stdout",
          "text": [
            "Length of statuses 94\n",
            "Length of statuses 194\n",
            "Length of statuses 287\n",
            "Length of statuses 383\n",
            "Length of statuses 477\n",
            "{\n",
            " \"created_at\": \"Mon May 16 14:56:54 +0000 2022\",\n",
            " \"id\": 1526215118228443136,\n",
            " \"id_str\": \"1526215118228443136\",\n",
            " \"text\": \"https://t.co/ANVIUV5YsS \\n#brooch #vintage #large #spray #floral #berries #pink #orange #leaves #enamel #coral\\u2026 https://t.co/LGG2KzaUIE\",\n",
            " \"truncated\": true,\n",
            " \"entities\": {\n",
            "  \"hashtags\": [\n",
            "   {\n",
            "    \"text\": \"brooch\",\n",
            "    \"indices\": [\n",
            "     25,\n",
            "     32\n",
            "    ]\n",
            "   },\n",
            "   {\n",
            "    \"text\": \"vintage\",\n",
            "    \"indices\": [\n",
            "     33,\n",
            "     41\n",
            "    ]\n",
            "   },\n",
            "   {\n",
            "    \"text\": \"large\",\n",
            "    \"indices\": [\n",
            "     42,\n",
            "     48\n",
            "    ]\n",
            "   },\n",
            "   {\n",
            "    \"text\": \"spray\",\n",
            "    \"indices\": [\n",
            "     49,\n",
            "     55\n",
            "    ]\n",
            "   },\n",
            "   {\n",
            "    \"text\": \"floral\",\n",
            "    \"indices\": [\n",
            "     56,\n",
            "     63\n",
            "    ]\n",
            "   },\n",
            "   {\n",
            "    \"text\": \"berries\",\n",
            "    \"indices\": [\n",
            "     64,\n",
            "     72\n",
            "    ]\n",
            "   },\n",
            "   {\n",
            "    \"text\": \"pink\",\n",
            "    \"indices\": [\n",
            "     73,\n",
            "     78\n",
            "    ]\n",
            "   },\n",
            "   {\n",
            "    \"text\": \"orange\",\n",
            "    \"indices\": [\n",
            "     79,\n",
            "     86\n",
            "    ]\n",
            "   },\n",
            "   {\n",
            "    \"text\": \"leaves\",\n",
            "    \"indices\": [\n",
            "     87,\n",
            "     94\n",
            "    ]\n",
            "   },\n",
            "   {\n",
            "    \"text\": \"enamel\",\n",
            "    \"indices\": [\n",
            "     95,\n",
            "     102\n",
            "    ]\n",
            "   },\n",
            "   {\n",
            "    \"text\": \"coral\",\n",
            "    \"indices\": [\n",
            "     103,\n",
            "     109\n",
            "    ]\n",
            "   }\n",
            "  ],\n",
            "  \"symbols\": [],\n",
            "  \"user_mentions\": [],\n",
            "  \"urls\": [\n",
            "   {\n",
            "    \"url\": \"https://t.co/ANVIUV5YsS\",\n",
            "    \"expanded_url\": \"https://www.etsy.com/listing/1191490687/pink-berries-floral-enamel-brooch-orange?ref=listings_manager_grid\",\n",
            "    \"display_url\": \"etsy.com/listing/119149\\u2026\",\n",
            "    \"indices\": [\n",
            "     0,\n",
            "     23\n",
            "    ]\n",
            "   },\n",
            "   {\n",
            "    \"url\": \"https://t.co/LGG2KzaUIE\",\n",
            "    \"expanded_url\": \"https://twitter.com/i/web/status/1526215118228443136\",\n",
            "    \"display_url\": \"twitter.com/i/web/status/1\\u2026\",\n",
            "    \"indices\": [\n",
            "     111,\n",
            "     134\n",
            "    ]\n",
            "   }\n",
            "  ]\n",
            " },\n",
            " \"metadata\": {\n",
            "  \"iso_language_code\": \"und\",\n",
            "  \"result_type\": \"recent\"\n",
            " },\n",
            " \"source\": \"<a href=\\\"http://www.DynamicTweets.com\\\" rel=\\\"nofollow\\\">Dynamic Tweets</a>\",\n",
            " \"in_reply_to_status_id\": null,\n",
            " \"in_reply_to_status_id_str\": null,\n",
            " \"in_reply_to_user_id\": null,\n",
            " \"in_reply_to_user_id_str\": null,\n",
            " \"in_reply_to_screen_name\": null,\n",
            " \"user\": {\n",
            "  \"id\": 870410856,\n",
            "  \"id_str\": \"870410856\",\n",
            "  \"name\": \"Renaissance Fair\",\n",
            "  \"screen_name\": \"renaissancefai\",\n",
            "  \"location\": \"Western New York\",\n",
            "  \"description\": \"Enjoy sharing my vintage pieces with all its fabulous nuances.  Some will never return again.  Please take a moment to casually shop around in my shop.\",\n",
            "  \"url\": \"https://t.co/FGwaazPbQr\",\n",
            "  \"entities\": {\n",
            "   \"url\": {\n",
            "    \"urls\": [\n",
            "     {\n",
            "      \"url\": \"https://t.co/FGwaazPbQr\",\n",
            "      \"expanded_url\": \"http://www.etsy.com/shop/RenaissanceFair\",\n",
            "      \"display_url\": \"etsy.com/shop/Renaissan\\u2026\",\n",
            "      \"indices\": [\n",
            "       0,\n",
            "       23\n",
            "      ]\n",
            "     }\n",
            "    ]\n",
            "   },\n",
            "   \"description\": {\n",
            "    \"urls\": []\n",
            "   }\n",
            "  },\n",
            "  \"protected\": false,\n",
            "  \"followers_count\": 6460,\n",
            "  \"friends_count\": 522,\n",
            "  \"listed_count\": 128,\n",
            "  \"created_at\": \"Tue Oct 09 18:53:41 +0000 2012\",\n",
            "  \"favourites_count\": 23653,\n",
            "  \"utc_offset\": null,\n",
            "  \"time_zone\": null,\n",
            "  \"geo_enabled\": false,\n",
            "  \"verified\": false,\n",
            "  \"statuses_count\": 1419471,\n",
            "  \"lang\": null,\n",
            "  \"contributors_enabled\": false,\n",
            "  \"is_translator\": false,\n",
            "  \"is_translation_enabled\": false,\n",
            "  \"profile_background_color\": \"C6E2EE\",\n",
            "  \"profile_background_image_url\": \"http://abs.twimg.com/images/themes/theme2/bg.gif\",\n",
            "  \"profile_background_image_url_https\": \"https://abs.twimg.com/images/themes/theme2/bg.gif\",\n",
            "  \"profile_background_tile\": true,\n",
            "  \"profile_image_url\": \"http://pbs.twimg.com/profile_images/1478413438946787332/ZUhFq80h_normal.jpg\",\n",
            "  \"profile_image_url_https\": \"https://pbs.twimg.com/profile_images/1478413438946787332/ZUhFq80h_normal.jpg\",\n",
            "  \"profile_banner_url\": \"https://pbs.twimg.com/profile_banners/870410856/1651145624\",\n",
            "  \"profile_link_color\": \"1F98C7\",\n",
            "  \"profile_sidebar_border_color\": \"FFFFFF\",\n",
            "  \"profile_sidebar_fill_color\": \"DAECF4\",\n",
            "  \"profile_text_color\": \"663B12\",\n",
            "  \"profile_use_background_image\": true,\n",
            "  \"has_extended_profile\": false,\n",
            "  \"default_profile\": false,\n",
            "  \"default_profile_image\": false,\n",
            "  \"following\": false,\n",
            "  \"follow_request_sent\": false,\n",
            "  \"notifications\": false,\n",
            "  \"translator_type\": \"none\",\n",
            "  \"withheld_in_countries\": []\n",
            " },\n",
            " \"geo\": null,\n",
            " \"coordinates\": null,\n",
            " \"place\": null,\n",
            " \"contributors\": null,\n",
            " \"is_quote_status\": false,\n",
            " \"retweet_count\": 0,\n",
            " \"favorite_count\": 0,\n",
            " \"favorited\": false,\n",
            " \"retweeted\": false,\n",
            " \"possibly_sensitive\": false,\n",
            " \"lang\": \"und\"\n",
            "}\n"
          ]
        }
      ],
      "source": [
        "import json\n",
        "\n",
        "# Set this variable to a trending topic, \n",
        "# or anything else for that matter. The example query below\n",
        "# was a trending topic when this content was being developed\n",
        "# and is used throughout the remainder of this chapter.\n",
        "\n",
        "q = '#MothersDay' \n",
        "\n",
        "count = 100\n",
        "\n",
        "# Import unquote to prevent url encoding errors in next_results\n",
        "from urllib.parse import unquote\n",
        "\n",
        "# See https://dev.twitter.com/rest/reference/get/search/tweets\n",
        "\n",
        "search_results = twitter_api.search.tweets(q=q, count=count)\n",
        "\n",
        "statuses = search_results['statuses']\n",
        "\n",
        "\n",
        "# Iterate through 5 more batches of results by following the cursor\n",
        "for _ in range(5):\n",
        "    print('Length of statuses', len(statuses))\n",
        "    try:\n",
        "        next_results = search_results['search_metadata']['next_results']\n",
        "    except KeyError as e: # No more results when next_results doesn't exist\n",
        "        break\n",
        "        \n",
        "    # Create a dictionary from next_results, which has the following form:\n",
        "    # ?max_id=847960489447628799&q=%23RIPSelena&count=100&include_entities=1\n",
        "    kwargs = dict([ kv.split('=') for kv in unquote(next_results[1:]).split(\"&\") ])\n",
        "    \n",
        "    search_results = twitter_api.search.tweets(**kwargs)\n",
        "    statuses += search_results['statuses']\n",
        "\n",
        "# Show one sample search result by slicing the list...\n",
        "print(json.dumps(statuses[0], indent=1))"
      ]
    },
    {
      "cell_type": "code",
      "execution_count": 9,
      "metadata": {
        "id": "ulbuEo4MCyOB",
        "colab": {
          "base_uri": "https://localhost:8080/"
        },
        "outputId": "29c2201b-4cee-46eb-d3c3-02b2fecda63a"
      },
      "outputs": [
        {
          "output_type": "stream",
          "name": "stdout",
          "text": [
            "\n",
            "https://t.co/ANVIUV5YsS \n",
            "#brooch #vintage #large #spray #floral #berries #pink #orange #leaves #enamel #coral… https://t.co/LGG2KzaUIE\n",
            "Favorites:  0\n",
            "Retweets:  0\n",
            "\n",
            "Out of the oven and onto mom’s plate. Serve up all of her favorites this #MothersDay with #LGSTUDIO. #LGUS #LGFam… https://t.co/hr8RnSX8xe\n",
            "Favorites:  0\n",
            "Retweets:  0\n",
            "\n",
            "RT @SudhaRamenIFS: The purest form of love ❤️\n",
            " #MothersDay wishes https://t.co/YZWFHEyZmb\n",
            "Favorites:  0\n",
            "Retweets:  590\n",
            "\n",
            "Mi mamá es genial! #CoffeeMOMentsTCC #TheCoffeeCup\n",
            "😘👱‍♀️👩‍🦳👩‍🦰❤️☕️\n",
            "#mothersday #CoffeeShop #tea #teatime #TheBest… https://t.co/hjWl2UKluU\n",
            "Favorites:  0\n",
            "Retweets:  0\n",
            "\n",
            "Check out this awesome 'NAMASTE' design on @TeePublic! https://t.co/0gEzdIwZ5E Very funny alternative printed gifts… https://t.co/vmpEnGf0Am\n",
            "Favorites:  0\n",
            "Retweets:  0\n",
            "\n",
            "RT @yunijewels: Gray Rose Cut Diamond Wedding Ring Silver #etsy #jewelry #rings #diamonds #weddingring #Anniversary #Rosecutdiamondring #si…\n",
            "Favorites:  0\n",
            "Retweets:  2\n",
            "\n",
            "RT @nsaidian: Mother \n",
            "Is\n",
            "Another \n",
            "Word For \n",
            "Love 💕 \n",
            "\n",
            "#HappyMothersDay2022 \n",
            "#MothersDay https://t.co/6fCUyrlZ0U\n",
            "Favorites:  0\n",
            "Retweets:  432\n",
            "\n",
            "RT @Ozge_Torer: #MothersDay https://t.co/Ozbwx1IUFN\n",
            "Favorites:  0\n",
            "Retweets:  35\n",
            "\n",
            "RT @trainee_a: 집을 그리워하는 한 소년의 이야기\n",
            "제임스 자작곡 #HOM3 이 유튜브, 사운드클라우드에 공개됐습니다🏠\n",
            "\n",
            "A story of a boy missing home\n",
            "𝐇𝐎𝐌𝟑 𝐛𝐲 𝐉𝐀𝐌𝐄𝐒\n",
            "\n",
            "Now available on\n",
            "📍htt…\n",
            "Favorites:  0\n",
            "Retweets:  4833\n",
            "\n",
            "RT @SadhguruJV: Soil is the mother of all mothers. Keeping the soil alive and passing it on that way to future generations is the way to kn…\n",
            "Favorites:  0\n",
            "Retweets:  3365\n"
          ]
        }
      ],
      "source": [
        "for i in range(10):\n",
        "    print()\n",
        "    print(statuses[i]['text'])\n",
        "    print('Favorites: ', statuses[i]['favorite_count'])\n",
        "    print('Retweets: ', statuses[i]['retweet_count'])"
      ]
    },
    {
      "cell_type": "markdown",
      "metadata": {
        "id": "oRXCemNnCyOC"
      },
      "source": [
        "## Extracting text, screen names, and hashtags from tweets"
      ]
    },
    {
      "cell_type": "code",
      "execution_count": 10,
      "metadata": {
        "id": "5wTi9pMFCyOD",
        "colab": {
          "base_uri": "https://localhost:8080/"
        },
        "outputId": "202a773d-bfbb-4349-cd9a-6d9652a30b24"
      },
      "outputs": [
        {
          "output_type": "stream",
          "name": "stdout",
          "text": [
            "[\n",
            " \"https://t.co/ANVIUV5YsS \\n#brooch #vintage #large #spray #floral #berries #pink #orange #leaves #enamel #coral\\u2026 https://t.co/LGG2KzaUIE\",\n",
            " \"Out of the oven and onto mom\\u2019s plate. Serve up all of her favorites this #MothersDay with #LGSTUDIO. #LGUS #LGFam\\u2026 https://t.co/hr8RnSX8xe\",\n",
            " \"RT @SudhaRamenIFS: The purest form of love \\u2764\\ufe0f\\n #MothersDay wishes https://t.co/YZWFHEyZmb\",\n",
            " \"Mi mam\\u00e1 es genial! #CoffeeMOMentsTCC #TheCoffeeCup\\n\\ud83d\\ude18\\ud83d\\udc71\\u200d\\u2640\\ufe0f\\ud83d\\udc69\\u200d\\ud83e\\uddb3\\ud83d\\udc69\\u200d\\ud83e\\uddb0\\u2764\\ufe0f\\u2615\\ufe0f\\n#mothersday #CoffeeShop #tea #teatime #TheBest\\u2026 https://t.co/hjWl2UKluU\",\n",
            " \"Check out this awesome 'NAMASTE' design on @TeePublic! https://t.co/0gEzdIwZ5E Very funny alternative printed gifts\\u2026 https://t.co/vmpEnGf0Am\"\n",
            "]\n",
            "[\n",
            " \"SudhaRamenIFS\",\n",
            " \"TeePublic\",\n",
            " \"yunijewels\",\n",
            " \"nsaidian\",\n",
            " \"Ozge_Torer\"\n",
            "]\n",
            "[\n",
            " \"brooch\",\n",
            " \"vintage\",\n",
            " \"large\",\n",
            " \"spray\",\n",
            " \"floral\"\n",
            "]\n",
            "[\n",
            " \"https://t.co/ANVIUV5YsS\",\n",
            " \"#brooch\",\n",
            " \"#vintage\",\n",
            " \"#large\",\n",
            " \"#spray\"\n",
            "]\n"
          ]
        }
      ],
      "source": [
        "status_texts = [ status['text'] \n",
        "                 for status in statuses ]\n",
        "\n",
        "screen_names = [ user_mention['screen_name'] \n",
        "                 for status in statuses\n",
        "                     for user_mention in status['entities']['user_mentions'] ]\n",
        "\n",
        "hashtags = [ hashtag['text'] \n",
        "             for status in statuses\n",
        "                 for hashtag in status['entities']['hashtags'] ]\n",
        "\n",
        "# Compute a collection of all words from all tweets\n",
        "words = [ w \n",
        "          for t in status_texts \n",
        "              for w in t.split() ]\n",
        "\n",
        "# Explore the first 5 items for each...\n",
        "\n",
        "print(json.dumps(status_texts[0:5], indent=1))\n",
        "print(json.dumps(screen_names[0:5], indent=1) )\n",
        "print(json.dumps(hashtags[0:5], indent=1))\n",
        "print(json.dumps(words[0:5], indent=1))"
      ]
    },
    {
      "cell_type": "markdown",
      "metadata": {
        "id": "Pg56RUv2CyOE"
      },
      "source": [
        "## Creating a basic frequency distribution from the words in tweets"
      ]
    },
    {
      "cell_type": "code",
      "execution_count": 11,
      "metadata": {
        "id": "at4OMgbWCyOF",
        "colab": {
          "base_uri": "https://localhost:8080/"
        },
        "outputId": "46ad8962-9608-41df-97a3-996e14d6aafc"
      },
      "outputs": [
        {
          "output_type": "stream",
          "name": "stdout",
          "text": [
            "[('RT', 448), ('#MothersDay', 189), ('to', 163), ('the', 161), ('of', 125), ('a', 124), ('and', 103), ('for', 64), ('Happy', 55), ('is', 54)]\n",
            "\n",
            "[('GrandmasDowry', 22), ('eBay', 21), ('TelanganaCOPs', 20), ('hailewdihaweza', 11), ('nsaidian', 10), ('Gurmeetramrahim', 10), ('itachi_senpai1', 10), ('FfdfGsdd', 10), ('SadhguruJV', 9), ('gaspardromain3', 8)]\n",
            "\n",
            "[('MothersDay', 241), ('mothersday', 49), ('giftformom', 24), ('white', 22), ('birthdayGift', 22), ('giftforher', 22), ('midcentury', 22), ('clips', 22), ('etsy', 21), ('InternationalDayofFamilies', 20)]\n",
            "\n"
          ]
        }
      ],
      "source": [
        "from collections import Counter\n",
        "\n",
        "for item in [words, screen_names, hashtags]:\n",
        "    c = Counter(item)\n",
        "    print(c.most_common()[:10]) # top 10\n",
        "    print()"
      ]
    },
    {
      "cell_type": "markdown",
      "metadata": {
        "id": "CExEzO4MCyOG"
      },
      "source": [
        "## Using prettytable to display tuples in a nice tabular format"
      ]
    },
    {
      "cell_type": "code",
      "execution_count": 12,
      "metadata": {
        "id": "JMeD8ehYCyOH",
        "colab": {
          "base_uri": "https://localhost:8080/"
        },
        "outputId": "8742bbfd-5c17-493d-e2cd-0fe9b4880c56"
      },
      "outputs": [
        {
          "output_type": "stream",
          "name": "stdout",
          "text": [
            "+-------------+-------+\n",
            "| Word        | Count |\n",
            "+-------------+-------+\n",
            "| RT          |   448 |\n",
            "| #MothersDay |   189 |\n",
            "| to          |   163 |\n",
            "| the         |   161 |\n",
            "| of          |   125 |\n",
            "| a           |   124 |\n",
            "| and         |   103 |\n",
            "| for         |    64 |\n",
            "| Happy       |    55 |\n",
            "| is          |    54 |\n",
            "+-------------+-------+\n",
            "+-----------------+-------+\n",
            "| Screen Name     | Count |\n",
            "+-----------------+-------+\n",
            "| GrandmasDowry   |    22 |\n",
            "| eBay            |    21 |\n",
            "| TelanganaCOPs   |    20 |\n",
            "| hailewdihaweza  |    11 |\n",
            "| nsaidian        |    10 |\n",
            "| Gurmeetramrahim |    10 |\n",
            "| itachi_senpai1  |    10 |\n",
            "| FfdfGsdd        |    10 |\n",
            "| SadhguruJV      |     9 |\n",
            "| gaspardromain3  |     8 |\n",
            "+-----------------+-------+\n",
            "+----------------------------+-------+\n",
            "| Hashtag                    | Count |\n",
            "+----------------------------+-------+\n",
            "| MothersDay                 |   241 |\n",
            "| mothersday                 |    49 |\n",
            "| giftformom                 |    24 |\n",
            "| white                      |    22 |\n",
            "| birthdayGift               |    22 |\n",
            "| giftforher                 |    22 |\n",
            "| midcentury                 |    22 |\n",
            "| clips                      |    22 |\n",
            "| etsy                       |    21 |\n",
            "| InternationalDayofFamilies |    20 |\n",
            "+----------------------------+-------+\n"
          ]
        }
      ],
      "source": [
        "from prettytable import PrettyTable\n",
        "\n",
        "for label, data in (('Word', words), \n",
        "                    ('Screen Name', screen_names), \n",
        "                    ('Hashtag', hashtags)):\n",
        "    pt = PrettyTable(field_names=[label, 'Count']) \n",
        "    c = Counter(data)\n",
        "    [ pt.add_row(kv) for kv in c.most_common()[:10] ]\n",
        "    pt.align[label], pt.align['Count'] = 'l', 'r' # Set column alignment\n",
        "    print(pt)"
      ]
    },
    {
      "cell_type": "markdown",
      "metadata": {
        "id": "x-o4_RSBCyOI"
      },
      "source": [
        "## Calculating lexical diversity for tweets"
      ]
    },
    {
      "cell_type": "code",
      "execution_count": 13,
      "metadata": {
        "id": "2xnz9AzcCyOJ",
        "colab": {
          "base_uri": "https://localhost:8080/"
        },
        "outputId": "b6832ed3-6d9c-4a86-d4ad-8f6eb9974d18"
      },
      "outputs": [
        {
          "output_type": "stream",
          "name": "stdout",
          "text": [
            "0.37110909640374734\n",
            "0.5415282392026578\n",
            "0.39082819986310746\n",
            "17.53886925795053\n"
          ]
        }
      ],
      "source": [
        "# A function for computing lexical diversity\n",
        "def lexical_diversity(tokens):\n",
        "    return len(set(tokens))/len(tokens) \n",
        "\n",
        "# A function for computing the average number of words per tweet\n",
        "def average_words(statuses):\n",
        "    total_words = sum([ len(s.split()) for s in statuses ]) \n",
        "    return total_words/len(statuses)\n",
        "\n",
        "print(lexical_diversity(words))\n",
        "print(lexical_diversity(screen_names))\n",
        "print(lexical_diversity(hashtags))\n",
        "print(average_words(status_texts))"
      ]
    },
    {
      "cell_type": "markdown",
      "metadata": {
        "id": "qFFbHgZ9CyOK"
      },
      "source": [
        "## Finding the most popular retweets"
      ]
    },
    {
      "cell_type": "code",
      "execution_count": 14,
      "metadata": {
        "id": "O329FMmnCyOK",
        "colab": {
          "base_uri": "https://localhost:8080/"
        },
        "outputId": "69eeb708-ebbe-4c69-9b96-c0e4b88cdc0a"
      },
      "outputs": [
        {
          "output_type": "stream",
          "name": "stdout",
          "text": [
            "+-------+-------------+---------------------+----------------------------------------------------+\n",
            "| Count | Screen Name | Tweet ID            | Text                                               |\n",
            "+-------+-------------+---------------------+----------------------------------------------------+\n",
            "| 33459 | layzhang    | 1523173762434502656 | RT @layzhang: Happy Mother’s Day! I wish mothers   |\n",
            "|       |             |                     | all over the world a happy holiday. You will       |\n",
            "|       |             |                     | always be the most beautiful, powerful, and g…     |\n",
            "| 33459 | layzhang    | 1523173762434502656 | RT @layzhang: Happy Mother’s Day! I wish mothers   |\n",
            "|       |             |                     | all over the world a happy holiday. You will       |\n",
            "|       |             |                     | always be the most beautiful, powerful, and g…     |\n",
            "| 22344 | peanuts_omr | 1522956632531279872 | RT @peanuts_omr: #SPY_FAMILY #MothersDay           |\n",
            "|       |             |                     | ははにだいすきをつたえるひ🫶🏻🌷 https://t.co/iicu3Jr7Cu |\n",
            "| 22344 | peanuts_omr | 1522956632531279872 | RT @peanuts_omr: #SPY_FAMILY #MothersDay           |\n",
            "|       |             |                     | ははにだいすきをつたえるひ🫶🏻🌷 https://t.co/iicu3Jr7Cu |\n",
            "| 22344 | peanuts_omr | 1522956632531279872 | RT @peanuts_omr: #SPY_FAMILY #MothersDay           |\n",
            "|       |             |                     | ははにだいすきをつたえるひ🫶🏻🌷 https://t.co/iicu3Jr7Cu |\n",
            "+-------+-------------+---------------------+----------------------------------------------------+\n"
          ]
        }
      ],
      "source": [
        "retweets = [\n",
        "            # Store out a tuple of these three values ...\n",
        "            (status['retweet_count'], \n",
        "             status['retweeted_status']['user']['screen_name'],\n",
        "             status['retweeted_status']['id'],\n",
        "             status['text']) \n",
        "            \n",
        "            # ... for each status ...\n",
        "            for status in statuses \n",
        "            \n",
        "            # ... so long as the status meets this condition.\n",
        "                if 'retweeted_status' in status.keys()\n",
        "           ]\n",
        "\n",
        "# Slice off the first 5 from the sorted results and display each item in the tuple\n",
        "\n",
        "pt = PrettyTable(field_names=['Count', 'Screen Name', 'Tweet ID', 'Text'])\n",
        "[ pt.add_row(row) for row in sorted(retweets, reverse=True)[:5] ]\n",
        "pt.max_width['Text'] = 50\n",
        "pt.align= 'l'\n",
        "print(pt)"
      ]
    },
    {
      "cell_type": "markdown",
      "metadata": {
        "id": "y5wkc8FSCyOL"
      },
      "source": [
        "## Looking up users who have retweeted a status"
      ]
    },
    {
      "cell_type": "code",
      "execution_count": 15,
      "metadata": {
        "id": "DTXV1bSJCyOM",
        "colab": {
          "base_uri": "https://localhost:8080/"
        },
        "outputId": "363e0ef8-de38-4ec5-f2d9-bbe47f10ad2d"
      },
      "outputs": [
        {
          "output_type": "stream",
          "name": "stdout",
          "text": [
            "['vijoumolce1988', 'driftourare1988', 'ShinobiSasha', 'livingmybestie', 'Rockawaytheday']\n"
          ]
        }
      ],
      "source": [
        "# Get the original tweet id for a tweet from its retweeted_status node \n",
        "# and insert it here\n",
        "\n",
        "_retweets = twitter_api.statuses.retweets(id=862359093398261760)\n",
        "print([r['user']['screen_name'] for r in _retweets])"
      ]
    },
    {
      "cell_type": "markdown",
      "metadata": {
        "id": "qFeyL7o1CyOM"
      },
      "source": [
        "## Plotting frequencies of words"
      ]
    },
    {
      "cell_type": "code",
      "execution_count": 16,
      "metadata": {
        "id": "M8ioHlOtCyON",
        "colab": {
          "base_uri": "https://localhost:8080/",
          "height": 301
        },
        "outputId": "3d3390e7-6181-4ff1-9a0c-221d7feb0eca"
      },
      "outputs": [
        {
          "output_type": "execute_result",
          "data": {
            "text/plain": [
              "Text(0.5, 0, 'Word Rank')"
            ]
          },
          "metadata": {},
          "execution_count": 16
        },
        {
          "output_type": "display_data",
          "data": {
            "text/plain": [
              "<Figure size 432x288 with 1 Axes>"
            ],
            "image/png": "[encoded data removed]"
          },
          "metadata": {
            "needs_background": "light"
          }
        }
      ],
      "source": [
        "import matplotlib.pyplot as plt\n",
        "%matplotlib inline\n",
        "word_counts = sorted(Counter(words).values(), reverse=True)\n",
        "\n",
        "plt.loglog(word_counts)\n",
        "plt.ylabel(\"Freq\")\n",
        "plt.xlabel(\"Word Rank\")"
      ]
    },
    {
      "cell_type": "markdown",
      "metadata": {
        "id": "QP3CAVQfCyOO"
      },
      "source": [
        "## Generating histograms of words, screen names, and hashtags"
      ]
    },
    {
      "cell_type": "code",
      "execution_count": 17,
      "metadata": {
        "id": "oeu4bUTlCyOP",
        "colab": {
          "base_uri": "https://localhost:8080/",
          "height": 869
        },
        "outputId": "d7a35c4a-29e5-4bc1-d95c-430c53661e86"
      },
      "outputs": [
        {
          "output_type": "display_data",
          "data": {
            "text/plain": [
              "<Figure size 432x288 with 1 Axes>"
            ],
            "image/png": "[encoded data removed]"
          },
          "metadata": {
            "needs_background": "light"
          }
        },
        {
          "output_type": "display_data",
          "data": {
            "text/plain": [
              "<Figure size 432x288 with 1 Axes>"
            ],
            "image/png": "[encoded data removed]"
          },
          "metadata": {
            "needs_background": "light"
          }
        },
        {
          "output_type": "display_data",
          "data": {
            "text/plain": [
              "<Figure size 432x288 with 1 Axes>"
            ],
            "image/png": "[encoded data removed]"
          },
          "metadata": {
            "needs_background": "light"
          }
        },
        {
          "output_type": "display_data",
          "data": {
            "text/plain": [
              "<Figure size 432x288 with 0 Axes>"
            ]
          },
          "metadata": {}
        }
      ],
      "source": [
        "for label, data in (('Words', words), \n",
        "                    ('Screen Names', screen_names), \n",
        "                    ('Hashtags', hashtags)):\n",
        "\n",
        "    # Build a frequency map for each set of data\n",
        "    # and plot the values\n",
        "    c = Counter(data)\n",
        "    plt.hist(list(c.values()))\n",
        "    \n",
        "    # Add a title and y-label ...\n",
        "    plt.title(label)\n",
        "    plt.ylabel(\"Number of items in bin\")\n",
        "    plt.xlabel(\"Bins (number of times an item appeared)\")\n",
        "    \n",
        "    # ... and display as a new figure\n",
        "    plt.figure()"
      ]
    },
    {
      "cell_type": "markdown",
      "metadata": {
        "id": "uRpMZoMBCyOQ"
      },
      "source": [
        "## Generating a histogram of retweet counts"
      ]
    },
    {
      "cell_type": "code",
      "execution_count": 18,
      "metadata": {
        "id": "qNiXrhDNCyOQ",
        "colab": {
          "base_uri": "https://localhost:8080/",
          "height": 313
        },
        "outputId": "3294b194-9482-4803-d025-20789981038f"
      },
      "outputs": [
        {
          "output_type": "execute_result",
          "data": {
            "text/plain": [
              "Text(0, 0.5, 'Number of tweets in bin')"
            ]
          },
          "metadata": {},
          "execution_count": 18
        },
        {
          "output_type": "display_data",
          "data": {
            "text/plain": [
              "<Figure size 432x288 with 1 Axes>"
            ],
            "image/png": "[encoded data removed]"
          },
          "metadata": {
            "needs_background": "light"
          }
        }
      ],
      "source": [
        "# Using underscores while unpacking values in\n",
        "# a tuple is idiomatic for discarding them\n",
        "\n",
        "counts = [count for count, _, _, _ in retweets]\n",
        "\n",
        "plt.hist(counts)\n",
        "plt.title('Retweets')\n",
        "plt.xlabel('Bins (number of times retweeted)')\n",
        "plt.ylabel('Number of tweets in bin')"
      ]
    },
    {
      "cell_type": "markdown",
      "metadata": {
        "collapsed": true,
        "id": "pr74o7j0CyOR"
      },
      "source": [
        "## Sentiment Analysis"
      ]
    },
    {
      "cell_type": "code",
      "source": [
        "pip install twython -q"
      ],
      "metadata": {
        "id": "4rj6ki02ceUw"
      },
      "execution_count": 19,
      "outputs": []
    },
    {
      "cell_type": "code",
      "execution_count": 20,
      "metadata": {
        "id": "AG5zub65CyOR",
        "colab": {
          "base_uri": "https://localhost:8080/"
        },
        "outputId": "971a4e27-2375-4640-8314-01093d9fb5ec"
      },
      "outputs": [
        {
          "output_type": "stream",
          "name": "stdout",
          "text": [
            "[nltk_data] Downloading package vader_lexicon to /root/nltk_data...\n"
          ]
        }
      ],
      "source": [
        "# pip install nltk\n",
        "# pip install twython\n",
        "import nltk\n",
        "nltk.download('vader_lexicon')\n",
        "\n",
        "import numpy as np\n",
        "from nltk.sentiment.vader import SentimentIntensityAnalyzer"
      ]
    },
    {
      "cell_type": "code",
      "execution_count": 22,
      "metadata": {
        "id": "-avwJGLmCyOS"
      },
      "outputs": [],
      "source": [
        "twitter_stream = twitter.TwitterStream(auth=auth)\n",
        "iterator = twitter_stream.statuses.sample()"
      ]
    },
    {
      "cell_type": "code",
      "execution_count": null,
      "metadata": {
        "id": "psUfeMDvCyOS"
      },
      "outputs": [],
      "source": [
        "tweets = []\n",
        "for tweet in iterator:\n",
        "    try:\n",
        "        if tweet['lang'] == 'en':\n",
        "            tweets.append(tweet)\n",
        "    except:\n",
        "        pass\n",
        "    if len(tweets) == 100:\n",
        "        break"
      ]
    },
    {
      "cell_type": "code",
      "execution_count": null,
      "metadata": {
        "id": "zkIqPowRCyOT"
      },
      "outputs": [],
      "source": [
        "analyzer = SentimentIntensityAnalyzer()"
      ]
    },
    {
      "cell_type": "code",
      "execution_count": null,
      "metadata": {
        "id": "W-nVXPG7CyOU"
      },
      "outputs": [],
      "source": [
        "analyzer.polarity_scores('Hello')"
      ]
    },
    {
      "cell_type": "code",
      "execution_count": null,
      "metadata": {
        "id": "nLphmrQFCyOV"
      },
      "outputs": [],
      "source": [
        "analyzer.polarity_scores('I really enjoy this video series.')"
      ]
    },
    {
      "cell_type": "code",
      "execution_count": null,
      "metadata": {
        "id": "0esH_j2JCyOV"
      },
      "outputs": [],
      "source": [
        "analyzer.polarity_scores('I REALLY enjoy this video series.')"
      ]
    },
    {
      "cell_type": "code",
      "execution_count": null,
      "metadata": {
        "id": "oC1yr5BiCyOW"
      },
      "outputs": [],
      "source": [
        "analyzer.polarity_scores('I REALLY enjoy this video series!!!')"
      ]
    },
    {
      "cell_type": "code",
      "execution_count": null,
      "metadata": {
        "id": "n-W4ldcbCyOW"
      },
      "outputs": [],
      "source": [
        "analyzer.polarity_scores('I REALLY did not enjoy this video series!!!')"
      ]
    },
    {
      "cell_type": "code",
      "execution_count": null,
      "metadata": {
        "id": "yQ-J7IejCyOX"
      },
      "outputs": [],
      "source": [
        "scores = np.zeros(len(tweets))\n",
        "\n",
        "for i, t in enumerate(tweets):\n",
        "    # Extract the text portion of the tweet\n",
        "    text = t['text']\n",
        "    \n",
        "    # Measure the polarity of the tweet\n",
        "    polarity = analyzer.polarity_scores(text)\n",
        "    \n",
        "    # Store the normalized, weighted composite score\n",
        "    scores[i] = polarity['compound']"
      ]
    },
    {
      "cell_type": "code",
      "execution_count": null,
      "metadata": {
        "id": "Ezjh_ELHCyOX"
      },
      "outputs": [],
      "source": [
        "most_positive = np.argmax(scores)\n",
        "most_negative = np.argmin(scores)"
      ]
    },
    {
      "cell_type": "code",
      "execution_count": null,
      "metadata": {
        "id": "3JT8S5z8CyOY"
      },
      "outputs": [],
      "source": [
        "print('{0:6.3f} : \"{1}\"'.format(scores[most_positive], tweets[most_positive]['text']))"
      ]
    },
    {
      "cell_type": "code",
      "execution_count": null,
      "metadata": {
        "id": "VksCrwJXCyOY"
      },
      "outputs": [],
      "source": [
        "print('{0:6.3f} : \"{1}\"'.format(scores[most_negative], tweets[most_negative]['text']))"
      ]
    },
    {
      "cell_type": "code",
      "execution_count": null,
      "metadata": {
        "id": "h74nMeAfCyOZ"
      },
      "outputs": [],
      "source": [
        ""
      ]
    }
  ],
  "metadata": {
    "kernelspec": {
      "display_name": "Python 3",
      "language": "python",
      "name": "python3"
    },
    "language_info": {
      "codemirror_mode": {
        "name": "ipython",
        "version": 3
      },
      "file_extension": ".py",
      "mimetype": "text/x-python",
      "name": "python",
      "nbconvert_exporter": "python",
      "pygments_lexer": "ipython3",
      "version": "3.6.8"
    },
    "colab": {
      "name": "Chapter 1 - Mining Twitter.ipynb",
      "provenance": [],
      "include_colab_link": true
    }
  },
  "nbformat": 4,
  "nbformat_minor": 0
}