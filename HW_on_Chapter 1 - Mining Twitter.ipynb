{
  "cells": [
    {
      "cell_type": "markdown",
      "metadata": {
        "id": "view-in-github",
        "colab_type": "text"
      },
      "source": [
        "<a href=\"https://colab.research.google.com/github/mequanent/App-Recommendation-Exercises/blob/main/HW_on_Chapter%201%20-%20Mining%20Twitter.ipynb\" target=\"_parent\"><img src=\"https://colab.research.google.com/assets/colab-badge.svg\" alt=\"Open In Colab\"/></a>"
      ]
    },
    {
      "cell_type": "markdown",
      "metadata": {
        "id": "POhR9DnKCyNc"
      },
      "source": [
        "# Mining Twitter\n",
        "\n",
        "Twitter implements OAuth 1.0A as its standard authentication mechanism, and in order to use it to make requests to Twitter's API, you'll need to go to https://developer.twitter.com/en/apps and create a sample application. It is possible that Twitter no longer supports sandboxed applications and you may need to submit a request for permission to develop an app on Twitter.\n",
        "\n",
        "There are four primary identifiers you'll need to note for an OAuth 1.0A workflow: consumer key, consumer secret, access token, and access token secret. Note that you will need an ordinary Twitter account in order to login, create an app, and get these credentials.\n",
        "\n",
        "<img src=\"https://github.com/mequanent/App-Recommendation-Exercises/blob/main/resources/ch01-twitter/images/Twitter-AppCredentials.png?raw=1\" width=\"600px\">"
      ]
    },
    {
      "cell_type": "markdown",
      "metadata": {
        "id": "6ffB5bz7CyNo"
      },
      "source": [
        "If you are running this code on Binder or from the Docker container, you should just be able to execute the code in this notebook without any worries whatsoever about installing dependencies. If you are running the code from your own development envioronment, however, be advised that these examples in this chapter take advantage of a Python package called [twitter](https://github.com/sixohsix/twitter) to make API calls. You can install this package in a terminal with [pip](https://pypi.python.org/pypi/pip) with the command `pip install twitter`, preferably from within a [Python virtual environment](https://pypi.python.org/pypi/virtualenv). "
      ]
    },
    {
      "cell_type": "markdown",
      "metadata": {
        "id": "PcOYVL2OCyNq"
      },
      "source": [
        "Once installed, you should be able to open up a Python interpreter (or better yet, your [IPython](http://ipython.org/) interpreter) and get rolling."
      ]
    },
    {
      "cell_type": "markdown",
      "metadata": {
        "id": "W65dc47kCyNt"
      },
      "source": [
        "## Authorizing an application to access Twitter account data"
      ]
    },
    {
      "cell_type": "code",
      "source": [
        "pip install twitter -q"
      ],
      "metadata": {
        "colab": {
          "base_uri": "https://localhost:8080/"
        },
        "id": "vgfOlpncQSS7",
        "outputId": "1b500489-0f5a-4581-ba6e-28adbeb0de55"
      },
      "execution_count": 1,
      "outputs": [
        {
          "output_type": "stream",
          "name": "stdout",
          "text": [
            "\u001b[?25l\r\u001b[K     |██████▌                         | 10 kB 25.0 MB/s eta 0:00:01\r\u001b[K     |█████████████                   | 20 kB 18.1 MB/s eta 0:00:01\r\u001b[K     |███████████████████▋            | 30 kB 11.6 MB/s eta 0:00:01\r\u001b[K     |██████████████████████████      | 40 kB 4.8 MB/s eta 0:00:01\r\u001b[K     |████████████████████████████████| 50 kB 3.0 MB/s \n",
            "\u001b[?25h"
          ]
        }
      ]
    },
    {
      "cell_type": "code",
      "execution_count": 2,
      "metadata": {
        "id": "Gi4e5earCyNu",
        "colab": {
          "base_uri": "https://localhost:8080/"
        },
        "outputId": "85bb1c02-a462-4956-ee22-05dfb4f0655a"
      },
      "outputs": [
        {
          "output_type": "stream",
          "name": "stdout",
          "text": [
            "<twitter.api.Twitter object at 0x7f51fc5c9710>\n"
          ]
        }
      ],
      "source": [
        "import twitter\n",
        "\n",
        "# Go to https://developer.twitter.com/en/apps to create an app and get values\n",
        "# for these credentials, which you'll need to provide in place of these\n",
        "# empty string values that are defined as placeholders.\n",
        "# See https://developer.twitter.com/en/docs/basics/authentication/overview/oauth\n",
        "# for more information on Twitter's OAuth implementation.\n",
        "\n",
        "CONSUMER_KEY = ''\n",
        "CONSUMER_SECRET = ''\n",
        "OAUTH_TOKEN = ''\n",
        "OAUTH_TOKEN_SECRET = ''\n",
        "\n",
        "auth = twitter.oauth.OAuth(OAUTH_TOKEN, OAUTH_TOKEN_SECRET,\n",
        "                           CONSUMER_KEY, CONSUMER_SECRET)\n",
        "\n",
        "twitter_api = twitter.Twitter(auth=auth)\n",
        "\n",
        "# Nothing to see by displaying twitter_api except that it's now a\n",
        "# defined variable\n",
        "\n",
        "print(twitter_api)"
      ]
    },
    {
      "cell_type": "code",
      "source": [
        "a = twitter_api.trends.available()\n",
        "a"
      ],
      "metadata": {
        "id": "7L5HzKZa01Nh"
      },
      "execution_count": null,
      "outputs": []
    },
    {
      "cell_type": "code",
      "source": [
        "WORLD_WOE_ID = 1\n",
        "ET_WOE_ID = 23424808"
      ],
      "metadata": {
        "id": "E3vZQz8v01BV"
      },
      "execution_count": null,
      "outputs": []
    },
    {
      "cell_type": "code",
      "source": [
        ""
      ],
      "metadata": {
        "id": "nNS0p1LS00cn"
      },
      "execution_count": null,
      "outputs": []
    },
    {
      "cell_type": "markdown",
      "metadata": {
        "id": "7UWXLL0WCyNy"
      },
      "source": [
        "## Retrieving trends"
      ]
    },
    {
      "cell_type": "code",
      "source": [
        "from google.colab import drive\n",
        "drive.mount('/content/drive')"
      ],
      "metadata": {
        "id": "7u1xFbrbq0rG"
      },
      "execution_count": null,
      "outputs": []
    },
    {
      "cell_type": "code",
      "execution_count": 11,
      "metadata": {
        "id": "J4y1FJSoCyN0",
        "colab": {
          "base_uri": "https://localhost:8080/"
        },
        "outputId": "2ef5696e-a0b4-48cf-ca5d-04389a7579ad"
      },
      "outputs": [
        {
          "output_type": "stream",
          "name": "stdout",
          "text": [
            "[{'trends': [{'name': '#SVT_DropItLikeHOT', 'url': 'http://twitter.com/search?q=%23SVT_DropItLikeHOT', 'promoted_content': None, 'query': '%23SVT_DropItLikeHOT', 'tweet_volume': 203003}, {'name': '#SVT_HOT', 'url': 'http://twitter.com/search?q=%23SVT_HOT', 'promoted_content': None, 'query': '%23SVT_HOT', 'tweet_volume': 386112}, {'name': 'Warriors', 'url': 'http://twitter.com/search?q=Warriors', 'promoted_content': None, 'query': 'Warriors', 'tweet_volume': 366990}, {'name': 'SEVENTEEN HOT MV RELEASE', 'url': 'http://twitter.com/search?q=%22SEVENTEEN+HOT+MV+RELEASE%22', 'promoted_content': None, 'query': '%22SEVENTEEN+HOT+MV+RELEASE%22', 'tweet_volume': 184173}, {'name': '#거짓말없어_세븐틴은_HOT', 'url': 'http://twitter.com/search?q=%23%EA%B1%B0%EC%A7%93%EB%A7%90%EC%97%86%EC%96%B4_%EC%84%B8%EB%B8%90%ED%8B%B4%EC%9D%80_HOT', 'promoted_content': None, 'query': '%23%EA%B1%B0%EC%A7%93%EB%A7%90%EC%97%86%EC%96%B4_%EC%84%B8%EB%B8%90%ED%8B%B4%EC%9D%80_HOT', 'tweet_volume': 136712}, {'name': 'Klay', 'url': 'http://twitter.com/search?q=Klay', 'promoted_content': None, 'query': 'Klay', 'tweet_volume': 78466}, {'name': '#ObiWan', 'url': 'http://twitter.com/search?q=%23ObiWan', 'promoted_content': None, 'query': '%23ObiWan', 'tweet_volume': 27561}, {'name': '#DubNation', 'url': 'http://twitter.com/search?q=%23DubNation', 'promoted_content': None, 'query': '%23DubNation', 'tweet_volume': 38129}, {'name': 'McDavid', 'url': 'http://twitter.com/search?q=McDavid', 'promoted_content': None, 'query': 'McDavid', 'tweet_volume': 14283}, {'name': 'MINGHAO', 'url': 'http://twitter.com/search?q=MINGHAO', 'promoted_content': None, 'query': 'MINGHAO', 'tweet_volume': 35111}, {'name': 'Atlas', 'url': 'http://twitter.com/search?q=Atlas', 'promoted_content': None, 'query': 'Atlas', 'tweet_volume': 60812}, {'name': 'Steph', 'url': 'http://twitter.com/search?q=Steph', 'promoted_content': None, 'query': 'Steph', 'tweet_volume': 96832}, {'name': 'Quiñones', 'url': 'http://twitter.com/search?q=Qui%C3%B1ones', 'promoted_content': None, 'query': 'Qui%C3%B1ones', 'tweet_volume': 10250}, {'name': 'WONWOO', 'url': 'http://twitter.com/search?q=WONWOO', 'promoted_content': None, 'query': 'WONWOO', 'tweet_volume': 132000}, {'name': 'Corinthians', 'url': 'http://twitter.com/search?q=Corinthians', 'promoted_content': None, 'query': 'Corinthians', 'tweet_volume': 114511}, {'name': 'DON QUIXOTE', 'url': 'http://twitter.com/search?q=%22DON+QUIXOTE%22', 'promoted_content': None, 'query': '%22DON+QUIXOTE%22', 'tweet_volume': 22626}, {'name': 'Calgary', 'url': 'http://twitter.com/search?q=Calgary', 'promoted_content': None, 'query': 'Calgary', 'tweet_volume': 14689}, {'name': 'stranger things', 'url': 'http://twitter.com/search?q=%22stranger+things%22', 'promoted_content': None, 'query': '%22stranger+things%22', 'tweet_volume': 207705}, {'name': 'Pachuca', 'url': 'http://twitter.com/search?q=Pachuca', 'promoted_content': None, 'query': 'Pachuca', 'tweet_volume': 18352}, {'name': 'Looney', 'url': 'http://twitter.com/search?q=Looney', 'promoted_content': None, 'query': 'Looney', 'tweet_volume': 20909}, {'name': 'JUNHUI', 'url': 'http://twitter.com/search?q=JUNHUI', 'promoted_content': None, 'query': 'JUNHUI', 'tweet_volume': 36880}, {'name': 'Buya', 'url': 'http://twitter.com/search?q=Buya', 'promoted_content': None, 'query': 'Buya', 'tweet_volume': 19592}, {'name': 'hoshi', 'url': 'http://twitter.com/search?q=hoshi', 'promoted_content': None, 'query': 'hoshi', 'tweet_volume': 89014}, {'name': 'Finals', 'url': 'http://twitter.com/search?q=Finals', 'promoted_content': None, 'query': 'Finals', 'tweet_volume': 224795}, {'name': 'Coleman', 'url': 'http://twitter.com/search?q=Coleman', 'promoted_content': None, 'query': 'Coleman', 'tweet_volume': None}, {'name': 'HOT HOT HOT', 'url': 'http://twitter.com/search?q=%22HOT+HOT+HOT%22', 'promoted_content': None, 'query': '%22HOT+HOT+HOT%22', 'tweet_volume': 1505282}, {'name': 'Gary Medel', 'url': 'http://twitter.com/search?q=%22Gary+Medel%22', 'promoted_content': None, 'query': '%22Gary+Medel%22', 'tweet_volume': None}, {'name': 'Edmonton', 'url': 'http://twitter.com/search?q=Edmonton', 'promoted_content': None, 'query': 'Edmonton', 'tweet_volume': 13189}, {'name': 'vernon', 'url': 'http://twitter.com/search?q=vernon', 'promoted_content': None, 'query': 'vernon', 'tweet_volume': 63119}, {'name': 'Congrats Win', 'url': 'http://twitter.com/search?q=%22Congrats+Win%22', 'promoted_content': None, 'query': '%22Congrats+Win%22', 'tweet_volume': 197768}, {'name': '돈키호테', 'url': 'http://twitter.com/search?q=%EB%8F%88%ED%82%A4%ED%98%B8%ED%85%8C', 'promoted_content': None, 'query': '%EB%8F%88%ED%82%A4%ED%98%B8%ED%85%8C', 'tweet_volume': None}, {'name': 'Varela', 'url': 'http://twitter.com/search?q=Varela', 'promoted_content': None, 'query': 'Varela', 'tweet_volume': 34254}, {'name': 'Hadbala', 'url': 'http://twitter.com/search?q=Hadbala', 'promoted_content': None, 'query': 'Hadbala', 'tweet_volume': 20525}, {'name': 'Camilo Vargas', 'url': 'http://twitter.com/search?q=%22Camilo+Vargas%22', 'promoted_content': None, 'query': '%22Camilo+Vargas%22', 'tweet_volume': None}, {'name': '사전투표', 'url': 'http://twitter.com/search?q=%EC%82%AC%EC%A0%84%ED%88%AC%ED%91%9C', 'promoted_content': None, 'query': '%EC%82%AC%EC%A0%84%ED%88%AC%ED%91%9C', 'tweet_volume': 39312}, {'name': 'james corden', 'url': 'http://twitter.com/search?q=%22james+corden%22', 'promoted_content': None, 'query': '%22james+corden%22', 'tweet_volume': 19663}, {'name': 'Brenda', 'url': 'http://twitter.com/search?q=Brenda', 'promoted_content': None, 'query': 'Brenda', 'tweet_volume': 48028}, {'name': 'Golden State', 'url': 'http://twitter.com/search?q=%22Golden+State%22', 'promoted_content': None, 'query': '%22Golden+State%22', 'tweet_volume': 59794}, {'name': 'Rogério', 'url': 'http://twitter.com/search?q=Rog%C3%A9rio', 'promoted_content': None, 'query': 'Rog%C3%A9rio', 'tweet_volume': 25592}, {'name': 'ぬーどるストッパーの陣', 'url': 'http://twitter.com/search?q=%E3%81%AC%E3%83%BC%E3%81%A9%E3%82%8B%E3%82%B9%E3%83%88%E3%83%83%E3%83%91%E3%83%BC%E3%81%AE%E9%99%A3', 'promoted_content': None, 'query': '%E3%81%AC%E3%83%BC%E3%81%A9%E3%82%8B%E3%82%B9%E3%83%88%E3%83%83%E3%83%91%E3%83%BC%E3%81%AE%E9%99%A3', 'tweet_volume': None}, {'name': 'RED SUN OUT NOW', 'url': 'http://twitter.com/search?q=%22RED+SUN+OUT+NOW%22', 'promoted_content': None, 'query': '%22RED+SUN+OUT+NOW%22', 'tweet_volume': 16508}, {'name': 'ヨルさん', 'url': 'http://twitter.com/search?q=%E3%83%A8%E3%83%AB%E3%81%95%E3%82%93', 'promoted_content': None, 'query': '%E3%83%A8%E3%83%AB%E3%81%95%E3%82%93', 'tweet_volume': 17464}, {'name': 'キャラ広場', 'url': 'http://twitter.com/search?q=%E3%82%AD%E3%83%A3%E3%83%A9%E5%BA%83%E5%A0%B4', 'promoted_content': None, 'query': '%E3%82%AD%E3%83%A3%E3%83%A9%E5%BA%83%E5%A0%B4', 'tweet_volume': None}, {'name': '刀剣乱舞-ONLINE', 'url': 'http://twitter.com/search?q=%E5%88%80%E5%89%A3%E4%B9%B1%E8%88%9E-ONLINE', 'promoted_content': None, 'query': '%E5%88%80%E5%89%A3%E4%B9%B1%E8%88%9E-ONLINE', 'tweet_volume': None}, {'name': 'Innalillahi', 'url': 'http://twitter.com/search?q=Innalillahi', 'promoted_content': None, 'query': 'Innalillahi', 'tweet_volume': None}, {'name': 'Billionaires', 'url': 'http://twitter.com/search?q=Billionaires', 'promoted_content': None, 'query': 'Billionaires', 'tweet_volume': 44167}, {'name': 'Matheus', 'url': 'http://twitter.com/search?q=Matheus', 'promoted_content': None, 'query': 'Matheus', 'tweet_volume': 52830}, {'name': 'WCF MVP', 'url': 'http://twitter.com/search?q=%22WCF+MVP%22', 'promoted_content': None, 'query': '%22WCF+MVP%22', 'tweet_volume': None}, {'name': 'GAZE UPON LOONA', 'url': 'http://twitter.com/search?q=%22GAZE+UPON+LOONA%22', 'promoted_content': None, 'query': '%22GAZE+UPON+LOONA%22', 'tweet_volume': None}, {'name': 'Always Ready', 'url': 'http://twitter.com/search?q=%22Always+Ready%22', 'promoted_content': None, 'query': '%22Always+Ready%22', 'tweet_volume': 31770}], 'as_of': '2022-05-27T05:25:23Z', 'created_at': '2022-05-24T23:51:41Z', 'locations': [{'name': 'Worldwide', 'woeid': 1}]}]\n",
            "\n",
            "[{'trends': [{'name': '#RHOLagos', 'url': 'http://twitter.com/search?q=%23RHOLagos', 'promoted_content': None, 'query': '%23RHOLagos', 'tweet_volume': None}, {'name': '#GotGame', 'url': 'http://twitter.com/search?q=%23GotGame', 'promoted_content': None, 'query': '%23GotGame', 'tweet_volume': None}, {'name': 'Klay', 'url': 'http://twitter.com/search?q=Klay', 'promoted_content': None, 'query': 'Klay', 'tweet_volume': 78538}, {'name': 'Glencore', 'url': 'http://twitter.com/search?q=Glencore', 'promoted_content': None, 'query': 'Glencore', 'tweet_volume': 13618}, {'name': '#WhySoManySangomas', 'url': 'http://twitter.com/search?q=%23WhySoManySangomas', 'promoted_content': None, 'query': '%23WhySoManySangomas', 'tweet_volume': None}, {'name': '#ThomasAndSkhumba', 'url': 'http://twitter.com/search?q=%23ThomasAndSkhumba', 'promoted_content': None, 'query': '%23ThomasAndSkhumba', 'tweet_volume': None}, {'name': 'Arthur Zwane', 'url': 'http://twitter.com/search?q=%22Arthur+Zwane%22', 'promoted_content': None, 'query': '%22Arthur+Zwane%22', 'tweet_volume': 11672}, {'name': '#DubNation', 'url': 'http://twitter.com/search?q=%23DubNation', 'promoted_content': None, 'query': '%23DubNation', 'tweet_volume': 38129}, {'name': 'Chioma', 'url': 'http://twitter.com/search?q=Chioma', 'promoted_content': None, 'query': 'Chioma', 'tweet_volume': None}, {'name': 'Warriors', 'url': 'http://twitter.com/search?q=Warriors', 'promoted_content': None, 'query': 'Warriors', 'tweet_volume': 367365}, {'name': 'Steph', 'url': 'http://twitter.com/search?q=Steph', 'promoted_content': None, 'query': 'Steph', 'tweet_volume': 96721}, {'name': 'Portia Modise', 'url': 'http://twitter.com/search?q=%22Portia+Modise%22', 'promoted_content': None, 'query': '%22Portia+Modise%22', 'tweet_volume': None}, {'name': 'Hugo Broos', 'url': 'http://twitter.com/search?q=%22Hugo+Broos%22', 'promoted_content': None, 'query': '%22Hugo+Broos%22', 'tweet_volume': None}, {'name': 'happy birthday bu', 'url': 'http://twitter.com/search?q=%22happy+birthday+bu%22', 'promoted_content': None, 'query': '%22happy+birthday+bu%22', 'tweet_volume': 14237}, {'name': 'Albany', 'url': 'http://twitter.com/search?q=Albany', 'promoted_content': None, 'query': 'Albany', 'tweet_volume': None}, {'name': 'Ray Liotta', 'url': 'http://twitter.com/search?q=%22Ray+Liotta%22', 'promoted_content': None, 'query': '%22Ray+Liotta%22', 'tweet_volume': 424872}, {'name': 'Billionaires', 'url': 'http://twitter.com/search?q=Billionaires', 'promoted_content': None, 'query': 'Billionaires', 'tweet_volume': 44167}, {'name': 'Ndlozi', 'url': 'http://twitter.com/search?q=Ndlozi', 'promoted_content': None, 'query': 'Ndlozi', 'tweet_volume': None}, {'name': 'Mangethe', 'url': 'http://twitter.com/search?q=Mangethe', 'promoted_content': None, 'query': 'Mangethe', 'tweet_volume': None}, {'name': 'Mavs', 'url': 'http://twitter.com/search?q=Mavs', 'promoted_content': None, 'query': 'Mavs', 'tweet_volume': 45490}, {'name': 'Kaizer Chiefs', 'url': 'http://twitter.com/search?q=%22Kaizer+Chiefs%22', 'promoted_content': None, 'query': '%22Kaizer+Chiefs%22', 'tweet_volume': 12760}, {'name': 'daisies', 'url': 'http://twitter.com/search?q=daisies', 'promoted_content': None, 'query': 'daisies', 'tweet_volume': None}, {'name': 'Royal AM', 'url': 'http://twitter.com/search?q=%22Royal+AM%22', 'promoted_content': None, 'query': '%22Royal+AM%22', 'tweet_volume': None}, {'name': 'Mourinho', 'url': 'http://twitter.com/search?q=Mourinho', 'promoted_content': None, 'query': 'Mourinho', 'tweet_volume': 107442}, {'name': 'Swim', 'url': 'http://twitter.com/search?q=Swim', 'promoted_content': None, 'query': 'Swim', 'tweet_volume': 25603}, {'name': 'Paxton', 'url': 'http://twitter.com/search?q=Paxton', 'promoted_content': None, 'query': 'Paxton', 'tweet_volume': 16580}, {'name': 'Nick Cannon', 'url': 'http://twitter.com/search?q=%22Nick+Cannon%22', 'promoted_content': None, 'query': '%22Nick+Cannon%22', 'tweet_volume': None}, {'name': 'Luka', 'url': 'http://twitter.com/search?q=Luka', 'promoted_content': None, 'query': 'Luka', 'tweet_volume': 87152}, {'name': '10111', 'url': 'http://twitter.com/search?q=10111', 'promoted_content': None, 'query': '10111', 'tweet_volume': None}, {'name': 'Brian Molefe', 'url': 'http://twitter.com/search?q=%22Brian+Molefe%22', 'promoted_content': None, 'query': '%22Brian+Molefe%22', 'tweet_volume': None}, {'name': 'the wabadimo effect', 'url': 'http://twitter.com/search?q=%22the+wabadimo+effect%22', 'promoted_content': None, 'query': '%22the+wabadimo+effect%22', 'tweet_volume': None}, {'name': 'Kehlani', 'url': 'http://twitter.com/search?q=Kehlani', 'promoted_content': None, 'query': 'Kehlani', 'tweet_volume': 10378}, {'name': 'Curry', 'url': 'http://twitter.com/search?q=Curry', 'promoted_content': None, 'query': 'Curry', 'tweet_volume': 131386}, {'name': 'Musa Keys', 'url': 'http://twitter.com/search?q=%22Musa+Keys%22', 'promoted_content': None, 'query': '%22Musa+Keys%22', 'tweet_volume': None}, {'name': 'Zondo', 'url': 'http://twitter.com/search?q=Zondo', 'promoted_content': None, 'query': 'Zondo', 'tweet_volume': None}, {'name': 'Goodfellas', 'url': 'http://twitter.com/search?q=Goodfellas', 'promoted_content': None, 'query': 'Goodfellas', 'tweet_volume': 177993}, {'name': 'B. Real Cash Back', 'url': 'http://twitter.com/search?q=%22B.+Real+Cash+Back%22', 'promoted_content': None, 'query': '%22B.+Real+Cash+Back%22', 'tweet_volume': None}, {'name': 'Luther Vandross', 'url': 'http://twitter.com/search?q=%22Luther+Vandross%22', 'promoted_content': None, 'query': '%22Luther+Vandross%22', 'tweet_volume': None}, {'name': 'Busta', 'url': 'http://twitter.com/search?q=Busta', 'promoted_content': None, 'query': 'Busta', 'tweet_volume': None}, {'name': 'Gashwan Brandon Mthombeni', 'url': 'http://twitter.com/search?q=%22Gashwan+Brandon+Mthombeni%22', 'promoted_content': None, 'query': '%22Gashwan+Brandon+Mthombeni%22', 'tweet_volume': None}, {'name': 'gash1 x ssl', 'url': 'http://twitter.com/search?q=%22gash1+x+ssl%22', 'promoted_content': None, 'query': '%22gash1+x+ssl%22', 'tweet_volume': None}, {'name': 'Gautrain', 'url': 'http://twitter.com/search?q=Gautrain', 'promoted_content': None, 'query': 'Gautrain', 'tweet_volume': None}, {'name': 'Roma', 'url': 'http://twitter.com/search?q=Roma', 'promoted_content': None, 'query': 'Roma', 'tweet_volume': 124855}, {'name': 'The Special One', 'url': 'http://twitter.com/search?q=%22The+Special+One%22', 'promoted_content': None, 'query': '%22The+Special+One%22', 'tweet_volume': 41095}, {'name': 'Rihanna', 'url': 'http://twitter.com/search?q=Rihanna', 'promoted_content': None, 'query': 'Rihanna', 'tweet_volume': 41972}, {'name': 'Uncle Waffles', 'url': 'http://twitter.com/search?q=%22Uncle+Waffles%22', 'promoted_content': None, 'query': '%22Uncle+Waffles%22', 'tweet_volume': None}, {'name': 'rsaweb', 'url': 'http://twitter.com/search?q=rsaweb', 'promoted_content': None, 'query': 'rsaweb', 'tweet_volume': None}, {'name': 'BIG 28 PROJECT', 'url': 'http://twitter.com/search?q=%22BIG+28+PROJECT%22', 'promoted_content': None, 'query': '%22BIG+28+PROJECT%22', 'tweet_volume': None}, {'name': 'Bale', 'url': 'http://twitter.com/search?q=Bale', 'promoted_content': None, 'query': 'Bale', 'tweet_volume': 25034}, {'name': 'Mr Smeg', 'url': 'http://twitter.com/search?q=%22Mr+Smeg%22', 'promoted_content': None, 'query': '%22Mr+Smeg%22', 'tweet_volume': None}], 'as_of': '2022-05-27T05:25:23Z', 'created_at': '2022-05-20T08:32:41Z', 'locations': [{'name': 'South Africa', 'woeid': 23424942}]}]\n"
          ]
        }
      ],
      "source": [
        "# The Yahoo! Where On Earth ID for the entire world is 1.\n",
        "# See https://dev.twitter.com/docs/api/1.1/get/trends/place and\n",
        "# http://developer.yahoo.com/geo/geoplanet/\n",
        "\n",
        "WORLD_WOE_ID = 1\n",
        "US_WOE_ID = 23424977\n",
        "#ET_WOE_ID = 23424808\n",
        "AF_WOE_ID = 23424942\n",
        "\n",
        "# Prefix ID with the underscore for query string parameterization.\n",
        "# Without the underscore, the twitter package appends the ID value\n",
        "# to the URL itself as a special case keyword argument.\n",
        "\n",
        "world_trends = twitter_api.trends.place(_id=WORLD_WOE_ID)\n",
        "us_trends = twitter_api.trends.place(_id=AF_WOE_ID)\n",
        "\n",
        "print(world_trends)\n",
        "print()\n",
        "print(us_trends)"
      ]
    },
    {
      "cell_type": "code",
      "execution_count": null,
      "metadata": {
        "id": "mdlojKlOCyN3"
      },
      "outputs": [],
      "source": [
        "for trend in world_trends[0]['trends']:\n",
        "    print(trend['name'])"
      ]
    },
    {
      "cell_type": "code",
      "execution_count": null,
      "metadata": {
        "id": "_CNXYrPXCyN5"
      },
      "outputs": [],
      "source": [
        "for trend in us_trends[0]['trends']:\n",
        "    print(trend['name'])"
      ]
    },
    {
      "cell_type": "code",
      "execution_count": 15,
      "metadata": {
        "id": "M67Sx1DjCyN7",
        "colab": {
          "base_uri": "https://localhost:8080/"
        },
        "outputId": "e5302ad2-4c4d-4001-941f-4c4cdc7d6f8d"
      },
      "outputs": [
        {
          "output_type": "stream",
          "name": "stdout",
          "text": [
            "{'Billionaires', 'Steph', 'Klay', 'Warriors', '#DubNation'}\n"
          ]
        }
      ],
      "source": [
        "world_trends_set = set([trend['name'] \n",
        "                        for trend in world_trends[0]['trends']])\n",
        "\n",
        "us_trends_set = set([trend['name'] \n",
        "                     for trend in us_trends[0]['trends']]) \n",
        "\n",
        "common_trends = world_trends_set.intersection(us_trends_set)\n",
        "\n",
        "print(common_trends)"
      ]
    },
    {
      "cell_type": "markdown",
      "metadata": {
        "id": "UjtToWyvCyN9"
      },
      "source": [
        "## Anatomy of a Tweet"
      ]
    },
    {
      "cell_type": "code",
      "execution_count": 47,
      "metadata": {
        "id": "2GEkSQJDCyN_",
        "colab": {
          "base_uri": "https://localhost:8080/"
        },
        "outputId": "da55678c-d83f-4963-8afe-d3bb0ea20e24"
      },
      "outputs": [
        {
          "output_type": "stream",
          "name": "stdout",
          "text": [
            "Length of statuses 100\n",
            "Length of statuses 200\n",
            "Length of statuses 300\n",
            "Length of statuses 400\n",
            "Length of statuses 499\n",
            "{\n",
            " \"created_at\": \"Fri May 27 08:04:14 +0000 2022\",\n",
            " \"id\": 1530097534252859392,\n",
            " \"id_str\": \"1530097534252859392\",\n",
            " \"text\": \"RT @sisaywm: PM @AbiyAhmedAli's admin has arrested over 5000 #Amharas with pretext of \\u201cLaw &amp; order\\u201d operation.  Targets of this targeted pr\\u2026\",\n",
            " \"truncated\": false,\n",
            " \"entities\": {\n",
            "  \"hashtags\": [\n",
            "   {\n",
            "    \"text\": \"Amharas\",\n",
            "    \"indices\": [\n",
            "     61,\n",
            "     69\n",
            "    ]\n",
            "   }\n",
            "  ],\n",
            "  \"symbols\": [],\n",
            "  \"user_mentions\": [\n",
            "   {\n",
            "    \"screen_name\": \"sisaywm\",\n",
            "    \"name\": \"Sisay M\",\n",
            "    \"id\": 2290519909,\n",
            "    \"id_str\": \"2290519909\",\n",
            "    \"indices\": [\n",
            "     3,\n",
            "     11\n",
            "    ]\n",
            "   },\n",
            "   {\n",
            "    \"screen_name\": \"AbiyAhmedAli\",\n",
            "    \"name\": \"Abiy Ahmed Ali \\ud83c\\uddea\\ud83c\\uddf9\",\n",
            "    \"id\": 1168167671151628290,\n",
            "    \"id_str\": \"1168167671151628290\",\n",
            "    \"indices\": [\n",
            "     16,\n",
            "     29\n",
            "    ]\n",
            "   }\n",
            "  ],\n",
            "  \"urls\": []\n",
            " },\n",
            " \"metadata\": {\n",
            "  \"iso_language_code\": \"en\",\n",
            "  \"result_type\": \"recent\"\n",
            " },\n",
            " \"source\": \"<a href=\\\"http://twitter.com/download/android\\\" rel=\\\"nofollow\\\">Twitter for Android</a>\",\n",
            " \"in_reply_to_status_id\": null,\n",
            " \"in_reply_to_status_id_str\": null,\n",
            " \"in_reply_to_user_id\": null,\n",
            " \"in_reply_to_user_id_str\": null,\n",
            " \"in_reply_to_screen_name\": null,\n",
            " \"user\": {\n",
            "  \"id\": 1465747852831903752,\n",
            "  \"id_str\": \"1465747852831903752\",\n",
            "  \"name\": \"Sine\",\n",
            "  \"screen_name\": \"Sineh2005\",\n",
            "  \"location\": \"Deutschland\",\n",
            "  \"description\": \"\",\n",
            "  \"url\": null,\n",
            "  \"entities\": {\n",
            "   \"description\": {\n",
            "    \"urls\": []\n",
            "   }\n",
            "  },\n",
            "  \"protected\": false,\n",
            "  \"followers_count\": 13,\n",
            "  \"friends_count\": 40,\n",
            "  \"listed_count\": 0,\n",
            "  \"created_at\": \"Tue Nov 30 18:22:22 +0000 2021\",\n",
            "  \"favourites_count\": 2964,\n",
            "  \"utc_offset\": null,\n",
            "  \"time_zone\": null,\n",
            "  \"geo_enabled\": false,\n",
            "  \"verified\": false,\n",
            "  \"statuses_count\": 1144,\n",
            "  \"lang\": null,\n",
            "  \"contributors_enabled\": false,\n",
            "  \"is_translator\": false,\n",
            "  \"is_translation_enabled\": false,\n",
            "  \"profile_background_color\": \"F5F8FA\",\n",
            "  \"profile_background_image_url\": null,\n",
            "  \"profile_background_image_url_https\": null,\n",
            "  \"profile_background_tile\": false,\n",
            "  \"profile_image_url\": \"http://abs.twimg.com/sticky/default_profile_images/default_profile_normal.png\",\n",
            "  \"profile_image_url_https\": \"https://abs.twimg.com/sticky/default_profile_images/default_profile_normal.png\",\n",
            "  \"profile_banner_url\": \"https://pbs.twimg.com/profile_banners/1465747852831903752/1646210630\",\n",
            "  \"profile_link_color\": \"1DA1F2\",\n",
            "  \"profile_sidebar_border_color\": \"C0DEED\",\n",
            "  \"profile_sidebar_fill_color\": \"DDEEF6\",\n",
            "  \"profile_text_color\": \"333333\",\n",
            "  \"profile_use_background_image\": true,\n",
            "  \"has_extended_profile\": true,\n",
            "  \"default_profile\": true,\n",
            "  \"default_profile_image\": true,\n",
            "  \"following\": false,\n",
            "  \"follow_request_sent\": false,\n",
            "  \"notifications\": false,\n",
            "  \"translator_type\": \"none\",\n",
            "  \"withheld_in_countries\": []\n",
            " },\n",
            " \"geo\": null,\n",
            " \"coordinates\": null,\n",
            " \"place\": null,\n",
            " \"contributors\": null,\n",
            " \"retweeted_status\": {\n",
            "  \"created_at\": \"Thu May 26 13:52:20 +0000 2022\",\n",
            "  \"id\": 1529822745894146048,\n",
            "  \"id_str\": \"1529822745894146048\",\n",
            "  \"text\": \"PM @AbiyAhmedAli's admin has arrested over 5000 #Amharas with pretext of \\u201cLaw &amp; order\\u201d operation.  Targets of this\\u2026 https://t.co/Kdc1mlo9Bi\",\n",
            "  \"truncated\": true,\n",
            "  \"entities\": {\n",
            "   \"hashtags\": [\n",
            "    {\n",
            "     \"text\": \"Amharas\",\n",
            "     \"indices\": [\n",
            "      48,\n",
            "      56\n",
            "     ]\n",
            "    }\n",
            "   ],\n",
            "   \"symbols\": [],\n",
            "   \"user_mentions\": [\n",
            "    {\n",
            "     \"screen_name\": \"AbiyAhmedAli\",\n",
            "     \"name\": \"Abiy Ahmed Ali \\ud83c\\uddea\\ud83c\\uddf9\",\n",
            "     \"id\": 1168167671151628290,\n",
            "     \"id_str\": \"1168167671151628290\",\n",
            "     \"indices\": [\n",
            "      3,\n",
            "      16\n",
            "     ]\n",
            "    }\n",
            "   ],\n",
            "   \"urls\": [\n",
            "    {\n",
            "     \"url\": \"https://t.co/Kdc1mlo9Bi\",\n",
            "     \"expanded_url\": \"https://twitter.com/i/web/status/1529822745894146048\",\n",
            "     \"display_url\": \"twitter.com/i/web/status/1\\u2026\",\n",
            "     \"indices\": [\n",
            "      120,\n",
            "      143\n",
            "     ]\n",
            "    }\n",
            "   ]\n",
            "  },\n",
            "  \"metadata\": {\n",
            "   \"iso_language_code\": \"en\",\n",
            "   \"result_type\": \"recent\"\n",
            "  },\n",
            "  \"source\": \"<a href=\\\"http://twitter.com/download/iphone\\\" rel=\\\"nofollow\\\">Twitter for iPhone</a>\",\n",
            "  \"in_reply_to_status_id\": null,\n",
            "  \"in_reply_to_status_id_str\": null,\n",
            "  \"in_reply_to_user_id\": null,\n",
            "  \"in_reply_to_user_id_str\": null,\n",
            "  \"in_reply_to_screen_name\": null,\n",
            "  \"user\": {\n",
            "   \"id\": 2290519909,\n",
            "   \"id_str\": \"2290519909\",\n",
            "   \"name\": \"Sisay M\",\n",
            "   \"screen_name\": \"sisaywm\",\n",
            "   \"location\": \"Ethiopia\",\n",
            "   \"description\": \"\\u120d\\u1304... \\\"\\u1200\\u1308\\u122d \\u121b\\u1208\\u1275 \\u1230\\u12cd \\u1290\\u12cd \\\" \\u1363 \\u12eb\\u1209\\u1205\\u1295 \\u1270\\u1240\\u1260\\u120d \\u1230\\u12cd \\u1260\\u121e\\u1270 \\u1241\\u1325\\u122d \\u1363 \\\"\\u1200\\u1308\\u122c \\u121e\\u1270\\u127d\\\" \\u1260\\u120d:: (\\u1260\\u120b\\u12ed \\u1260\\u1240\\u1208 \\u12c8\\u12eb)\",\n",
            "   \"url\": null,\n",
            "   \"entities\": {\n",
            "    \"description\": {\n",
            "     \"urls\": []\n",
            "    }\n",
            "   },\n",
            "   \"protected\": false,\n",
            "   \"followers_count\": 5130,\n",
            "   \"friends_count\": 701,\n",
            "   \"listed_count\": 3,\n",
            "   \"created_at\": \"Tue Jan 14 02:36:13 +0000 2014\",\n",
            "   \"favourites_count\": 2135,\n",
            "   \"utc_offset\": null,\n",
            "   \"time_zone\": null,\n",
            "   \"geo_enabled\": true,\n",
            "   \"verified\": false,\n",
            "   \"statuses_count\": 3315,\n",
            "   \"lang\": null,\n",
            "   \"contributors_enabled\": false,\n",
            "   \"is_translator\": false,\n",
            "   \"is_translation_enabled\": false,\n",
            "   \"profile_background_color\": \"C0DEED\",\n",
            "   \"profile_background_image_url\": \"http://abs.twimg.com/images/themes/theme1/bg.png\",\n",
            "   \"profile_background_image_url_https\": \"https://abs.twimg.com/images/themes/theme1/bg.png\",\n",
            "   \"profile_background_tile\": false,\n",
            "   \"profile_image_url\": \"http://pbs.twimg.com/profile_images/1527713174652211200/kfaTgJ5u_normal.jpg\",\n",
            "   \"profile_image_url_https\": \"https://pbs.twimg.com/profile_images/1527713174652211200/kfaTgJ5u_normal.jpg\",\n",
            "   \"profile_banner_url\": \"https://pbs.twimg.com/profile_banners/2290519909/1643089532\",\n",
            "   \"profile_link_color\": \"1DA1F2\",\n",
            "   \"profile_sidebar_border_color\": \"C0DEED\",\n",
            "   \"profile_sidebar_fill_color\": \"DDEEF6\",\n",
            "   \"profile_text_color\": \"333333\",\n",
            "   \"profile_use_background_image\": true,\n",
            "   \"has_extended_profile\": false,\n",
            "   \"default_profile\": true,\n",
            "   \"default_profile_image\": false,\n",
            "   \"following\": false,\n",
            "   \"follow_request_sent\": false,\n",
            "   \"notifications\": false,\n",
            "   \"translator_type\": \"none\",\n",
            "   \"withheld_in_countries\": []\n",
            "  },\n",
            "  \"geo\": null,\n",
            "  \"coordinates\": null,\n",
            "  \"place\": null,\n",
            "  \"contributors\": null,\n",
            "  \"is_quote_status\": false,\n",
            "  \"retweet_count\": 37,\n",
            "  \"favorite_count\": 34,\n",
            "  \"favorited\": false,\n",
            "  \"retweeted\": false,\n",
            "  \"lang\": \"en\"\n",
            " },\n",
            " \"is_quote_status\": false,\n",
            " \"retweet_count\": 37,\n",
            " \"favorite_count\": 0,\n",
            " \"favorited\": false,\n",
            " \"retweeted\": false,\n",
            " \"lang\": \"en\"\n",
            "}\n"
          ]
        }
      ],
      "source": [
        "import json\n",
        "\n",
        "# Set this variable to a trending topic, \n",
        "# or anything else for that matter. The example query below\n",
        "# was a trending topic when this content was being developed\n",
        "# and is used throughout the remainder of this chapter.\n",
        "\n",
        "#q = '#MothersDay' \n",
        "q = '#AmharaGenocide' \n",
        "\n",
        "count = 10000\n",
        "\n",
        "# Import unquote to prevent url encoding errors in next_results\n",
        "from urllib.parse import unquote\n",
        "\n",
        "# See https://dev.twitter.com/rest/reference/get/search/tweets\n",
        "\n",
        "search_results = twitter_api.search.tweets(q=q, count=count)\n",
        "\n",
        "statuses = search_results['statuses']\n",
        "\n",
        "\n",
        "# Iterate through 5 more batches of results by following the cursor\n",
        "for _ in range(5):\n",
        "    print('Length of statuses', len(statuses))\n",
        "    try:\n",
        "        next_results = search_results['search_metadata']['next_results']\n",
        "    except KeyError as e: # No more results when next_results doesn't exist\n",
        "        break\n",
        "        \n",
        "    # Create a dictionary from next_results, which has the following form:\n",
        "    # ?max_id=847960489447628799&q=%23RIPSelena&count=100&include_entities=1\n",
        "    kwargs = dict([ kv.split('=') for kv in unquote(next_results[1:]).split(\"&\") ])\n",
        "    \n",
        "    search_results = twitter_api.search.tweets(**kwargs)\n",
        "    statuses += search_results['statuses']\n",
        "\n",
        "# Show one sample search result by slicing the list...\n",
        "print(json.dumps(statuses[0], indent=1))"
      ]
    },
    {
      "cell_type": "code",
      "execution_count": 48,
      "metadata": {
        "id": "ulbuEo4MCyOB",
        "colab": {
          "base_uri": "https://localhost:8080/"
        },
        "outputId": "d2e65998-81fe-4a76-a247-da99a416707f"
      },
      "outputs": [
        {
          "output_type": "stream",
          "name": "stdout",
          "text": [
            "\n",
            "RT @sisaywm: PM @AbiyAhmedAli's admin has arrested over 5000 #Amharas with pretext of “Law &amp; order” operation.  Targets of this targeted pr…\n",
            "Favorites:  0\n",
            "Retweets:  37\n",
            "\n",
            "RT @Etiozion: The 🇪🇹 gov't has abducted 11 journalists since May 19 as part of a broader crackdown that the government calls a “law enforce…\n",
            "Favorites:  0\n",
            "Retweets:  67\n",
            "\n",
            "RT @Ebrahim53277131: The Ethiopian government doing as #terrorist by killing children and innocent people of Amhara in their home country !…\n",
            "Favorites:  0\n",
            "Retweets:  4\n",
            "\n",
            "RT @sisaywm: PM @AbiyAhmedAli's admin has arrested over 5000 #Amharas with pretext of “Law &amp; order” operation.  Targets of this targeted pr…\n",
            "Favorites:  0\n",
            "Retweets:  37\n",
            "\n",
            "RT @sisaywm: Few prominent #Amhara Journalists, activists, politicians, community &amp; military leaders were profiled &amp; kidnapped by @AbiyAhme…\n",
            "Favorites:  0\n",
            "Retweets:  123\n",
            "\n",
            "RT @sisaywm: More than 4,500 people arrested as part of a wider crackdown against local heroes, Fanos, Gov't critics &amp; z press. \n",
            "\n",
            "https://t…\n",
            "Favorites:  0\n",
            "Retweets:  70\n",
            "\n",
            "RT @belllam2016: #AmharaUnderAttack #AmharaGenocide #IamFano\n",
            "Favorites:  0\n",
            "Retweets:  2\n",
            "\n",
            "RT @Etiozion: The 🇪🇹 gov't has abducted 11 journalists since May 19 as part of a broader crackdown that the government calls a “law enforce…\n",
            "Favorites:  0\n",
            "Retweets:  67\n",
            "\n",
            "RT @belllam2016: #AmharaUnderAttack #AmharaGenocide #IamFano\n",
            "Favorites:  0\n",
            "Retweets:  2\n",
            "\n",
            "RT @Ephrem1411: PM @AbiyAhmedAli's admin has arrested over 5000 #Amharas with pretext of “Law &amp; order” operation. #AmharaUnderAttack #Amhar…\n",
            "Favorites:  0\n",
            "Retweets:  7\n"
          ]
        }
      ],
      "source": [
        "for i in range(10):\n",
        "    print()\n",
        "    print(statuses[i]['text'])\n",
        "    print('Favorites: ', statuses[i]['favorite_count'])\n",
        "    print('Retweets: ', statuses[i]['retweet_count'])"
      ]
    },
    {
      "cell_type": "markdown",
      "metadata": {
        "id": "oRXCemNnCyOC"
      },
      "source": [
        "## Extracting text, screen names, and hashtags from tweets"
      ]
    },
    {
      "cell_type": "code",
      "execution_count": 49,
      "metadata": {
        "id": "5wTi9pMFCyOD",
        "colab": {
          "base_uri": "https://localhost:8080/"
        },
        "outputId": "a78d6935-08ae-4fed-8c7a-21abeca62eca"
      },
      "outputs": [
        {
          "output_type": "stream",
          "name": "stdout",
          "text": [
            "[\n",
            " \"RT @sisaywm: PM @AbiyAhmedAli's admin has arrested over 5000 #Amharas with pretext of \\u201cLaw &amp; order\\u201d operation.  Targets of this targeted pr\\u2026\",\n",
            " \"RT @Etiozion: The \\ud83c\\uddea\\ud83c\\uddf9 gov't has abducted 11 journalists since May 19 as part of a broader crackdown that the government calls a \\u201claw enforce\\u2026\",\n",
            " \"RT @Ebrahim53277131: The Ethiopian government doing as #terrorist by killing children and innocent people of Amhara in their home country !\\u2026\",\n",
            " \"RT @sisaywm: PM @AbiyAhmedAli's admin has arrested over 5000 #Amharas with pretext of \\u201cLaw &amp; order\\u201d operation.  Targets of this targeted pr\\u2026\",\n",
            " \"RT @sisaywm: Few prominent #Amhara Journalists, activists, politicians, community &amp; military leaders were profiled &amp; kidnapped by @AbiyAhme\\u2026\"\n",
            "]\n",
            "[\n",
            " \"sisaywm\",\n",
            " \"AbiyAhmedAli\",\n",
            " \"Etiozion\",\n",
            " \"Ebrahim53277131\",\n",
            " \"sisaywm\"\n",
            "]\n",
            "[\n",
            " \"Amharas\",\n",
            " \"terrorist\",\n",
            " \"Amharas\",\n",
            " \"Amhara\",\n",
            " \"AmharaUnderAttack\"\n",
            "]\n",
            "[\n",
            " \"RT\",\n",
            " \"@sisaywm:\",\n",
            " \"PM\",\n",
            " \"@AbiyAhmedAli's\",\n",
            " \"admin\"\n",
            "]\n"
          ]
        }
      ],
      "source": [
        "status_texts = [ status['text'] \n",
        "                 for status in statuses ]\n",
        "\n",
        "screen_names = [ user_mention['screen_name'] \n",
        "                 for status in statuses\n",
        "                     for user_mention in status['entities']['user_mentions'] ]\n",
        "\n",
        "hashtags = [ hashtag['text'] \n",
        "             for status in statuses\n",
        "                 for hashtag in status['entities']['hashtags'] ]\n",
        "\n",
        "# Compute a collection of all words from all tweets\n",
        "words = [ w \n",
        "          for t in status_texts \n",
        "              for w in t.split() ]\n",
        "\n",
        "# Explore the first 5 items for each...\n",
        "\n",
        "print(json.dumps(status_texts[0:5], indent=1))\n",
        "print(json.dumps(screen_names[0:5], indent=1) )\n",
        "print(json.dumps(hashtags[0:5], indent=1))\n",
        "print(json.dumps(words[0:5], indent=1))"
      ]
    },
    {
      "cell_type": "markdown",
      "metadata": {
        "id": "Pg56RUv2CyOE"
      },
      "source": [
        "## Creating a basic frequency distribution from the words in tweets"
      ]
    },
    {
      "cell_type": "code",
      "execution_count": 50,
      "metadata": {
        "id": "at4OMgbWCyOF",
        "colab": {
          "base_uri": "https://localhost:8080/"
        },
        "outputId": "fe73f299-5545-4716-aaf4-53c8b72076c4"
      },
      "outputs": [
        {
          "output_type": "stream",
          "name": "stdout",
          "text": [
            "[('RT', 466), ('of', 410), ('a', 265), ('&amp;', 227), ('has', 191), ('the', 183), ('#AmharaGenocide', 180), ('#AmharaUnderAttack', 146), ('The', 114), ('arrested', 111)]\n",
            "\n",
            "[('AbiyAhmedAli', 144), ('sisaywm', 74), ('Etiozion', 74), ('Alex_G_AGA', 47), ('POTUS', 20), ('UniqueMoveon', 20), ('antonioguterres', 19), ('YayehElyas', 19), ('mbachelet', 15), ('eucopresident', 15)]\n",
            "\n",
            "[('AmharaGenocide', 184), ('AmharaUnderAttack', 148), ('Amharas', 105), ('Amhara', 97), ('AmharaMassArrests', 58), ('AmharaResistance', 17), ('Ethiopia', 16), ('IamFano', 12), ('Amharastudents', 12), ('Amharawomen', 12)]\n",
            "\n"
          ]
        }
      ],
      "source": [
        "from collections import Counter\n",
        "\n",
        "for item in [words, screen_names, hashtags]:\n",
        "    c = Counter(item)\n",
        "    print(c.most_common()[:10]) # top 10\n",
        "    print()"
      ]
    },
    {
      "cell_type": "markdown",
      "metadata": {
        "id": "CExEzO4MCyOG"
      },
      "source": [
        "## Using prettytable to display tuples in a nice tabular format"
      ]
    },
    {
      "cell_type": "code",
      "execution_count": 51,
      "metadata": {
        "id": "JMeD8ehYCyOH",
        "colab": {
          "base_uri": "https://localhost:8080/"
        },
        "outputId": "03dfcdca-967e-4033-de1a-3a62f866c48b"
      },
      "outputs": [
        {
          "output_type": "stream",
          "name": "stdout",
          "text": [
            "+--------------------+-------+\n",
            "| Word               | Count |\n",
            "+--------------------+-------+\n",
            "| RT                 |   466 |\n",
            "| of                 |   410 |\n",
            "| a                  |   265 |\n",
            "| &amp;              |   227 |\n",
            "| has                |   191 |\n",
            "| the                |   183 |\n",
            "| #AmharaGenocide    |   180 |\n",
            "| #AmharaUnderAttack |   146 |\n",
            "| The                |   114 |\n",
            "| arrested           |   111 |\n",
            "+--------------------+-------+\n",
            "+-----------------+-------+\n",
            "| Screen Name     | Count |\n",
            "+-----------------+-------+\n",
            "| AbiyAhmedAli    |   144 |\n",
            "| sisaywm         |    74 |\n",
            "| Etiozion        |    74 |\n",
            "| Alex_G_AGA      |    47 |\n",
            "| POTUS           |    20 |\n",
            "| UniqueMoveon    |    20 |\n",
            "| antonioguterres |    19 |\n",
            "| YayehElyas      |    19 |\n",
            "| mbachelet       |    15 |\n",
            "| eucopresident   |    15 |\n",
            "+-----------------+-------+\n",
            "+-------------------+-------+\n",
            "| Hashtag           | Count |\n",
            "+-------------------+-------+\n",
            "| AmharaGenocide    |   184 |\n",
            "| AmharaUnderAttack |   148 |\n",
            "| Amharas           |   105 |\n",
            "| Amhara            |    97 |\n",
            "| AmharaMassArrests |    58 |\n",
            "| AmharaResistance  |    17 |\n",
            "| Ethiopia          |    16 |\n",
            "| IamFano           |    12 |\n",
            "| Amharastudents    |    12 |\n",
            "| Amharawomen       |    12 |\n",
            "+-------------------+-------+\n"
          ]
        }
      ],
      "source": [
        "from prettytable import PrettyTable\n",
        "\n",
        "for label, data in (('Word', words), \n",
        "                    ('Screen Name', screen_names), \n",
        "                    ('Hashtag', hashtags)):\n",
        "    pt = PrettyTable(field_names=[label, 'Count']) \n",
        "    c = Counter(data)\n",
        "    [ pt.add_row(kv) for kv in c.most_common()[:10] ]\n",
        "    pt.align[label], pt.align['Count'] = 'l', 'r' # Set column alignment\n",
        "    print(pt)"
      ]
    },
    {
      "cell_type": "markdown",
      "metadata": {
        "id": "x-o4_RSBCyOI"
      },
      "source": [
        "## Calculating lexical diversity for tweets"
      ]
    },
    {
      "cell_type": "code",
      "execution_count": 52,
      "metadata": {
        "id": "2xnz9AzcCyOJ",
        "colab": {
          "base_uri": "https://localhost:8080/"
        },
        "outputId": "3995898a-485c-4a42-9c44-b25030a651f3"
      },
      "outputs": [
        {
          "output_type": "stream",
          "name": "stdout",
          "text": [
            "0.11013256697877075\n",
            "0.15878378378378377\n",
            "0.06341463414634146\n",
            "18.008347245409016\n"
          ]
        }
      ],
      "source": [
        "# A function for computing lexical diversity\n",
        "def lexical_diversity(tokens):\n",
        "    return len(set(tokens))/len(tokens) \n",
        "\n",
        "# A function for computing the average number of words per tweet\n",
        "def average_words(statuses):\n",
        "    total_words = sum([ len(s.split()) for s in statuses ]) \n",
        "    return total_words/len(statuses)\n",
        "\n",
        "print(lexical_diversity(words))\n",
        "print(lexical_diversity(screen_names))\n",
        "print(lexical_diversity(hashtags))\n",
        "print(average_words(status_texts))"
      ]
    },
    {
      "cell_type": "markdown",
      "metadata": {
        "id": "qFFbHgZ9CyOK"
      },
      "source": [
        "## Finding the most popular retweets"
      ]
    },
    {
      "cell_type": "code",
      "execution_count": 79,
      "metadata": {
        "id": "O329FMmnCyOK",
        "colab": {
          "base_uri": "https://localhost:8080/"
        },
        "outputId": "6cfb1773-467e-4d1b-973d-6652bf6a22d0"
      },
      "outputs": [
        {
          "output_type": "stream",
          "name": "stdout",
          "text": [
            "+-------+---------------+---------------------+----------------------------------------------------+\n",
            "| Count | Screen Name   | Tweet ID            | Text                                               |\n",
            "+-------+---------------+---------------------+----------------------------------------------------+\n",
            "| 143   | sadorAmhara   | 1529095505435062272 | RT @sadorAmhara: ከሆድ ውስጥ አውጥቶ ህፃን የሚገድል መንግስት      |\n",
            "|       |               |                     | የተወለደውን ቢያግት ምን ይገርማል !!                           |\n",
            "|       |               |                     | #AmharaGenocide                                    |\n",
            "|       |               |                     | #AmharaGenocide                                    |\n",
            "|       |               |                     | #AmharaUnderAttack https://t.co/zD…                |\n",
            "| 123   | sisaywm       | 1529219382575935488 | RT @sisaywm: Few prominent #Amhara Journalists,    |\n",
            "|       |               |                     | activists, politicians, community &amp; military   |\n",
            "|       |               |                     | leaders were profiled &amp; kidnapped by           |\n",
            "|       |               |                     | @AbiyAhme…                                         |\n",
            "| 106   | sisaywm       | 1528049659796520960 | RT @sisaywm: Tweets for Today                      |\n",
            "|       |               |                     | #AmharaGenocide                                    |\n",
            "|       |               |                     | #AmharaUnderAttack                                 |\n",
            "|       |               |                     | #IamFano                                           |\n",
            "|       |               |                     |                                                    |\n",
            "|       |               |                     | https://t.co/x7MMKnOaaf                            |\n",
            "| 99    | Habiba__Yasin | 1529072922618372109 | RT @Habiba__Yasin: አማራ ክልል በአባት ምትክ የ3 ዓመት ሕፃንን    |\n",
            "|       |               |                     | ማስያዣ ሆኖ ታሰረ  💔💔                                  |\n",
            "|       |               |                     | #AmharaUnderAttack                                 |\n",
            "|       |               |                     | #AmharaGenocide                                    |\n",
            "|       |               |                     | @AbiyAhmedAli                                      |\n",
            "|       |               |                     | @AMECOONLINE https://t.co/…                        |\n",
            "| 86    | SenaitSenay   | 1529614322531450881 | RT @SenaitSenay: Unbelievable! Kidnapping a baby!  |\n",
            "|       |               |                     | now this!If this is not state led terrorism, I     |\n",
            "|       |               |                     | don't know what is! Amhara people are bein…        |\n",
            "+-------+---------------+---------------------+----------------------------------------------------+\n"
          ]
        }
      ],
      "source": [
        "retweets = [\n",
        "            # Store out a tuple of these three values ...\n",
        "            (status['retweet_count'], \n",
        "             status['retweeted_status']['user']['screen_name'],\n",
        "             status['retweeted_status']['id'],\n",
        "             status['text']) \n",
        "            \n",
        "            # ... for each status ...\n",
        "            for status in statuses \n",
        "            \n",
        "            # ... so long as the status meets this condition.\n",
        "                if 'retweeted_status' in status.keys()\n",
        "           ]\n",
        "\n",
        "# Slice off the first 5 from the sorted results and display each item in the tuple\n",
        "pt = PrettyTable(field_names=['Count', 'Screen Name', 'Tweet ID', 'Text'])\n",
        "#[pt.add_row(row) for row in sorted(retweets, reverse=True)[:5] ]\n",
        "st = set(sorted(retweets, reverse=True)) # Helps to get unique elements\n",
        "lst = list(st) # change back the set to a list to sort easily \n",
        "[pt.add_row(row) for row in sorted(lst, reverse=True)[:5] ]\n",
        "pt.max_width['Text'] = 50\n",
        "pt.align= 'l'\n",
        "print(pt)"
      ]
    },
    {
      "cell_type": "code",
      "source": [
        "# Old Version of popular tweets displaying\n",
        "retweets = [\n",
        "            # Store out a tuple of these three values ...\n",
        "            (status['retweet_count'], \n",
        "             status['retweeted_status']['user']['screen_name'],\n",
        "             status['retweeted_status']['id'],\n",
        "             status['text']) \n",
        "            \n",
        "            # ... for each status ...\n",
        "            for status in statuses \n",
        "            \n",
        "            # ... so long as the status meets this condition.\n",
        "                if 'retweeted_status' in status.keys()\n",
        "           ]\n",
        "\n",
        "# Slice off the first 5 from the sorted results and display each item in the tuple\n",
        "pt = PrettyTable(field_names=['Count', 'Screen Name', 'Tweet ID', 'Text'])\n",
        "[pt.add_row(row) for row in sorted(retweets, reverse=True)[:5] ]\n",
        "pt.max_width['Text'] = 50\n",
        "pt.align= 'l'\n",
        "print(pt)"
      ],
      "metadata": {
        "id": "NwTkZMLyJIH3",
        "outputId": "aa7d1f3c-a3dd-4374-ace3-24d0dde908e7",
        "colab": {
          "base_uri": "https://localhost:8080/"
        }
      },
      "execution_count": 78,
      "outputs": [
        {
          "output_type": "stream",
          "name": "stdout",
          "text": [
            "+-------+-------------+---------------------+----------------------------------------------------+\n",
            "| Count | Screen Name | Tweet ID            | Text                                               |\n",
            "+-------+-------------+---------------------+----------------------------------------------------+\n",
            "| 143   | sadorAmhara | 1529095505435062272 | RT @sadorAmhara: ከሆድ ውስጥ አውጥቶ ህፃን የሚገድል መንግስት      |\n",
            "|       |             |                     | የተወለደውን ቢያግት ምን ይገርማል !!                           |\n",
            "|       |             |                     | #AmharaGenocide                                    |\n",
            "|       |             |                     | #AmharaGenocide                                    |\n",
            "|       |             |                     | #AmharaUnderAttack https://t.co/zD…                |\n",
            "| 143   | sadorAmhara | 1529095505435062272 | RT @sadorAmhara: ከሆድ ውስጥ አውጥቶ ህፃን የሚገድል መንግስት      |\n",
            "|       |             |                     | የተወለደውን ቢያግት ምን ይገርማል !!                           |\n",
            "|       |             |                     | #AmharaGenocide                                    |\n",
            "|       |             |                     | #AmharaGenocide                                    |\n",
            "|       |             |                     | #AmharaUnderAttack https://t.co/zD…                |\n",
            "| 143   | sadorAmhara | 1529095505435062272 | RT @sadorAmhara: ከሆድ ውስጥ አውጥቶ ህፃን የሚገድል መንግስት      |\n",
            "|       |             |                     | የተወለደውን ቢያግት ምን ይገርማል !!                           |\n",
            "|       |             |                     | #AmharaGenocide                                    |\n",
            "|       |             |                     | #AmharaGenocide                                    |\n",
            "|       |             |                     | #AmharaUnderAttack https://t.co/zD…                |\n",
            "| 123   | sisaywm     | 1529219382575935488 | RT @sisaywm: Few prominent #Amhara Journalists,    |\n",
            "|       |             |                     | activists, politicians, community &amp; military   |\n",
            "|       |             |                     | leaders were profiled &amp; kidnapped by           |\n",
            "|       |             |                     | @AbiyAhme…                                         |\n",
            "| 123   | sisaywm     | 1529219382575935488 | RT @sisaywm: Few prominent #Amhara Journalists,    |\n",
            "|       |             |                     | activists, politicians, community &amp; military   |\n",
            "|       |             |                     | leaders were profiled &amp; kidnapped by           |\n",
            "|       |             |                     | @AbiyAhme…                                         |\n",
            "+-------+-------------+---------------------+----------------------------------------------------+\n"
          ]
        }
      ]
    },
    {
      "cell_type": "markdown",
      "metadata": {
        "id": "y5wkc8FSCyOL"
      },
      "source": [
        "## Looking up users who have retweeted a status"
      ]
    },
    {
      "cell_type": "code",
      "execution_count": 80,
      "metadata": {
        "id": "DTXV1bSJCyOM",
        "colab": {
          "base_uri": "https://localhost:8080/"
        },
        "outputId": "60104140-3b0d-4bfe-e45c-8c1680ac8175"
      },
      "outputs": [
        {
          "output_type": "stream",
          "name": "stdout",
          "text": [
            "['tube22488741', 'ZamzamZ11089518', 'fasiledes3', 'EndewaT', 'anduamelak1', '2021Dagim', 'WOHA66996853', 'meseret_messi', 'MesTamirat16', 'Zufan53131086', 'fikremariambel4', 'Hiwot19Hiwot', 'Kidusgeorgis', 'abiey9', 'DemekeAwoke', 'KassahunAsrat', 'Sara94051780', 'AbiyDemilew', 'hollymanzion']\n"
          ]
        }
      ],
      "source": [
        "# Get the original tweet id for a tweet from its retweeted_status node \n",
        "# and insert it here\n",
        "\n",
        "#_retweets = twitter_api.statuses.retweets(id=862359093398261760)\n",
        "_retweets = twitter_api.statuses.retweets(id=1529095505435062272)\n",
        "print([r['user']['screen_name'] for r in _retweets])"
      ]
    },
    {
      "cell_type": "markdown",
      "metadata": {
        "id": "qFeyL7o1CyOM"
      },
      "source": [
        "## Plotting frequencies of words"
      ]
    },
    {
      "cell_type": "code",
      "execution_count": 81,
      "metadata": {
        "id": "M8ioHlOtCyON",
        "colab": {
          "base_uri": "https://localhost:8080/",
          "height": 301
        },
        "outputId": "e3e850b0-81d9-4ea4-adb3-7c69e36af5bb"
      },
      "outputs": [
        {
          "output_type": "execute_result",
          "data": {
            "text/plain": [
              "Text(0.5, 0, 'Word Rank')"
            ]
          },
          "metadata": {},
          "execution_count": 81
        },
        {
          "output_type": "display_data",
          "data": {
            "text/plain": [
              "<Figure size 432x288 with 1 Axes>"
            ],
            "image/png": "[encoded data removed]"
          },
          "metadata": {
            "needs_background": "light"
          }
        }
      ],
      "source": [
        "import matplotlib.pyplot as plt\n",
        "%matplotlib inline\n",
        "word_counts = sorted(Counter(words).values(), reverse=True)\n",
        "\n",
        "plt.loglog(word_counts)\n",
        "plt.ylabel(\"Freq\")\n",
        "plt.xlabel(\"Word Rank\")"
      ]
    },
    {
      "cell_type": "markdown",
      "metadata": {
        "id": "QP3CAVQfCyOO"
      },
      "source": [
        "## Generating histograms of words, screen names, and hashtags"
      ]
    },
    {
      "cell_type": "code",
      "execution_count": 82,
      "metadata": {
        "id": "oeu4bUTlCyOP",
        "colab": {
          "base_uri": "https://localhost:8080/",
          "height": 869
        },
        "outputId": "c87f38f2-8d58-48e8-900b-dedb939e578a"
      },
      "outputs": [
        {
          "output_type": "display_data",
          "data": {
            "text/plain": [
              "<Figure size 432x288 with 1 Axes>"
            ],
            "image/png": "[encoded data removed]"
          },
          "metadata": {
            "needs_background": "light"
          }
        },
        {
          "output_type": "display_data",
          "data": {
            "text/plain": [
              "<Figure size 432x288 with 1 Axes>"
            ],
            "image/png": "[encoded data removed]"
          },
          "metadata": {
            "needs_background": "light"
          }
        },
        {
          "output_type": "display_data",
          "data": {
            "text/plain": [
              "<Figure size 432x288 with 1 Axes>"
            ],
            "image/png": "[encoded data removed]"
          },
          "metadata": {
            "needs_background": "light"
          }
        },
        {
          "output_type": "display_data",
          "data": {
            "text/plain": [
              "<Figure size 432x288 with 0 Axes>"
            ]
          },
          "metadata": {}
        }
      ],
      "source": [
        "for label, data in (('Words', words), \n",
        "                    ('Screen Names', screen_names), \n",
        "                    ('Hashtags', hashtags)):\n",
        "\n",
        "    # Build a frequency map for each set of data\n",
        "    # and plot the values\n",
        "    c = Counter(data)\n",
        "    plt.hist(list(c.values()))\n",
        "    \n",
        "    # Add a title and y-label ...\n",
        "    plt.title(label)\n",
        "    plt.ylabel(\"Number of items in bin\")\n",
        "    plt.xlabel(\"Bins (number of times an item appeared)\")\n",
        "    \n",
        "    # ... and display as a new figure\n",
        "    plt.figure()"
      ]
    },
    {
      "cell_type": "markdown",
      "metadata": {
        "id": "uRpMZoMBCyOQ"
      },
      "source": [
        "## Generating a histogram of retweet counts"
      ]
    },
    {
      "cell_type": "code",
      "execution_count": 83,
      "metadata": {
        "id": "qNiXrhDNCyOQ",
        "colab": {
          "base_uri": "https://localhost:8080/",
          "height": 313
        },
        "outputId": "a52b1f4b-65d4-4581-f546-3479f608d1bd"
      },
      "outputs": [
        {
          "output_type": "execute_result",
          "data": {
            "text/plain": [
              "Text(0, 0.5, 'Number of tweets in bin')"
            ]
          },
          "metadata": {},
          "execution_count": 83
        },
        {
          "output_type": "display_data",
          "data": {
            "text/plain": [
              "<Figure size 432x288 with 1 Axes>"
            ],
            "image/png": "[encoded data removed]"
          },
          "metadata": {
            "needs_background": "light"
          }
        }
      ],
      "source": [
        "# Using underscores while unpacking values in\n",
        "# a tuple is idiomatic for discarding them\n",
        "\n",
        "counts = [count for count, _, _, _ in retweets]\n",
        "\n",
        "plt.hist(counts)\n",
        "plt.title('Retweets')\n",
        "plt.xlabel('Bins (number of times retweeted)')\n",
        "plt.ylabel('Number of tweets in bin')"
      ]
    },
    {
      "cell_type": "markdown",
      "metadata": {
        "collapsed": true,
        "id": "pr74o7j0CyOR"
      },
      "source": [
        "## Sentiment Analysis"
      ]
    },
    {
      "cell_type": "code",
      "source": [
        "pip install twython -q"
      ],
      "metadata": {
        "id": "4rj6ki02ceUw"
      },
      "execution_count": null,
      "outputs": []
    },
    {
      "cell_type": "code",
      "execution_count": null,
      "metadata": {
        "id": "AG5zub65CyOR",
        "colab": {
          "base_uri": "https://localhost:8080/"
        },
        "outputId": "971a4e27-2375-4640-8314-01093d9fb5ec"
      },
      "outputs": [
        {
          "output_type": "stream",
          "name": "stdout",
          "text": [
            "[nltk_data] Downloading package vader_lexicon to /root/nltk_data...\n"
          ]
        }
      ],
      "source": [
        "# pip install nltk\n",
        "# pip install twython\n",
        "import nltk\n",
        "nltk.download('vader_lexicon')\n",
        "\n",
        "import numpy as np\n",
        "from nltk.sentiment.vader import SentimentIntensityAnalyzer"
      ]
    },
    {
      "cell_type": "code",
      "execution_count": null,
      "metadata": {
        "id": "-avwJGLmCyOS"
      },
      "outputs": [],
      "source": [
        "twitter_stream = twitter.TwitterStream(auth=auth)\n",
        "iterator = twitter_stream.statuses.sample()"
      ]
    },
    {
      "cell_type": "code",
      "execution_count": null,
      "metadata": {
        "id": "psUfeMDvCyOS"
      },
      "outputs": [],
      "source": [
        "tweets = []\n",
        "for tweet in iterator:\n",
        "    try:\n",
        "        if tweet['lang'] == 'en':\n",
        "            tweets.append(tweet)\n",
        "    except:\n",
        "        pass\n",
        "    if len(tweets) == 100:\n",
        "        break"
      ]
    },
    {
      "cell_type": "code",
      "execution_count": null,
      "metadata": {
        "id": "zkIqPowRCyOT"
      },
      "outputs": [],
      "source": [
        "analyzer = SentimentIntensityAnalyzer()"
      ]
    },
    {
      "cell_type": "code",
      "execution_count": null,
      "metadata": {
        "id": "W-nVXPG7CyOU"
      },
      "outputs": [],
      "source": [
        "analyzer.polarity_scores('Hello')"
      ]
    },
    {
      "cell_type": "code",
      "execution_count": null,
      "metadata": {
        "id": "nLphmrQFCyOV"
      },
      "outputs": [],
      "source": [
        "analyzer.polarity_scores('I really enjoy this video series.')"
      ]
    },
    {
      "cell_type": "code",
      "execution_count": null,
      "metadata": {
        "id": "0esH_j2JCyOV"
      },
      "outputs": [],
      "source": [
        "analyzer.polarity_scores('I REALLY enjoy this video series.')"
      ]
    },
    {
      "cell_type": "code",
      "execution_count": null,
      "metadata": {
        "id": "oC1yr5BiCyOW"
      },
      "outputs": [],
      "source": [
        "analyzer.polarity_scores('I REALLY enjoy this video series!!!')"
      ]
    },
    {
      "cell_type": "code",
      "execution_count": null,
      "metadata": {
        "id": "n-W4ldcbCyOW"
      },
      "outputs": [],
      "source": [
        "analyzer.polarity_scores('I REALLY did not enjoy this video series!!!')"
      ]
    },
    {
      "cell_type": "code",
      "execution_count": null,
      "metadata": {
        "id": "yQ-J7IejCyOX"
      },
      "outputs": [],
      "source": [
        "scores = np.zeros(len(tweets))\n",
        "\n",
        "for i, t in enumerate(tweets):\n",
        "    # Extract the text portion of the tweet\n",
        "    text = t['text']\n",
        "    \n",
        "    # Measure the polarity of the tweet\n",
        "    polarity = analyzer.polarity_scores(text)\n",
        "    \n",
        "    # Store the normalized, weighted composite score\n",
        "    scores[i] = polarity['compound']"
      ]
    },
    {
      "cell_type": "code",
      "execution_count": null,
      "metadata": {
        "id": "Ezjh_ELHCyOX"
      },
      "outputs": [],
      "source": [
        "most_positive = np.argmax(scores)\n",
        "most_negative = np.argmin(scores)"
      ]
    },
    {
      "cell_type": "code",
      "execution_count": null,
      "metadata": {
        "id": "3JT8S5z8CyOY"
      },
      "outputs": [],
      "source": [
        "print('{0:6.3f} : \"{1}\"'.format(scores[most_positive], tweets[most_positive]['text']))"
      ]
    },
    {
      "cell_type": "code",
      "execution_count": null,
      "metadata": {
        "id": "VksCrwJXCyOY"
      },
      "outputs": [],
      "source": [
        "print('{0:6.3f} : \"{1}\"'.format(scores[most_negative], tweets[most_negative]['text']))"
      ]
    },
    {
      "cell_type": "code",
      "execution_count": null,
      "metadata": {
        "id": "h74nMeAfCyOZ"
      },
      "outputs": [],
      "source": [
        ""
      ]
    }
  ],
  "metadata": {
    "kernelspec": {
      "display_name": "Python 3",
      "language": "python",
      "name": "python3"
    },
    "language_info": {
      "codemirror_mode": {
        "name": "ipython",
        "version": 3
      },
      "file_extension": ".py",
      "mimetype": "text/x-python",
      "name": "python",
      "nbconvert_exporter": "python",
      "pygments_lexer": "ipython3",
      "version": "3.6.8"
    },
    "colab": {
      "name": "Chapter 1 - Mining Twitter.ipynb",
      "provenance": [],
      "include_colab_link": true
    }
  },
  "nbformat": 4,
  "nbformat_minor": 0
}