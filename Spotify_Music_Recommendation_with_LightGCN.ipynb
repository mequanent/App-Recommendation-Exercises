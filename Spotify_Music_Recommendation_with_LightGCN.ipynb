{
  "nbformat": 4,
  "nbformat_minor": 0,
  "metadata": {
    "colab": {
      "name": "Spotify Music Recommendation with LightGCN.ipynb",
      "provenance": [],
      "collapsed_sections": [],
      "include_colab_link": true
    },
    "kernelspec": {
      "name": "python3",
      "display_name": "Python 3"
    },
    "language_info": {
      "name": "python"
    }
  },
  "cells": [
    {
      "cell_type": "markdown",
      "metadata": {
        "id": "view-in-github",
        "colab_type": "text"
      },
      "source": [
        "<a href=\"https://colab.research.google.com/github/mequanent/App-Recommendation-Exercises/blob/main/Spotify_Music_Recommendation_with_LightGCN.ipynb\" target=\"_parent\"><img src=\"https://colab.research.google.com/assets/colab-badge.svg\" alt=\"Open In Colab\"/></a>"
      ]
    },
    {
      "cell_type": "markdown",
      "source": [
        "# Spotify Music Recommendation with LightGCN"
      ],
      "metadata": {
        "id": "5ym3rJHdIrGU"
      }
    },
    {
      "cell_type": "markdown",
      "source": [
        "By Ben Alexander, Jean-Peic Chou, Aman Bansal"
      ],
      "metadata": {
        "id": "8rRq8Qw8vzBP"
      }
    },
    {
      "cell_type": "markdown",
      "source": [
        "This is the Colab notebook associated with our Medium post! (We will update this with the link once the article is published)"
      ],
      "metadata": {
        "id": "QHPGmshaJp9k"
      }
    },
    {
      "cell_type": "markdown",
      "source": [
        "Note: please ensure that you have GPU runtime enabled! Go to Runtime -> Change runtime type. Then set the Hardware accelerator to GPU if it isn't already set."
      ],
      "metadata": {
        "id": "aLIg99Y6mYkN"
      }
    },
    {
      "cell_type": "markdown",
      "source": [
        "This Colab will:\n",
        "1. Teach you how to use PyTorch Geometric to write and train your own GNNs from scratch, by showing how to implement LightGCN for music recommendation\n",
        "2. Evaluate the performance by recommending songs for a bunch of playlists from the Spotify Million Playlist Dataset\n",
        "3. Produce some animations and visualizations of the learned playlist/node embeddings. Stick around until the end to see some interesting discoveries about country music playlists, Drake songs, and Taylor Swift songs!"
      ],
      "metadata": {
        "id": "6iqg8GCJ8OjR"
      }
    },
    {
      "cell_type": "markdown",
      "source": [
        "## Install and import necessary packages"
      ],
      "metadata": {
        "id": "FbwOF8ZSIv16"
      }
    },
    {
      "cell_type": "markdown",
      "source": [
        "First, we need to install a newer version of matplotlib for our visualizations later on.\n",
        "\n",
        "PLEASE FOLLOW THE MESSAGE THAT POPS UP AND RESTART THE RUNTIME AFTER RUNNING THIS CELL!"
      ],
      "metadata": {
        "id": "GFtIDibbf8U3"
      }
    },
    {
      "cell_type": "code",
      "source": [
        "!pip install matplotlib==3.5.0 -q"
      ],
      "metadata": {
        "id": "6penBwOSf0FO",
        "colab": {
          "base_uri": "https://localhost:8080/"
        },
        "outputId": "ec97773d-a623-437a-c487-78cd3452b1a5"
      },
      "execution_count": 2,
      "outputs": [
        {
          "output_type": "stream",
          "name": "stdout",
          "text": [
            "\u001b[K     |████████████████████████████████| 11.2 MB 5.5 MB/s \n",
            "\u001b[K     |████████████████████████████████| 930 kB 44.8 MB/s \n",
            "\u001b[31mERROR: pip's dependency resolver does not currently take into account all the packages that are installed. This behaviour is the source of the following dependency conflicts.\n",
            "albumentations 0.1.12 requires imgaug<0.2.7,>=0.2.5, but you have imgaug 0.2.9 which is incompatible.\u001b[0m\n",
            "\u001b[?25h"
          ]
        }
      ]
    },
    {
      "cell_type": "markdown",
      "source": [
        "Again, please restart the runtime after running the cell above!! Click the button that comes up.\n",
        "\n",
        "Here are some more installations:"
      ],
      "metadata": {
        "id": "cnI75_wGf-Qj"
      }
    },
    {
      "cell_type": "code",
      "metadata": {
        "colab": {
          "base_uri": "https://localhost:8080/"
        },
        "id": "o51SFMJOqHlS",
        "outputId": "8b1e5faf-3170-4abc-c7b1-1802bdefbe01"
      },
      "source": [
        "!pip install torch-scatter -f https://data.pyg.org/whl/torch-1.10.0+cu111.html -q\n",
        "\n",
        "!pip install torch-sparse -f https://data.pyg.org/whl/torch-1.10.0+cu111.html -q\n",
        "\n",
        "# We are installing torch-geometric from a specific GitHub commit instead of from pip wheels/conda. This is because there is currently a bug in\n",
        "# RandomLinkSplit that has been fixed in the repo, but not yet in an official release. Once release 2.0.3 is available, we can go back\n",
        "# to installing from pip wheels. See here for more info about the bug: https://github.com/pyg-team/pytorch_geometric/issues/3440\n",
        "!pip install git+https://github.com/pyg-team/pytorch_geometric.git@7fc1767ece2edd614575dcbff1eb8f79f1035742 -q"
      ],
      "execution_count": 1,
      "outputs": [
        {
          "output_type": "stream",
          "name": "stdout",
          "text": [
            "Looking in links: https://data.pyg.org/whl/torch-1.10.0+cu111.html\n",
            "Collecting torch-scatter\n",
            "  Downloading https://data.pyg.org/whl/torch-1.10.0%2Bcu113/torch_scatter-2.0.9-cp37-cp37m-linux_x86_64.whl (7.9 MB)\n",
            "\u001b[K     |████████████████████████████████| 7.9 MB 5.2 MB/s \n",
            "\u001b[?25hInstalling collected packages: torch-scatter\n",
            "Successfully installed torch-scatter-2.0.9\n",
            "Looking in links: https://data.pyg.org/whl/torch-1.10.0+cu111.html\n",
            "Collecting torch-sparse\n",
            "  Downloading https://data.pyg.org/whl/torch-1.10.0%2Bcu113/torch_sparse-0.6.13-cp37-cp37m-linux_x86_64.whl (3.5 MB)\n",
            "\u001b[K     |████████████████████████████████| 3.5 MB 4.7 MB/s \n",
            "\u001b[?25hRequirement already satisfied: scipy in /usr/local/lib/python3.7/dist-packages (from torch-sparse) (1.4.1)\n",
            "Requirement already satisfied: numpy>=1.13.3 in /usr/local/lib/python3.7/dist-packages (from scipy->torch-sparse) (1.21.6)\n",
            "Installing collected packages: torch-sparse\n",
            "Successfully installed torch-sparse-0.6.13\n",
            "Collecting git+https://github.com/pyg-team/pytorch_geometric.git@7fc1767ece2edd614575dcbff1eb8f79f1035742\n",
            "  Cloning https://github.com/pyg-team/pytorch_geometric.git (to revision 7fc1767ece2edd614575dcbff1eb8f79f1035742) to /tmp/pip-req-build-gxuck6xx\n",
            "  Running command git clone -q https://github.com/pyg-team/pytorch_geometric.git /tmp/pip-req-build-gxuck6xx\n",
            "  Running command git rev-parse -q --verify 'sha^7fc1767ece2edd614575dcbff1eb8f79f1035742'\n",
            "  Running command git fetch -q https://github.com/pyg-team/pytorch_geometric.git 7fc1767ece2edd614575dcbff1eb8f79f1035742\n",
            "  Running command git checkout -q 7fc1767ece2edd614575dcbff1eb8f79f1035742\n",
            "Requirement already satisfied: numpy in /usr/local/lib/python3.7/dist-packages (from torch-geometric==2.0.2) (1.21.6)\n",
            "Requirement already satisfied: tqdm in /usr/local/lib/python3.7/dist-packages (from torch-geometric==2.0.2) (4.64.0)\n",
            "Requirement already satisfied: scipy in /usr/local/lib/python3.7/dist-packages (from torch-geometric==2.0.2) (1.4.1)\n",
            "Requirement already satisfied: networkx in /usr/local/lib/python3.7/dist-packages (from torch-geometric==2.0.2) (2.6.3)\n",
            "Requirement already satisfied: scikit-learn in /usr/local/lib/python3.7/dist-packages (from torch-geometric==2.0.2) (1.0.2)\n",
            "Requirement already satisfied: requests in /usr/local/lib/python3.7/dist-packages (from torch-geometric==2.0.2) (2.23.0)\n",
            "Requirement already satisfied: pandas in /usr/local/lib/python3.7/dist-packages (from torch-geometric==2.0.2) (1.3.5)\n",
            "Collecting rdflib\n",
            "  Downloading rdflib-6.1.1-py3-none-any.whl (482 kB)\n",
            "\u001b[K     |████████████████████████████████| 482 kB 5.2 MB/s \n",
            "\u001b[?25hRequirement already satisfied: googledrivedownloader in /usr/local/lib/python3.7/dist-packages (from torch-geometric==2.0.2) (0.4)\n",
            "Requirement already satisfied: jinja2 in /usr/local/lib/python3.7/dist-packages (from torch-geometric==2.0.2) (2.11.3)\n",
            "Requirement already satisfied: pyparsing in /usr/local/lib/python3.7/dist-packages (from torch-geometric==2.0.2) (3.0.8)\n",
            "Collecting yacs\n",
            "  Downloading yacs-0.1.8-py3-none-any.whl (14 kB)\n",
            "Requirement already satisfied: PyYAML in /usr/local/lib/python3.7/dist-packages (from torch-geometric==2.0.2) (3.13)\n",
            "Requirement already satisfied: MarkupSafe>=0.23 in /usr/local/lib/python3.7/dist-packages (from jinja2->torch-geometric==2.0.2) (2.0.1)\n",
            "Requirement already satisfied: python-dateutil>=2.7.3 in /usr/local/lib/python3.7/dist-packages (from pandas->torch-geometric==2.0.2) (2.8.2)\n",
            "Requirement already satisfied: pytz>=2017.3 in /usr/local/lib/python3.7/dist-packages (from pandas->torch-geometric==2.0.2) (2022.1)\n",
            "Requirement already satisfied: six>=1.5 in /usr/local/lib/python3.7/dist-packages (from python-dateutil>=2.7.3->pandas->torch-geometric==2.0.2) (1.15.0)\n",
            "Requirement already satisfied: importlib-metadata in /usr/local/lib/python3.7/dist-packages (from rdflib->torch-geometric==2.0.2) (4.11.3)\n",
            "Requirement already satisfied: setuptools in /usr/local/lib/python3.7/dist-packages (from rdflib->torch-geometric==2.0.2) (57.4.0)\n",
            "Collecting isodate\n",
            "  Downloading isodate-0.6.1-py2.py3-none-any.whl (41 kB)\n",
            "\u001b[K     |████████████████████████████████| 41 kB 601 kB/s \n",
            "\u001b[?25hRequirement already satisfied: typing-extensions>=3.6.4 in /usr/local/lib/python3.7/dist-packages (from importlib-metadata->rdflib->torch-geometric==2.0.2) (4.2.0)\n",
            "Requirement already satisfied: zipp>=0.5 in /usr/local/lib/python3.7/dist-packages (from importlib-metadata->rdflib->torch-geometric==2.0.2) (3.8.0)\n",
            "Requirement already satisfied: urllib3!=1.25.0,!=1.25.1,<1.26,>=1.21.1 in /usr/local/lib/python3.7/dist-packages (from requests->torch-geometric==2.0.2) (1.24.3)\n",
            "Requirement already satisfied: certifi>=2017.4.17 in /usr/local/lib/python3.7/dist-packages (from requests->torch-geometric==2.0.2) (2021.10.8)\n",
            "Requirement already satisfied: chardet<4,>=3.0.2 in /usr/local/lib/python3.7/dist-packages (from requests->torch-geometric==2.0.2) (3.0.4)\n",
            "Requirement already satisfied: idna<3,>=2.5 in /usr/local/lib/python3.7/dist-packages (from requests->torch-geometric==2.0.2) (2.10)\n",
            "Requirement already satisfied: joblib>=0.11 in /usr/local/lib/python3.7/dist-packages (from scikit-learn->torch-geometric==2.0.2) (1.1.0)\n",
            "Requirement already satisfied: threadpoolctl>=2.0.0 in /usr/local/lib/python3.7/dist-packages (from scikit-learn->torch-geometric==2.0.2) (3.1.0)\n",
            "Building wheels for collected packages: torch-geometric\n",
            "  Building wheel for torch-geometric (setup.py) ... \u001b[?25l\u001b[?25hdone\n",
            "  Created wheel for torch-geometric: filename=torch_geometric-2.0.2-py3-none-any.whl size=568375 sha256=c8a46919ec5f49518b13d2e93c777051b2d307d3293c012df07eb1a08f1f388f\n",
            "  Stored in directory: /root/.cache/pip/wheels/63/22/d1/82a1e5606f6d44dc1a24b776759e55f4074c4df6f390039631\n",
            "Successfully built torch-geometric\n",
            "Installing collected packages: isodate, yacs, rdflib, torch-geometric\n",
            "Successfully installed isodate-0.6.1 rdflib-6.1.1 torch-geometric-2.0.2 yacs-0.1.8\n"
          ]
        }
      ]
    },
    {
      "cell_type": "markdown",
      "source": [
        "Import necessary packages:"
      ],
      "metadata": {
        "id": "EbdPGbmdgIwk"
      }
    },
    {
      "cell_type": "code",
      "source": [
        "# Downgrade the torch version to match with the torch_geometric\n",
        "!pip install torch==1.10.0+cu111 torchvision==0.11.0+cu111 torchaudio==0.10.0 -f https://download.pytorch.org/whl/torch_stable.html -q"
      ],
      "metadata": {
        "colab": {
          "base_uri": "https://localhost:8080/"
        },
        "id": "RaMRu_CHdtwj",
        "outputId": "34fd4631-946f-4fe9-f8d7-381bea9b395a"
      },
      "execution_count": 2,
      "outputs": [
        {
          "output_type": "stream",
          "name": "stdout",
          "text": [
            "\u001b[K     |████████████▌                   | 834.1 MB 1.5 MB/s eta 0:14:48tcmalloc: large alloc 1147494400 bytes == 0x395ba000 @  0x7f4c9edf5615 0x592b76 0x4df71e 0x59afff 0x515655 0x549576 0x593fce 0x548ae9 0x51566f 0x549576 0x593fce 0x548ae9 0x5127f1 0x598e3b 0x511f68 0x598e3b 0x511f68 0x598e3b 0x511f68 0x4bc98a 0x532e76 0x594b72 0x515600 0x549576 0x593fce 0x548ae9 0x5127f1 0x549576 0x593fce 0x5118f8 0x593dd7\n",
            "\u001b[K     |███████████████▉                | 1055.7 MB 1.5 MB/s eta 0:11:39tcmalloc: large alloc 1434370048 bytes == 0x7dc10000 @  0x7f4c9edf5615 0x592b76 0x4df71e 0x59afff 0x515655 0x549576 0x593fce 0x548ae9 0x51566f 0x549576 0x593fce 0x548ae9 0x5127f1 0x598e3b 0x511f68 0x598e3b 0x511f68 0x598e3b 0x511f68 0x4bc98a 0x532e76 0x594b72 0x515600 0x549576 0x593fce 0x548ae9 0x5127f1 0x549576 0x593fce 0x5118f8 0x593dd7\n",
            "\u001b[K     |████████████████████            | 1336.2 MB 1.4 MB/s eta 0:09:15tcmalloc: large alloc 1792966656 bytes == 0x2a42000 @  0x7f4c9edf5615 0x592b76 0x4df71e 0x59afff 0x515655 0x549576 0x593fce 0x548ae9 0x51566f 0x549576 0x593fce 0x548ae9 0x5127f1 0x598e3b 0x511f68 0x598e3b 0x511f68 0x598e3b 0x511f68 0x4bc98a 0x532e76 0x594b72 0x515600 0x549576 0x593fce 0x548ae9 0x5127f1 0x549576 0x593fce 0x5118f8 0x593dd7\n",
            "\u001b[K     |█████████████████████████▎      | 1691.1 MB 1.5 MB/s eta 0:05:02tcmalloc: large alloc 2241208320 bytes == 0x6d82a000 @  0x7f4c9edf5615 0x592b76 0x4df71e 0x59afff 0x515655 0x549576 0x593fce 0x548ae9 0x51566f 0x549576 0x593fce 0x548ae9 0x5127f1 0x598e3b 0x511f68 0x598e3b 0x511f68 0x598e3b 0x511f68 0x4bc98a 0x532e76 0x594b72 0x515600 0x549576 0x593fce 0x548ae9 0x5127f1 0x549576 0x593fce 0x5118f8 0x593dd7\n",
            "\u001b[K     |████████████████████████████████| 2137.6 MB 1.3 MB/s eta 0:00:01tcmalloc: large alloc 2137645056 bytes == 0xf318c000 @  0x7f4c9edf41e7 0x4a3940 0x4a39cc 0x592b76 0x4df71e 0x59afff 0x515655 0x549576 0x593fce 0x511e2c 0x549576 0x593fce 0x511e2c 0x549576 0x593fce 0x511e2c 0x549576 0x593fce 0x511e2c 0x549576 0x593fce 0x511e2c 0x593dd7 0x511e2c 0x549576 0x593fce 0x548ae9 0x5127f1 0x549576 0x593fce 0x548ae9\n",
            "tcmalloc: large alloc 2672058368 bytes == 0x1e6cae000 @  0x7f4c9edf5615 0x592b76 0x4df71e 0x59afff 0x515655 0x549576 0x593fce 0x511e2c 0x549576 0x593fce 0x511e2c 0x549576 0x593fce 0x511e2c 0x549576 0x593fce 0x511e2c 0x549576 0x593fce 0x511e2c 0x593dd7 0x511e2c 0x549576 0x593fce 0x548ae9 0x5127f1 0x549576 0x593fce 0x548ae9 0x5127f1 0x549576\n",
            "\u001b[K     |████████████████████████████████| 2137.6 MB 404 bytes/s \n",
            "\u001b[K     |████████████████████████████████| 21.9 MB 1.5 MB/s \n",
            "\u001b[K     |████████████████████████████████| 2.7 MB 38.2 MB/s \n",
            "\u001b[31mERROR: pip's dependency resolver does not currently take into account all the packages that are installed. This behaviour is the source of the following dependency conflicts.\n",
            "torchtext 0.12.0 requires torch==1.11.0, but you have torch 1.10.0+cu111 which is incompatible.\u001b[0m\n",
            "\u001b[?25h"
          ]
        }
      ]
    },
    {
      "cell_type": "code",
      "metadata": {
        "id": "FQ7EnP6BqPmE"
      },
      "source": [
        "import json\n",
        "import numpy as np\n",
        "import os\n",
        "import torch\n",
        "from torch_geometric import seed_everything\n",
        "from torch_geometric.data import Data, Dataset\n",
        "from torch_geometric.loader import DataLoader\n",
        "from torch_geometric.nn import MessagePassing\n",
        "from torch_geometric.transforms import RandomLinkSplit\n",
        "from torch_geometric.utils import degree\n",
        "\n",
        "import matplotlib.pyplot as plt\n",
        "from matplotlib import animation, rc\n",
        "from sklearn.decomposition import PCA\n",
        "from IPython.display import HTML\n",
        "\n",
        "seed_everything(5) # set random seed"
      ],
      "execution_count": 3,
      "outputs": []
    },
    {
      "cell_type": "code",
      "source": [
        "import matplotlib\n",
        "matplotlib.__version__\n",
        "assert matplotlib.__version__ == '3.5.0' # if this fails, makes sure you ran the matplotlib installation above AND restarted your runtime"
      ],
      "metadata": {
        "id": "rF9EWvBZNLNc"
      },
      "execution_count": 4,
      "outputs": []
    },
    {
      "cell_type": "markdown",
      "source": [
        "## Load data + data pre-processing"
      ],
      "metadata": {
        "id": "nMUj2ceMI_Mp"
      }
    },
    {
      "cell_type": "markdown",
      "source": [
        "The full Spotify Million Playlist Dataset is available at https://www.aicrowd.com/challenges/spotify-million-playlist-dataset-challenge.\n",
        "\n",
        "We have already gone ahead and pre-processed the data, rather than importing the entire dataset here, for two reasons:\n",
        "1. You need to make an account to download the Spotify dataset, so we don't think we should post it online\n",
        "2. The full dataset is around 33GB, which is very large!\n",
        "\n",
        "Of course, feel free to download it yourself and play around with it.\n",
        "\n",
        "Our pre-processing code is available in our GitHub repo at https://github.com/ba305/LightGCN-Spotify. There is also an explanation of the key parts of the pre-processing code in our Medium article.\n",
        "\n",
        "For now, we will import the already-preprocessed data, which is hosted at our GitHub repo."
      ],
      "metadata": {
        "id": "seWqXFF4JB70"
      }
    },
    {
      "cell_type": "code",
      "source": [
        "! wget https://raw.githubusercontent.com/ba305/LightGCN-Spotify/main/data/dataset_large/data_object.pt\n",
        "! wget https://raw.githubusercontent.com/ba305/LightGCN-Spotify/main/data/dataset_large/dataset_stats.json\n",
        "! wget https://raw.githubusercontent.com/ba305/LightGCN-Spotify/main/data/dataset_large/song_info.json\n",
        "! wget https://raw.githubusercontent.com/ba305/LightGCN-Spotify/main/data/dataset_large/playlist_info.json"
      ],
      "metadata": {
        "colab": {
          "base_uri": "https://localhost:8080/"
        },
        "id": "94A_2r-wJBJb",
        "outputId": "b3c8e71c-796f-4eb6-da48-cf1200fe017d"
      },
      "execution_count": 6,
      "outputs": [
        {
          "output_type": "stream",
          "name": "stdout",
          "text": [
            "--2022-05-10 12:40:49--  https://raw.githubusercontent.com/ba305/LightGCN-Spotify/main/data/dataset_large/data_object.pt\n",
            "Resolving raw.githubusercontent.com (raw.githubusercontent.com)... 185.199.108.133, 185.199.109.133, 185.199.110.133, ...\n",
            "Connecting to raw.githubusercontent.com (raw.githubusercontent.com)|185.199.108.133|:443... connected.\n",
            "HTTP request sent, awaiting response... 200 OK\n",
            "Length: 21104811 (20M) [application/octet-stream]\n",
            "Saving to: ‘data_object.pt’\n",
            "\n",
            "data_object.pt      100%[===================>]  20.13M  --.-KB/s    in 0.1s    \n",
            "\n",
            "2022-05-10 12:40:49 (144 MB/s) - ‘data_object.pt’ saved [21104811/21104811]\n",
            "\n",
            "--2022-05-10 12:40:49--  https://raw.githubusercontent.com/ba305/LightGCN-Spotify/main/data/dataset_large/dataset_stats.json\n",
            "Resolving raw.githubusercontent.com (raw.githubusercontent.com)... 185.199.108.133, 185.199.109.133, 185.199.110.133, ...\n",
            "Connecting to raw.githubusercontent.com (raw.githubusercontent.com)|185.199.108.133|:443... connected.\n",
            "HTTP request sent, awaiting response... 200 OK\n",
            "Length: 157 [text/plain]\n",
            "Saving to: ‘dataset_stats.json’\n",
            "\n",
            "dataset_stats.json  100%[===================>]     157  --.-KB/s    in 0s      \n",
            "\n",
            "2022-05-10 12:40:50 (7.07 MB/s) - ‘dataset_stats.json’ saved [157/157]\n",
            "\n",
            "--2022-05-10 12:40:50--  https://raw.githubusercontent.com/ba305/LightGCN-Spotify/main/data/dataset_large/song_info.json\n",
            "Resolving raw.githubusercontent.com (raw.githubusercontent.com)... 185.199.108.133, 185.199.109.133, 185.199.110.133, ...\n",
            "Connecting to raw.githubusercontent.com (raw.githubusercontent.com)|185.199.108.133|:443... connected.\n",
            "HTTP request sent, awaiting response... 200 OK\n",
            "Length: 1043429 (1019K) [text/plain]\n",
            "Saving to: ‘song_info.json’\n",
            "\n",
            "song_info.json      100%[===================>]   1019K  --.-KB/s    in 0.05s   \n",
            "\n",
            "2022-05-10 12:40:50 (22.0 MB/s) - ‘song_info.json’ saved [1043429/1043429]\n",
            "\n",
            "--2022-05-10 12:40:50--  https://raw.githubusercontent.com/ba305/LightGCN-Spotify/main/data/dataset_large/playlist_info.json\n",
            "Resolving raw.githubusercontent.com (raw.githubusercontent.com)... 185.199.108.133, 185.199.109.133, 185.199.110.133, ...\n",
            "Connecting to raw.githubusercontent.com (raw.githubusercontent.com)|185.199.108.133|:443... connected.\n",
            "HTTP request sent, awaiting response... 200 OK\n",
            "Length: 278003 (271K) [text/plain]\n",
            "Saving to: ‘playlist_info.json’\n",
            "\n",
            "playlist_info.json  100%[===================>] 271.49K  --.-KB/s    in 0.03s   \n",
            "\n",
            "2022-05-10 12:40:50 (8.72 MB/s) - ‘playlist_info.json’ saved [278003/278003]\n",
            "\n"
          ]
        }
      ]
    },
    {
      "cell_type": "markdown",
      "source": [
        "Now that we downloaded our preprocessed dataset, we can load it in."
      ],
      "metadata": {
        "id": "KF8I3QTz2gJw"
      }
    },
    {
      "cell_type": "code",
      "source": [
        "# Load data\n",
        "base_dir = \".\"\n",
        "data = torch.load(os.path.join(base_dir, \"data_object.pt\"))\n",
        "with open(os.path.join(base_dir, \"dataset_stats.json\"), 'r') as f:\n",
        "    stats = json.load(f)\n",
        "num_playlists, num_nodes = stats[\"num_playlists\"], stats[\"num_nodes\"]"
      ],
      "metadata": {
        "id": "EpE7dFJge1Wq"
      },
      "execution_count": 7,
      "outputs": []
    },
    {
      "cell_type": "markdown",
      "source": [
        "### Train/validation/test split"
      ],
      "metadata": {
        "id": "3gxBd579e8Ox"
      }
    },
    {
      "cell_type": "markdown",
      "source": [
        "The train/validation/test split is very important! We will use a 70%-15%-15% split. \n",
        "\n",
        "For graph ML problems, this splitting is quite complex (see our article for more details). Luckily, the RandomLinkSplit function from PyG can help us if we use it correctly.\n",
        "\n",
        "We need to specify is_undirected=True so that it knows to avoid data leakage from reverse edges (e.g., [4,5] and [5,4] should stay in the same split since they are basically the same edge). We also set add_negative_train_samples=False and neg_sampling_ratio=0 since we have our own negative sampling implementation."
      ],
      "metadata": {
        "id": "9au4M0HB2kM6"
      }
    },
    {
      "cell_type": "code",
      "source": [
        "# Train/val/test split\n",
        "transform = RandomLinkSplit(is_undirected=True, add_negative_train_samples=False, neg_sampling_ratio=0,\n",
        "                            num_val=0.15, num_test=0.15)\n",
        "train_split, val_split, test_split = transform(data)\n",
        "# Confirm that every node appears in every set above\n",
        "assert train_split.num_nodes == val_split.num_nodes and train_split.num_nodes == test_split.num_nodes"
      ],
      "metadata": {
        "id": "j0YoXGWHe7uO"
      },
      "execution_count": 8,
      "outputs": []
    },
    {
      "cell_type": "markdown",
      "source": [
        "We can now take a quick look at the splits. Note that message passing edges are stored in the .edge_index attribute, and supervision/evaluation edges are stored in the .edge_label_index attribute. Keep in mind that the message passing edges are directed, while the evaluation edges are undirected."
      ],
      "metadata": {
        "id": "vYOFvmPz2-Vg"
      }
    },
    {
      "cell_type": "code",
      "source": [
        "print(train_split)\n",
        "print(val_split)\n",
        "print(test_split)"
      ],
      "metadata": {
        "id": "2MKNz9_3fDyq",
        "colab": {
          "base_uri": "https://localhost:8080/"
        },
        "outputId": "b2136469-f32f-440e-c1e3-4539d2277a62"
      },
      "execution_count": null,
      "outputs": [
        {
          "output_type": "stream",
          "name": "stdout",
          "text": [
            "Data(edge_index=[2, 923296], num_nodes=14992, edge_label=[461648], edge_label_index=[2, 461648])\n",
            "Data(edge_index=[2, 923296], num_nodes=14992, edge_label=[98924], edge_label_index=[2, 98924])\n",
            "Data(edge_index=[2, 1121144], num_nodes=14992, edge_label=[98924], edge_label_index=[2, 98924])\n"
          ]
        }
      ]
    },
    {
      "cell_type": "markdown",
      "source": [
        "We will want to load our evaluation edges in batches using a DataLoader. Therefore, we first must create a PyG Dataset object which specifies how to load in each batch. See the documentation for more information: https://pytorch-geometric.readthedocs.io/en/latest/notes/create_dataset.html"
      ],
      "metadata": {
        "id": "Fq6-jodC3LH2"
      }
    },
    {
      "cell_type": "code",
      "source": [
        "class PlainData(Data):\n",
        "    \"\"\"\n",
        "    Custom Data class for use in PyG. Basically the same as the original Data class from PyG, but\n",
        "    overrides the __inc__ method because otherwise the DataLoader was incrementing indices unnecessarily.\n",
        "    Now it functions more like the original DataLoader from PyTorch itself.\n",
        "    See here for more information: https://pytorch-geometric.readthedocs.io/en/latest/notes/batching.html\n",
        "    \"\"\"\n",
        "    def __inc__(self, key, value, *args, **kwargs):\n",
        "        return 0\n",
        "\n",
        "class SpotifyDataset(Dataset):\n",
        "    \"\"\"\n",
        "    Dataset object containing the Spotify supervision/evaluation edges. This will be used by the DataLoader to load\n",
        "    batches of edges to calculate loss or evaluation metrics on. Here, get(idx) will return ALL outgoing edges of the graph\n",
        "    corresponding to playlist \"idx.\" This is because when calculating metrics such as recall@k, we need all of the\n",
        "    playlist's positive edges in the same batch.\n",
        "    \"\"\"\n",
        "    def __init__(self, root, edge_index, transform=None, pre_transform=None):\n",
        "        self.edge_index = edge_index\n",
        "        self.unique_idxs = torch.unique(edge_index[0,:]).tolist() # playlists will all be in row 0, b/c sorted by RandLinkSplit\n",
        "        self.num_nodes = len(self.unique_idxs)\n",
        "        super().__init__(root, transform, pre_transform)\n",
        "\n",
        "    def len(self):\n",
        "        return self.num_nodes\n",
        "\n",
        "    def get(self, idx): # returns all outgoing edges associated with playlist idx\n",
        "        edge_index = self.edge_index[:, self.edge_index[0,:] == idx]\n",
        "        return PlainData(edge_index=edge_index)"
      ],
      "metadata": {
        "id": "-cNSEJdH13SV"
      },
      "execution_count": 8,
      "outputs": []
    },
    {
      "cell_type": "markdown",
      "source": [
        "For each split, we have a set of message passing edges (for GNN propagation/getting final multi-scale node embeddings), and also a set of evaluation edges (used to calculate loss/performance metrics). For message passing edges, we can just store them in a PyG Data object. For evaluation edges, we put them in a SpotifyDataset object so we can load them in in batches with a DataLoader."
      ],
      "metadata": {
        "id": "OrPYS7003qDj"
      }
    },
    {
      "cell_type": "code",
      "source": [
        "train_ev = SpotifyDataset('temp', edge_index=train_split.edge_label_index)\n",
        "train_mp = Data(edge_index=train_split.edge_index)\n",
        "\n",
        "val_ev = SpotifyDataset('temp', edge_index=val_split.edge_label_index)\n",
        "val_mp = Data(edge_index=val_split.edge_index)\n",
        "\n",
        "test_ev = SpotifyDataset('temp', edge_index=test_split.edge_label_index)    \n",
        "test_mp = Data(edge_index=test_split.edge_index)"
      ],
      "metadata": {
        "id": "S6V2A5u5fD05"
      },
      "execution_count": 9,
      "outputs": []
    },
    {
      "cell_type": "markdown",
      "source": [
        "# Creating the Model"
      ],
      "metadata": {
        "id": "bXPJd59_Ju5x"
      }
    },
    {
      "cell_type": "markdown",
      "source": [
        "Now it's time to create the full LightGCN model! Please see the documentation for more details on how to create message passing networks: https://pytorch-geometric.readthedocs.io/en/latest/notes/create_gnn.html"
      ],
      "metadata": {
        "id": "v20pZ_VA3ziA"
      }
    },
    {
      "cell_type": "markdown",
      "source": [
        "We need to create two classes. First is a class that defines how a single LightGCN message passing layer should work. For this, we need to specify the aggregation function (in the constructor), and also define the message() and forward() functions. Please see our article for a more in-depth description of what each function does."
      ],
      "metadata": {
        "id": "jGUib63137gM"
      }
    },
    {
      "cell_type": "code",
      "source": [
        "class LightGCN(MessagePassing):\n",
        "    \"\"\"\n",
        "    A single LightGCN layer. Extends the MessagePassing class from PyTorch Geometric\n",
        "    \"\"\"\n",
        "    def __init__(self):\n",
        "        super(LightGCN, self).__init__(aggr='add') # aggregation function is 'add\n",
        "\n",
        "    def message(self, x_j, norm):\n",
        "        \"\"\"\n",
        "        Specifies how to perform message passing during GNN propagation. For LightGCN, we simply pass along each\n",
        "        source node's embedding to the target node, normalized by the normalization term for that node.\n",
        "        args:\n",
        "          x_j: node embeddings of the neighbor nodes, which will be passed to the central node (shape: [E, emb_dim])\n",
        "          norm: the normalization terms we calculated in forward() and passed into propagate()\n",
        "        returns:\n",
        "          messages from neighboring nodes j to central node i\n",
        "        \"\"\"\n",
        "        # Here we are just multiplying the x_j's by the normalization terms (using some broadcasting)\n",
        "        return norm.view(-1, 1) * x_j\n",
        "\n",
        "    def forward(self, x, edge_index):\n",
        "        \"\"\"\n",
        "        Performs the LightGCN message passing/aggregation/update to get updated node embeddings\n",
        "\n",
        "        args:\n",
        "          x: current node embeddings (shape: [N, emb_dim])\n",
        "          edge_index: message passing edges (shape: [2, E])\n",
        "        returns:\n",
        "          updated embeddings after this layer\n",
        "        \"\"\"\n",
        "        # Computing node degrees for normalization term in LightGCN (see LightGCN paper for details on this normalization term)\n",
        "        # These will be used during message passing, to normalize each neighbor's embedding before passing it as a message\n",
        "        row, col = edge_index\n",
        "        deg = degree(col)\n",
        "        deg_inv_sqrt = deg.pow(-0.5)\n",
        "        norm = deg_inv_sqrt[row] * deg_inv_sqrt[col]\n",
        "\n",
        "        # Begin propagation. Will perform message passing and aggregation and return updated node embeddings.\n",
        "        return self.propagate(edge_index, x=x, norm=norm)"
      ],
      "metadata": {
        "id": "eLVK-3f74HHU"
      },
      "execution_count": 10,
      "outputs": []
    },
    {
      "cell_type": "markdown",
      "source": [
        "Secondly, we need another class to define the full GNN, which consists of multiple LightGCN layers. This model has learnable user/item (i.e., playlist/song) embeddings."
      ],
      "metadata": {
        "id": "1u0qwh_U4TbI"
      }
    },
    {
      "cell_type": "code",
      "metadata": {
        "id": "U7w0A_cBqRo4"
      },
      "source": [
        "class GNN(torch.nn.Module):\n",
        "    \"\"\"\n",
        "    Overall graph neural network. Consists of learnable user/item (i.e., playlist/song) embeddings\n",
        "    and LightGCN layers.\n",
        "    \"\"\"\n",
        "    def __init__(self, embedding_dim, num_nodes, num_playlists, num_layers):\n",
        "        super(GNN, self).__init__()\n",
        "\n",
        "        self.embedding_dim = embedding_dim\n",
        "        self.num_nodes = num_nodes         # total number of nodes (songs + playlists) in dataset\n",
        "        self.num_playlists = num_playlists # total number of playlists in dataset\n",
        "        self.num_layers = num_layers\n",
        "\n",
        "        # Initialize embeddings for all playlists and songs. Playlists will have indices from 0...num_playlists-1,\n",
        "        # songs will have indices from num_playlists...num_nodes-1\n",
        "        self.embeddings = torch.nn.Embedding(num_embeddings=self.num_nodes, embedding_dim=self.embedding_dim)\n",
        "        torch.nn.init.normal_(self.embeddings.weight, std=0.1)\n",
        "\n",
        "        self.layers = torch.nn.ModuleList() # LightGCN layers\n",
        "        for _ in range(self.num_layers):\n",
        "            self.layers.append(LightGCN())\n",
        "\n",
        "        self.sigmoid = torch.sigmoid\n",
        "\n",
        "    def forward(self):\n",
        "        raise NotImplementedError(\"forward() has not been implemented for the GNN class. Do not use\")\n",
        "\n",
        "    def gnn_propagation(self, edge_index_mp):\n",
        "        \"\"\"\n",
        "        Performs the linear embedding propagation (using the LightGCN layers) and calculates final (multi-scale) embeddings\n",
        "        for each user/item, which are calculated as a weighted sum of that user/item's embeddings at each layer (from\n",
        "        0 to self.num_layers). Technically, the weighted sum here is the average, which is what the LightGCN authors recommend.\n",
        "\n",
        "        args:\n",
        "          edge_index_mp: a tensor of all (undirected) edges in the graph, which is used for message passing/propagation and\n",
        "              calculating the multi-scale embeddings. (In contrast to the evaluation/supervision edges, which are distinct\n",
        "              from the message passing edges and will be used for calculating loss/performance metrics).\n",
        "        returns:\n",
        "          final multi-scale embeddings for all users/items\n",
        "        \"\"\"\n",
        "        x = self.embeddings.weight        # layer-0 embeddings\n",
        "\n",
        "        x_at_each_layer = [x]             # stores embeddings from each layer. Start with layer-0 embeddings\n",
        "        for i in range(self.num_layers):  # now performing the GNN propagation\n",
        "            x = self.layers[i](x, edge_index_mp)\n",
        "            x_at_each_layer.append(x)\n",
        "        final_embs = torch.stack(x_at_each_layer, dim=0).mean(dim=0) # take average to calculate multi-scale embeddings\n",
        "        return final_embs\n",
        "\n",
        "    def predict_scores(self, edge_index, embs):\n",
        "        \"\"\"\n",
        "        Calculates predicted scores for each playlist/song pair in the list of edges. Uses dot product of their embeddings.\n",
        "\n",
        "        args:\n",
        "          edge_index: tensor of edges (between playlists and songs) whose scores we will calculate.\n",
        "          embs: node embeddings for calculating predicted scores (typically the multi-scale embeddings from gnn_propagation())\n",
        "        returns:\n",
        "          predicted scores for each playlist/song pair in edge_index\n",
        "        \"\"\"\n",
        "        scores = embs[edge_index[0,:], :] * embs[edge_index[1,:], :] # taking dot product for each playlist/song pair\n",
        "        scores = scores.sum(dim=1)\n",
        "        scores = self.sigmoid(scores)\n",
        "        return scores\n",
        "\n",
        "    def calc_loss(self, data_mp, data_pos, data_neg):\n",
        "        \"\"\"\n",
        "        The main training step. Performs GNN propagation on message passing edges, to get multi-scale embeddings.\n",
        "        Then predicts scores for each training example, and calculates Bayesian Personalized Ranking (BPR) loss.\n",
        "\n",
        "        args:\n",
        "          data_mp: tensor of edges used for message passing / calculating multi-scale embeddings\n",
        "          data_pos: set of positive edges that will be used during loss calculation\n",
        "          data_neg: set of negative edges that will be used during loss calculation\n",
        "        returns:\n",
        "          loss calculated on the positive/negative training edges\n",
        "        \"\"\"\n",
        "        # Perform GNN propagation on message passing edges to get final embeddings\n",
        "        final_embs = self.gnn_propagation(data_mp.edge_index)\n",
        "\n",
        "        # Get edge prediction scores for all positive and negative evaluation edges\n",
        "        pos_scores = self.predict_scores(data_pos.edge_index, final_embs)\n",
        "        neg_scores = self.predict_scores(data_neg.edge_index, final_embs)\n",
        "\n",
        "        # # Calculate loss (binary cross-entropy). Commenting out, but can use instead of BPR if desired.\n",
        "        # all_scores = torch.cat([pos_scores, neg_scores], dim=0)\n",
        "        # all_labels = torch.cat([torch.ones(pos_scores.shape[0]), torch.zeros(neg_scores.shape[0])], dim=0)\n",
        "        # loss_fn = torch.nn.BCELoss()\n",
        "        # loss = loss_fn(all_scores, all_labels)\n",
        "\n",
        "        # Calculate loss (using variation of Bayesian Personalized Ranking loss, similar to the one used in official\n",
        "        # LightGCN implementation at https://github.com/gusye1234/LightGCN-PyTorch/blob/master/code/model.py#L202)\n",
        "        loss = -torch.log(self.sigmoid(pos_scores - neg_scores)).mean()\n",
        "        return loss\n",
        "\n",
        "    def evaluation(self, data_mp, data_pos, k):\n",
        "        \"\"\"\n",
        "        Performs evaluation on validation or test set. Calculates recall@k.\n",
        "\n",
        "        args:\n",
        "          data_mp: message passing edges to use for propagation/calculating multi-scale embeddings\n",
        "          data_pos: positive edges to use for scoring metrics. Should be no overlap between these edges and data_mp's edges\n",
        "          k: value of k to use for recall@k\n",
        "        returns:\n",
        "          dictionary mapping playlist ID -> recall@k on that playlist\n",
        "        \"\"\"\n",
        "        # Run propagation on the message-passing edges to get multi-scale embeddings\n",
        "        final_embs = self.gnn_propagation(data_mp.edge_index)\n",
        "\n",
        "        # Get embeddings of all unique playlists in the batch of evaluation edges\n",
        "        unique_playlists = torch.unique_consecutive(data_pos.edge_index[0,:])\n",
        "        playlist_emb = final_embs[unique_playlists, :] # has shape [number of playlists in batch, 64]\n",
        "        \n",
        "        # Get embeddings of ALL songs in dataset\n",
        "        song_emb = final_embs[self.num_playlists:, :] # has shape [total number of songs in dataset, 64]\n",
        "\n",
        "        # All ratings for each playlist in batch to each song in entire dataset (using dot product as the scoring function)\n",
        "        ratings = self.sigmoid(torch.matmul(playlist_emb, song_emb.t())) # shape: [# playlists in batch, # songs in dataset]\n",
        "                                                                         # where entry i,j is rating of song j for playlist i\n",
        "        # Calculate recall@k\n",
        "        result = recall_at_k(ratings.cpu(), k, self.num_playlists, data_pos.edge_index.cpu(), \n",
        "                             unique_playlists.cpu(), data_mp.edge_index.cpu())\n",
        "        return result"
      ],
      "execution_count": 11,
      "outputs": []
    },
    {
      "cell_type": "markdown",
      "source": [
        "# A few important helper functions"
      ],
      "metadata": {
        "id": "aRM_SMGB4iZ_"
      }
    },
    {
      "cell_type": "markdown",
      "source": [
        "During evaluation, our metric of choice is recall@k. Let's write a helper function that will calculate recall@k for us on a single batch of data."
      ],
      "metadata": {
        "id": "UIkI6Wga4k6h"
      }
    },
    {
      "cell_type": "code",
      "metadata": {
        "id": "0PQY4beKqSIw"
      },
      "source": [
        "def recall_at_k(all_ratings, k, num_playlists, ground_truth, unique_playlists, data_mp):\n",
        "   \"\"\"\n",
        "   Calculates recall@k during validation/testing for a single batch.\n",
        "\n",
        "   args:\n",
        "     all_ratings: array of shape [number of playlists in batch, number of songs in whole dataset]\n",
        "     k: the value of k to use for recall@k\n",
        "     num_playlists: the number of playlists in the dataset\n",
        "     ground_truth: array of shape [2, X] where each column is a pair of (playlist_idx, positive song idx). This is the\n",
        "        batch that we are calculating metrics on.\n",
        "     unique_playlists: 1D vector of length [number of playlists in batch], which specifies which playlist corresponds\n",
        "        to each row of all_ratings\n",
        "     data_mp: an array of shape [2, Y]. This is all of the known message-passing edges. We will use this to make sure we\n",
        "        don't recommend songs that are already known to be in the playlist.\n",
        "   returns:\n",
        "     Dictionary of playlist ID -> recall@k on that playlist\n",
        "   \"\"\"\n",
        "   # We don't want to recommend songs that are already known to be in the playlist! \n",
        "   # Set those to a low rating so they won't be recommended\n",
        "   known_edges = data_mp[:, data_mp[0,:] < num_playlists] # removing duplicate edges (since data_mp is undirected). also makes it so\n",
        "                                                          # that for each column, playlist idx is in row 0 and song idx is in row 1\n",
        "   playlist_to_idx_in_batch = {playlist: i for i, playlist in enumerate(unique_playlists.tolist())}\n",
        "   exclude_playlists, exclude_songs = [], [] # already-known playlist/song links. Don't want to recommend these again\n",
        "   for i in range(known_edges.shape[1]): # looping over all known edges\n",
        "      pl, song = known_edges[:,i].tolist()\n",
        "      if pl in playlist_to_idx_in_batch: # don't need the edges in data_mp that are from playlists that are not in this batch\n",
        "         exclude_playlists.append(playlist_to_idx_in_batch[pl])\n",
        "         exclude_songs.append(song - num_playlists) # subtract num_playlists to get indexing into all_ratings correct\n",
        "   all_ratings[exclude_playlists, exclude_songs] = -10000 # setting to a very low score so they won't be recommended\n",
        "\n",
        "   # Get top k recommendations for each playlist\n",
        "   _, top_k = torch.topk(all_ratings, k=k, dim=1)\n",
        "   top_k += num_playlists # topk returned indices of songs in ratings, which doesn't include playlists.\n",
        "                          # Need to shift up by num_playlists to get the actual song indices\n",
        "    \n",
        "   # Calculate recall@k\n",
        "   ret = {}\n",
        "   for i, playlist in enumerate(unique_playlists):\n",
        "      pos_songs = ground_truth[1, ground_truth[0, :] == playlist]\n",
        "\n",
        "      k_recs = top_k[i, :] # top k recommendations for playlist\n",
        "      recall = len(np.intersect1d(pos_songs, k_recs)) / len(pos_songs)\n",
        "      ret[playlist] = recall\n",
        "   return ret"
      ],
      "execution_count": 12,
      "outputs": []
    },
    {
      "cell_type": "markdown",
      "source": [
        "Also, during training, to calculate the Bayesian Personalized Ranking (BPR) loss, we will need to sample negative edges. Here is a function that does that. \n",
        "\n",
        "Note that to sample negatives, we randomly select songs for each playlist without checking if they are true negatives, since that is computationally expensive. This is fine in our case, because we will never be sampling more than ~100 songs for a playlist (out of thousands of songs), so although we will accidentally sample some positive songs occasionally, it will be an acceptably small number. However, if that is not the case for your dataset, please consider modifying this function to sample true negatives only. "
      ],
      "metadata": {
        "id": "GNSxfBFw4wP9"
      }
    },
    {
      "cell_type": "code",
      "metadata": {
        "id": "NlZa_WZuqSK_"
      },
      "source": [
        "def sample_negative_edges(batch, num_playlists, num_nodes):\n",
        "    # Randomly samples songs for each playlist. Here we sample 1 negative edge \n",
        "    # for each positive edge in the graph, so we will\n",
        "    # end up having a balanced 1:1 ratio of positive to negative edges.\n",
        "    negs = []\n",
        "    for i in batch.edge_index[0,:]:  # looping over playlists\n",
        "        assert i < num_playlists     # just ensuring that i is a playlist\n",
        "        rand = torch.randint(num_playlists, num_nodes, (1,))  # randomly sample a song\n",
        "        negs.append(rand.item())\n",
        "    edge_index_negs = torch.row_stack([batch.edge_index[0,:], torch.LongTensor(negs)])\n",
        "    return Data(edge_index=edge_index_negs)"
      ],
      "execution_count": 13,
      "outputs": []
    },
    {
      "cell_type": "markdown",
      "source": [
        "# Write the main training and test loops"
      ],
      "metadata": {
        "id": "U1J8uPsGJ3X3"
      }
    },
    {
      "cell_type": "markdown",
      "source": [
        "We are almost ready to train! Let's define the main training function. This performs GNN propagation on the message passing edges to get the final multi-scale embeddings, and then calculates the loss and performs back-propagation to update our learned embeddings."
      ],
      "metadata": {
        "id": "FR9CXHNz5InE"
      }
    },
    {
      "cell_type": "code",
      "metadata": {
        "id": "CHP1iV95qSNe"
      },
      "source": [
        "def train(model, data_mp, loader, opt, num_playlists, num_nodes, device):\n",
        "    \"\"\"\n",
        "    Main training loop\n",
        "\n",
        "    args:\n",
        "       model: the GNN model\n",
        "       data_mp: message passing edges to use for performing propagation/calculating multi-scale embeddings\n",
        "       loader: DataLoader that loads in batches of supervision/evaluation edges\n",
        "       opt: the optimizer\n",
        "       num_playlists: the number of playlists in the entire dataset\n",
        "       num_nodes: the number of nodes (playlists + songs) in the entire dataset\n",
        "       device: whether to run on CPU or GPU\n",
        "    returns:\n",
        "       the training loss for this epoch\n",
        "    \"\"\"\n",
        "    total_loss = 0\n",
        "    total_examples = 0\n",
        "    model.train()\n",
        "    for batch in loader:\n",
        "        del batch.batch; del batch.ptr # delete unwanted attributes\n",
        "        \n",
        "        opt.zero_grad()\n",
        "        negs = sample_negative_edges(batch, num_playlists, num_nodes)  # sample negative edges\n",
        "        data_mp, batch, negs = data_mp.to(device), batch.to(device), negs.to(device)\n",
        "        loss = model.calc_loss(data_mp, batch, negs)\n",
        "        loss.backward()\n",
        "        opt.step()\n",
        "\n",
        "        num_examples = batch.edge_index.shape[1]\n",
        "        total_loss += loss.item() * num_examples\n",
        "        total_examples += num_examples\n",
        "    avg_loss = total_loss / total_examples\n",
        "    return avg_loss"
      ],
      "execution_count": 14,
      "outputs": []
    },
    {
      "cell_type": "markdown",
      "source": [
        "Similarly, we can define the testing/evaluation loop. This is similar to training, except we calculate recall@k instead of BPR loss, and we do not perform back-propagation."
      ],
      "metadata": {
        "id": "FX9jDBLm5UlO"
      }
    },
    {
      "cell_type": "code",
      "metadata": {
        "id": "_wYSKg-nqlcu"
      },
      "source": [
        "def test(model, data_mp, loader, k, device, save_dir, epoch):\n",
        "    \"\"\"\n",
        "    Evaluation loop for validation/testing.\n",
        "\n",
        "    args:\n",
        "       model: the GNN model\n",
        "       data_mp: message passing edges to use for propagation/calculating multi-scale embeddings\n",
        "       loader: DataLoader that loads in batches of evaluation (i.e., validation or test) edges\n",
        "       k: value of k to use for recall@k\n",
        "       device: whether to use CPU or GPU\n",
        "       save_dir: directory to save multi-scale embeddings for later analysis. If None, doesn't save any embeddings.\n",
        "       epoch: the number of the current epoch\n",
        "    returns:\n",
        "       recall@k for this epoch\n",
        "    \"\"\"\n",
        "    model.eval()\n",
        "    all_recalls = {}\n",
        "    with torch.no_grad():\n",
        "        # Save multi-scale embeddings if save_dir is not None\n",
        "        data_mp = data_mp.to(device)\n",
        "        if save_dir is not None:\n",
        "            embs_to_save = gnn.gnn_propagation(data_mp.edge_index)\n",
        "            torch.save(embs_to_save, os.path.join(save_dir, f\"embeddings_epoch_{epoch}.pt\"))\n",
        "\n",
        "        # Run evaluation\n",
        "        for batch in loader:\n",
        "            del batch.batch; del batch.ptr # delete unwanted attributes\n",
        "\n",
        "            batch = batch.to(device)\n",
        "            recalls = model.evaluation(data_mp, batch, k)\n",
        "            for playlist_idx in recalls:\n",
        "                assert playlist_idx not in all_recalls\n",
        "            all_recalls.update(recalls)\n",
        "    recall_at_k = np.mean(list(all_recalls.values()))\n",
        "    return recall_at_k"
      ],
      "execution_count": 15,
      "outputs": []
    },
    {
      "cell_type": "markdown",
      "source": [
        "# Begin training!"
      ],
      "metadata": {
        "id": "D13mFO4ZJ76i"
      }
    },
    {
      "cell_type": "markdown",
      "source": [
        "We are now ready to train! First, let's set a few important hyper-parameters. For this Colab, we will train for 30 epochs so that it finishes in a relatively short amount of time. However, in reality, you should increase that number and just monitor the validation recall@k to ensure that it is not overfitting!\n",
        "\n",
        "Additionally, make sure that your batch_size is large enough so that the training process is more computationally efficient.\n",
        "\n",
        "We also need to set the value of k for recall@k. Please ensure that you select a reasonable value. Here, we select 300 since there are approximately 5,700 songs, so if a song is suggested in the top 300 recommendations, that means it is in the top 5% of recommendations, which seems like a good cutoff point. Feel free to play around with this value, or even calculate it at multiple k values and take the average."
      ],
      "metadata": {
        "id": "IJVGLO1X5cvZ"
      }
    },
    {
      "cell_type": "code",
      "source": [
        "num_songs = num_nodes - num_playlists\n",
        "print(f\"There are {num_songs} unique songs in the dataset\")\n",
        "print (300 / num_songs)"
      ],
      "metadata": {
        "id": "juX417Uc6L1I",
        "colab": {
          "base_uri": "https://localhost:8080/"
        },
        "outputId": "366ba204-71d5-4c5c-a0d9-b7ddce6bf5d5"
      },
      "execution_count": 16,
      "outputs": [
        {
          "output_type": "stream",
          "name": "stdout",
          "text": [
            "There are 5696 unique songs in the dataset\n",
            "0.05266853932584269\n"
          ]
        }
      ]
    },
    {
      "cell_type": "code",
      "metadata": {
        "id": "Zpcck1gPqljH"
      },
      "source": [
        "# Training hyperparameters\n",
        "epochs = 30        # number of training epochs (we are keeping it relatively low so that this Colab runs fast)\n",
        "k = 300            # value of k for recall@k. It is important to set this to a reasonable value!\n",
        "num_layers = 3     # number of LightGCN layers (i.e., number of hops to consider during propagation)\n",
        "batch_size = 2048  # batch size. refers to the # of playlists in the batch (each will come with all of its edges)\n",
        "embedding_dim = 64 # dimension to use for the playlist/song embeddings\n",
        "save_emb_dir = 'embeddings'  # path to save multi-scale embeddings during test(). If None, will not save any embeddings\n",
        "\n",
        "# Use GPU if available\n",
        "device = torch.device('cuda' if torch.cuda.is_available() else 'cpu')"
      ],
      "execution_count": 17,
      "outputs": []
    },
    {
      "cell_type": "code",
      "source": [
        "# Make directory to save embeddings\n",
        "if save_emb_dir is not None:\n",
        "  os.mkdir(save_emb_dir)"
      ],
      "metadata": {
        "id": "BtPVcfDkN4zR"
      },
      "execution_count": 18,
      "outputs": []
    },
    {
      "cell_type": "markdown",
      "source": [
        "Here we create the DataLoaders for the supervision/evaluation edges (one for each of the train/val/test sets)"
      ],
      "metadata": {
        "id": "ysyyEdE56ZPy"
      }
    },
    {
      "cell_type": "code",
      "metadata": {
        "id": "BAFoPa1mq7Wv"
      },
      "source": [
        "train_loader = DataLoader(train_ev, batch_size=batch_size, shuffle=True)\n",
        "val_loader = DataLoader(val_ev, batch_size=batch_size, shuffle=False)\n",
        "test_loader = DataLoader(test_ev, batch_size=batch_size, shuffle=False)"
      ],
      "execution_count": 19,
      "outputs": []
    },
    {
      "cell_type": "markdown",
      "source": [
        "Now we initialize our GNN model and optimizer:"
      ],
      "metadata": {
        "id": "QJNFn67p6hDG"
      }
    },
    {
      "cell_type": "code",
      "source": [
        "# Initialize GNN model\n",
        "gnn = GNN(embedding_dim=embedding_dim, num_nodes=data.num_nodes, num_playlists=num_playlists, num_layers=num_layers).to(device)\n",
        "\n",
        "opt = torch.optim.Adam(gnn.parameters(), lr=1e-3) # using Adam optimizer"
      ],
      "metadata": {
        "id": "wVLJ7DZs1ca6"
      },
      "execution_count": 20,
      "outputs": []
    },
    {
      "cell_type": "markdown",
      "source": [
        "Time to train!\n",
        "\n",
        "Note: this cell will take approximately 15 minutes to run."
      ],
      "metadata": {
        "id": "pet-nDSW6jfN"
      }
    },
    {
      "cell_type": "code",
      "metadata": {
        "id": "_Z0cVWFTq7ZX",
        "colab": {
          "base_uri": "https://localhost:8080/"
        },
        "outputId": "baa6082f-00aa-4283-d66c-38e8bfda9269"
      },
      "source": [
        "all_train_losses = [] # list of (epoch, training loss)\n",
        "all_val_recalls = []  # list of (epoch, validation recall@k)\n",
        "\n",
        "# Main training loop\n",
        "for epoch in range(epochs):\n",
        "    train_loss = train(gnn, train_mp, train_loader, opt, num_playlists, num_nodes, device)\n",
        "    all_train_losses.append((epoch, train_loss))\n",
        "    \n",
        "    if epoch in range(11) or epoch % 5 == 0: # perform validation for the first ~10 epochs, then every 5 epochs after that\n",
        "        val_recall = test(gnn, val_mp, val_loader, k, device, save_emb_dir, epoch)\n",
        "        all_val_recalls.append((epoch, val_recall))\n",
        "        print(f\"Epoch {epoch}: train loss={train_loss}, val_recall={val_recall}\")\n",
        "    else:\n",
        "        print(f\"Epoch {epoch}: train loss={train_loss}\")\n",
        "\n",
        "print()\n",
        "\n",
        "# Print best validation recall@k value\n",
        "best_val_recall = max(all_val_recalls, key = lambda x: x[1])\n",
        "print(f\"Best validation recall@k: {best_val_recall[1]} at epoch {best_val_recall[0]}\")\n",
        "\n",
        "# Print final recall@k on test set\n",
        "test_recall = test(gnn, test_mp, test_loader, k, device, None, None)\n",
        "print(f\"Test set recall@k: {test_recall}\")"
      ],
      "execution_count": 21,
      "outputs": [
        {
          "output_type": "stream",
          "name": "stderr",
          "text": [
            "/usr/local/lib/python3.7/dist-packages/torch_geometric/data/storage.py:264: UserWarning: Unable to accurately infer 'num_nodes' from the attribute set '{'edge_index'}'. Please explicitly set 'num_nodes' as an attribute of 'data' to suppress this warning\n",
            "  \" to suppress this warning\")\n"
          ]
        },
        {
          "output_type": "stream",
          "name": "stdout",
          "text": [
            "Epoch 0: train loss=0.6929642933765601, val_recall=0.06648413716606932\n",
            "Epoch 1: train loss=0.6928791577052674, val_recall=0.08865671004191876\n",
            "Epoch 2: train loss=0.6927354994547881, val_recall=0.13190728791702275\n",
            "Epoch 3: train loss=0.692490885200178, val_recall=0.19218143067817617\n",
            "Epoch 4: train loss=0.6921099358278402, val_recall=0.25416708327755383\n",
            "Epoch 5: train loss=0.6915452307687245, val_recall=0.3086568590743434\n",
            "Epoch 6: train loss=0.6907561893817916, val_recall=0.3484754104024423\n",
            "Epoch 7: train loss=0.6897018222946596, val_recall=0.37765344365953657\n",
            "Epoch 8: train loss=0.6883381155178747, val_recall=0.39536103595245464\n",
            "Epoch 9: train loss=0.6866307306947064, val_recall=0.4050363947507457\n",
            "Epoch 10: train loss=0.6845833129190024, val_recall=0.4105384559863052\n",
            "Epoch 11: train loss=0.6821252277843786\n",
            "Epoch 12: train loss=0.679297481291519\n",
            "Epoch 13: train loss=0.6760832832161908\n",
            "Epoch 14: train loss=0.672495105748456\n",
            "Epoch 15: train loss=0.6685025286451961, val_recall=0.4141791106348702\n",
            "Epoch 16: train loss=0.6642657420186262\n",
            "Epoch 17: train loss=0.6598207537757883\n",
            "Epoch 18: train loss=0.654965238592672\n",
            "Epoch 19: train loss=0.6500349663566224\n",
            "Epoch 20: train loss=0.6450184308187676, val_recall=0.4139142950511053\n",
            "Epoch 21: train loss=0.6399533302037312\n",
            "Epoch 22: train loss=0.6348364130858097\n",
            "Epoch 23: train loss=0.6298474271791781\n",
            "Epoch 24: train loss=0.6249562034264826\n",
            "Epoch 25: train loss=0.6201443292478932, val_recall=0.41573257483289455\n",
            "Epoch 26: train loss=0.6156106186032696\n",
            "Epoch 27: train loss=0.6113604429728509\n",
            "Epoch 28: train loss=0.6071405867772816\n",
            "Epoch 29: train loss=0.603204778163739\n",
            "\n",
            "Best validation recall@k: 0.41573257483289455 at epoch 25\n",
            "Test set recall@k: 0.4199230335217113\n"
          ]
        }
      ]
    },
    {
      "cell_type": "markdown",
      "source": [
        "Let's plot the loss curve:"
      ],
      "metadata": {
        "id": "cWHKxIFG6nXa"
      }
    },
    {
      "cell_type": "code",
      "metadata": {
        "id": "ebxqrIOCq7bs",
        "colab": {
          "base_uri": "https://localhost:8080/",
          "height": 279
        },
        "outputId": "d3320fc6-448d-43c8-874d-fd2fc704711f"
      },
      "source": [
        "plt.plot([x[0] for x in all_train_losses], [x[1] for x in all_train_losses])\n",
        "plt.xlabel(\"Epoch\")\n",
        "plt.ylabel(\"Training loss\")\n",
        "\n",
        "plt.show()"
      ],
      "execution_count": 22,
      "outputs": [
        {
          "output_type": "display_data",
          "data": {
            "text/plain": [
              "<Figure size 432x288 with 1 Axes>"
            ],
            "image/png": "[encoded data removed]"
          },
          "metadata": {
            "needs_background": "light"
          }
        }
      ]
    },
    {
      "cell_type": "markdown",
      "source": [
        "And also plot the validation recall@k over time:"
      ],
      "metadata": {
        "id": "aotsVQdY6pDJ"
      }
    },
    {
      "cell_type": "code",
      "source": [
        "plt.plot([x[0] for x in all_val_recalls], [x[1] for x in all_val_recalls])\n",
        "plt.xlabel(\"Epoch\")\n",
        "plt.ylabel(\"Validation recall@k\")\n",
        "plt.show()"
      ],
      "metadata": {
        "colab": {
          "base_uri": "https://localhost:8080/",
          "height": 279
        },
        "id": "aufUYQbL8rok",
        "outputId": "4d50cd3a-76fb-47ed-a48a-858fc060a1e9"
      },
      "execution_count": 23,
      "outputs": [
        {
          "output_type": "display_data",
          "data": {
            "text/plain": [
              "<Figure size 432x288 with 1 Axes>"
            ],
            "image/png": "[encoded data removed]"
          },
          "metadata": {
            "needs_background": "light"
          }
        }
      ]
    },
    {
      "cell_type": "markdown",
      "source": [
        "# Visualize embeddings"
      ],
      "metadata": {
        "id": "pIvtdBz-BZ7B"
      }
    },
    {
      "cell_type": "markdown",
      "source": [
        "Now let's visualize our learned multi-scale playlist/song embeddings!\n",
        "\n",
        "We will make an animated video of the embeddings over the first 10 epochs (which is when the embeddings/loss are changing the most).\n",
        "\n",
        "To visualize it, we will use Principal Components Analysis (PCA) to project each 64-dimensional vector down into 2-dimensions so we can visualize it in a plot."
      ],
      "metadata": {
        "id": "L1h-S22oGWJg"
      }
    },
    {
      "cell_type": "markdown",
      "source": [
        "#### Projecting down to 2 dimensions"
      ],
      "metadata": {
        "id": "ZYKbFdXeG0Or"
      }
    },
    {
      "cell_type": "code",
      "source": [
        "pca_embs = []\n",
        "for i in range(11): # just visualizing epochs 0-10\n",
        "    embs = torch.load(os.path.join('embeddings/embeddings_epoch_' + str(i) + '.pt'), map_location=torch.device('cpu'))\n",
        "    pca = PCA(n_components=2).fit_transform(embs)\n",
        "    pca_embs.append(pca)"
      ],
      "metadata": {
        "id": "k88S_mgOBcAO"
      },
      "execution_count": 24,
      "outputs": []
    },
    {
      "cell_type": "code",
      "source": [
        "# Load playlist/song details\n",
        "with open('playlist_info.json', 'r') as f:\n",
        "  playlists = json.load(f)\n",
        "  playlists = {int(k): v for k, v in playlists.items()}\n",
        "\n",
        "with open('song_info.json', 'r') as f:\n",
        "  songs = json.load(f)\n",
        "  songs = {int(k): v for k, v in songs.items()}"
      ],
      "metadata": {
        "id": "GdgB0MBkBnqB"
      },
      "execution_count": 25,
      "outputs": []
    },
    {
      "cell_type": "markdown",
      "source": [
        "# Visualizing country music playlists"
      ],
      "metadata": {
        "id": "SxgLcsTWG3uU"
      }
    },
    {
      "cell_type": "markdown",
      "source": [
        "During out inspection of the results, we noticed that there was a large cluster of playlists that stood out in particular. By manually inspecting those playlists, we noticed that they were primarily country music playlists.\n",
        "\n",
        "To show this programatically, we will find all the playlists that have the word \"country\" in the title. This is not perfect, but it will serve as a good estimate of which playlists in the dataset are mainly country music."
      ],
      "metadata": {
        "id": "kKXiwmNyG6dr"
      }
    },
    {
      "cell_type": "code",
      "source": [
        "# Find all playlists with \"country\" in the title\n",
        "country = []\n",
        "country_colors = [] # colors for plotting\n",
        "for id in playlists:\n",
        "    name = playlists[id]['name'].lower()\n",
        "    if 'country' in name:\n",
        "        country.append(country)\n",
        "        country_colors.append(0)\n",
        "    else:\n",
        "        country_colors.append(1)"
      ],
      "metadata": {
        "id": "FuftwZrBBrrP"
      },
      "execution_count": 26,
      "outputs": []
    },
    {
      "cell_type": "code",
      "source": [
        "print(f\"There are {len(country)} country playlists out of {len(playlists)} total playlists\")"
      ],
      "metadata": {
        "colab": {
          "base_uri": "https://localhost:8080/"
        },
        "id": "i4Vud5vnHPLu",
        "outputId": "ef075c76-9255-4682-951a-99941ccf3734"
      },
      "execution_count": null,
      "outputs": [
        {
          "output_type": "stream",
          "name": "stdout",
          "text": [
            "There are 736 country playlists out of 9296 total playlists\n"
          ]
        }
      ]
    },
    {
      "cell_type": "code",
      "source": [
        "# First set up the figure, the axis, and the plot element we want to animate\n",
        "fig, ax = plt.subplots()\n",
        "\n",
        "ax.set_xlim(( -0.5, 0.5))\n",
        "ax.set_ylim((-0.5, 0.5))\n",
        "\n",
        "colors = ['red', 'skyblue']\n",
        "from matplotlib.colors import ListedColormap\n",
        "cmap = ListedColormap(colors)\n",
        "\n",
        "\n",
        "scat = ax.scatter([], [], c=[], s=3, alpha=0.3, cmap=cmap)\n",
        "\n",
        "# NOTE: this plot below will be empty! Just ignore it and go to the next cell"
      ],
      "metadata": {
        "colab": {
          "base_uri": "https://localhost:8080/",
          "height": 265
        },
        "id": "3IffldfhDBCo",
        "outputId": "af04658e-4ba2-42af-9dcf-711dbc128bc2"
      },
      "execution_count": 27,
      "outputs": [
        {
          "output_type": "display_data",
          "data": {
            "text/plain": [
              "<Figure size 432x288 with 1 Axes>"
            ],
            "image/png": "[encoded data removed]"
          },
          "metadata": {
            "needs_background": "light"
          }
        }
      ]
    },
    {
      "cell_type": "code",
      "source": [
        "def init():\n",
        "    scat.set_offsets([])\n",
        "    return scat,"
      ],
      "metadata": {
        "id": "_JkcqhfaDBeB"
      },
      "execution_count": 28,
      "outputs": []
    },
    {
      "cell_type": "code",
      "source": [
        "def animate(i):\n",
        "  embs = pca_embs[i]\n",
        "  x, y = embs[:num_playlists, 0], embs[:num_playlists, 1] # only plotting playlists, not songs\n",
        "  data = np.hstack((x[:,np.newaxis], y[:, np.newaxis]))\n",
        "  scat.set_offsets(data)\n",
        "  scat.set_array(country_colors)\n",
        "  return (scat,)"
      ],
      "metadata": {
        "id": "5z5MY8-EDBgY"
      },
      "execution_count": 29,
      "outputs": []
    },
    {
      "cell_type": "code",
      "source": [
        "anim = animation.FuncAnimation(fig, animate, init_func=init,\n",
        "                               frames=11, interval=1000, blit=True)"
      ],
      "metadata": {
        "id": "XD8t53fHDk6H"
      },
      "execution_count": 30,
      "outputs": []
    },
    {
      "cell_type": "markdown",
      "source": [
        "Now let's watch the animated video as the embeddings change from epochs 0-10! The country playlists are in red, and non-country playlists are in blue."
      ],
      "metadata": {
        "id": "pVa9NFHzY-s1"
      }
    },
    {
      "cell_type": "code",
      "source": [
        "HTML(anim.to_html5_video())"
      ],
      "metadata": {
        "colab": {
          "base_uri": "https://localhost:8080/",
          "height": 309
        },
        "id": "RimWC1eUDsVb",
        "outputId": "06aeb1d5-6606-4ccd-e243-3bb4b6f26009"
      },
      "execution_count": 31,
      "outputs": [
        {
          "output_type": "execute_result",
          "data": {
            "text/plain": [
              "<IPython.core.display.HTML object>"
            ],
            "text/html": [
              "<video width=\"432\" height=\"288\" controls autoplay loop>\n",
              "  <source type=\"video/mp4\" src=\"data:video/mp4;base64,AAAAHGZ0eXBNNFYgAAACAGlzb21pc28yYXZjMQAAAAhmcmVlAAC8jG1kYXQAAAKtBgX//6ncRem9\n",
              "5tlIt5Ys2CDZI+7veDI2NCAtIGNvcmUgMTUyIHIyODU0IGU5YTU5MDMgLSBILjI2NC9NUEVHLTQg\n",
              "QVZDIGNvZGVjIC0gQ29weWxlZnQgMjAwMy0yMDE3IC0gaHR0cDovL3d3dy52aWRlb2xhbi5vcmcv\n",
              "eDI2NC5odG1sIC0gb3B0aW9uczogY2FiYWM9MSByZWY9MyBkZWJsb2NrPTE6MDowIGFuYWx5c2U9\n",
              "MHgzOjB4MTEzIG1lPWhleCBzdWJtZT03IHBzeT0xIHBzeV9yZD0xLjAwOjAuMDAgbWl4ZWRfcmVm\n",
              "PTEgbWVfcmFuZ2U9MTYgY2hyb21hX21lPTEgdHJlbGxpcz0xIDh4OGRjdD0xIGNxbT0wIGRlYWR6\n",
              "b25lPTIxLDExIGZhc3RfcHNraXA9MSBjaHJvbWFfcXBfb2Zmc2V0PS0yIHRocmVhZHM9MyBsb29r\n",
              "YWhlYWRfdGhyZWFkcz0xIHNsaWNlZF90aHJlYWRzPTAgbnI9MCBkZWNpbWF0ZT0xIGludGVybGFj\n",
              "ZWQ9MCBibHVyYXlfY29tcGF0PTAgY29uc3RyYWluZWRfaW50cmE9MCBiZnJhbWVzPTMgYl9weXJh\n",
              "bWlkPTIgYl9hZGFwdD0xIGJfYmlhcz0wIGRpcmVjdD0xIHdlaWdodGI9MSBvcGVuX2dvcD0wIHdl\n",
              "aWdodHA9MiBrZXlpbnQ9MjUwIGtleWludF9taW49MSBzY2VuZWN1dD00MCBpbnRyYV9yZWZyZXNo\n",
              "PTAgcmNfbG9va2FoZWFkPTQwIHJjPWNyZiBtYnRyZWU9MSBjcmY9MjMuMCBxY29tcD0wLjYwIHFw\n",
              "bWluPTAgcXBtYXg9NjkgcXBzdGVwPTQgaXBfcmF0aW89MS40MCBhcT0xOjEuMDAAgAAADwJliIQA\n",
              "F//+99S3zLLtU2+2C6j3op4mX0N1JQGblsTtOoAAAAMABnddzdfZ7UFwH2gAB5iyR2B/h/8ABvrg\n",
              "zJuP+BubKKWVtz+4V6x29iCZiIXbxoFg3dMpe9pKbZ84UpCTq8NDH3ZvqvPIOLvWR7F6Va5uAU7m\n",
              "dZeLEKkiNUxecnNTkD0QKKfOvAGP5ttbpE9C1K3Jepj7IDMJb0HPTqHi+aap4YTX/TIYJi0yN5Q8\n",
              "ebYavMbmlS6jiZBfRquHdtlcWIj28WGHELdc55vZZiHvOfTLCepP8c51/tU7nti7pUb+6R5U5zmZ\n",
              "yzDktrqFcK06xSP6b2Pv2bJKsnR20/GA1pyfaud49s80ifULhRKzZrG9pcsudqTD87JY+mBdoAAB\n",
              "tA4JK/gsFvnrEMcFAmJwnKJWyux9gXmz8IiY7V0WkZWMBWxMaGuas1v2mq6aurysK3aGpGZ2lE4q\n",
              "C5083qJAS/Z1FxHCGHJ6SYawI9B52G9s/sUTOgcf7kWN1nQbXZyCVtAf7kF8P67Qnx31/OEZH7bm\n",
              "sXsXbBZ4Lnyt6FPNdJPhYadeI4zMKbIh8rK4jLVzJ8e2eaRTIL/mRaTsOugLl90Hx9TBFjh4lbEK\n",
              "l28o4w3ZkH893htuFp9Js1iSkG9DpzsYDthbUFA0dcR/m0eZi+Xw8WgtzdWKbCcACBv4oqPV559f\n",
              "Mk2G7ttf9Hfpnduat0w04X6FMZPTd4viJCI4eXdZWjnY266Ct//4kV8bILmZOZNCWoeFzs2NGJ+g\n",
              "qNgwYmIHr1ObBhZpkjVOs6S/6win06i8l3s+yxM15daNQYLfvkM+HwLu9LNq866/OdeEJE4SVcs7\n",
              "RoSC0EJAA4XF4iz8zyAc1A9tmPgMl1VaTiX0Lr0hQFMYZ01V9s1x2Rc3v+sBD0plkbW+9lFdqljV\n",
              "7Cm1OwaMfpV7Pnci3bvRa4k3llZIdUTgmya0EJWMjhcrgjrUd6CPO/HARq9wH7xpMxt8TASTcSyA\n",
              "fguQp8tYO5DBrX7Ts5vUR/rPDBwc3t99wFzyJQylhBeJvb+4gs2OhTccU/sAcI8jIYWb8PRmYMQs\n",
              "7C1bqsW0oi6a4tJl3Wgx4NpI2bz3FBt5QgFRgTqtNEiAF1c6HEFKty18MoMcU0exmsxfUleGQf/q\n",
              "IC422rRARjb0uqQ/BtEfZpK097w3ilOKiAjNZ+6wUCEHkuXvbVcIj7oFJR4G2kt0eQIvDfhpnImw\n",
              "DyL71XigKGte4Jx0KGg/UZbJxiZNnDMrqkMCJUSPdV3OoyCsKBCqmaBTi84iCSd+Gf9vuhiuUVRD\n",
              "0OxQUqcxTC3/9WWrwly9m34mafho5S9yCX1osz0cWMZCI44Ejpow14syCu8YsTEj9NL2DfJASDW1\n",
              "puShShzbCbeGqZ8YHy7V1of41kg/9NqUCXNv+255puCJMGz5LMV2NWD/GTRnng6yYCLeDqqPTZVp\n",
              "czdge7PnNQMe1jMjuLIG4hRRykYYget/jPB9O+bt37JNHOQXy9KBFGE63wIfQ2xsNpMm32qi5CcX\n",
              "FY2dnlRyCjGLkbMM1aNF19z3my5T6Ghew1ueh7+0NN0St4rLDEpIqQEbVU+j+R9pd2PvAnku0xi1\n",
              "FPLANPkoQnYI01E7uHpSJtywHJmX0nnkBim60mDPBt9FN6D4IeTkfq5ll3k0icXx67zQJ2Fp1x7E\n",
              "fMHMDbwvniJRAyCZ5tkzfHYhYHdsQOFP6BaIolGlcpbuv5rd2YMTd36/yO5hDMnD0PAebHkz69iQ\n",
              "VUbKxq7pKlLKmz6oqq+cgeioz3D++zUbWGFuodNGwG8BSvnNwO1HxTpYOnrQDN9zl9Arl7UcukEL\n",
              "NnFrSqracH2ssCXei1lughVBWZwGTI7tJ3Y9KtAfGGQFayzV62kUxtO1r5z1i8PNtxV6P2oCgEXV\n",
              "o2tfK7/C8cEKAvlqNtjGHoO6pbxUjoe+BXeqYxHBqMtWpo6++hQztBMiNyNo8ZfAuOZ5e3fx1Zfw\n",
              "TE4BuiO0fhLiJJD1LF2sXZYfTJ6fVY2pbJeKHH4csO+g25IE5gJDxSNJyCMf9Ad6m1WE3cPcpjMw\n",
              "aLGe4JFxCd9FqzGRLi+PsijF6ZUnKzogDYLfAx5uTKiuMOafWYP/b4Hqy6adnWkIq7l9oirpoeMf\n",
              "i5WZUVQUJeyFYy7q3ttlhrZZEJo+nwEgzGK3KIzalywP2cJX/H7PoqhISYqUNH2k6bY01DFuPIvC\n",
              "zHN2RtVa5ST69fDrD63KoEu5zgTgn+i04Zp2hfeVZGwxMc4wJR6eOOtYGBj3eqY6LcnAp7rZEaSZ\n",
              "C3DVm5EoSdJtU03tZ77/yRqpA7GsO/HNRkx3jE7S0lUotmVzFfjXtmbo5svg4S3+RbxGoII6eQ1Q\n",
              "ZVGWd5Ye0n+kkNvNemVbP4Rxu5NPJ8AC1u1dY4qGlyMB/vi5EIvapijPTsoJlD4uNkaqpmxYO5Dh\n",
              "pLC5FpPCblnG/kVdZUlECXRYbFi2e+Raod8UlFItU4Itm+SHkLZcg7+FeZNJ1tNfY1yirZJQh1Bl\n",
              "HNsf6BYUld7PnynWCkdHfKlH80ElI/QHhhSPc3ke1Fg0ZFnP2zEZpJV75q75LjtW0fhKXSxnUt5f\n",
              "Vk60utspL797XvWqnQiqw43wMhiEc+6JgeNkfHhDsPG1rEaASzxencIEOBke6GVoUGyhF6efic/t\n",
              "0Lycnm4RKVihHz4W4j2NBHga23g5TyIrohmpeUjZrEizw53lCLpwEOl0AlmdVI8hkBdv7z5nAExZ\n",
              "amklYtingX0m4atUYjyMgC56iUVgHc6PLUV21vpFLK0qkyXh0yUEMh/82ht3E28snoCT1SQ2njWH\n",
              "PtTFE6NcFK8XemE6n/t0neZs+xKAMYndXyPBcQBubs9jbDBK0I3bodiC7D7czECkc1LBbuF+rvOD\n",
              "sAQbV6qtmauZtVVF0TIP5G6vPNiSdVW+MOTHbu0+Sg3a8TOTjs9gngC1N/sgiiLGuFmz5wdZ3YZk\n",
              "QO2lqyvz/yKalKW/Uqce/Pdpxswcp9zXR8Uq6q/Vt22ta+lBdBthxMvbFNj7RmX88cglSsgdCf+t\n",
              "x9mEes4cJB9QvcbcnTEITGdhru7J1EU+3z/sfmVXrrPtFqAPNY3AcYwz17nQEn94qB+BFclI6kvm\n",
              "3twYqkhCbcm9ARl8N74RxqsiJf7Idh4/7UfDFY+M10yuCp5LxNN3yzuo8w3eHNAH5JqhqSryV1Aj\n",
              "TO4Au9J3gcOktXdPUzbefaFWwAqIPfFnDwhtzWTyjFA60LU2fEyLyY3p9PhQDUzfUItQGSe86Gee\n",
              "YJccAE6fA7lrALr8GW5TLmGWspIp+Jj/kCrWMQ3eUN7GEOboZN5SKTFOpDowBM+h8xFI8ku/HUEw\n",
              "wwxKoSXbRS8FlmEtTbgXNNwWr6j51IWuWw7xRJZh+NeO2EJ8JNBDyhU8/2wSq3EZruFRk1YmR0j+\n",
              "01HiiGfrJBw/iMhU2Y4Z91htR7HKOFmNrINWYTAeitCqfETPh/UJ+aifgIRjHE5riUu2T/gLOCcC\n",
              "CAUkz9trmplZP+7CK1pI02evlPJ8djgNIOQpR82Cau4cFJf7xCvKbuV4eDedbaD2hQtUkt+CC5hA\n",
              "sz0s3MWyBAzOcKOAYGCtbx+7IumlQvk5JR7uCR7oK2TtSMZTuvMxByWuV2sxqXxudaKTZ72y6aMg\n",
              "QPpLCdWy8hQmwy3pzMXFHdjTWNDf3XiDRvkUezNBCux+V/hKYVJtrmBdM9pNmec9G8EWZBz/5V+6\n",
              "WTL15Dq7ka84cR2GAphFUb0doGgZGxCZjVSYNSA/RMH1SANWh2xSjX84Zphg4g7+LtnfV9wuYO+c\n",
              "wYDJT+FHnr6sGbAawIHfuXAahfH/cyPYOmPEHgN+3iR/o5MSD1cbCEFqWnxruTvEl3nDQ02B48s3\n",
              "ViDwlnNElW8fA9tdjzf/3Jlz7DCvGYNsGv3R9gbj0DcHygjxhl8GC5CG+Fu50o60lhkCbHBcsXWM\n",
              "Y/I898wMqgkaOoOxjhKRwNVL/FoNo8psEhpKHjcyIvF093XasZqkkFNnCPSlX7dX2sU0wyOcHCuR\n",
              "LZCNVAcxEcfYgb8E6m1sLuh9vNfPVprxM4WbEXy491xwk3ZGks8zfXcTzPzMzC1uFGHQcTb9+83O\n",
              "j1BmGyXCX2/edjbcU6Wtk4aW+6xYiG/Wc0kErde9cZoZxltiUksAyOz4mJnwwRRwc0R96kcigYpS\n",
              "U33wREF624eNQESrQf0OtN3899NIND5hWby/WW1evUfsMmhm0E+6H0WO8okn6LhYy5N89GDrD9Gg\n",
              "c8YiH206FaSjTrZugVYmRXuhXXvDIAx0/Kosp0gmVw4SbxzoCbwk9D5ZeEiRCdt54ZWAKDX7u1Yr\n",
              "/BSWMAwgQHJKUu1QgcZw2T2kqhMEsQLO2ekkxeBDBYHXEdChFz6VQ6sRzoVvsJDtHRT/dP7pDifQ\n",
              "frNWjjbK55F82NGNJ7PVmRPS9xbMhknzr3o8/7hSjmFttwekpTL7OSU0LjfWtbM5JP7JocFFQ2Wr\n",
              "l5bQ5Vl32krYbe9BTfDTMZt/Qptk5nNm5cUuvSRe7/CuMwmT3LvBnG7SdVPIiTQuetDk4uAhiBbN\n",
              "ayzoAuuUe7la3QiF9M8/rQyTv7h9XaO2VecU8IJN7J1Y4MXgOOalFxibQH1DlBRrvjPaIIjw91y6\n",
              "NYLpWvPc0ATkHAchKltkRM6vDA0DmPIECdoVlQ3x+CbmG2U3KpppWlFjS0kwijiIUrFCratHXpH8\n",
              "A7Xzq1yIFdf3XVBCkH0RIiDp3sUSFZ2l+CxIgxYamejfOWH+Iz5UD79JGPsET7zrIMT7Pa4RsbTO\n",
              "NMzws4xb2Yanl6xK3Oc+uF9IWfWQz29Xp7oZ9lzw8b7fc/YVG+wfl2XIdlu+oaf1SKkfpdhGRVKW\n",
              "Wj14DMdtOpKKtNWidXHIg4BPtE+Yz/uG+aQuoc5zgLMKaD8EKO+i8VtLeWSMHOyHcu3JXByUMEJj\n",
              "7mmYZUj1BY3jA3K74iP6ADaUJmJ9/mf/3C0VMXddtPwZ5INqcE1WdCKJ0I6Xj/8hD9eH4KccaJrs\n",
              "wuBVVzZLPbOLoG6QwzR7RR+Zp0IocmWqPubSkgqmnp58Go59A1SNThiIS3/6L4tLYWJueEZFT5vD\n",
              "a5TE3d3v3WGAeVjejAAAAwAuoQAADFNBmiRsQX/+2qZYADuwseAAEtqilC3sxHIDDheWGbr5P/4S\n",
              "QkP7ZuZW81jwX2DhUdoFxnTfPZgSohtY2SnBRqWtv5OsjcVFcS/j697rFDvFIJpW3mxmHa0Ki8PI\n",
              "ylggrTlTVrvUQFRAv1+nse+5xWUVzGQuwOb9RHTRzKFFMYvGuYzDmVtbMC8rmAhMrr7VdXFrB4Df\n",
              "BwPRCmQimC4kS3jpa5erksWMW73GjnO2utdzmIBHlV/3fzFrquBNck+6yuzIOUhG6vMOdMaQvaks\n",
              "XMQbewf2AQRsP6pV9wyZzyN0TQAVUVrT7vh+y69GcBAQ6jrRtoOgdFohwbYp8kp7y7pmbjddrkUt\n",
              "HVsZ4aUkwDuDJNuucH06tQRP8Q52Hj0P+VYx74BPU+wSPk2Ip///u97rPu9tuy3U2Zl7iXKSDccV\n",
              "36W8FC3fG4Hsuwc+ZjETM1p6Xlr6vYD9iuRxTUgmnqPy36jEnKBAYwdu9LAn2ccA775wlwSlWlPI\n",
              "qQiOg6SIh/FNPhdYnlh/D149lD9aJ2gP6A8uVn2xKbRHtl9YszJ8Ov2LuFGABNVs2awZZOhc5z6X\n",
              "ZGxmU/DLDSyRN1wyT43O9pDbKMKTPRWWwdnyNUEMdDx7j+M03CBz2YnBv932Kmz9k4eNOoHdQIDv\n",
              "wsxj0QeZssNpFnHYvJ333A9mp0MYrlYbu15jTtRMdVAbFlQwL12CW1X8cj1ApjB1suMlWrBv/p+p\n",
              "acnlkSB5VweFEvU/bg9GKGio6YVM9O1hZMTIZr0OynJF8mYlA/S2fP2Sgxsb7eFS8I0wkD0G+bZZ\n",
              "vdFVwvAZM/IquPndhaZh5TvnKuHVnEIJ2s3JUveVOydUrOvkRccLZHCVwcKEvqEKiaO2nid//gHi\n",
              "PBicxwaW7KokdJtRGvKxFxM1tId/AnA/LkuzE/+UF+VE9HF1oUOLYkmTwRttlOK2uFZvhIxQ/hCy\n",
              "7S44WYOByk6Uykhx4X4nzKoSPfNLUMtbL50T1DI0lc4I077ttQX6luZ0HhLkO9vjvFBcqeXTUI+9\n",
              "hA/7ACVJJdv6O2DiEwwadH4VzTQovBus9pv4y6xGG5xsKGhRLDsOC+G6Aef+Mxm9ct6Uvz9XFD4V\n",
              "LbDnth1ISQGGTcz2h6KSgTaw7L+wEhpZ3vDxzW2ol20+D9Xet+M3EWW8H0taHf4TaNfXCbAaQTDk\n",
              "2v8cuYNa2dwEJa5NyRFeP3/tZHHVGyI073bE1G8tvEO3mL8y3N0Cu0JFT4d4eznu+vUu03jZWXVq\n",
              "iR9r5FVOnUqBGLWgkoty2zzMHTBKQKQUYeq65EDbhkA2OdrxH2eyxYM427sx9PbxASnwdXRtenJJ\n",
              "KQvxdpQ7ibCSCUrR0a79XxU8U7ug6RbcFWVJStBdJ3YGCiEgXbmVxsWANj2GseMbDoFWWRXhxrYW\n",
              "ohG5LevRdsPOd0kVv0lx1kxx3F50lD4ok58j8bKqJbvCTiaG5GcDzPgfMeBJDh7XPtakMYIwX7vD\n",
              "WSva0WfIHviTnWJmlXBXcLkfGyUHrGPniWz1gAOkvHfIy7IBAaV4+nuN74fuGg49ih+r3ea388aL\n",
              "gQWmz51mU9RNZGHiP1BhYCsdNKeIb4I7Jsz3K5sIhX6Zl6Iw4v0sq9KLvrd+9n/F0mnMBSSK77CR\n",
              "o9LhTCthBOWzFuSYritgJcOP5c44zkIF1zTQgAZSY72wUINIB+YHylVM6Ai/gQREM/KUAN0rTHsu\n",
              "gxojheK1EPbt511wq747s96UmFVaUIT/Ng/3rASkaawfrUjOCkTRefQxZo06jWTSog8t4NYKrgz5\n",
              "eO8K9FEy2qJlMoGjDqbwQM0qRNcLPvLHAdcugezq4xBTeIavC0IMYq7VuS2sKYjZrPEripeShvLy\n",
              "11Gtx0UqFWxInqA5pQjtvnyYXmRT75sligFZCsNqZBeddcEitJuaUIxB3zvv5ELcSJhbnchAXGiK\n",
              "D7cMABkwGv1ecPMpUbb45UTbAGDapW1gPzLdB5ETf8leIhCNmo7HrzWiUl3nEvnH730qobgsu3BD\n",
              "1IbFR72hzeh6FzN3cj6cCqX1uvGWvxbi4RkeeRDanF2BpkdZf+VOiOX+LiXZoOAvrjOvraBkuuQC\n",
              "u47YPtrTay2Eh4WmW0eE+z0U1pm2YlT+B9ByRBFDM8uyLyHo++A3l2OHIUGC9ttqSC5kMuGmoAz7\n",
              "5Nwr0pm4QS3r85mrY97oH9oQ2y3ndNA/FrstK/3VLO7dCZbgzRrpge3Vth6EOblfEaRm2A0LvNTt\n",
              "Z6/LAIIbSn+QmjXkuChRdhgu7kpqZ5EeeMIu9mpDzUGZ6xV4JcV9bCo4M3rFPWVPFdsNqXhSxcuC\n",
              "b+8+KOe9WpTXAY6yogORtd/X6AG/okAHEZ10WAUTxWHn8EFoMqYxWj56p4wh19TFx/0s++SQIXLW\n",
              "j1o3YciV8oXucLTaUvisJxnDUUvtu+B1sG2y1izrl+9g/KaLrE998d3tCo/kokMOH72h/znAWle/\n",
              "Hk1lFOw9yPBMlMZRnFbtENyC2nAlnm1M8R7updi/3WWFCm84mgOOPuinPJt/xJUrHKJ9n5xG4Rau\n",
              "p1mllBvNeC8eSko0vj1GW2AJBiqsOzfjlkrS9psEHut739vZNr/jqIP6zeD0QCV41bBbMx1exjtV\n",
              "yf/BhZjEnlHGjfqHCEK4LVDMKgsfhrVfMnaS9cwvCIny0r8HvLhU04xOksNtcioxWHULdsXi5ne/\n",
              "5TDx+UZjwgc6/x8kGndpUl+VZwDy4xpaaLFy6vNufkCSqxnTBa/xthylpRWyk324eg4bQ9cZtNSW\n",
              "ulQfmQKeNEN+nMLDmpvHHBm4l3AN1EjSQP9/M+4F9PUXoWHiP3Z65wv49xfM14//AXg+haDZJMFh\n",
              "N5p5e6rw5IHwRUIYH1CZTxiE73K1C3NORhfAtgehNBGAe/MDs5HUSmDhLXw2NjHhVBs3e0iJ8aMG\n",
              "Q2+iSqou6PtcCbSDrBWzfiwLN/JdjDmvdpuPBXnOf2/JJk8yUZj9wUJf9llaJgrr2aHPZbUXNdcU\n",
              "m67SkuGiu/NzGxxC6eC/l9mpN57ypYAx4C6jGhj9LzoLp6rBPPqGsgkHLmaKp6cfdlJLGkVvkaK0\n",
              "QWq6mx0YgGF9DXNzwuLvms3iGUfOSsspOK2OHfAteBP+E5nx66REgK4BTadiAOLuMs+D1oIhS7ee\n",
              "HNPgnSLbiXqfy6gtMFbqtYhMMj4AS6Xm8Ox8bg6CrzHD0sQxZ6GyKsxz76vc5t4VttvrPkjnlTN6\n",
              "hfhgUWjHftCQd/qd762yq8PGMhfva5KaJuIF2vSnC9nWH4GCZqbDxPHmuLVb8MCTbfKzKoaA9Uxv\n",
              "MYFZmQ50IcPbuKUO1yd0FX8KFJtqStLimqIBoOow7WuR0qRnnGOung4chcapu9VJVodacxqT9Qci\n",
              "EXH2YkftmliRfSbKSPqzM2MaInonR0fTCGN9OHPSa0Uw4+NunvS0j1UtE//APq7bEupdc9ik2Z+V\n",
              "5xfHOsPKazwDYkAOkOPDR5mN36bYM+idIzpx1gGZOI/wlvnnbsQmvukMgZA9FSNok4DeDIq1MYB2\n",
              "qDQoG3eT8CGZSNf5mFBVce6qsuNvfej3PHPaATF2t2dllDPPmv3EJz3qqGfU26PoYeq54RRy1UDZ\n",
              "nQTBgurClJcX5/8K2UAUrrDcLznciwp2ppKM0UcuRoE3g+AzxRcJh3i5RT0F6i42A8TWPqmNiFyd\n",
              "lgs0X2/1nVJR9MKiz/NPFLCd11Pz+hnVTmT7IVd9cpmzpkkdETiC9R2GqNkXazadNRMO584LtXvr\n",
              "KdPI4eANJzCTClXFuIKhGAU9TOFWGpAkl3aIbPlMGWO/RRbq7acZMW92eQpXHYn7oKO0IJRGAEzB\n",
              "F4DCylNSsMbLc1vaypP3fDOrjiBVnpN5/TaMxNl1R0alr9sVrO0oGP0QRI99BJm2Px7oZTsPPrtU\n",
              "J2WJsqwCkKkmzJoOF8qtfKsKe3AK4mM0AfcfZIqNyXeWG/DnJZ6Y122SmvgX/6//4INaSdIGlytR\n",
              "RLH00vXjEua7qv3J6v3abd+4i8V9CvuZx69AVp+6vN7DuV/jPUu8fnkyJXvKJSofNh2ba7sVInqp\n",
              "h0VOI4ghx0MCLGFtuvJ9zVjL3J64HXi+5SG+Ylm+4R1cNEiCCSd/1tfMzp6Z+DQlXGKJZBULRm97\n",
              "XxPkwZsQB1Fd7GpFe+ddNtfNKpKHhdY4fMvMBu9fELutwc90Iz0YMeIJyAAACCdBnkJ4gt8AABpF\n",
              "IpwecazMiDzkjcckMAcciLOd/N0dp/LcNrHL1H5tNsVLCNW4j/2Yf63YhgkAhgL5TzXFx8j1b/ov\n",
              "imDx3ybqlh0m/qw0QupZATWDh8wpwU5TXc+k7nCgKT/B4zGosRoRQUuEoqTVz2b6p6qOvBZy8LLc\n",
              "SDcU82k4ZnyveIbxFRtzk830M/8zooaZrJDxKt/ZYLPFo2yB6nzAgUyiAIIrz1VAqRv0rDIzzSTr\n",
              "oXXYWX/r6FrRTlKHvvRbwiGDEFyOiN+MaaRIC/NMZFUvBgWaK6XR4f5fcuwVyvU0YWdAmyasjDrW\n",
              "8vRgGcc/V4xf6klXu07PNyB1ekGm+TNNyeVA24/+FAlrjX1LZfHa57DrXgB1k9iDUuBvYesS64wN\n",
              "Bhh5aiAlEbF8+y3EMpNygkRPlGxLw7/vBbGyF4TtsyIXcEVOv1mvt3WgbdbGa7hKNMfWH7Idfz/A\n",
              "HWjg4jdX0EpOyU04xqqFSRrDhXVavvNbzOr4UrB6dP5cf0UNou3+RzWK2ljwl3duy32qHW2Sfsyz\n",
              "VcTQWu99kTC12MITg+ztZBVW4c3fVMV5hR759LPkCNLXQH7ibcZ9rOKGRd+z8aTweMByiqLKfbBn\n",
              "Iw0zEvqYtH0/EArLNmHJX88J6Oot8+55spuEn4jIklRU14NV57MNBZ2fsODICVQj1tqniwf5siY2\n",
              "eo+TVMTpdb8rmZz1UKTshAfrTATzi8RWa6wwVxrz14rc4xKYqxRk10QSw6oDSLLJy9xlaHPHnA4f\n",
              "Y2g8Gkzmhw6yxPu4eOCziYETGfvMeyAKpR1LuheDnsyf6zL2m6Vc9kwipq4YiuifiT8e/ZV8Zsms\n",
              "5ZmtejN42fc1IvhfELsv36g9PJCj+3hsnFpgVNzDqF1cEjXPvGfSYDs4UgmRkFhmJQVnLSftABtl\n",
              "WggnzOykOoC53z3N8bHHbJh99PVW2TBJHuKOwmEoglv5cxqRld6LEEVHgUOt52DzYhXWvjEpfVEQ\n",
              "B6jzmw93rqZve6ePeGkh7JzzTKtdCM3ob2ofOi49w8lslObl4KZcws1R9yn2VDfY31YR1F3udxEA\n",
              "d1W9n+UydGOFTX+5DhlWI/zFT7Sdfa2J7QnjRQvm5UAXTV3idKuEM1QYYhrteW068T3kLxDIRLbv\n",
              "AL2jHwOoncJdi6/AGMX7ZtVSe4PdIdlBnIwh82RrDaY64fjXR8bDIczyyx3IOn5Rx+MsIXGXBFqR\n",
              "OHreK9C/dRpBLbBRMmlP2uMh/dKyuQ+GJSJSCrnyxBoCvQdYrzwCw1nItoxx8iSHbVpKtYk5oqWG\n",
              "lLoXjaq2Hyedm7jGFlZFjhMheCKqAkMJagZPhAzvtRXeZCYv4pCPcqzvoxfChvQ6Ar4bRYpekr7O\n",
              "R4+vC+t5lGBPI8SlpXByNRbcty4w0moJ7KiWisYNqfyCtHesywFHptvE2g5kuQNAbMUdFjAloTRG\n",
              "EV66aT7hI0h9CCO71gX4rVZe3yGnC7xbTKv1FTjOm4Gdz/N5hRZ5+bDMWSarHUp0Kt/lHgXdNiA/\n",
              "+UbSP0zqEdRB1dgTJKcA4ZGi7DW9NzEAW/WN3CgIdW4USZvhUJBLwyfMS9liFBVPb3QQkib6X+gf\n",
              "vfueAq74DHzamCdeSr20WjP/c9eagK+7Uja3li3zxmvmrgRn0t8cbowua2CGbKPLdmAHlgU8gbsQ\n",
              "JtgsC+57B9h6qTvGVLVvTw2Y83hszAJZAlejUJkKZ82PWcpn/KnPMo9/7bdrGCl/0A2j2XAIpyEG\n",
              "8FHvt2T2hWMAcc30eSfBwr4+z7ncjkHIs4MqhsyrNw3bMAN6pneFhPh09S1Ls/T7op4MhtS//04d\n",
              "ok4105xt/7tF9fj+D/LcX4EjTEQ16hG1SVdDgab4ibqpgjL/Ok7uE7h+hiMr0ekq/xzg3A8tx+3T\n",
              "IVOakqfJ0EXSWvNeHubN5cvX1RTkQH4jEFlMLtYWEUCi7EcBNRwtYNY2Pn5PHUlAJyPc6fz77FkU\n",
              "//3Dh4DKepwQ/uu74QhQYcX3BZUKnwRbw+tDNEIYBY+5pS8Gie4y69k+V94tFERszONolUnxnyyZ\n",
              "QOqIVH5/bvMZkqQX4zb7Y/Wnuu4FtpZ2wkOazdBXWKlTJPcPi1dhaUxFNTpxa3zhY1cs4nc5evYT\n",
              "2Dii4L3BpLmqTY2tTP3BMCN/uOa6qQ7FS6qodD2kk4rXvuxOlIUqVyz8107EZEBTpImhdqhHR/a8\n",
              "TtEhbSSmpde35w1p547uytdZzJDkCgrY6Z74Mc7+HNtX5Df6dgVg06WTaIfke0fBx78d1s1ve5+R\n",
              "mu9/q4erx5hdG1LcmTZYWoWGElgs2a7lLrEza73VpEp+FmySJQyacBWKSptnhFv7QsdbVIo3echb\n",
              "5W2IuB1ZE9lTx+Y2j8IJFaB8U88s6RuNcS+4+mFxgNI1dn5XxqZkV784XAONrGh9K2qkksYaeQLq\n",
              "OVFQ3X1VXUkANFjARqC6TNkH8k9O1SHtX69bCWzaKa2PLdEMCvzHVS6vZEpaqVW7HsRa0UoFSJBH\n",
              "VZeKokLzSE+N+bBfbeheXHeF22K/gBjtU0tHcSVe0JVIAF0bol86s6X5k69D0n3+eCnarD52pRqO\n",
              "WLm96tlMqei+QraA9DIkhvi6su/q3LhaWzYJXrYHC7IWcVUepz2dkvMY2GodNKJw/FFgwdEzBLgc\n",
              "M9wYqh3jTEOh0QZ7GaV3ZYbX8Osprsy1dzxZrpEa8mSQukgigyY4n/2atZXpQnNI3mnuNqtGh2iH\n",
              "Rciiy4MUEUzctrsNbB4pO7mese3kc2QSMQAABwQBnmF0QV8AACjGrgvRWewRQANAhkrOSU25NQ7G\n",
              "YnvZ0s65r1fM7da5/7xGgwfxhnPrL78XsnehMABMl+Zybn5ju7ki9JxbTV2H4Ut/2iayilzJO4pg\n",
              "gkfbhcAM8eq6xkPQvAWBj7UV2BsK461GXStzlD7aeNkZVpJNKTC0PBBCalDa5GjwhgwyJq5KjlIv\n",
              "IdwIb98XROODxLbP/oTwpqvmeMTDMGieogdTN9Ko7dWCV8mE5PMmM7jjR+v1Lb0iAzisB+Gq9Sun\n",
              "AHBbNp+yoZN+PLkC2ogWg2p61MPSFTM2EIwVNf432kBlR7+3v4h7Nl3kyD517KwpT2JHEplPjRKq\n",
              "3IGvTnB/NZUyErEsNURunoYNTOQ/Mu+1ouDTOgKmSv8PjcQ1DWUudKrRBETNLD+BBBpe4H5ex45m\n",
              "hJFRCBs86EvPnvxtSjVGR2HUyJMTHsigB3Rf1vFNu3XHjeQAWy9/jl9rnFTxpYe9PvfMJheLR9od\n",
              "8IindU64Oggns0flvZAOrXdMN1FyEb1dXqJmLwF7pz6WtfLqJhSWsVpZJi2DFRXJ/2eoEEjmpcw+\n",
              "LVIBrV9kKCBUuXWjVF9EiM8a7nd64m/InBkbFps3TLzoLVcDGlu4BuSzPUHrXDG8SIXTq72AqPA0\n",
              "gCL8V/o8BYbvFnQPkW1dZciWUllYTgXZizTPBcCixs2WHnTS39+ritVowl8l0grgid31ha+j9rad\n",
              "3hzaxPSg+JUD4PNlCSXw8fpCWVsHfpxnL9GvJvakE9wQ8UtpZzdXsCHtFLDfZGystY+HrYIRD0qV\n",
              "4EgV1II0b8ELeZ/MvTj3oWAq3QB9DxwpALRV7dokcFEI8ErtMdwfv31f5OBw4t6OJAI0ZhduBMw6\n",
              "3iKCUbU/+zc0uGcOXOBqJzGDKTfxR8zkD2DsS8CQqfsDycNdhtlAR2BcLsF7kSEmIoQqpSi+fNf9\n",
              "U7C4Pe0L4+c9vpWzhYlZz9ZRqYE3XWMgEPk7pdxU3sfYeC3QuRfIdwpU3zwPzSnu1NbC0xNnBqqX\n",
              "dSzC6p7Bn2DYLZ0GW110KWNxJDJ2H+tIx90JvFWmhFxMEp2JKUnAsbM+4ILQpvx0BM5Zvu3TVyCR\n",
              "7VyANYJSj4uT5VLCaDnpd2rgClgXg3g1iWbm0Rt35HEywEb/GmfFNAwUO6/wpaMcDBwc9ZWYw29S\n",
              "U6v4w1GeBvZ4M2V420alnxB4FmSXZXCiJl+yGfK+EyATrEc6IraCMbIMebtO/DIhZ+O/cAQukwBe\n",
              "oCksN8r4sTHbjvmxKoO8UWXRahp9ldUDaJzTpPyH5KmuGgqpQr5r3GNmRZFmq+URZyMnTXl4lMVy\n",
              "YEPnE3Lx9CiOciSJsH1zDKQyEGOyMDfRUTarhSZV+1XIUWuAPMk5LeainkwefFGUb4Kpdd59leYl\n",
              "DJg3qwH5R1KLBVJIO5l9aUz8oKgIpII8NET4UBsEBcOS6XLRKC0gnAdrq1US1+SPym+tUjd+6ggs\n",
              "jtUYCzIfnc1NjZYUPe77xflTIVGgeUM/5rOih7qWR1AV3bVGUoCJXu2sVFrDxyp1hPXGgAS1rpTS\n",
              "jAI0o63ZFwNJm+cDMuYD6DHtLRfcz/ifOHzAQsR/ic/4SPh85hye3DOyCSdI7Jw+WbNIh+uCfiDT\n",
              "r2B9VyEDo3/y41Yocd5gjFkQZWfiN3TZHFYZinI1GbRaHTTmOFfJ1g1873m/13sXsYYucHTMGnx4\n",
              "kqj3lrgfnrGihm2AA+LThhaVzguE2o0DM0j0qNcPLq/6ijZIHR6fBCsQbSzQnauih1ein4h5YpyP\n",
              "DZuOTPC8c+tN452Oxq58XvVqKmcpf/HLanq18mmhKQ0F9kT/9spWuDY9Um2mpgsxEoXVqUjajKrY\n",
              "h5/HI425xNYAztvYI+CmAkGXYTBJZntPRMVaztpk84TIOD6YEMc9pWhqi2zByX7+AJyZS9hx1KcM\n",
              "r9+29rwSaDkFIJ87b3RB64gPZJ4/YAm0ZrKooBa88ek0rTf00+a6Hm+nSo0P1DenNuhTr+m+gqZU\n",
              "MsH1wSnTq1Pnegdy0ChvBlZdS7DA+f03/DoHnTXCEx7y+nD3M9e7pclUa8TWNUNOCUYWTj9ht+GJ\n",
              "ZI54EkrokVZORd8zffEetTAusSKWE44uWUKxG+X3ehVx2nJQDdQAFdlwrfGbCLmanMsHb4+v9lj0\n",
              "FbGJSLoxwdVrXTow7Um0+B4bQKqPEzeP0E0dtxWIY4KsRXFMyzYH3HPbnuQVJ+L7XgTvL2mx6UwM\n",
              "oDOmC7Oz+wzNOwWe9ec6ue51aJ1rye0jt3a9V4/eVP8req/ZCY4dg073l1HJQVmLty14yurVcCGx\n",
              "b1nKhnlk2flPDBS+Va8uY0TMSO6h74z8hd/JGVGtCMPDXsI/aOBW3xIFcciF3PG46jDIVoDtHMwD\n",
              "ZgAAB2oBnmNqQV8AAB1aHRH2WpBKSygJmcEARhaf4iUXX7nFzxUVwPjHVA3gOnE+o7oK3IzIG/5W\n",
              "O3HVX2lwt/MRCM5iAiHTYGyJTZ3ExwrSk3HsaymS2NAV+QOv1BStHCB4xfRBeOhzcKt/Sr3iRl2Y\n",
              "rSNBHfFMC0jm0bN8+h+3RwHiS2AIb/qXPe+s5F1W6EIztAz76PE2EPO24J+RO99tw2uCSSk1gzAE\n",
              "R11nUDG0CoVX9Fhry9wnEirMvydiMMgbNpVSbUXloW9p1i7E+UmiBI/YGqSRIWrYcGWQ0ul/q5jh\n",
              "HK9yny+iLGc+AuRjXd+olaZsqsqAY394glFHhmpJelF4nn77CE1lY1GQ3mtJOCKEnu4N9XUfD5+G\n",
              "+y9J9jI0gLdyiV0LsMEkYCsTOqquMBuFb/zD+Jq4gtroqQv7dAL5wjMhah51XCzR2ywSb94W6F6y\n",
              "Dh40PfKvUWklSZYdS44Y7H5HPOMyiOjuM9sRoEWwd+ou+/jDM1PRDWSwUEue6HE+ncp+H3qhjdiZ\n",
              "JZTpYO62//bSgqpEgJoPxm/emW6mzlGjVvHMv1CSt4RwQilRY6Sx42UNSCMXiDYIKP5MPGCyEIfR\n",
              "QaJMGkQ4UHJvZc7dkvOygqXUY9Zhcpey7WfoU/V4pGnVD7SmKcu9q3L9/0SjtrBQdGRVdRWyAweX\n",
              "aEB9R0zEwGGijZbTYkqkV4aANXwPDB3gd/o++vbwxDJTtmO2irrmv63dYyU4+i2jlWcdWOhzd9TI\n",
              "fV2b7hgjS8P/dcBiu1MgWJ5scyfQG/5JE7ymVL2tfgi/Owf4jzFuLo9PJb1ssMXfkxwCL/lvoAgy\n",
              "1tuu45WUsc7Y6Mpqp+JkDuWDDkxsWAuqz9yDLBWqKIOup1+Srtbtlq/Qh+nZx4DvG1clFWhA/G4x\n",
              "GuPgEvv8qj0doeBgTpyhC1YeJs2gLMPFs4ItCIJw0lbrxhgxNoyQ0WnPSqpvzHz1vrCrdBri645f\n",
              "43B3/Z7YWEHq/EKerslNM31dbhLcTIjgf6U/ue9I0Cjx15CeE4YANDbhdgSq2yqEg6Ankk33jdFb\n",
              "zCjwvlFY1hU2PMV6UE1s4NkASrBtY6bcoivKnO5xQvI8+zsJcabx/J5XvNM0IHB1oTAp0I15ej8D\n",
              "MoCzQAxysRBY1aECEDN3v6yr9TEDZW7A8HfX+/mbLUI94Dc2wTjUoQe/el/NtKLoba5Ppy6HED6r\n",
              "W7AiM1Hl0NEKL8V/BQGZhgiBFBXXpF6COr01Z3dxxRx6OMX5uxIHlugGpm+bkA16eF8teej6Ai8h\n",
              "IqDF+hu0Q8d0+fBIpFKbzOI810KuAoAo7u3/LDGW0Y/npaYyjlvCBwtVv2uOSRfXQTTJy7Bvih3L\n",
              "7hLT4vcI9Tufw4rrOjtbHiqmnVqCWEVCLBdhqnT1O+0oiw0rvN1qGbl/CT6kFk6/ULqXUg0muZBg\n",
              "HyMjV5+S7FO6XObOPYTAJfzliM/V2ahj78aM/z6+5k8e2qG/vYGK6fgIsNDox6kmz3HGvoHfDTW/\n",
              "k+QBd0UFP6G95BOEWUJS/zKDsQFqHuGr1H89BYp7gLQidxYAT5LE5Ch307Ji8G7vSv4dO98qz7tU\n",
              "hHT3MR9ZZ4+UWW1Kb70n0ujzku9bgriaBsv901ZO49FlvCho+qQqp81ipCe6qnDsaaQCXgMKwAHp\n",
              "FNEGxdM9/zaTlqN3SfeBpIudFVElk6k5UGsu94RBcoaAuFRanTuHJTeNZWJ9vER5CFvhZ3KCFfeB\n",
              "19EQz9NGFAvGN0KdLyulKvNRelM2cPiOqxYTahh0yuFrUy1ARDB6hgsAQ7OhehL2je89WrkEMvGg\n",
              "lN0CfS1Wi5PlLX+IwT9i3r4hTuQ5KnzT9eCPZPBuL7UP1eyftK3EEBvhbMg05DvxKl7To/zKm6SO\n",
              "bVvqsbe/bfyTZUHl4WJ3C4rnOpSXv5KkxZ2dCJluz99YDmJbsMkUJvS9G2uYX/x8aByNdKUC1b1w\n",
              "ADOQGhu/+g+UHLCbdN0q+kgU2O8e/hv5dC407k3RWWJamKtwjRZIdZDBK8t8NXmx1S4j7fvwWEy+\n",
              "Gj6GnM/r/OMRABqjpDyUrx8gTXvs74z0dG7nDyJbPncj3v/FsRU8a/ekkK67M90H803hgBB783c/\n",
              "O9jX2OauhsLRIrZuzzRqGfbJ5byj4rYn3SPPDPWG+U8cy+5ndKNE/RR6NW+CxoB0MVksOSN4KUHj\n",
              "b4MPzmxudBRUpKD9iWWBiIz/1qNSye3vvZdlNHrBExT32Gci3/0unL2CLDv5ukX7JGpBGajrkiti\n",
              "0j8hqQp7Bc+9Bdc5hfZKQojRYJrR9QIoyk0cUyvozksdUAJS7MsuQPp+BkJJAGRautAQAZ9NYdgV\n",
              "he68mqiuwiuBW9tqGiT+wfi24pVeRygoJ8kANUabPCHzpk86sYPiQMYXlJGcbXlVBLUuaNlL49/1\n",
              "HQ1GfhEkDNAkZOoG12FFgdVW2rI7YoT3MZyPlXGKwh/zwXpglpESYsd6Khg0CRyH7jCcwF4wpssS\n",
              "LinWXbMJnGmmisVECcVY9caTdSu/WwAAGp9BmmhJqEFomUwIL//+2qZYANpvj/8oqNSgqFSshlkf\n",
              "53W3iSIP5hTgnY5HIoyhDqUvACm0V/uZSvOwU9davULEE7zp3sUGx0qBdX2u7eMa9Cl3OqULlzhu\n",
              "ntmP+9ZgyvqA2T5oYEBt+EdQB3vWlclYOVI9baLRxyPVdyJIJGLU54fUenNUJtuHa/Y5zpeC5CPs\n",
              "vUiRpfCecCdJKLn2obnELuY6R9BRL01/Tu2BdY0ge2thWxU0opdw/pKPxZ38J8qiltGRhw7fE85A\n",
              "K98f2b3ScioxsYaajbWm8X87+ZuXnfTHB6O8oijV200KLzBrQ0Ur9lVGVd1KQshfFVOq1bxstj6F\n",
              "SD9OClFsQXhCNR+V9xNK2K6TrgWoOHbtGOAfLLHLpSaTkVwX7yciIuBlYRUUkQVfwcDTeRjFfs+g\n",
              "5onpq9Ypa8+6oxb1SPQBSIMiPbE/G2tnHmFogmcbpTM7XJVQ1w5hU+7MsUJte7O6HnSVdlP6sz1Y\n",
              "K4s30zZKnypN9XkIxzaRyGKp5jmJijiNdfkS6FSgXlyWDbu2EVeziYkHFpUkk/iB01YYwvB8rg5I\n",
              "WLnBzl1yoFblA21Q6sA3Fl1UEC2hRWXonlx5f2BQQ6gQwVq9gqxGn7WfB5yA+vhu5REyXAiJNJW+\n",
              "2S7EywIeHCki7VvtDEG10qhv0RmOxc7nB3sdINrkufgd+EuU76IvAvVGzDV3nS5pAwryF43fCHVK\n",
              "ipbMOFMr0TWUU1v87hkWdTU1t8zE5+phOlFOgG6shJpwlyK/yq5uV40olTya15Sx/HrMRMohKyrJ\n",
              "c6FxQMjDQED6uKbKTei//14BPqCCaIxwZAV/dLLje1O+Fd1BhOkypErH2XVjCyqM9AA6xKjQCr+l\n",
              "Dc6RJsWxDB7b+B4P4shkH0dDs21fGyYTg99hk8SL2oiw0/FIuV79WRDe/tH6SP9c6aaJWGa7Rd6p\n",
              "PbYxiDetsz0tMer7MVDIwKDcheV1fMWmwX17CZZtxiB0qSO5khlc3FpaC+OzJlqmFT7bghP79hxX\n",
              "Kgaf2VsFjb4e4pf+7Si89kI+YTRtzJfcJyOk3IO9hAt7mo4kS0ZNeArkPHDFalovMXufZsMzHmco\n",
              "6wvUPHHvQFl12zE68hIFdGZQ1lR6aXIkofefO2yIdUqiGVzIpZDScNQ9QNTY1N77YLJPQu4MGxTw\n",
              "AqNW8zhJe+TcYVqzQbziDgil2WNRfLxtouBvIiNFzQrzt9+7jUSUNlbLekQ+Xo3YFAW23GgCVSj1\n",
              "CA2c23C6SUPNWD2PDU9MX+w42rqx0I2MF4+uRherDRZZs55Db1aIABjDtVeibJ4a8AA7k1J/EoJZ\n",
              "phBrsl2ya0wPsUYORgI7g4fMBujK+slG8ncBu9dLDu6j6B6NAvz0JZ3G0DbRYQJcLfX+egsajm2e\n",
              "miLyJ1Y59ojNtWgLbDhyILv/TU7Y8+mQTglM8NZY5OHdDYDThkItXrGCKs8YwH7bkw11/JL72QDx\n",
              "GreGzheNRUuvZvTiKWwDtVjAN6HD8P2+DAZh4W85lvTkceU3Mb0Pc9YDEUiqzD2vAtJRGbSiDHT7\n",
              "B4LgtZ+OIFPOahIaVTwktRpzO0SSN9yncyB5ehmEGWcYYx2wf9W+HmlkUtmf5dCFlYoK1s2MYoGS\n",
              "8B947zVNoekQKJck/3J6QydNqqEb7Akhl29AXo1qR/9IV7OPNlrIJbAsxbscez4nC57+ubjCmdER\n",
              "yW4invbjOb96Wd7zn8uRXcP8BenOLrfIBkmZMHoEoVGXrubh2gD4ysAGIjirPKNTPAoSPakrJWxx\n",
              "D4L2i7+6sf5QTn5eAbK8d/jg8rjlo/4DaEraLbyEtBMDU7sY8vO98gH+sZzPz53tiWIcogNqSCwM\n",
              "XgsZm4AVUQu1b8kDDghZuOoG6Ab0AWMYutEgHzO5/oHWCvSaIAerlDqXflLIgx8fILWU/Vc/MVyV\n",
              "7DkWNpGsTqkUMoKpnVXBAxLw6N3cIZSRqF/P+I71mXH2p+mpGopQEpeT0JkPyzVD4sXiOPDizRDv\n",
              "/jx6z9iF8/DRmT0fcaiwlKlgVkPwbZfq4IhvpM1G0oZNCafFQKpgaT92yP35Cn7zPmnmNONrbuJx\n",
              "1lq3WyaqprWo0Rk9RCcv1Ou8koLP/zptqublrIOpyWb8GctEU0DWiFNGsV+ByfBzUvUyelg8ctYQ\n",
              "sZoDO8Tax63c/SrEeDQ9d2PxMeST936RH+1oW7kikIRbGNO4tIniYt8cQJaYLXBw8rhZ1bfpPCTT\n",
              "YBMznSSRr0kIZXEzZAEkxFJ81O3qNM6I1ohm9+cfnDKNHbdCo0zKp8f9adKSt/7GZhw2HDFrmTVR\n",
              "YNMIoDkdNGy4y9jIVfYwes4RD4lUlLSi36Fy0HrCW8Tr/hXQEYSaGKcWl5mUU1nNhFY0MQoqPFsb\n",
              "yX1AMPilsY9WYBqbPQ2OfpxF9R4MnrM5xVHQw8GKMRar+7tRm8oKQCijw6rZhkpliqVSR8k60PZB\n",
              "PPb2RN1k5NAy7+Bl43dlHra1/VJK+1duAiW7C7SjrfKVdthjnJuzW5eiZkgDTNHDc5toZayjV7+V\n",
              "IX+jxex7rTAQ2WPQ/s/KgIFlaDcTdKaA0XuNjTj/ScotKEShymNo0BFm1RhTrhtcq6+5pIrLk79T\n",
              "f4pOMA4w+z5iA2yx2Q3LkGKdWvMUh5mjxfM3gzxsH6QRMMYUIUNZxzrzJjKdXSoHISrW6XtBc5ao\n",
              "BdCLYqc9VHoUjcbcxlX3gCxgBu/Yc8jfmwZXUaaaTtJ6glWghuFodYAHTI5D1nnt9Lwn6njn0inc\n",
              "Dy3clXXIK8PQ4y11q8b/+1c5X3GQLcjsLorPVdaKixUfiISv6IldyFTYcc5cMiYvCigBWBlS4hrD\n",
              "SToeMa5J1hUL2lxCCICwxSpsBEHBir5dg2ekM4NKlBBLjdzjqDy3wx4yAmxwUp2KGxspquD21AdI\n",
              "aHwLNeO7oduCcjSWr3I2tDIuhJ17MzPfayFe1y6Lo1akTZZTVaXrqqVb64Tau+bklEwo0mP8damQ\n",
              "+viQSc7DL5hZtkmHCFwm7ZW0RYL9fyLjqUEkkJqesGnnwqOTlrLSoISqUL0SZGTpS1OfaSShM+ew\n",
              "Z6q/w0ie7HRCRxJe9H+q+uHvk1Fj2T1NyE3uwQqjaBqXCj5pG+w3bXEhhz9QnZjLdFOycMea8mVY\n",
              "3OFO/vehheXUIETHaV+vZQrh0DqDhBz8kTHX4TKbvqeiYwKtbbFZgFnUf3c+w2JhrLfn/4VQAPmu\n",
              "ffzfuX0Ph1HGJXzIEFuRVume/qP78Wbk1RzFRo6ek0SawlmiM2Of6TGdS+4Vw5XdYAoNUYRrX+qC\n",
              "aVWnbi78R0/oP434CG2/uIjih1ucMJV6JAiAirYLN8u3yefOYJS7W4R4O0eFVQghYC/HUDoK+NEs\n",
              "mDsmAV7wCdRC6+Iztm8LEsKHza9Y4/Oq6MybwHo0kyLmyehzGYcudIfAhh+TQG73wh6fT+wdPPkM\n",
              "lpHWKuoKb7hL68S4lq9jV7av7G8GZkSo1xftO/ulZOhNouvZcB1FLA9QjnHnYGxeWq6gO6mfaSQ8\n",
              "Wly9REpbMObrfKybo8aaYXmIXggQSvbDDcUeeKhGpC973iCWW175YnyCZ8b08nEGSlgUWT0nkh9f\n",
              "dXe0dujlIuXEiHQdPbb9EgHZ76ljuCZeD6LcstVXm5yNiKLsJ0dD5fVv2ALZCutVlhRGYSNgp5Ta\n",
              "3kcGlYRz+OaOOHgpLJQi7+4ZxXX4+7/Ggy+yi+6WdOI3mcBFjLDZ3QXrRMdy7CV6ukpTPuTKwE/c\n",
              "5rkyW6MN4UBKvwlYF81E1hATVNc/nOw6cM9MXel3urHp40RyhAILGf0lbIOZ5MnxFZmDijPC2CBE\n",
              "WGStdeuI/Z8p3uPFb3hC+xF5OHBRl5qiQvjz6WrQyw5eZXCBeqOfs5gotz6qxXYErZ0pQ4peHroS\n",
              "vytbtfDwCL2qXshLfIezJCZEibGEXZOfxErLTMrqwhcZ5qoGc+T4gHKoTFLqwTwy2HuIdcP55PEr\n",
              "VowAz8WiJFU5+I64XwPpP2G7FoZaOf+O0LslAP4kVckF14ZqpkWrDK+9qumyuNyreALfn0j/SvU9\n",
              "9+7uN4juEkDVpytEg4HqgWK1Sb7Vf66vZMjzs4Jd6OudfbEn3iIc0ACoTSIcXYkHdoJKhiBxBunA\n",
              "LEtCraJ6Zl+fkwx0DPndDJv1I3eFMoSLo2NN0My7HXvMz5d58bI7ICPQJ9gAELBmWgb6tE/vxKR3\n",
              "wkjOwMaUxGOhD7ySNVIfiFeb7yXWkYUH3XN8O+itfPQ6xqqRH+QX/g71Jw7+QvsdmHhCFQ8GO32R\n",
              "Jcyg0m6kVtXfYIoH6ogJ/sp58usq0djv5LvT18WtNPNvPkG3gmvRu6NitBwTUL+JD3VirgdKTGcO\n",
              "H+R9WekWKSuXQlz8KzUwyg53uUc/Z3yZAkhw0X9YIRXuP1B74FGsz8zO6rMgusjYE9/MKHfO7Kjh\n",
              "aLkT4bFI4jd3LxjLOz9JmRCe2XBFNGnuGVp5gDilf6uGex3KYFHxppzH4rYYHg18Y1OLJqEjjQ4c\n",
              "dGVdMJdVIn35QhwZMQTjMczCOlAf9g7qQj2sXgnV/XosFdHvLtpnCkPQc4jD3gFO6Uv0z48usXI9\n",
              "dZ/uvG+kOuGLpb0Q9lj/vjNra96ecipMmu/K/87lm9nuj0Q9q9YKPyZ90QRFEVIgs5YTayzhIWYI\n",
              "6YXjUUBbgWnoMJNWKS0WfcbWCpQRZy/RieMf1GMKi7F3tFjUZ8y9TKVaxYxUbnrbvVgUgAJwZVrM\n",
              "qHde+LuDpfNSXDXLlpMFOOHXUpHl3V+8wrz3jK+fd1nz5YL2hisM0cYRvhtnGq0Y5G4jKpYVWJgF\n",
              "7kkJtc+nSsomTtIG8dROyujRYG0NG9lAFxda9AUyscFJyIDJLh3k0ytIYtBTlDognacd4QO5YHuO\n",
              "3eKFAnCLM41BcIQK8fihFqvUjpcMFH5lRC8mgNzKtHf++ZzNVdKRQ0NKxqZimL2Ob4s4PV1T/mvP\n",
              "JvqETWYjCp51E2vBjq5hoanOxRIhfi9jkg5s4A6mmAeyruv7s6OA9GWSroWC+AfhT2DQ1QKaifoR\n",
              "LLP92ZuNGzPySPPSYEpoK0bz10Xmx9PVXEcsckm6Pl7ojSAUfcgyZ54qydMiT24zYY8kcKLJ4dI9\n",
              "a2gpWLkGTdzArr9wAVG2WYRPjlUmIABW9lOzrIJp0jZ06Km2iGIKHz1lSMLgM9RfclgP/b546R0T\n",
              "g9IgQs+mMDrdSYP5+EwnMmhjdkZeV6sa/DnIQ+e3IiV2+jKiB7j6pKaNenCrs7CTQPzwuIFY2bAu\n",
              "EDcQKlEU1tmT+6XNpvNgxLBXbJaXtMuCHW3KZRUt62wWWPDoi1z2u7rQqhE2kyODr2cd4wwD6+CM\n",
              "gIpgK8g6UdAqSOf/sNXFrgOAYh+dc3LjzKC5Ez/NfWQCcEdSOnfdSNXOXmQD3DWgVVUzZ8ZN2DaB\n",
              "Q6dUHhi+vNopNVU6cbARejTuvlQmSRsKhNGIs+VzYdr7GnIe2HH3uRvTyVUf/3ja8Q3q5Evwxu2c\n",
              "DM1Nb6cmVhaaqLow854q3zfHhlWkhOX2/Ee2g/pLWCEXqgeiR84MAOzhoJjG8wZuHeGcm7Bf7dQ4\n",
              "rqTroJG2q86DLaC4bX3/AVpJPVxqBSB4yt+H2xKKsaixJ486yJ7U35demuNznLkTMxIFxEwmKHBY\n",
              "FituloDOE5P0nS9M+9B9njliHnFhLocuIKT0/PiVwN3cdTxmpXByKLz/AHzttCHwsPEJ1cD1PqaL\n",
              "jdSSxJhnDaoM4B8V28L3icD7yl4BXYCMsNE1KMNivHsYy6k5gLr5qRr0pEObWv0b15xOMYiUraW9\n",
              "nJpaxpjpU2euGuO5yvVrhTk34kVSV9BLWhj16QGrW//29NbCYdgAEwDB1wt9IRHv/yOqKB8NSrLw\n",
              "0loYZ+8XXfoSH08TGeQ025wKBzu7K3ciULZPoeRlYEdp+Gw1J83Mo1Kody53vFzjKOWWGNoLxGo6\n",
              "aVp9gM3tX8HVl6XtyLyeo1dhOH04qXFVL9akySo2SA/o3CKh4OdS2iAf0svmTJGZ/gbM6XdQ19pA\n",
              "5HCqwez4SMbzM9DqxutUX843BVOUeYIBgK3K9mM18+LUtky5xNb36O8tbQGcyTBIsL0it6RcbH7k\n",
              "ob8P6mZdePW14bt8M4iXSPqYzHbeo38Jw5xmMxzNJNfZeUQce5zIyIf+TH2tjsPzTCOh9XasFleW\n",
              "VHS+vw98XjtjFtf+lBNU3aa74wvAWEol+Q8hzh9zZfiHQ1DaqOt87mRVx2mj7A+GgAyuYfS45HAA\n",
              "H5rbHuVb4NOH22kC9JkeeHyaL2qGNM7T324G77OveS4Yi2X5MaVQR/0pGWBQAl211uHIN5x4N2wo\n",
              "h02BWJ8PbbP5hdVa7XlUGdos9kSWNyM210Tg3pEM5pzlj65e04BKHTjjQi4RVT4fHUEId6lWJqX0\n",
              "a+kOfkDkLq/AkzwXY/TKd9w8AbW4GWOd7DZVAJBJqva/T8tkW0Ws/f5Z3oKUNHR7XoAiapaOxXdI\n",
              "Ie8beQk0P0hf6thIOsz1+t4QEJ92zcjR2ExrZMhhcgpC5uez7XNyHoAO8rcIKJSUy/3Uicvhp0y8\n",
              "wfZh+dGbjgQf2DsTVBXqXU+EH9eQke7T0iwIL2CyocXI8kWN86bblwdk1B3JX5yNkYc8+2R6KLbH\n",
              "fal3lqm8V1mRVca+L4G+KR6g2XbRVRGwRb0KDWv4GSZ/g2SANfAE0BRCBGwMp3w5jlgkO3cApUna\n",
              "1bZFEzi0F+iAp5r3yhaZWthaw3ZG4bdSGzecOBA8PMY1JFILwIwHYLo9gOWeFoTzLs3sZ/zbltuL\n",
              "NcCEefzosTmiUtGoVZoAsEZV+/PKB5Tpb8zWkDl8GJvIZqxbZ/6k58fkGXhgQGx880dTQ8wMgcwB\n",
              "fu1dIlF8NBU2jv1pnCciTe7itatTObrMksXksKXj4u9e3P9/+rdABXiqVWS4q0TzpMyH1U1prEu4\n",
              "RlH04QfSOOzAj1jq+MVDvXH6KQF1JCLrHta1+ZWkTSLl/nwPIDxDl5cQi3v8wcCQ71CeUpSrX/ys\n",
              "UVru9tl9REdaFiwSyHyP9PoH8T3YmOuA6JNg6OSDzSv8vth1WojS7FfJ/4Aevfz2ag07J9jGrGT8\n",
              "nENguzVISmxeVL9NbD7YesyQ9HIsm2F0Xasy3lmT5EDns81BHkvnsZtwYYP3F3E1Hy7P2TkRI55R\n",
              "DZE5fTWtfxRqVO6+W+woJYL7xe0Hvr8h6xTXoA47KUJlcg0zRa+AfM/m+r0ZnfT7572IVAKwNS1b\n",
              "DS9vtn1ubE9wIgXYU1YXlLpXGqJkOm/KrXh6zWyIMN4DvEGNgaerSmERtIbSE0dkZG5dIpwDDs8j\n",
              "6j0cD11ZmrPb6IPNk7Xu/5PaPwxxhCkk+XjdD2ZkXg7i7m0EHjogPpupoS/KYJnpt+R1mEKO6R5x\n",
              "1K3N2MUPgYtolG3puAq/PsmEfwDeWLdEdARu9xrUkeER7XTPTEQorDWxAAvV0liDbyzcqFR+1dls\n",
              "wlbOnUTBeWvyiL2GXXMTY4tAIIQ/Z7JCmFUmzBX1pEnKOgyWItisi1qGSZg5rESDEuAlgKuEwDRM\n",
              "aWena5Qf/NzwJOLN/f/U+UPYJZA2qLZxp/SmzvztQVA/R7T6oK7NwVzB8r+ZUvnbH1MXhKx2vgvv\n",
              "ZlVAZ8EHg7OuDCzf0G4mVgP5+5MvTzGbJerWjeifn7iAxH8/7sDXA+469tDAzcSVlW0Ssmyyat/x\n",
              "EnuRTr1Flkame9pNZz5lQcHBgi5Qg41yq5iWCq20zdIVMjj8K7mP800kQ5TTfEqRf0dX6azSLD7W\n",
              "R3PgftzTFDsRXWI9KVe6MdzHNIhQldWfH2bFQjZMxCYR3tNdowB/UyZS0Zeb1ipsWMJWSeGT88Lb\n",
              "/wYVx4+1siaV6cWObZha4T+IrBvVGbA7dU6vPGLNbnt5fdf+ZQH0xR+ZPy7ptWWKStYLbplepOsq\n",
              "XdBiBFMsnVnF6GI6cOYaMGVrnwutdWDd7ePEK6ff4w5qLcTI0EaexSVHxUe7Ze83ZYIX9+FHN8vy\n",
              "vYXt3fYNgqz21WkPHmi9dMabIQsXJ6vHxd4p+tGyb19Vb3IYxOiZ79VfmbdMTiX9N4n59PVLT1gB\n",
              "wBVe9jXToMnnxyaOgQUeBFb6oiBhhRtSh6UrT68SL/Fh6DA77aQRDH6esRlO7jgXMx3NcwgGIbkD\n",
              "n0Pkosyk8moJPk8Lw2G+mg9paJ8Im09RBXrx040T4NDxXm0ntQL212IVIOPKTJis6SftG8yac5BH\n",
              "NI+Yt5mMhnxWoSAlKSs8ToXDtkyLZG6Q3l1IPEB5qTwj0gLpkysABwRhJ3DtyS9mSuphRhYAKSIE\n",
              "skwdjvjZUsFkvlbPcyYy57s4ACiBZ5MIrPLQGBZq7pYxYM5nmHL63N0p98f5tI5oiJQ7LSCUxcLn\n",
              "mphiD3U0fIgd0xutkC9CKQyKL230SlaSW4zncVmOENiBgdgCy8dti4VwAu+kO+kUoNogcAl0A2OB\n",
              "rdoA+fPcg4+t6AOXFIQU4rxbmkBDVqcJMNcdFfBWPRbdyrkqBajktpTv+Bahd0+Fa3SWzaHHLtb/\n",
              "U+gab3uxJZlwzMIGd3bcEzk5JEC192hIFOix/H74gmhQit+CabpQLU12MnXTNSZaOUBG0SNTOntv\n",
              "MqVjBXk56g1AmeDU8+vBCHX9DwQ5NWdyP28c0II5yPi3qo2b4y4ya9zImC2Kdu4Ieg9VXy7he6MM\n",
              "F2SfKeHJdJrO8LTFq0VO9mghyz9QWjKEpku19cVfUhn7o2pkHgGMIFeZdHPHb+cYeKrIFY0NGudH\n",
              "eQQldd5am+f/z2m7JtdYjKSY4Kpi1ITaTvJe75bRsbCy1EPkgnhY2haKD875gDQA5fLWeFbvC4Ha\n",
              "m7UhhcztlvtqOBP7FFdFrht4faARLOPs6VDFEUzWyfml6doeT8Mc2X39Jvyba9AkVb/dUHGTMjB1\n",
              "MbPp/2fRPq9jag3XJkMF9ijz7xRAJ9ItTXqFDKx+MyvuAu45SbgjWjiyXdHtuY7e+dbNmLqKFoAS\n",
              "L08OK2MH7B2oT6HhAjjzi9wX5kMlLW6yPNBCPYQoaNWjprG6M03ml33AQ9IFq58CGyn+dv2I/SZl\n",
              "sQAAEU1BnoZFESwW/wAAXxfFedq8HmuuihdtxlH3rBNgKHuGhAND3VjeBut2/eEtk/iyNBXtQxU5\n",
              "XHziRzU+foBbtPq6DIjXQyLmSmZG9KHLKE3raDgp/EWCFMt5caf4IGuhQpRodNZGuPGPpZijt9K2\n",
              "9ZmexVxwyl32XyvhFbAMe7JmguzuowHXxFCoQfQNO+/5BZn2xS1eiZBhc1ocGXFnBSLt35DQ/DtK\n",
              "JaqTlGvAMW5y3ZSKTKdUTBf0wwtsX7SUElpsewrYbzUF4pZooUzwgkApdcKWLVmsSyM0MwftQMMx\n",
              "K8DdSa8fh0rQIBS1CZ6tB+gBb09eRJsVqvEHUJHuHm5Y5X+X+1L1w7R1rdlc/gZDmzi8UeKh7jcm\n",
              "T1xFazMXAgdc9VeMUWlFw7N5QZEnqhJByOeJ2uyFx6/FmRClKIt7CTp8fxJ9pQz1Vv7jxTyhkWFE\n",
              "P0ILWxNKFZGYz43dhFivC/6amrCKDRxHLhK3nrdchnGIrVNsxBgZM2rCecmsKsoPKgnUTjLKgHkf\n",
              "tmYsv12DFQXby4xlJz0YLJ4f/xmhaxqUZ2xzHJzabmZ0TNxmtemeMAk61jjsMlq6q1IobPqIYldI\n",
              "MIPfzYo9xk5qZAldgB0TPn3Z/EcN7D7ytnxOJ+Dbtv61LwxnUjCzVxSG64Ck+BKXh3Y8HaDrvdaC\n",
              "5FZqmtNFVaDBbhqMRI6EmwHAgMoHBS2L9TPH2aBKRcL+mdhqOFbenf/SU/SUapPlVitNGSMso1Gn\n",
              "NTp+Oux4PHJ5O35UqLhzeydKuLVwHHgRevC9XtTO1obxtWFlEDPRhAOvHIRnrsgZcv+NBhvoqnTq\n",
              "5eKPGpiH1go3c3BITPVlzmASZ1j661eDwsxPAlF3vAFeQGrWKmTspZzVt+YlfCluXTDjsF0fj4oC\n",
              "Unca+fh7uv37LgUh4z96iflKc4Lmzs8h555woPKx8BUziKmobeoq3VirG1Ping+hq9wzrEyba+gM\n",
              "/zkRRPMD0JGCdO/Z8WSKcAikmE4DLFf/SOcjqizrdTs7TATCKBtNq+wHFf2rX94FDFsoPW7kcTBe\n",
              "GiPryefTzRrcvUdTPuhYseHEim1ImlCKaYuFnjj2kE71DWqdzkirsTvGpRzyiWQ5YblnjcC1kJju\n",
              "nZ0tJ5+szVmMJqg4icUOShf3j3uV0ZzEpWG9aZZU1yO2wuM61R7viccg+jUJygCWAk2boaCTUlEz\n",
              "4fIi02wHikOxG4faXr/At0ShNih4TfOd22p2ZYFgwo+fB2o0S/lXvI1YZ2Zjp6YNAnws7hcxhpNw\n",
              "RCWEQqruzFAcbUL2Z7VgFFjp0Yjb6HmW+98621Wrl+X2dFss3Bueuxvr6rhX8YnnZShC1JX9scdj\n",
              "zA7Z6ehtyRxZCTXu9c6Dy3F5X7GgEm71Z/IGUOVnO5qw1kHb7KPXYn8LPX2P6e5LHXOorhgPW/q5\n",
              "pNlYUMmgIb0XC5hhziCYPeQJM3kaRDs8UWDrBhtDh70EiVTxnp7CI3M6pyYNNxiN4PKNbkJqr1yX\n",
              "lbN8UVPOMEMQtBBRdl77RJbuQ9e1wihxlB8ZCB+WFgOpUcro+bUbsrnrLf1xWHvq+Q9I8z6yDzZY\n",
              "lnHvS/yeJopXQjd3y9R2iN+xwR4wpRdGtcsqGElUwop5Wix6cfcdCdqQAWOKtPYuCsQybKt8SQnp\n",
              "wYsv0fGy+EbFd85nyEPCa3rQVUa0iJoEswfppW8DTSjGgnRaacui3EUAjCFXpy1oTvcnnUAeTbKB\n",
              "fLdnXb/WgzB/X2b8fqteuQGIifs+kuIRM8H6XvIKsqH2olv7Q+BiDv/Xs0gtuQfEzecvAwgku3lW\n",
              "5TQU/eIx1EHboFNlEgdlypueF/9KmLvn+nB6J2fdH7cC8JmifqJifGjFP4yDy9sdiJS1lopG1t1o\n",
              "LrrU0f33pNWdpZTs29KGQJpZH4jImyn7wjCtEYADFyEk0i6NRbEW/nk9ICI4dgQlgEkX8Kqfe0KD\n",
              "VQxG8AKxyttKxzmIz+OHR/JBkLMLZR0LLZx9ELp/prgFEp+JRtsY/lhXRbWn6CdlzrE3kYEVUMWi\n",
              "0YFTqUcUXP5CtgXS+cj+BXv2B+WPPd9PqZbCjsF/1Qdi6lEqXt2f1INqTrn1Fm1zM1COIl7DAqyM\n",
              "Ltmb6scB4juLJr81Qq6/0ocX+BndoSVWJ2fV6/JJJlNyKPoWKA8a/vA4CuobhBD67lO7AYmgbA6h\n",
              "WvZalkaxOoE1QWgW2r0OZlGb8TD/CjtY5Nb1SdWMZJyEIhf56kMEE5gOWrQNhUd/HJ+djtUdN685\n",
              "+AFPNG5i7+Pq7H4VEvMMF4lH+4faibbfogzot7Zho17rSwrj5vK8zxnRfJ+oTp8ifc57yapI499f\n",
              "v1OiuFVm6cvDJixZ7S+BZAt/XIZiBlcXBIN6xDh4m44ZsPwNwW6JxjhVMGgZVOkq4Cc+ANXSdj5l\n",
              "s3iJZ0OWkvKlt8fvPVqnfpu3IQ3ZAKJpMsIvZtKnt8Oob9DvQ2ChVKK14ZtHHdzXDBDWsm9fPXjx\n",
              "5O8i13KOeC5tQJmawlaQpN8dMpc9TA7PRwKlfLVUHzlmOGJE/3/j9o+xQ88rJnrjen0UJX8HXLJ8\n",
              "V+Xf5vxH5kR4CXN7FABYzp7mVCV1kcPyW+dJFkxfX7fwlb0j+KSKFVXp9Q6hUxpTrS8rsZ739S9D\n",
              "Nq8xWucBFX1512tGF2SMbJxQF+O88PSG9dDx7C+Wb/p3aw19mhPSx1pztUCsc89TOfoF3yhS78yQ\n",
              "iTcpYqz5IwKz5M7HFnS+IPGL/euAGE1SgP6DFpKpqQRis9W0RWHar9tqsxqN6AmjwY1xguT2VWHD\n",
              "HYgHFRwd4ayhVjdqU5P91/8G3lC7N7CzjzlqnJwCyUSKevnDIIc3HDCMXFF0CQKqQu6ll/sEidbS\n",
              "8fw0N87CqixfA4Q0gPhi/h/3wp5pUVwSGgMrLjeSABhlj5uM8VF1byQuyfuNUSWNZ9ON/3QdUDmk\n",
              "MeAGHqe4jd1KOz2hNjEdsUiNwi5G66WcixdDTD8ncN1GCP6bucVJz1bucTkLUTKqZd4EyArkJWnA\n",
              "gH9oOsmlMk/H9gAhMfPLRQhSjp5TKY73tJNsh1jA7/UMxycAlw+a9w/Kw3Y0IOBn989E8jQ2/4V0\n",
              "1ZWSclNqw+e8hgthTIHsLiZwwuOnO8j5/EwJpT6MDmzSAtw2RNnCfPWuZEn2IdIegDDreDr3ol43\n",
              "BfaKs38JX+c65EFLXOTVafTgp9bIfScy5uEKDkCACpXTr1WcQli30gZ0QVGNtusz+EByfHAYaBQ6\n",
              "4alu4pRswjWD0yuKSbIUALS0b+Whiu0CHUvjyFJ1NXaNmyEkMtKJjeih2K61JNE9yTy/mQhEHCSX\n",
              "AOZDYlDH0ig+vpZWIirnvvvzmIVvs7SWMHR7y3XxeAPHaZDrQImXdeWJzPCO6ajl8MOVOBVjFV+L\n",
              "q7dX4kXtakKKU4NJKC4r7hNjTug50G/g8eUtOpda8X0DXlCvwmSMFLDIAM0Gu/ZvJd4gk+pC6yrw\n",
              "FIpgsCLCpac6d6pbdlkuUfpLJ1LEPTMzFBuOPmwUrBDu4Nu9/eoBhj2PvXki3uoTl2u//Szamuov\n",
              "EPTlts1TkGB7mkBVLATAo9R9NoHWjnxg9JY5gDDYb0Oq9qu7fl0RjZY8SJ4gDtskJbENCBTeS4J9\n",
              "BQ5p0pzPrVmhu17AUIGsqZF3+iz3a0cLlJhjPsSnS0/Y201+2bsv2xtVAktFUvlb4atlxN5bki7h\n",
              "pABUyLAe0FcWHVmhcBQsXRQZpTzvQPNPVLwhuLOV730WCGS3989IMNXhd1KoDy5ocoK0AgQo9R1g\n",
              "eBEFlXz6kHjRV24G38WLcAaRw5FrtsQrT1RlZo9PN1nIbBqL3AAYdEEdysGWvb7CYJmGeqo+u9EF\n",
              "DKDQu5Mrhogqz8UYHlqAgczA+I0dyr4sPQsYI9Pv7NHEWoNoV1mKDxlmOdLI40aypMD+Fqe4rnis\n",
              "6AGb+e4e/z6I1/dPqkJqP567R2bLF82tkLx4eCTu5ZFZBM6DeexQ92EUFm+vV5Q0/xZK00pOg2eK\n",
              "SaBv1DfcQWhw10kjnMzFYVkIAgwI/027SBcpmdT1VTY0a1jPXd4SZ9CS1gvGz9lVwY1y9KtrhbBe\n",
              "zvW1XFWYGTw48yQ1sI7AeQzV5g+eSaxARXdXhRhOu/nfEqpvIEf0FQm1dM3XkmFWc3Hyj2PymGKr\n",
              "PZ7CN0OaZCvGHmoGbYwoAxQW6Pyd2iL7x+P5othJes5kIVHzuTcvcWZahf49leNjn7gK7aELocl6\n",
              "m15OI1P3/rrt+cRSIFLS5wmXfOte2YAlkynAu2Eq6MHDO9KFi+LHubSqnvYYRI2UD+klc20rnzSM\n",
              "B9c4Ch1Ux3jB7Ocammcxm5Qu3P3eja4K/YxvhuviDGRayv7cfZ6lIGJh79eY95OKklYTustPl/jh\n",
              "eaCEzfB1ChawyhZHC7i+h3gCP7KPZHGZI9SyqZjaNfaNAQ6TJO5WJtLPtKmIR6+mSsLdOoK1Uo4O\n",
              "+kDg/hei2yINSpw3HrCtkKFCzjrV+SBZDBMV6m5UAFuy6cbdSZAFjh3A6mSy17jJYyiTn3lVyKhs\n",
              "4VJ2l2fUNK/sWa23iPd4pqNpmg1CvP3XJ9tUqesB6ajFdIgrwuVEEAsYWlLwtXXNh8XXWRCCJqGh\n",
              "UgKMJf4r45BPlpLNLD/CRw6OpBAP0/Nts8yAkt8+Bg2LpZvT506bTnvTR41JY4/hVYtgGpG72bZF\n",
              "yzAxUGICiLXzSbGvCkfutuK7f7SJ23dhVhpl2ALm+BGZQ0bAERna66VOnBm4CpqUVQKcXidcX6Fj\n",
              "KO/b+JK9QInD0SPwJ47z8OgdlIFgPJFNo1epSFnvWHpHRr9dvOeboH4WRIoC4Vge4tsn9zZHn0sV\n",
              "+rWV2orAvVMqnBbM4BojefyxX+L9cq+80tA56agDjvAM8DMyuNJw9pc988Zzrl7WTNZPSEeFVtRE\n",
              "XWA74cgqZ/Q4kPumh/mx6PPHlnW9DmaXSZE7ZCTtCUHfYNIog7g2zTTGNr5vy84jLGd8xlGsdtKt\n",
              "hQJ74ui7E/hlmq6mlSItbm6YKbxzXE6sEkfqlmpxSDTFDCw+IQfmxTn9Jm1NsS6WC0S86bBYjH0D\n",
              "J7nwbF2F+JOZYiuKfjUjMlaYoYMF5m2qEQuQJOnDw9Nhh/PyUhZq6b+FniYdBDXIxH2JNDReUQI2\n",
              "Equ9vkdLXoXXEnc0C9Ctswx9Jicd5F9vMziALrlhslJPt8TBUInZDHJHmbwcpNXK3EDMP+pTCZmq\n",
              "Ay5mBYw2I1yfdEjUeySpRPzwc9DypKXUXLwbUe852+/fgyMLDq+JSzWrOBrGKtlljjvMw1JDfJ+p\n",
              "QhDVAHWlmjl2fzS9J32spP96BFHiMUE/okyfBnYV9I1xTBm51wgdxAVdtFqsvt1a+SJmAeXXywji\n",
              "iMX/s/zpxD/vMCTpZbNS2xzeBhO6Mky0QxRZKw/Jj/DpMK4+XuIPh8Im+eVbPqmXzWVKVWw48uuP\n",
              "Xo91DhYpJbLp2d47nZ/vHErsQpOgOVPqPAsrpE8/SuaSYNjCst3GrCAZjLZO6tT3XMWglnUVbyPZ\n",
              "ya93QNnKNLhwjurhZf8YoQkWYythejRvLJ0ooUcvMp121iJEYGGhbcec2RmurBUnXIeUC97FHq7Z\n",
              "Wx3WFwOuNlSoslfIBKVRJcztWjucwnybD4z7q8u38Fx2YoS98YEbFigGH7JQ2PEyvBoVAprX2B54\n",
              "M4gAgjRUlO5Y5sNLgyN5Sq60RsLOvNrLyP5c1CS4nVoX+48vbrVlf/RYVAXRtqOc2+4h8s6JWnh7\n",
              "uYcd0WsdW26PjxxROzm0IQbVi3gWQcUiit1Qr3D9D5xy9HL7GafAX97H2QpJYL7ZxNaUjZA7ekd8\n",
              "FjYXtuNVm3Z7ljq2iFgV9hJiNWGFiLfjOdZD0ox6/hkuSe0yWJfDt4cpHg+5AAAMFAGepXRBXwAA\n",
              "RSdFSKCndK/f+IP5MCnGDvroWEGimQE++iMw00Q7nWL2kMmkvaQVd8YNgtjAEFVmXfKtbV6S/x5o\n",
              "SaEWQt01IcU7bOVbKTq1EsMLSp7z9VEej7q4XpoAaqpRBfuIZJLg7dzyldW+fnxZZK8Mv9Nn7ft1\n",
              "U6Il76aUEUr9aAwx1/DvfPORs2+euOBVmpUwCyR4K+3dvkDKfNpz0LTP1RBjoS2MZTQ//G8orQs7\n",
              "vy1npT69QlXMYRZLsA3DnN6ferMoxLF3uDP/AAUofb6xDPJtVwY0DA0LNHxUbYVpX5SvInwcoGBZ\n",
              "tt4wgVs/NRU8rml5ujEvTzPHKP+ofinVg35ZEL7iHw53gzi5NGRQIeoISzvhz+Q9J8mB1xvsf/ai\n",
              "WhLc4rF8W8j40s1YaE1EX4J4n3HT9kviw1Lr+YbWrWtA8j9luZ7FHJq7Wt0txu7XOJ3iAg3zwAMs\n",
              "ASPP3t/+0FrwwOm1tpj6Mx/8za5L1CcyAPDDfnkLYNyijUGqyHbGCFAlQzOfs/YdhrZEZpBBLMex\n",
              "TF6MxkvLg+K7EtLssJO3P1SZUjgc54CklKTUAG7TzVQqHt5cJo9WAO8j4OwKbsFakq18gX4WSn7R\n",
              "iXfkEXx6Zz16n0CiZNOO3kQr1ZY8w/gHgMxvXFQ/5zYJM3iiN+M/7pfILsyujl2hXz9ZVr6EsrEw\n",
              "PC2pGWVVnBuf6lBzjR44Ggh17+fyYVmuaDU5b9GFdXgejO5GmSgRYWz6IDH/9Nb6OIq0j0BE4hXv\n",
              "11NChJWE8XAeLicy1JijcgxylgnCPks9nw7S8x2mjovJA8ckP51bal9WaYZnZVRtSXAV5tVEYnnE\n",
              "yaxkNSvHYtl4IbhszgNJpD8ptp8lm56vBGM5dAiPnqelV+Hwp8qLlj2rKL6U9i2GOzDzsDhGtfxy\n",
              "vhbH90WZRYCuofXDMLwCmsI32EWwKq1vJ1Psu7bW5W7jEQZdgaWxR+0gwkQh+GhTAipCtf27QtFV\n",
              "O4h+F08fzjt3GFSaTj4D961R/D7+xOLkpZ0CYpGPgOyGOGdXuxjRm4TrYouHfdjCl9YezQ1GKmsq\n",
              "VEe+Hhx7dgmYIG5BrqrO261zNA71rW9YqhtW0VBCZyMAJuPk2vcjjdF40L6wCnteYzw449Q/0lqf\n",
              "+ha0bTeitgW7agand13uzlV9rpsoFOXAfyBVOVzFthifM0Tnm994uL9SjvsCxzGXpYtopgNoTPtd\n",
              "pEFhamvhCwUyVL3eWlK0doeOaFeQtRJKrsfdMoblsN3StmBHXMfi8XMATi2bljV1o/x3Na6qLt1y\n",
              "y5nQW8pLT1ixKjnIWaqiQqK/RAnMKk3ZIGeU9kSJKMc5gYq4Ouu9JwvnCPeIn8bkRz7acDQvJekL\n",
              "DpIGCNbhmROZ9jgaaWLXMbpIxN8EhKLaOGbh5uEIduLtnUfB6KGtCXO/Wt1kg+CBjztWv/IgyWQg\n",
              "47UKI5uX+JA3EvmAt6sd64uPnkqdVrTQSUoj9dJ1kmXZXV/nfyWJdrqqWA0aVtmAS9P4wr1rD98l\n",
              "GZ3clr3DDzJWoUJxMd1uQ+TmRd5Mc4tY9YgFD7IEqz9z1pz7wJkA8pPOdSVyfr73DxYfPTVPY03+\n",
              "naJfqhjmJr75gJmwEhmpYXiAdFm+K57pUnL3WkmRL2zj78syBJh+ZvoRH8Xs3KOWojitZ3I4SGxV\n",
              "tk8BMElxc2CEeVqas2H3WD0v0NjNgZvSJ+E5spagYTvtIjDO5y1tOvTdWmwufZdFh4DbjMt8LrKm\n",
              "0V05hEL4LbmSb6oKugvsAEnFhB2dnW9tojhMJPjfNTQm0b6yQzyonRnLJmCOdHjyoYJhXr7lmc/l\n",
              "JnvIfnThyJZ5U/KOTcXV5iwTwql6FkiE12YhKAUY1J+Ax3pRugwNO7ODy3fTCMZGArQVsnVrLMVo\n",
              "cUMsDysc3LFAfS9e2sQbSgStAMoQmYVpVGAGVyTXuyMZbdEhppjl09x3/Y8Jw2i0KnsX/lqXurOJ\n",
              "8UvHQaRZ+KSsMd7h+7VCsIIhoBZFk/iM7VIjdnIDrMQuqy+74g2Z6RRvatLPH+c7Lu7D1NfVVgLb\n",
              "iJW1c6Bdx1enHmNX0IWbvpaG6r3M7PCrwu43J/GsPRTiBbv1QmOwlzbtFNzFqIN9Ii/507rYmjsX\n",
              "V5Kgi74Qm0M6KLhRv4QP7QOAFl0N3yfUD2GXHCPErlUcVw9PGTkk/xbMQ7p3XwAoS2iRpO3Oez6C\n",
              "r39enW1es9+1AN0d/STT6KEEM+WLTZVauf655KnAtjLj9ltyYpvKV3Wg2YYGQ/wqFaW/EWfc90bc\n",
              "lfPhOClxyZsZ7L+S4OjNVOiHdkn2Lp7gytmIUcw0BBlmx9TCuTDy/09+pXjQgGAoFZw84KC/53P3\n",
              "+cExexdtSRuZDL0ildBTwMb2Y4QF9WHJcrg7GUdqV9b55AXt4ei6I95va0G6QbQbqAZYbdsIAyf+\n",
              "ZtB03CxPyOG4eV4Qf741Q2X8mB6QbvHc0rSrIItB+uH52dPtOqCxEqGz+r1F++PkNoLWq6Gp/iJ0\n",
              "mZZ7/KadvsRPYzOzpiVnRuCpshLk7jOXfnC8CNZ4g2HRvTOZI4TjNUovFg+fJggy9x8GKMB1W1Wh\n",
              "DksuMgAfRZN4uAttinkoy0mAe8tfh7fKqwCsE9kCJL2WafWxGgFF8Gh0A9nwhcHpwlsTbNT3OE5O\n",
              "f15dEQ5WooEfW9KQjBc99ZtyIZOLQPCrfQOBZMX49voBVwAuJUOlqWHb0Ys820cMtt4A76DNUZQC\n",
              "rKzwoxgjJca8Wg+sfccUwBA+2eyhixwLTRwMRpyUcbxGuR9sFzRV+hETRh/XoCIXL5rCfXIIJW2v\n",
              "XwM2Dzw6V7t3rC4/hQxgu4A+PRxAZzqtgflrSja+cqQnIOMrDuZ+pgoTfxignNOaK+VrUq/fQemU\n",
              "7/hXVM6eJXeXTVV6M5c6aF5Ga+Uiv3iH2k7a6INPfgvguYHLAV563I5Ei/1re7WrEYkLa/z3M/Xd\n",
              "MoFIJbSEY1B+OaCnh//jGtNNAkRn/JCjTpTS5uXgoOPrZ3c/z1Z5GEPtIKP+XSPHZDwEbkz/eevI\n",
              "M+PlZIobUlUP4TV2hrWOgZoDzDUdAYhIGGsVRCABAgJB88qQn1riuPlP4OuduKFkL4Johk669Hcf\n",
              "3f2SJ3dMERt/oIUDNutuDyclm93GTGvrjXueyUlxmR2GPvoIlf/Qmf5aa2fwXfDKvMVua18D74gS\n",
              "sxjf5RVlOt1jKYaxOLPJ6m2aMSTpwARpax9YIKR0IC7opRFT2FjIvYJ+iwyg5qEUav/W+QWAKPnb\n",
              "o8g3Fdf2Lfcrb9aBFxq+/epSFnHdixEcrwcgj0QO2ZN5BYguagTWiOmoj25ZcV/bximPUQ/aMU6S\n",
              "H3/W2Voc1IOriCwenje3C3bNiwzZi1j5bKe9qIjGAqg2h3NUMWYctXmEuDCGtGLQ45jKg4CnV2yT\n",
              "JjM/v8pQY/6QgdzdrnSqPP3ObYSPcvHvdrx5buEOiGw//MmPk7uZH8ovKLFq7uve94VNJmk40XBC\n",
              "I9pCD6WtulB0NlHFeqhrz7Acl898T+m5DfnMXp717SXD+c+xmjDgZk8bfxYiuPrDHHfYCrkBa3FE\n",
              "er67xghLXgtm62THPFloLoI4NTo8zdKX6ZsLjnAbaigKuiKp2x4nuYPwaTxqN/980qBziJGeClqu\n",
              "b/Zm2tU6qbWP9me1xCopt6WpnHYXoebkIbrTYGQEl0VgO8WfrjjuZTMzG6M/kJcVrs4pqQy0oeT1\n",
              "Jf3zFrIKEPfaPn5Od+LB/K7hEJhnjpyYzD4nIbjsAUaWg4HNIgf1nLx6WtJCzB7j6x8f4TlyLM5e\n",
              "PUDbXJL0rup+E/dis5MXngzeMfnZ+jI6kpE+BXuxMS67wRDqq/ttoPJ0r/+Watf1YfWezl2Ir5uQ\n",
              "4tvThiEpj+N6LLhUyRT+48WFxr5qS7MJDcNKYCa+Bu2r54UvQG5xQ15PQ62tNKX+xObpHLFVWCfY\n",
              "ItH58RYPbhdhKSr2mqt50qmwiG8CaFnC6DUInascYSdmX4B4v5b7LEbjJU8Bn7G8V3llPpCFSpPT\n",
              "TK/3p/qVsJ0n6lJ8VKx+jQYiMHiL7u3gCxl0c1Tsg+BJCXlB5vdFPVhKYnYJKSYH5z//4ixkw5gf\n",
              "tpqhy8NTAAAQ8AGep2pBXwAAkk9q3lBTzSv3/haGTApxg766HFMUpFk6rwtHb5h4EbLSncMvP/Jo\n",
              "EQh2rwGQX3VCXSWYvEyj3vTAWupeASdhU7vWbCRjtOyTx9FFBY4nt1HkOySTKJ/8EbwtmAKw0eoE\n",
              "ISNwYDGPZtoCaloScFoSZZBaJcJuyR8SnoNpxRqUSMnxoBGYapS8dzs4d/KoL5tGmlYBZCx2A7W1\n",
              "jazFoys+9x/d7YI67vO9pHbdH7mMz5WeZn3tm1IAyWggQHX52nhKPiyF60sDtI7Wmp4jNZhI5LOF\n",
              "xPpEwjKUQ4MNA1vsaTxCVkRBdXwD9c+nirwB711srXOr7jPsNSAxMuLBLq1waZzkla40OCvT6dRN\n",
              "pcMp/xjzbyyXRr3povqZ2vKipGD4rx9XZGvpvjYaaeCYTzx1ahtcVO5H2MFt1lSJnKbsmeQ+5PEt\n",
              "pmqSB10SMmmivqeGdtADyzGGVhC5Lc+IawZgJWgQJ6oSXV3ajeS29q5wkJheTrtm8ttlcmSIJ6Qb\n",
              "Dyx+kfm3MlRBiedyhjBwpRzO5h5FgaF0kjstGJux6dPjk5PBmHyF9s8Tun/PLCvypVitfdxM9OSI\n",
              "7sYPqMRKWfEkO84h9/Q/HfdxALFxY8XfJwPwfehVdF5xsTI4LkIkt+2v0w5rMjJxtgVoMeoazy/X\n",
              "1R028sBntYrHc+G4oCRu7Z4UzLivPh1abNAN/VNsjomjKJnPAKOhTgdA0DuBClJcxJSw7VjtKeX1\n",
              "DptyzK+ZW9g0NroXE/AawNmLpg42WVcxUwG7uwLLtrfnglH0uC3TCH0Sfc+GsnuSBpMON3A+yETZ\n",
              "TKlOhvp0Pm6qqEY2z+31WNGIM5pFTp6e9tHjqlfGHB+LTyM4lKBA47WS1paAimqZT27zsMTRQlvn\n",
              "aNppzolAFwk5CBTJXCrs5FtK45hVcdr1sFMBxP4YmU6exTUOqtQ35CjVcxgyKGRW+j9wriazDC/C\n",
              "P3HhfYGN+lW+fvv9aXisjoO32Kc5SaUNEuIf7C1lAy9Hv7k4S6SX+S8d9tK0awbplXyU6LVM1TnJ\n",
              "of2VfEtowMNvliD8y1GK86H0hUVqgf3/gZdQySMxkdDKkNlOaFq9U5Ye/fOl7GEhAuQzpoK9HEHd\n",
              "W0nA+I5CZwHsl19JqAv9rHSkj0SXs/6pGpZfgnqr8T/Rf+YyPqsSHYk2lkit8ZAq/i+suyfO2kzn\n",
              "LMeDKFUAj3RYmoajMA8Ky6x+BOUojRQq6TjrnyDKcXjTeyfGNvjkKUA/SZm9rPPJzqG1+YfsLU+3\n",
              "4slpWGHEYdyz2rdzMtDnvyOBL6x+EzNmdRTSN2JTfyPpVhuORd1pxKjR3bZ8iEKBN6zq3BqeKyOU\n",
              "8FOnnaXmsku3SSH5hEU8Zbby581mvWRtxSITIJfl7bMq3Yxf7AEON+FDTkFoIss2Vph9d7JUkEHs\n",
              "r3BBT2Fltg8enE+CGtn7+d3rGUe9C98zqQCmF5d20cgY4qNKqydcE2NzK1V6yp16jT77SEhv9kkM\n",
              "8K1BWRLFX+BmQGUOLBQgU2j4JdJ1NsEXUGlITq5OWGSnpvvtHdOeR+HCIHUvB7SNJ3iwClNZb3K1\n",
              "5BMDedztXtDy3fKhItpgOlbR1lAVabm+O3cP46Mr+AVUOY0/xGAYBhOyj2ioqb1KJKRaDb5qgamG\n",
              "AmA80t+9rDN9ormv/Vsf3r7SPlgCg+8V0C2jZSa1RaA8A2J9hflQjNkWou/9hYdV/4x/78DG4idr\n",
              "eGaQwQLEL9iQDGYlenoXGzcCGIA0EIko3SLWTKRlMxE+VJsfV3do1TU/XHpEx/gGLsaPQFKoZZ1B\n",
              "0vb7nau8rLb3XQ9pOFGluMYGIukego0ob5CEaUAsfJJPR+sJguH90KJMn2a4K2WWwUxj3OQDSwhR\n",
              "+DhfBeZEULMSrjLeARVwvDBaTzWbK3mZgs9mgax1VTn4uD1Q6pJn6GzgFWgLwdSgjQURqE8qNwd4\n",
              "FXWDpyqAl3MsCQsXppHpn/0sybBAIcdWoNtUcTQq2yM5KL19wTGH3SJ06cuRuZ/42uBR71ZB+O0w\n",
              "prJXpI8YBcl735c1O+spxW6yWeKKe9o7bdwIQFRglFPlMpv6BeoOakO5hN3piXnkJaCBJNjILLl+\n",
              "La2ipK9YZYE2QeScUJXBA7cH1mYtcm1kcpv7NUZJWUu3U8XFlTS8pGAOO2XAok1TFWvIdFxla8Zk\n",
              "+F3UJpyDa+Z/7tSHiQZN80/Uo2qhJBP0OhhchXmJhkH+uxdC0BmSC/XrJrHP4X69XwVPGejBkM57\n",
              "SeAdRkISzee1wKox/iwqg1wlO6Cc38cWDbveC6G92F2GkdcIU2/oe/UA8817uL9FQHcCBPmqG62R\n",
              "wswMpRvvJn+WafJIqHmCt4sc8N4GC3gxgH6Q7yV3k3AsxdOsIEFsujZcMOelNg+T7Jc46iZufO70\n",
              "j1D/q15Ub9GzplCXMoimL7RyPBolgGeorfXX3zoHIimIiSisluq9BcW7OEdwkJsf1am2NiNO72+O\n",
              "KYfHAFBBc0hwBUc0e+nXHe4bMB4uqdf8tUglWQquotceosF7h7HeAxwjXFRQjIvAZOFmKdPxT9h6\n",
              "JLXSgQNIOUeXcL6IE0XqlanYilUxCeOa5A2vbpB2ajGCgN+2UY9dPmyYKL15aB7nU36EL1ol6WsK\n",
              "yBYZ4g1s8TWu4zd3gqo6KVDj2hgtFPkNAOq+N/QWoxsaY+OQ1EfAux0Jv++upYu7sn6LCR7lEXn8\n",
              "JbFBCiBtA3SOeyqtZesrv3XEbtrnz0q4ntHufntZjpQ89weivXQcCdHcvUuUYVh+ab6PVzcuepB4\n",
              "SwYtim+8W28F+BC+Q1DxjMj1SY4nZN2DX8UZw9guqXPQW+QKlvCFhv1WXGIFVSCp339vfehb6Gnz\n",
              "kUQlXULoGHYnnbzBsSvgNGPqyzv+t+wt2RVRbhj6Fpo1rWI2/a2XHeAIe9zsiT/aC+Tu8tfBBVqj\n",
              "0J4zKADVL0lduKNNq6O6KLKS//h7SWdCuASgU26M32mxY2Xk4qZDHOogXRxCloN1QvbCJQXC5kcN\n",
              "X4pFZKG/dGuIc2zFNblRbnk66LklRwFhD3uGan6UYlHLUetlLSJBSIYggZY51G8gtOCGfVMKjenP\n",
              "0b0ECLQHiYaGwA5TFAWBOS8lJ+qPRj9TKRUe3gNSN2VzMNvnj4C4UwFPtkGcZGgo5J5O5v59CZ0k\n",
              "PEhJU0+1Xcg+ttpnsWaaVX4G4lNoHExl81+UtUYkzWzBCatlmi1pp29E7i+zZcnyIxraOpB2M5jz\n",
              "PEMnWGjMw0BAc5wAYWafe2Gp0dkWlxYlll+iOvPSZQYysXbo4ceRyWgTQOgaHe6SLIIeSfStXY2a\n",
              "RgfmEHakJ4WsjAOwnt7KorC6V7RmPGJjMnRaE7SzyIfe+s+haLywDtwdXPKtb5eLXZ0QlzdX3qi0\n",
              "kGbogvnNHuFnk4jVA6HbBCXKQFhQaaKtwLlk8MwzsNy27RNGopVH29CtwhHe7iUqEwcBj1wQtlTN\n",
              "9Bgge9vywLbwTYO7rVcdznELYafDY0OI9bcoA629oPcjRLPrz+DKEAauTHfUmX6K2oFm5W+cnB6u\n",
              "TOSxS8JWa05OPp0ZjIB1g2CRBzvlh27acPz2wJxiNU0dHA2TYVIhxxzDtb8lQYPf7peTKFKcoLFz\n",
              "nqBfJ2UnTD3szvq1G8u9CF/DfCwFpvCLIXmi1B7JVF7iOokLbEA+YghHg8EceNUD6h3EQmtmN8oU\n",
              "ch1gb66DfFCHRs8ffH17hIixfjetLSCieSJhggfeoMCVli2bxbgVSfyA0nvquIf5DE/1FtDhpkRs\n",
              "IRSqruKaIhuHdxr3Trp2Mf9uv42O63cERAQCAzybelfW9iVxLd6NKSQo9va+UVXWv1imGHYfz3vt\n",
              "1ASU2kKXxk4egZGOX2bO/BECLt+IPlY1Qlit3VE2yE+AZh9kWyD0hVogjBFHT7oChGSLOGlQTgix\n",
              "GBPTpMYFdz6W9LmX7PjQUSG0wDn6YOq/0MWU8PHKArF1AfOl0SiMpBzcgXTNE0KdVgf1GvEccEyn\n",
              "mniSU15qk4Fp8l7Bi0EBEcyFIuf6lLf+Gz2jRzQYwrVgyoPMxj9E5pluv7qH1jyZviUAo5H5wl19\n",
              "yY3Jj98xXlir/PBqzN7UJ9MoHHKmuLFoDUc4usOfFnQS17WBMqnQUzvLVH1f5D7l6ucpTPAQ3iNa\n",
              "LAXn/VeeiKZl60Zxt06uh9hXxFrDG1R9bI0vZDmausLMrGLYMPFlGMPIh8IBWQ672jzmSSjTfpcs\n",
              "yxj4C149pKfB/LsVgC1gWVOsFXoXsiWS97sx6/1FmHZXoelillvG1iahBX9dHBXL4kX5bCzOq9zk\n",
              "rTp4Q7mpdlN3H1zoRbbQTE3LF8SjW5pRc2qtEyxqwhXHbMP6jUSQiYTLPcRcYvZ7iwlJOmT2bEDX\n",
              "yFzv8oxZWvQNd3av1vwmoV1pMnKUp9ugQ5RsdfCg5ir8hyIZFkN48ZBs4SjSEAx9HJiWAutZCoTL\n",
              "SgcFPoOc6/+qqjYqix+sa/Jo3jU3ZGBIv47IGiBnlvHMNscaKIBEhlx3rQuV0DpsA0rg4HzJcuof\n",
              "vX5ynDhjduxWzK8o9AE48jG5HULkIF7nGhl4j8oZECjDyvQeRImypJMvuji1S8zGjiD4jXNYMvdU\n",
              "3wWXNNalj1uWyikYOwv6meH5mW4d/UaOHKLnVpxu7SRNOWAyaqZKnrQNzR6tTNzO9DyLbtUaG5wO\n",
              "mLiai5ykcFGq8zm+dkiYGxag3/A/mlAUzPvRU/s5WhKJQlCnzsjzCmxk5q2TLGKpz6/RWH/duJox\n",
              "g0NjsbbwMyJKK12fYFUch8I4ykW1uT7gy9KF3kwmgah4ntIPDrOhuFtxo0spWc7uT/zEAqMaER/D\n",
              "mxI6Urk2QoCOLFLC7XcuwuLLgQk8QsOiTVfzPHcKeOcQwkSdmj54clSS66j5gpPg3O4Qt9wNa92I\n",
              "Z97dNbn7IhlQTtv4i6IO9/IrEGYVwYpVHoa7nzH0Vlojq5+EU51engSbq40OVLlZ1GVKwEhJeOBt\n",
              "rYMHyYASSxTX+8VtoL90ya27MglZABBrsNVHP6HgOH0AJbG7h6/rtija12GodcL77f3XmjcOLB+k\n",
              "L6z/gqzRulJrN5G5TKN5jElzrHRw9Xq05Rz/Ya4Q8RF29iTV088jANS6IxLxDGLX3wF5XetIXXDv\n",
              "Btthtp0V2syaJfPDKuBO6X9PZSNlhcc0ijLHDOKunDz7TmjbmHviZLKA4ExHr95nZXIHeM1AFGPo\n",
              "GRSe/BkbisXlUa/IQeO21d6uuii4wuz6GCvva5407iI8bfFrbP4YGegWHJAdF8jg+Dq5uXfA9fdy\n",
              "B7cV7D1l9F6dXo6GLjSHo7w8uYgaSOEMiIdLffay2H4YtK2DiKTt1ikYOrELGx5wPUa+RIKJ+2GH\n",
              "7P2WRtEqXbVt4j88tX743T3ij3GpHV7bBXdhqeYSW+ifL/vDN4O05PtWBX9K5YZWqXep/cP81Twj\n",
              "rYrAXRUcbLumLFbvRSWH0ZQ5GahZMq+EPHyH6YmjZ0X8/ERMnD0n0oQ37qb/w7EtfvwLzfU2Qz1S\n",
              "i8nq6RXnZGUcB4TDiWl59CS7+obLyiKCHsI1L41V+NXM9ME2oCKZ5FvKbTh97Zn0IWcIJoVq1/kF\n",
              "jwL/qZr8c/A+fjx2jhk27CISCTUqcc6IV7MyGBb51q0LjebA9UzOI4Kini15Mk6faWOv978LaZsF\n",
              "a5g9Kwc9oy8vlt7r0OwkPOuTUhIirhjb8Qr0zxClEK91mZ1hw6bNtc5mTTc5FZK9mxfiZFWa8zby\n",
              "g8guMttc3rqj4sb/wd0AACYSQZqqSahBbJlMFEwV//7WpVAB0ob4QAfyG1ybt9jHIp4v0y3QjGXY\n",
              "E+NAiE5cEVxQNWmPRPvtYBvBe0yjy7vVbWiTegM0W8lsYmLNqpvSYBWZEHSMLyCJWCBzcSIUmjG0\n",
              "9qZyH/7agR5qyaQqVSTJ/VRPnhG5NZT2PIBGp0HtTAy34uC/vL2ZCgc0yHNDfPPZECtLkPcjt5Wf\n",
              "lr3l372mE5JF+SDdDGi1l/EtyrmDpepVdNettnOHzMnOlFt6cr0KMdNCJFKRDnqDcRbFX/4/AlSr\n",
              "Gcqosipd5/IGJWQbyTsf+X8AZMZkga+KZm7TMYgoPhB040e0fOY/lPTAisKiD7sAAAmuTcY5BtVo\n",
              "I+aS19lQVPZLNTou6SP7/ux+3JTPGQBZM2L/Rtvw8/MCSLFyd+7SMfQMCzq5KKi1F0D40EFRVJKy\n",
              "XoG+qt2sT9eZe2jQq3nDjGm98fOdUa8Btvm3BYVLoGcMf7bOVSh+mf3kcWBvQL3s3/RbqCcWrDPR\n",
              "+4XBy3y/FSoQQJ4mRg5LUefTt/bjBtbHL0U8UR0lC03FYbBz7oMCb45CWtpxJL6PIHgSsYLG2exD\n",
              "i7AG2WIdn9a/TI1nHAyMPkjWb6boQ+czcDhIJgh/KZOrd+Cytn9eSZRVWSZQiqI7PE6lJZvQNmPm\n",
              "c6hZIcUhYXoOSHP0XyNb5DmnM2gU+CKFjU+UZGr8k1PMyXqE3a64I/ji8esX2JP3ZRF2OU3934Zb\n",
              "zjVenLjcovskIKE6pXAVwSB2GO4/FDtoqAevZcJ6ckmgUKE91hYFnl4iwDIcL4pTPZC8qetQ6f5a\n",
              "+/Plwg2XbNKr/MVoEXfaOj6i55CfL0aiewCxZWJOhnPwJGL2oz7c9Rtxfp7xkdJ0FT9SlrESM03h\n",
              "poPuLfHW/mGJlLzfLhn8fCBkKGz/KORZDXM9HRX5W4QVJYc2BZVB8i3n3U3UstwIPJDoW8C+B0Nh\n",
              "AmtksFLQn2+T+Y5E8xCYFlqmlaklMI9tKRibLpRwVmMgMSiBO8mff6jyjzqS5VXK4ohbMmOHRdEn\n",
              "H99D8EoLxIh0mhBUwncdyryw27ds9fN+etG8+QRBwaDg3tfbVy1eo5S9NzKW9UtIat4afxOUv2O8\n",
              "Hwskr0D9eT5I8dJQt49AS479WqbRtIU477TLQTDyHaB97qNF1Fm9yEmQUZnMGHL7VdlsC/8XZKZY\n",
              "qCELc/9/2snjziRMtUsWESSyE6EeL/m9HZ16tjxvdXbEAGyHBNcl/xrwvNVHUyeJgBrlkRqew4au\n",
              "V2TsJUCcsYih1LQMEZcggYMgtwHDPqX9gkwyv7V/f/rC6EZLbCYkykATNZYBM11+QshVGAJ+YZC7\n",
              "2mqB4FyKvDm6Atz7tj38+gA3XdRBGtVEOoZae97g2mjT9kkJhkxP5fOAxBgrVyCclVy6EovPB+H2\n",
              "7AfCAWIRKYWFLVqpjwC7RMpJjs2BkS6y9pSbXuNIbQhoRAPy4x4vh03c2Pe7UNFzqfV0kDmR1iul\n",
              "6xmtnmEhk98EfAOuxUVuqvI5dXatQeYXzFK4f9nj15WDF5+Ha3yd5MJXbYKMITqQtpSfsYaEPm7o\n",
              "iuRKCiWezv6UpoAAWYNTGJBhhxfN6wwlPHxjrxVGwdwXs2in7BMALay9czOtjfaATNaexAnjqlMV\n",
              "g3CEytjznvXVEmiI1niUIazX4P7SKvGM6BokutpOexnS6/Yj6liBUyt8cIIDJbEUcbx2ZDVYsh9p\n",
              "qrVGGZ2DxZk4kb7lEF9cWElhAF8JTFwizvQh/7k3U/UYKbxxVqtlv3lA/20BhA4Kw8zi4QzjLF2J\n",
              "GQt3WLontDvbCzXVIRw95jA1woPNEDP/lmNW9hYAERjWcSq8IqoPTn8kk6hRBhnzNXoppWtG1JEz\n",
              "yb2HadLDNiSzlaPH4swsEL81MtZxv+xkwA6eLf2DPdk/1fTBkuPAw6nlAJuqO432eGiG+3kOpdVK\n",
              "toOCI+PRfYB5o+9f5WAthlgCsSMyr7huqqMbyTNZrblX1AkCMHtsgSufPScuPRefBiVO5svOODj5\n",
              "JIYZ5tWF1hm9wWv1WTtik+EZBrNKRRd3wTvpjLkBkCSxL8OTOHq9uzE1ToPQmO/kqCLH/E9x2olb\n",
              "pm8q24k1pf2UNILgT+usk5iUO4CABdXH5ygSzTZPvFM8OV3R6rbwmn9n3WMVeWUgIaG0XaNw3n1h\n",
              "egeYIeGhc66qHNiN/ggAd9eb2FgckpPSPfZFzXLa8GcBYSnHrWJU2V83EvkseOlg3Td0yVaTWJRA\n",
              "CPdwx7LSfANdAHVNrz/MwLmUMHBSDDBPHPBLggfW8r6saFnQgxlm2ZBkaYlVm5uAOTX2/EWAMsYu\n",
              "DDXsS8Y63Pr/qai7+JEy42IoHJ/b2QCWOp5XJIuDc12rof/oiCXE6/dRefOg4VROvy8gArwX/lSV\n",
              "VaOfJ2fcSnIb8tAcX0x1d8vyyipdDO96qjuG5db3DwIJFVSsLRdN1eHMP/jeaJuGlziQadBwMV+4\n",
              "gljO7mvUD0+sowUvTKeC7K/rsjVKLYx4wuq1VSkmIeBwAyjFRSIGKmS6TZ6eQ/fJ2Z/6kKmVMWX4\n",
              "qgdL50lX+2r+UPFWf9Z8UA7Ptu1KQx6r0Wvt7PtbJ7BJk+wi9TzDi8ugJEhMVECXkYC5yV8hlfPs\n",
              "HoYlrozUvUzwG29gBol0rbZBFU7TnPXaVGT365gogPH1K/kGWxsyW03XfVWuNCQ7AidSdNtYF8nn\n",
              "fECiczWhynN4Yc3DTf0gq/Q0zCBdDCulaZSDdQ2SpUoJvIvgFU6h+t4SVwz0Wdrh/8GPpawSXMVC\n",
              "/qtUDg0GJRxokleuKhSroAzslzjgnq+jLHKofQ9d+Q1qQZW8QqNFtsRRhT6K7msVDSXjhfeXkmmb\n",
              "ASnpLOoaXg5giaFwi9q8K9DYil8Wcl8hBWv442WV4EJzHy7qCidiCSf3dspJ1whI1jIZjxLXmDZc\n",
              "XM0Hq8nbJMdeHYm7IVCQYXl3BMd8DjxC6K8aNWeO7IlF3DJPzyVaAeLsGJI+KT+/gMEvkh0vjZ0k\n",
              "F7JiR76qQJRm4f4P7ljfXs5+w8JDfuBHOOvxOuxShIN0ceExktFsdG85G0BtYyW184ZmIfnzQo32\n",
              "bnLrFzSlkInpwn57t+9CXTtvmPmLaLV6CzkwD7KvCQt+R7QdEZcSw1QrlLh9vmpma9zaqdP9WfXS\n",
              "STWExqV70WVwJHbQSh490MXvW/SQZhYBhVtI3dG+c+17SrlCEpusGLZ6Umtoxrv4Lcr+TgqBdd3n\n",
              "E7AWU2PbobAR7vZ8D2Niskdk2ODrSzp7Xff4QPe3DUqxPcjMsSIqSI3KAH5hBYu385jrTrFzDYUC\n",
              "8L2aEjW7itkp69afYuouS/k2LwDnRIFY/nV44LG0jfyKSxp02ziMNEkWXf2rd0Y6TOSgtSTflpRf\n",
              "D1KveX9Yxc+lG6UZ1ECHnP139Pqc24b6L3bHsmQAnaKEUEQ1inMq1V6dBmZdYWJHtigdg2ENkfaV\n",
              "IFUbaY7ueexhVK5ENFDCI9Lf+Bnrg8HyEU7LuaJQnU4VYJa0D2ToC+W4CYj3fQeqQM0Gzn7f7RIn\n",
              "gYuQZWQljJ4EE4uYvDEwlskT25D3P9uMDHFIxyxW5F0qNInWOLtXgHoUpAwpNzbq0EXwBWmDIV4H\n",
              "xLlouwHnsL20pXwaT1Yra7CR/p/RPfsf6g9+LANOJVf7dNBLAKsasYhUkdpSB6urcIGDANufvNsP\n",
              "UE1YOgypPPvLy079ZoYXrwEfIZipDXkGbRqe9W5bLKECDB67ocKvGA1FS8R6p5zmVnmLFqFWvfDP\n",
              "puSNWpVoW76+9CuCYfExnqFEx/VWSLDzEYWWEyav0YaTCFaRIROg15C88Chp+63VYisQXZsh5fdQ\n",
              "Q4tXiaAYKw9LK/qJNN+gyTYplJbZKcdqswuczclfzUNBPRfeeR6Vco1LlWPl/QJm37GdxkouniB9\n",
              "8dxteTUjw2PlGHdBlsC9OFaRo4QsDRDee5X+zxifnU50PDE9xBoBq89dtRS4MOgGVpz0iDVp/tFa\n",
              "+PMUg70UBXegLwCjkPMjz9vb2LHhjnQVgdgKAQp6babmPSPPFJrS78cweIGfMF2vQbi8EFNhlZZN\n",
              "axqFrYWX5ZFmPbOQCTVR4kl3bB+QSlHGV3nYkk/TiFnjDF0BIo3ycGoAreMAd6CADHZpW8FwkGpW\n",
              "l7ncva9Js9c0rXm0XTcWR0b5lvrExN8crCv8W+FtMedwQOgDpTTWzDFani8z2Kw18yt36OxU5u6z\n",
              "yQ/jjpEkoqoCPN6gWGp/wXEgvC5G3fUDcfVjnllZqdUpiFMV5h1XPxbdpg41QYJPGO57nhbJN2Wi\n",
              "geaAMNVMzO5N1KtknvZH9CwJ436dDnzIfSmyLwktVR5NzfMvbEu5WK5J4srMRw9LiWbwQFcf2dvZ\n",
              "wrdxFLslDpy7775zj34gqCMzdZy7wyyB9Yd0IY5rFNWItVeW493LhcdGu+5CCG3lE9I71nitQmxF\n",
              "e7GVHFllE426y00aQ1r0rqQCEgNoo15z6jXH0PJVLZdnz9yXu3zKiT5xPRmeQsN0JetkdZChpm2F\n",
              "SDbUchY79TwePj3cxUjTcH4SSRy6CxOPZcPaILsc6vxBV1mExj1JKlgvmhh4+p8A2sj9l6EsCmJS\n",
              "wUT2RGToy9Uf7A0Xd7BC3hah0XJYZdC2KDyI6Jk2vih6uKqQljAt0LNSJB4q9Zp7UFAIki6XNPaj\n",
              "lA6HlWZrl8rJciTSoubUJrqsP4moXL2hNVh6QTrL+ej8PItxy7HCfUSxnNCLXguITSc8Z4lFGzq8\n",
              "xnQp43ml554E29s4Dlmfv8cwRhIj9vgLpzxBWhhrvh8kfF6ygvpermnhW1ya/IV5J38gzyLYI39a\n",
              "OFQ2Orwe2+1D1EdcA5ihp4MGEmvpNBGw2JMrTbhy+PLJiYqn/o7hnT+7Ya2Nfre+ofjESl4Q9AJk\n",
              "TRgFhL9rWW4Yz+n6SIddnnWs7TmrOTdllmoAI2oW/f5wxvEdQOlAoJXQLenDXHszovJ+NYhfBOPb\n",
              "9pXbUuoP4yJXcJs+IYHnFO5a9tsmrW/pkfgBpJq3Br1XQZYKWQ/YY1oYpJrzrdRnqy4trsP6uald\n",
              "W+OQiHqB/rYmEr0GerTbiyeS5ePEuYeNPUsbK7j7PVWMLMnzDSYt7rNofj7tLIb7+v6rxl1k9ibv\n",
              "kzAGubLBsiDwEhbDGpgS1IYqpocncRwlYK9VLnNOR81/R1pxr+mI6vitKbg1F1sJPqsIpRD9VLg3\n",
              "fmdGr9rWxCIhUAM9KvlNXuqDseLgLedIK4Ubq+iFgrv7/axu6rU702LiM9FMsp5a0L0gi5/SHlAQ\n",
              "xegvSA1Sw+GjvqmuBvTp6hlyCAhtQTwU6uPkYLptbb5FrQZvkKPLVPtqsJ03nqk2uhO9Cao5uFPY\n",
              "L2tbTLhkYx//IqKsF4pRj4Lku0LBTT/3my9C8xuPOK0mkawSW44ggAgi7YqFambQRg0+mKmiiRSw\n",
              "FTPYaBCVI63NwOgP++O19siZfvV1cIpI+Z+/yzbt5qc1gerdwN12I8QRh4LtjIrqubIMOYOnr/Zl\n",
              "AU0iF8MnTx50OnvU8IJ/M0RTxQsVIoRZbY7O+prvx3/+0lMyhFGtC0avLpNjKd975rIBL7bcrs+L\n",
              "U759K1R2m5yeN8UVF+DA2QQ3Zbe1vzJZqgp9Z9UfJ+arLq1Yc1ZmPNC7UFGNJok42yoeLvaN9Mi5\n",
              "FN/07tYIQZhRSSbSxysskGNGmugbWqkFbBFIgj0AavZ1UCGB+OR+vWF2bm17A/mWnIIrAI3U9/J0\n",
              "37ZPwSDiK/IfHDqyH4QseAW9nJ54CT3X0rJm0EvaVCeY35nnmwtw3FAPyzRQvIzzCF1Ah9LEGR3I\n",
              "gcCKaZiDJr0p2/TwwmlZrV+GOGj+KumOA9ORm1oS4YALTnaE8Znye2CgjFp8C1p3rSKAaXdBUekR\n",
              "U5g7uIciulYtpSiDwQC/d8LgBTNAwnikcluOcDY7xjSCteiN2Li279i/u6ydHNKpP37wA6gIHwHK\n",
              "VKQDm1Bl/N0IbDJD94Q0yv1s+WD9ZNH4/9i6kVpp+mdRGheMwOwpvNdffFyFMLl/JkEQIg0CQQZj\n",
              "EJeacfX39Av2B4t/RMWlfutrHuTu6fodn5q5ZtqCgaE6FZJIeIJhcSABEkUfgxWol0sxkWsjKNL7\n",
              "uY68Hqck9FrQA3WY/ZtkfRiDYNxmNbVG0YNEBSKlAhCn0UPQD7LdDEYlE1OeB7dyqhAv2C3kzcyl\n",
              "JO01aP9iR+5h29aLSkcMT05nay6n02LvVXlxJ0prof6SO2of8bjg6zwVP+njbzQLIVdEXNkDZct5\n",
              "tD49woCFVmvVfRPntkYIqgP99oZta6uVP6U5yF1zCz7DuOL+ptOWjTgdpRupErnJPL2ah0dKmH41\n",
              "er2zgtgKM8peGLniB6X3edaQ4cTV9w8zsWblkRSSWfkR5byfo8LUcCqjx1DIWBLJLbESf9/31Isj\n",
              "51oB5qOoz9s0bgwLpG2VMj6Xz2VKOgq8jeEEAi81GG4tY/qh6HAfjLpwU9KLjO90FyF3fus3Zppw\n",
              "9bXzQ4NIHhSjQ8ancIFR9hmRQrcBbutcTlBa4tb1Owiyj0cIHQfwDwkqPdxzytNj+dDp6KrPW+0t\n",
              "PFR/lzdGZwbpJtG72oBXQqcE2rdZp28hahIjgU6mhgYb1ytbOYWir3slGiKTPPwLBELMiBBFPfhD\n",
              "cR3R8LB7TNQwU7weUUTW3gXqbwWxbvnB/m4j/8JErLq0caYmSwlPIPPlG0Jp2R/A+T0DFQaRM9OR\n",
              "lZBhF7glS3q0WMou67ogm6+CIp0JTrmGFSUGWcesWMKzjOp5cNzR1lZ0Jel1flm5za9eC69ZBYHa\n",
              "UHw1Wgyu5wUZW1ocFWKG3KSqqzBu0dkmx88Wqo5jcKzCha6B7NgOXBr8iA+BeY2SY7x4SrjrMLE6\n",
              "IKA00dnD6q7nb2a7IVYyIkxhrpd2zrX4PKYzVG0vnZaLRS2eXHpNurSrjElj/BN3Th3W1wzYCSl7\n",
              "E+38eZRVDARN5m5lM2VmLvAn4c6cOHiwGfThaAOcDKYN/50VOaEOTLdEFz3SzDQv+M4iNG1xS/TB\n",
              "MQrFW3UPkkz45hIkik9auUVB6jieuBi+OQYJsjTnsG4U3plex35F7/gQsIkMKqgw/9a+UqnjpSV9\n",
              "Y466atdj6ztFQyWvRBZ4jcctf6iHn2cuQUh+kYyEUu3VsL7NnPwIM2BpacOrzJN4fKD/o64SaVYR\n",
              "CPSuGXHbRSNdlJR+bGPxxkCS4YDgaqTcH+cPAYBQtSfTWdUQQeEncGYnO3aLU72Tj+H4LSRsSUYl\n",
              "ZReEdbRXz9CLtduHrfVFUUNlgq0rYjbXsGobvXu4myO+fb48r1vxgfkBwclFY2NSXzoYXTU3giaA\n",
              "WWhG56ymJ2Inm7iLtZ6/Ct3HSQEo5h7mEa5sfiw1HVDvFgOqbdKx6dS15GBhCAQQ7RkWBje++e6v\n",
              "qcuB+G/s7o6og6TTJ0t8FGnRfHVjF5P1RO7slM32nf8d0y8v00t4s4FYSh4kPJNsimDxbxgMCMks\n",
              "V02OPe8b3rwCTAMv+wsKnUxYqWpm2OYIHFQ8z4fDFpVi8UuRVDdUmqHwAH/dRcykrQ7ngcZw7jWi\n",
              "Fiq3s6QQcCVhGSZ6NjP01mB8W5C+NyAPaa8XUjdZECkOC/cmYFyXWc3U7rOrJ7d4WpjfiVAWl6AE\n",
              "Vpv357vTkgd2TRigi8Isiqe9J+OBp5ld0WhxnkB2Dw+Bi26MlMbt5hS4m9N2vC1cPQOZTmzGbC+1\n",
              "bQ77Us95WiceNnrzCqPdFwhJtH2DKecPc9OMA6jsemVH11rmJXm5Pq7JCt+UyD4ZJSy4gYXi6a6c\n",
              "L402en9QXOSJAL6yC1ZP1wtGn+M2wmjaOv6Lfmwu3fXyt2F57LVvItEvL4ypYaf9YnhS92YrwbGd\n",
              "cBYeEwqRIHU1V2+9xGT1EKCobGABQPSL/ncdrrr5z+nSl6RzUK6mU43WT6Rjh7x6JL9kaWM4tWYR\n",
              "zm3JN4whhyUe6jwFK1BElJ1+0aRrB+/j8bWvIIbSaRKOXw8iql6gRTFyt0SL3eoDSpgeaE50TO4F\n",
              "3mWcJVRvl+Ijp6g+U8HDydzo/ZSt39cdWXI543ULI0f6jyT05eOOffR5IgLQxknYnwX0MtDCtVuQ\n",
              "dsyXuOh+zGu+o6gRrqMj05Mv/qi4x4WzvWmog2JSC/S1V92ituBiDFP0cU4hIghYNt9bCHXYCk1Y\n",
              "gol+N8IFiu8Qax3lTYNveuPugLsNFF/u0izcBRhPjG6b18eHqtQhXB2kWKQDRLOTiCXz4t/JmAZs\n",
              "3wkVYah3ZsGwRQ0YSXrz/O2GNVVx6IQCXzRBFTPGllBNocvFhkVnMil5JdyFZKi1cOvZNfE33HyG\n",
              "OGV56LzlZHxA5Tkbna3OLMP/4cP4GjDPvuKWv44wYJvHwD8J11HxkIv8v/pc6B3A6ZzqJUreE5Kp\n",
              "xB1VcHi/eHqZzcZIFYfD3m4Sixk6EWx/5XJ3lmPEC2HQ6NoK1wSUKTaiJnzfDfKMJDsCZqFr0G3n\n",
              "LgcrePfpXD+n7nlN13cFkkcGXnkEV6gX4LDG7QBENpGjeix4EGXQMXSDFy9nQXJupGdyVdVTbqSN\n",
              "AOiJcaLhu+hE5hQGFXzws3+jP+riC2SZafjQu97Km6rbllM4Un3pgiyHAnhid3BY3VdqY/OhZdbu\n",
              "Hqg+mUmyy8U3P4+Tz/RLnDAyTxIyQEqc3mLgG1y+Yv5VbjwuExYCdSEgfnhO3FW78dCR359uDFdL\n",
              "3fjtmwgV9Idta403ucOEQLEt5HGS07rbMBnRm97TuU+3veteTNSZ7/NeieCWI3UjVfoRFYVfd4ha\n",
              "NtRWdvvOXNntrz9lMGwkjhefa+S1bEq3/lkq5CBTmI3Cm+8QYspXh6zgZvnk2/1UNFK2V6OsABaH\n",
              "PT9WcBZcRPVjo0tpJv5pDnMw6KA0TybrBmhseB/PqzCWkAS0UOi6k+I9YtSmMFsn2rubOfJzEZ5s\n",
              "cW7T8EqlCrcIBDAeSjr67IjlErXBP/U0w4QqTjn1P09YfHWYShkafoMWJvln6UPPXALQ91bBB/0L\n",
              "+C54+uEBR6gQbP7Phsiy3v2cO9MfHH9mZDnF4qplYv9glYHkm9nqe8JzE6L4Luo5toNZNssV0EBO\n",
              "vdSlJCRlPnCytQHF5JxnHb0Jm/bctMpJ9nBcx6vh4FMBb3mtFSQkeoqIXXMMadqNbocGgVagXJls\n",
              "Yaf7EOtz0R05MCb4eDcEH/59jPuKnaxnHPiRXxjfnCUmSNGsvmxPPces94rdEmzgs46Mtr34k1MA\n",
              "6JOGteOnF+oBCgBkErsCzNNpuTqpU5OTzpeGIfnT+pEk/vqA8lb/yfRdlIuYA33lP/V7OW5dYWWI\n",
              "vSe4NF5SEhl8k3ykH8stQNF6FGnqDy+zpHcBnVFLB3pzmchLAZ8Oq8vWb++hCPOxdDXbU50dE/1L\n",
              "j9pZLMeL5G7KCHowAjCIJONi/R0ECQfBIZMDTz5yEYMAAXxmtexxN/SmkKLliVcsJVjUTuBpSXbH\n",
              "QSEj55T/y4CPHuAyXqfbz5cu1NqeD4mq8Eu/irx4QQ4E0PzwyQNblQhTOkn9VmwXe7cwy33+EDoa\n",
              "OCj+AOjpc0JsEVU86g93enCF62IVEDRBQAHZ/5P9L7FR4dMNeXCrKgV8BD9ciHOAeHArC0RWkKxl\n",
              "8ffPIV4So5Ngcx2VIHXoNdD+XGWl5A8Mw3P9BfqqQ0j8vUx9Qkb6PSlyIDxalI5FK8XSFm9oSHQD\n",
              "dw/TZbzfFuPJkp6zVzr7FvNqbVWHP7Hj1FKzbu7K9NYlLbanS3cX7FK8DGWoRscbIbnWc2/xT9b0\n",
              "6FmBVzbRqOUagMdTLUBuNOk8N1LaNvLBuAnchCzo/PCbM06bQ8VMuRp9sdGI0qfAdjkU6K7HsES6\n",
              "1gd6EDRxg1gyHpYjx5mg5jj4+z/yuUreton0wLp8LMmpDCcjEAjh/7aRFI34yisvSyAO5QRg/EMF\n",
              "isny4X110FPi1d01IzON+DRNjupbTEwq/CQYx7j8+jlKQnxdK6oEHQ7ebFAkWmkA4vGeaMHanwDp\n",
              "M6gfGd//dRAx09xwMgghLahUk9287AqQ29tx6o/J+L8b4Vxk09D3y60bt3RMSxbZGCYOTN7JiIad\n",
              "GZHizJmxkYl4hXvffSgLB6gu6ZQqT9JNiqWkoysAafcAG2+rnEABcsNZj1AdMuchLbA1MIa953vh\n",
              "Y7r5KSV/Y+dWpkxWthEk51/ylC+NfvR6NzIBzCxnPBngyUT1UQO+wiFXbCHwpFbm6xbDQ5nK5BH8\n",
              "fDezQFC/D+ARuH6IBtr7n2YEBM8We39otx8RLuDa3wfhlCujGUna+FqoVzBut5xscCcLM6AF831U\n",
              "sBUJfLNCNYJ1tLFzvYQVCjO7lnUFlLKgXMvyzqAWb6RS+S1vllpOouMMmq7pb4MPx2KexwMGieP1\n",
              "tUMfEnF/BqkF3hjjFdaGGfFtvOV29QGNjpwi3ALrNQ8ExZwedDwYhM/N/0nZQv575l0wHkD+gJxl\n",
              "EcVqxryOodSOOOMJ+lLk1N0BaU2CJ2bdZomZSNjboSXW9XUSlhN3N+2E08KQ/Xkb044aHDpPrCHX\n",
              "1mQ2Dn7q5dtzAAOyWgH0H8A1rFZx6AxOR7BUWlrW0oUk3hlCmT9AlTmlNjwkic2L6+tZzsW8YTZy\n",
              "RdiPszfd3nfuy59bOSYIWXPP9QvOZ36BgAqB1Cp2Hi36iseD9P+OJ98RATSLG66f5zf33NVF4HfP\n",
              "z/bAwOP9YO0dtyJHp6NGOIYmD+ojvfYsP/OzuGI1Scnlp0RkmiwzMCZJC+QeO5Ky7jdrtO/SLWV0\n",
              "3JPz4NoBm/d006QwC7WekQWINWPMFTQYZGQDFbTjKm+QlH+FHctQESYk5y8F72O/FDWrtDEUP+GE\n",
              "8OxmoBcef/YjZ2GtmynHQ8l2ODkaLGC9tBLpCil/ETGtmHyB8StAwP5hfrlOAI/TgiY2j9bbdt2v\n",
              "sClTJa5Y2WpF8QucqZOHOiujH6hY1X71X59JlD24E7rbyQfbVnd2kTSs1lXNCjpmOxNa4E9GTGA9\n",
              "h1FMcv01csSb88dPlDYs75q3cN7mchXVRvjBaUBa1RIHSnyJduvOjpWSeiM0hgoOmynJs4oRWIIz\n",
              "loHcBfTm/x23Z+W3LrmQdEVKsMxWzXuqR1IuMLGSI4MNqlehpnu1YLKLFvxqzVRCJ/3PQDn6E9Ib\n",
              "Ghf6ri5BD14v7gSrIwlxYcJBBdFpJgIy5QYrq/0/KPPv3YwIpRfYQAboxF1wuahVM/3pEhjdi9cu\n",
              "fLf67WS1d6o+Fpas4IF+1ePpFg1gXitaMiyH7F5cCTwStwO6sI6CPBa6qgUDqnDT/59wj9VVZS2A\n",
              "0chBImw2g0yFg/OQ+IHJZ195gBJnEch1TUOMiajGZcW3PO8xeE+Yg45O7tM0wVix4teHnEhGbXwv\n",
              "DbnSshSndL1aDefYibUAffsGIN81Xcvw8bVCf6sgXR4gmt7AnixMFKqLMXlOfaCV+znl0ll5Z5Y1\n",
              "F0F2uI5wNAqw6ccv9X4gvGaqYyp9Mjhpsq/FIuHhon3yybIhchdLmUNP1FyIWh5kynuwCkfGAMjX\n",
              "wy1LHiY31Y4sNgUpnAQDbDeVodXSiKCl3ioPlhZxNGXhNiLIKhkSx8fWlCB+BjdwdZZXwhkHORla\n",
              "+yFCKpPdW5+vWxeILKfg3EzlzlZQU1t7hv2ajABp6qP53J2XS48qUyM5Hf5SLyZd4Ps/uJzqPTiJ\n",
              "nfXSpOP/KyWPIwgzEF8RUR9x0XK79QLNvBbDarHx84ZwF3LFkLXUhpfcTlPyvd5K//MJJbs2oW1n\n",
              "yuxZwn5cQIlGR6g9szgB45wdbP+bK75fkvG7tFkO2x8MXSVy4mBtTsTL+sUrecU8PcvFP4ekAIMK\n",
              "LVZcevO40TaE+6r8rKn9Y9NrKSZq8BmgGmS1qj/Y4y325sttkSs5girectxC+plVMS7YmPKXmnVk\n",
              "06PB/fyBSGBqZCb/bPchn/upuHSV9Jf3zjEH3ZKdG7eUuq6KR5kj9lYz05AEpLKdpAYnm0S/0P0b\n",
              "pFxzHKWoITZbcB51zVCCKHetmjBO0GAtniQedc54QC4X38VltAxBhQqtWDWHGXhQvtcmLxqGiZrZ\n",
              "y2RdpPS0xANXrJG3yXGUb7z0G1vyzYJ+r4cechP6i842c/UEMST7hoyDFX6ZwiNE1u8QNbHcj3MW\n",
              "zfIQXf43siYN8uub1DADY/c2m688cUbxdUYNS8LlsIoEsWIg3XYj87w7syVH+MC0ciKWP/IGx4JU\n",
              "GptAQ26lPNadUVOXhXNhfuHXnxDrS57RkAr6kN8c6NzsxdkSsEt/JS6+nQfdAFtAqsSfZlMaChXL\n",
              "1QNjlJfN9i2fCAPOvTratiV58RJh7W7wjwBOnB/jWJQmmEYbh4hrQ4NfO/+z0SS/inWEH45PDMzI\n",
              "3Es3goEz6EnSELgMSTSfWbXfLAAyzxl6vSrawVdI5M2I3vOWs4rTe6jaQD2tE2pDYwNuJwSN9PtA\n",
              "L0sLJyVsC9o5ZKOqyMxmzONa2K8H4AuDDAMYKcDYEq6E+Xbg0nfsHlmTcngH9JyydE0GWxQHlUvT\n",
              "i4TY1yZvbJxeU2IaXozHgt0oEnerWnm6IAIogLSrH98FwxXW/ss4fxuvDGCgA1FOvMvAYVul40E2\n",
              "i52G/IkzjnZc0d3rj8d3IZiqimQMQU8Kk+KRtFbLCmvhwOR/F6fsO8QBrHHXBzJBR8Y6cXsAph30\n",
              "m40q8RfyQq+0i+rH0iTfaMQonMQeR7wrt3b1pY4LMrokVZxUGFIkVQmJk7q/FnFixhASCYGzcmDx\n",
              "RoRjSFZ06vIzBqKhXjWSxUAVAzHVWxpryJ3FMZHZwhtjAtNNbpSX9J90I2K/HsKr6woVTe6eVIm6\n",
              "jlJWhK7RnRyF0AN/K9/druor73eVtgHfTEA2ECwAC/+BJ/ND+UWfmfyGEvrFPiYkwLz7ygi4TUrE\n",
              "/IW1cP7/BhsKQqYtS4lF9OpwENZZpC+nldzwPHBcuWpqgUYHFMQzjUCnvEzAsJNWo90kwH0kzorD\n",
              "1Z+I7L8bxqe2vJv6dx+aZ1wAABi7AZ7JakFfAAE8ntW8mFAw71ABM6y9/xK8GdikX72EKafgjhxm\n",
              "sSVCL18uzh/f1aLqN30ElxgvsCsfPeqIbE/E0nB3uOqSUqHDQLxIVlguxj2uTQO/M4FhLgEbvN58\n",
              "ZWiOVv6wke6yJUdPQLq65lmdIa5irqgfrFfPQs6VHdl5DNXR95fhh8F1KuBgpz8rugKGi4jCkTNM\n",
              "feRmF1UMOsPMSLz4h9+olz27ExPMaCbj8eDNoZ5OxJMvnAXQ5nIo4uuWcYmYfYqxDhKjQLvz5KE7\n",
              "8vqf6x1i7ks63UpamKkIzy1ZEfC/Fxn+DQ6LNV+hfspvSv6d5443lati1lh1I4xETCCRvRCvTF/B\n",
              "QQT2v3V5pRlQOENa0Y4SNx5ayVlIfrIXEhj0QLWkCic1ZLj0qUVNLwraMow5t3eYznB8fwEsQzE8\n",
              "ku+02zyU59NDS25Q+lSvODAIfSbHrzWV1FHOq6M9UWFa8eYsnj28b0cQMQZxZ2KAIAHga1tEgics\n",
              "h9CGZoPVn0kf+OQeRZ1WQOey+9yDpX9oEPs9c+oIVo0Bq/wOgh99YEhLdmFPqnG9HRyuNSmnpZol\n",
              "q2LRr81Oi/CWK6fpgpgcoQCs7PMYO1a+oPUSoTkXMA8PnJKPKunjfSH8VjDL/6nN9mJlIG6GRBO+\n",
              "mDIyIdD81D+EU8/P1lIwUVGnLZm6OX+cByMCKxxh/dIk3kxOedmiJeqEk7SO3MeFdpRaZV1ir4sg\n",
              "sIOTqy0liKLisW5E1XJwC/V+yvksqpYNz407nWzd1IXcfRbMjJHNI3bNInHHDuEmw2T3A7YXdou8\n",
              "72pmf2ANTHnoPzfCESfXhLN6p796tmNnJ5Ql9GpE74JvcLh09wiFLyUTcOVetw+DyjmtKO/Ps7D+\n",
              "kGkwpiGnGWAwbnzfEmu4mX+b5fQguFVvLsJNl/pN/NBVHWKDGwwhi9Pv3AyjBqbPB9pHv9XClmfr\n",
              "Dso6YWqI69ML2p1zQRVlPq/JkXH1yhDc22szZ8L03TOBGtuOMh7qSaYTTWTL4oz0hMXB6pLQ+f2g\n",
              "H265li/9DBvtkw1IEtUnMXpo2+RPqL/BzhlKHu8lwaFEH85yd5hl7FQ+uVKhAstzVZabzft2r2SS\n",
              "ezjtgvrz5udCyl+t17mqqoWgkUNTS5VcorTP1IXPbJYtw83bcaQ2No8owfm044Mo2L8SBeLIrfYY\n",
              "bT+knro0Q7w4gQDwv4xOc40gknLLLB9gPuWVvi/agFz3CskEt/8SmQud0VTUZUh/HSANk4pGTdlA\n",
              "h3Qv8KBJMuYi8t8OFRYWHNfLJ9eQ4cX3QdGDnUdQrcdGjssnNpRg5hVGD8YHRHfQdglSMD2pQGl7\n",
              "xzhfFUnTJl41a3wUkyi7fLWxPNAUXEe8Wf2KkEWag+K5gckpEsgurgLjdLLxHQVKAwXDrtaHcpMm\n",
              "a/Shc/ZNTUixt+oi3FzIWFNMnFrGccPbJA/b7GxbMf4HMK6ZCrfi9Ytw76PzTFvigX85wXsKQrhe\n",
              "wk+6YqXsTzmEn9KdhqTWuZxZb05bFT3bMMuUMzroHrX8HWAUUiggmXepsgg4zEcbrzpkyeAIynXA\n",
              "IPZG3QTbNrmVS/Bc4L7SqNk/qVOjoz00+2dFZJtBk7RkkYBbvClmeSpDdiYsOS+cHgfmYy7tOHYf\n",
              "PY0iVX99XQmYtYBMzKY/oe6DeOnQW0f9Q+MWOHbrRH5AU6ibeUWdFE1QIqSKqeldYgkx/ErdlrIT\n",
              "4NABu0a8W3EwszzzYx8XDt0dEWJ2bWyliDr3P2NZlHhFUe9aG2/5eM2z8kSxWtUL0xlRCYX93MJr\n",
              "k2P0dVbMyjeZPo/GcduLBMLOd+MpvA/gNvxMtOQ4aeZFcBxTJlodXEYEKf8w0CdwWwZu5wQk0HXW\n",
              "DO0LKjJRaRy0NQZiGeqzQQQjzFBcj7h0RgVPlAzwM/f4JJD+pDhIMX/NVZNmnqPRjYFiF1bNgLB3\n",
              "UVtEIbUHGnniHXGdZDpwRgIyJj/lhS84Sae1BDtVyZYGUU3sP2zI+4sGG8aP6CsvRAY0e8r6I+tG\n",
              "DaTkcaX3L4LtUThVWp1zQIoDbBgLNoFm/tcYSQ/mxBVQOfxuKb54yuXmDWva4WIZiUABhnWhFkME\n",
              "RCKhosYsX/pW2FswwpJZuxrW9cGa52LDgIilGcwxUPmtWkZkZgfuXDs9vT09iPghjiK4XQT1bvn2\n",
              "kHe2CQj7Xwl8YVBH+vh2LTESmdv9FAUKoMMtT7grQlDpNtcfo/pUVFMsJX5hfWimnetOc28L54Yf\n",
              "tadkxokglwzx4nrxB/5DADZz258SmJZdH5YQ96NsdzhgUuOF2rBUeeCLu5WdMFnHEAFI/MQt1ohG\n",
              "IOtexESY4fCty6rF7XQka1cdnM9Kd9R2DH/qipg8nJZBvLVLFuswnq4NKV+ISaPAU50t+OQgrUC6\n",
              "9HT5T5g9Owvvdt/0oHphIP1Cz8OOQ57U5bDCf/XaGs/8CO0vqEV2C6sHnOwei7RCpRj5Ujd8m4va\n",
              "xNpFQ3v1dC/gg692MVhMCEbtPSBXB37GLLuD3O8ChVsmXTq/m0sxFzgBXskslTYQF1AYRTIKpABi\n",
              "NjEYgv4unrxCCqdocG1vOkV73f2PS7RxD3OqldXR4bYX88qcyYwAuugIleOFOilcf+fWNHULPdE0\n",
              "ZpnlIJDUG3WrTjIOFnar6mheD+AA/HKtZj2t7mXzYfaVUYaB28todblss0kSQbsuBgAvCLQBc/8g\n",
              "qbohHuI3K14bpq2rN8Z0lDmM6TLSImWNHJ1n1Dnfa3mYW/6qPp36JdfAL8/8pF/d8Zvxah8fwtst\n",
              "lRN7hxv4l7o3CeWG+x13guFGFDcn8jkCsNXsMd0edLaeaLsl3FkRNZouyVSwJ05wNe2cPLkwBkd2\n",
              "SznyFselJFJLq6dHoe1o+Ppb4qyFlMg/Vm28AUAdRh4I9TOOGRo+opqIQ4GHV5PjNTEAC0wEeqkW\n",
              "BCH5qVncpKGdJqHPCL89cTb5NbecBTPaVtT5e0QeBT4Ztel8wUVcYF1Ji8APppxbv4J0lzO3jLQY\n",
              "GSW7ExBwu9mFzEJETLw8JMkfQ1CP78v7zlvDL7SRxfYfUXSYaRUN0uZ97joZ/FnMZYUNOWXaXBbB\n",
              "oIBLitR6nZZu/xubPFp5ouHeHHOPET3+xA9WE6lqlsU3/YcqD5VDtD7GhgO5LNlQtwdHcPdsxguP\n",
              "RbxmW5DzjGPuTeB2o6btImqNOuJ3Enr3r555tZDjHhruv/PJLULN7b8u2MpAFCMpzP7Pqs1xTOwF\n",
              "zp9vHLg8O9QGwZMWBPJCjZBzBgbaFGfeCV44QtasWpH7vFUHqxlh6whl4zbQvfd/7Rfwd7OL6Uhs\n",
              "hJle+sEFuVAqTsZOmkqx6fMOgPWgT5RJokkpK7QISTwmbyHNpbcfIkafhK84awv/G6FZ0qqX4jfG\n",
              "me+Hi+8h6xatgKgSiCXrUoFa5KwaJ2idEsawiAZrcujugLO8dpjqi1Nr9YCDgeq2dXypMluGj4B1\n",
              "f7ZdmpHzKCvTHc29hfAvxyvgCDVC0VeHXdIi8DjNAf3Rkmx5qIGOjoRLaiAxLLebMcj2Qv2+ClvY\n",
              "ae8pFVYS+VT44iRaIWPfRO3Fu8rpY+iqFTyqfrbctkbBDPTo56Xjhkk29Ks89qRrDKub82C7eQ1C\n",
              "SrOD+kwxkZM43Flce2zKsA2+KTcxyONqGnouZzqLqT9p7LKCKeElSdDKOlsuALpuStb95ngb48L5\n",
              "aWYIwWiroq3O3shwMX3cvCPPNIDzpcUtMzJEqReof/JAMwmxZTzjBB4IVFBAYG6ydasVqSZnLmZY\n",
              "/yHU02wg6PhR/u3cfZPcj6ZcHFO4eZC77di8KTKdKMqAzaw8TcIsLolGh60RuVmhk9R7PwpddfYB\n",
              "/wVzH+wVisTDVJvq8sNZziwThy0dP3h8MF2XeZedI54Ho86OzbGo4TPxEzTt5QWDYkwEC97zCh2P\n",
              "Ahr1nPINcnC4ckEmXwV07b23N5E+nyjbA3I/ULbW8BSI9vKZhqzqcqD4sir3ZIOlnf5m/CJKFlPB\n",
              "JL6HOT+wycvx60jWOvAt+zP3YObIbW3GB6wHsL+poUzcRIoBronb7NpKMtgQZUqBOLtd4l9oq2TS\n",
              "+lETKkE7rUVVm45lybN2iib41QJaSXD/i/074Ggzg727wHStNj+aqITBNc/T8sKZj5FSKwvIEZfo\n",
              "IhPDvn/l6jqCqWFcNLErVIDwI59aZLs8oQAuhW87yFGLguxgdG4x7wjmd6yVswXeZJSL1xElRO2M\n",
              "SzFvlKY88KX7ooMzLkIYDCeWuQGOmIEQeCssRG/IAWHBeQ0ZtnCTaCNI38OvEj6udUmRCpa/6kFD\n",
              "z/ArDsXADgWDqHd3i8xAz0X6+/3LCp3EfJULoZfD2MRPb/uG2B+ENC8/nY6qCzGP+Svb40pmGTsa\n",
              "2JE34annUIrycFfwsnuELenJ0JlytH7al0x6wNqyuBK2pSgzlOvzFAoAQKbUHW9UstJK6SPncfKt\n",
              "y8UIVwG43TkSh+XvtPzC/AEmlP/h8OQDRp9tGZXrqgIFhfRNgqJPuDp5H+DJbsUvnMe4cqp7Kdhw\n",
              "UKf0/1e3eG5nAAAZ6Vv8u81TOedXISxLk3NALhS1NVRbefTobcYCyVDeDeIyfnk0/sryK4BS8B6o\n",
              "tTosmUicXn3Lgd8YrEs+NHFTDJnWklzMPxzUELuSjw4YgPmRRVMyhrWjlB8RYye28+Ok80ZSO7zN\n",
              "jsPukhvCY9159AqFm/NhJiV/ZPXSe4F2dfsFNd2pv5IzFX7ENMgUoEOePvzvvZLZdx/S7XfS3Zay\n",
              "2AvHKNrQLzdoYIqYoJ5vAW+0oxJ4hsNxrIzPrMGHf6nlcOiI9nUwUsD8zEfx/jryCBNsAAp0g6Eh\n",
              "tQY82vwbpdxPTlXFS45brdF63Nt3vLc3v7CRiiVd5CJwkgi3cUNqIX1J6iP0Q541CsUPdFiign+Y\n",
              "IMEJTXeFKMuES1vJKmgTXD7Ws/yRi1f4lyU6w6EZayrBNxCeYGRnN01I52lr0GW2IUlLhAw+erxe\n",
              "0eEc9alGsXagd8ad54bOaUKCpwdAhz0gRJaeGBja/Fp30oMCn6tu6f9arWcJmCY7zbjuMkGBgJcS\n",
              "IVVsmkqyHaAJuo2hPK80+X5gUlmyuKmgigm5H1oMAyLzxB2sJBJEk6N2ZnM6a9LYJJsyOqLeO23j\n",
              "sNfcH1GjTkryOgKtAOvxQbCKikKJ8eJ+NkAxifK95sTiPey2eu6PuK8uaYbTPi/+01jrhdjeNodm\n",
              "vsKaGjZLbOGmJJOyt6PvMtuye1WhuI9QV2oUs+Bs2nz4hk6dVtTp6O3fs/AeQyJFn8Viv8xdv2Lr\n",
              "9Bv+3nWkvZo1HlWUv5Q1yD/c1+ahA+4yr9UnIxEhKWzX+Pz4qONuuC60qxtWdES+20PHBfzLFO4y\n",
              "LLcJR8BsEfQTC/WZH7w0cUcmcBnzRzB2q0MZoroT2kbsljwYOiwRtGAPEeWrvv2n1yEPWX74m1Tp\n",
              "ZGzJOVKlHGG4Iw/H8V/HvIKiqonWg0fMxDstwKsGeV1jhTiZc5umguSzLUTETNEO0MHgjIyRyuwk\n",
              "0PJ2FlxwDtXUsWvkaX326MlPtL4ZanfXoJeyyCn1IYGMJFb0WpNygM+L37C5TCMszZcwp6KQOoYl\n",
              "Xe/WbA4S95hl76QdhBPFJDshSSg6UM66lfYGx1Z4MXYfMibo8hupJAWRhw5PFQrScLpBtVxw0oLa\n",
              "TnYL6iQ2i8PxgS7F4+Z9PgwMUUtfbYe0CFEt6e3fZRK3l4atXEFKjS/GaFX+qEx7Te6msBZxirR+\n",
              "9nz+CcECDv1JVn+7vrPo3c+Kl3R/PEGE0RO5aPh/j3SUuJr23e+SACyvFpBKGWPzpJrkAqFYvTMO\n",
              "XPUht2wPQaPLxzGUSkTkPb67wjOkWdrAgHjee44eEiQ/OCgPY3QtiKngMyXpEH56oduSE8z1foBK\n",
              "6tmVagaMxyWKC7SGntOLo2ZV4lMOEAQLXHstfV67cHPz1dJHiYG5XzR5GZUpnd0atJ+shBCICdEN\n",
              "j1mlaHMD9eLZhhtXj5gMfIgWkh9qsnIaGp25+N5AFCidXxrFGpz7o8ldiQDs+hTlD+cbqhdX1r25\n",
              "WSiwQwucYYNAVAk7rSEifvP2yoabN+CF0I+As6ENR1T1CqTCiRSYh0LvQadB/HIzPqFmLqHw+ljj\n",
              "2IIgmp0O0eCkFOhTJmvb1AiC3WPX0hUos7uRQKvz58jcp+mTga4B8CWf5dhayni39ThdQ1iEzV4C\n",
              "iboVci0uDvYzKPmjUhnCxW/478Mx6BydCN//SuNYAQ51WBvKPLJFTj3eatyyLIfp5Rp9Mp55gJ7G\n",
              "veFTTvyoSHaQ85+X2no/8oCKTqLany3HzZ6Bm32OHcnjql1qBZANOzSZZbLqTKD7Pq+J72z6fzwR\n",
              "kaNFrHKKnqLXcHusUXtLuxkDwQ4E0TqBie70vwzXAm82LE6dnkBgJ3j1mzO60pzXSQ16iAC4MLBE\n",
              "mp/7SSEBJ3mcyML5Vi8pJywpK+UhU3DRO1dK8qjEim4kWGqewKvSt9JkBiWU4nfuaJPm0yfoM2Ng\n",
              "TYPntFGDYMgsOm6uSm7tSBKnqG2EDiL25E9oZva0ks2LAmgLRLkIKIJyO2yzG4gEvkj4BvxsQuR/\n",
              "jvv4f3JafylQsjkBFZnAUwKHsZI7tWKls4r+AhVxuo02izDu7l031bau/HQ1v95SErRyqJvy5G8a\n",
              "Zm59ENmRFKDWQpgi6Qiew4TGGm2CtDHxD58Mz9D4MBB2wTJr4WBon8+GLRoFjcYwte+k/zNwCCDb\n",
              "7Mduz6xvWCkpXikm4hN1u0nA34+ROPCzgOh5EVworqZGQqBJe9QuN0WlvC618rujHrLtz29oEPa2\n",
              "LBjQIsvuzyHfAMayk/GDJ5QJ0RE2Q9lJ28Pn1ycJfuhziy39vfd4Q7XkTGkg3cxqBMWPTAQYPwOM\n",
              "lnyoP55Q6eq1wzp0JgUmVz+GcUAqC0UWm7fgzJIZIX6BPY7Xe1GMlEPGTrGio5i/l/of+3s3ipID\n",
              "NgX0aNLWhXMajopM4Pih6v8vDSdkwfY3EDjH14fZZ9AfmXmg8XU57/Kamca6wetxs8fE98OIL/sX\n",
              "+jY8jKJi2EPSGTECU1G/p4TnuCJtTcAaqvf7mtf6UZiMDaMKBrIJMBIiCb055XWdF5tKwGwQUqfN\n",
              "PAy9rk3XS+kVvGiYKDEc9ecuN3t0fzGKFk9sT9/pO39Gw6hsdhvDr9JWUlUzEaZtE+KUz0r9L+PL\n",
              "Gvg8QtZtCnotipnrXFjfkriD3UEckfJub8KP2eUMN4zQ8k4A+qxS83Ao9gY9GCGZ25GpFSGZJnLo\n",
              "+BTcN4oPBykzSDyUga2cjCzMJlPkPAdq2ZJq711cU8XAcyKB3ADtjujROVBu46z4x/A7xuDxwAp5\n",
              "Fud02qBZNIiLS9SNLLMDBjhN9J47KU3ebhMTEUIJuUp3OmtBOm6571eRjnLcZadBANBMo2q4gxsu\n",
              "knDde7mZoIlbmYRBa1ZE35yUVH1kGsAOzfii4UzHp/wpyKGaXjgau2zlB/MqmvHiLhRdj7PWRgT4\n",
              "a7+IjwwiPEfeYnaEwUN0i8+DGPXOtj/W2ztMlcJRoCfi2Gn1liqITp2XPwhuvmJrpOMam0PjpnmW\n",
              "+eT5vuKF9/B9cN3lvwj5Wc1yLD54LFKdidDFSlENUiDw3fgJ/17Fd4pFqieJrHF15xt3uvU39OS6\n",
              "CUgxXmfKrJwJDe29FvgFwbZXAqAl3gFiI4KKbOodwr0gWIsvzTSjylbBGtNK6X97cI6adyZQNc1x\n",
              "rAbU1u/2topJQMFunxVhKMLAgqNakh01wD5OHK5ZvgAGLdPB3/+BR+yubukRPp0cH5RYzbhs1HQA\n",
              "wU0K59Q6IC6GhH1mi12Tbb9AEg1NYiH0kioLFu7jsvxdpM5fVO/s0txX9VYntPn3klBDAFOGWtKf\n",
              "/aLKyJHPnd9YypWZ6AwQrllO2dFucbxOJHW/KqYZsop0+AFfsjQq7I/OGbPYGMnVRFjIdQBEXkbg\n",
              "oFZt4IJKisVrpH6BoQH/gv2TKMkFnGyuJ3V5PEfVhPy+Od5TX9Uohf1Cw4S1ukqYQXFcmFTj2Fcz\n",
              "V+tJblZ8bUIWiTQ41v6NcEw+frySTEW0ugGrNFjtxTer5XlsIv8DawXqF0tWmcUWQi4lu4S0y1Tn\n",
              "djNE6Nf/2FzbQ5YhvNKY+4woEN95zFv1sLUymbQBxJqiG8CErmtr7NiIoOG9jPTXvQZm/rEATL+f\n",
              "YVwcLu79IVIXKmxBDdpgY6lffqQ0L3Abq+fUiTcH5I3bmZRvKXKZFhMtjArjt4UVx/X70BhmPQ4k\n",
              "gevOP8YKtyrW31kQ15coMkve2lIBEkYO0SjGVBP+ajwae7W4gmDtpUNOD7OE80OvUHISiNUDK4vQ\n",
              "853ff6ex/YSd8d5xcrBsQ9hLL6B7SwEzFsNddwoDCnzrAnvoIQzdpMmXqqzWULInISX1e5RpLLHh\n",
              "uMw/rEHJzsfCppX1yuWJXzbRz9WDwCLjHwAAA7Jtb292AAAAbG12aGQAAAAAAAAAAAAAAAAAAAPo\n",
              "AAAq+AABAAABAAAAAAAAAAAAAAAAAQAAAAAAAAAAAAAAAAAAAAEAAAAAAAAAAAAAAAAAAEAAAAAA\n",
              "AAAAAAAAAAAAAAAAAAAAAAAAAAAAAAAAAAACAAAC3HRyYWsAAABcdGtoZAAAAAMAAAAAAAAAAAAA\n",
              "AAEAAAAAAAAq+AAAAAAAAAAAAAAAAAAAAAAAAQAAAAAAAAAAAAAAAAAAAAEAAAAAAAAAAAAAAAAA\n",
              "AEAAAAABsAAAASAAAAAAACRlZHRzAAAAHGVsc3QAAAAAAAAAAQAAKvgAAIAAAAEAAAAAAlRtZGlh\n",
              "AAAAIG1kaGQAAAAAAAAAAAAAAAAAAEAAAALAAFXEAAAAAAAtaGRscgAAAAAAAAAAdmlkZQAAAAAA\n",
              "AAAAAAAAAFZpZGVvSGFuZGxlcgAAAAH/bWluZgAAABR2bWhkAAAAAQAAAAAAAAAAAAAAJGRpbmYA\n",
              "AAAcZHJlZgAAAAAAAAABAAAADHVybCAAAAABAAABv3N0YmwAAACzc3RzZAAAAAAAAAABAAAAo2F2\n",
              "YzEAAAAAAAAAAQAAAAAAAAAAAAAAAAAAAAABsAEgAEgAAABIAAAAAAAAAAEAAAAAAAAAAAAAAAAA\n",
              "AAAAAAAAAAAAAAAAAAAAAAAAAAAY//8AAAAxYXZjQwFkABX/4QAYZ2QAFazZQbCWhAAAAwAEAAAD\n",
              "AAg8WLZYAQAGaOvjyyLAAAAAHHV1aWRraEDyXyRPxbo5pRvPAyPzAAAAAAAAABhzdHRzAAAAAAAA\n",
              "AAEAAAALAABAAAAAABRzdHNzAAAAAAAAAAEAAAABAAAAaGN0dHMAAAAAAAAACwAAAAEAAIAAAAAA\n",
              "AQABQAAAAAABAACAAAAAAAEAAAAAAAAAAQAAQAAAAAABAAFAAAAAAAEAAIAAAAAAAQAAAAAAAAAB\n",
              "AABAAAAAAAEAAMAAAAAAAQAAQAAAAAAcc3RzYwAAAAAAAAABAAAAAQAAAAsAAAABAAAAQHN0c3oA\n",
              "AAAAAAAAAAAAAAsAABG3AAAMVwAACCsAAAcIAAAHbgAAGqMAABFRAAAMGAAAEPQAACYWAAAYvwAA\n",
              "ABRzdGNvAAAAAAAAAAEAAAAsAAAAYnVkdGEAAABabWV0YQAAAAAAAAAhaGRscgAAAAAAAAAAbWRp\n",
              "cmFwcGwAAAAAAAAAAAAAAAAtaWxzdAAAACWpdG9vAAAAHWRhdGEAAAABAAAAAExhdmY1Ny44My4x\n",
              "MDA=\n",
              "\">\n",
              "  Your browser does not support the video tag.\n",
              "</video>"
            ]
          },
          "metadata": {},
          "execution_count": 31
        }
      ]
    },
    {
      "cell_type": "markdown",
      "source": [
        "You can clearly see the separation as the country playlists diverge from the non-country playlists!"
      ],
      "metadata": {
        "id": "hM8BuHDQZAsU"
      }
    },
    {
      "cell_type": "code",
      "source": [
        "# f = \"country_animation.gif\" \n",
        "# writergif = animation.PillowWriter(fps=1) \n",
        "# anim.save(f, writer=writergif, dpi=160)"
      ],
      "metadata": {
        "id": "lTQAvdmjL2O9"
      },
      "execution_count": null,
      "outputs": []
    },
    {
      "cell_type": "markdown",
      "source": [
        "# Visualizing Drake songs"
      ],
      "metadata": {
        "id": "lQujiuLjOCct"
      }
    },
    {
      "cell_type": "markdown",
      "source": [
        "Now let's see the animated evolution of embeddings for all of Drake's songs that appear in the dataset.\n",
        "\n",
        "We expect that they would slowly begin to cluster together over time."
      ],
      "metadata": {
        "id": "-sl2Ogv2OE2t"
      }
    },
    {
      "cell_type": "code",
      "source": [
        "drake_id = 'spotify:artist:3TVXtAsR1Inumwj472S9r4'\n",
        "drake = []\n",
        "drake_colors = [] # colors for plotting\n",
        "drake_sizes = []  # sizes of the points when plotting\n",
        "for id in songs:\n",
        "    if songs[id]['artist_uri'] == drake_id:\n",
        "      drake.append(id)\n",
        "      drake_colors.append(0)\n",
        "      drake_sizes.append(15)\n",
        "    else:\n",
        "      drake_colors.append(1)\n",
        "      drake_sizes.append(3)"
      ],
      "metadata": {
        "id": "vdp21WfdSNlJ"
      },
      "execution_count": 32,
      "outputs": []
    },
    {
      "cell_type": "code",
      "source": [
        "print(f\"There are {len(drake)} Drake songs in the dataset\")"
      ],
      "metadata": {
        "colab": {
          "base_uri": "https://localhost:8080/"
        },
        "id": "WOeE6KPYOVxt",
        "outputId": "364747ac-e33f-4b58-f747-a038e142ca01"
      },
      "execution_count": 33,
      "outputs": [
        {
          "output_type": "stream",
          "name": "stdout",
          "text": [
            "There are 118 Drake songs in the dataset\n"
          ]
        }
      ]
    },
    {
      "cell_type": "code",
      "source": [
        "colors = ['red', 'skyblue']\n",
        "cmap_drake = ListedColormap(colors)"
      ],
      "metadata": {
        "id": "rSIXoEcXYvgo"
      },
      "execution_count": 34,
      "outputs": []
    },
    {
      "cell_type": "code",
      "source": [
        "# First set up the figure, the axis, and the plot element we want to animate\n",
        "fig, ax = plt.subplots()\n",
        "\n",
        "ax.set_xlim(( -0.8, 0.8))\n",
        "ax.set_ylim((-0.8, 0.8))\n",
        "\n",
        "scat = ax.scatter([], [], c=[], s=[], alpha=0.3, cmap=cmap_drake)\n",
        "\n",
        "# NOTE: this plot will be empty! Just ignore it and continue to the next cell"
      ],
      "metadata": {
        "colab": {
          "base_uri": "https://localhost:8080/",
          "height": 269
        },
        "id": "KhD5g6B3SUEb",
        "outputId": "58a698a7-7464-4bd7-8c08-26c012a3995c"
      },
      "execution_count": 35,
      "outputs": [
        {
          "output_type": "display_data",
          "data": {
            "text/plain": [
              "<Figure size 432x288 with 1 Axes>"
            ],
            "image/png": "[encoded data removed]"
          },
          "metadata": {
            "needs_background": "light"
          }
        }
      ]
    },
    {
      "cell_type": "code",
      "source": [
        "def init():\n",
        "    scat.set_offsets([])\n",
        "    return scat,"
      ],
      "metadata": {
        "id": "-34pe4BFSXOy"
      },
      "execution_count": 36,
      "outputs": []
    },
    {
      "cell_type": "code",
      "source": [
        "def animate(i):\n",
        "  embs = pca_embs[i]\n",
        "  x, y = embs[num_playlists:, 0], embs[num_playlists:, 1] # only plotting songs, not playlists\n",
        "  data = np.hstack((x[:,np.newaxis], y[:, np.newaxis]))\n",
        "  scat.set_offsets(data)\n",
        "  scat.set_array(drake_colors)\n",
        "  scat.set_sizes(drake_sizes)\n",
        "  return (scat,)"
      ],
      "metadata": {
        "id": "WL04-6KSSY73"
      },
      "execution_count": 37,
      "outputs": []
    },
    {
      "cell_type": "code",
      "source": [
        "anim = animation.FuncAnimation(fig, animate, init_func=init,\n",
        "                               frames=11, interval=1000, blit=True)"
      ],
      "metadata": {
        "id": "wFOslhM1Sk0D"
      },
      "execution_count": 38,
      "outputs": []
    },
    {
      "cell_type": "markdown",
      "source": [
        "Below is the animation from epochs 0-10. We see that the red dots (Drake songs) begin to cluster together!"
      ],
      "metadata": {
        "id": "bHSvwnp5yfWj"
      }
    },
    {
      "cell_type": "code",
      "source": [
        "HTML(anim.to_html5_video())"
      ],
      "metadata": {
        "colab": {
          "base_uri": "https://localhost:8080/",
          "height": 309
        },
        "id": "cBSzl2q8Sn7-",
        "outputId": "9f389fd5-bd44-4d3a-c222-25648fcbfaaf"
      },
      "execution_count": 39,
      "outputs": [
        {
          "output_type": "execute_result",
          "data": {
            "text/plain": [
              "<IPython.core.display.HTML object>"
            ],
            "text/html": [
              "<video width=\"432\" height=\"288\" controls autoplay loop>\n",
              "  <source type=\"video/mp4\" src=\"data:video/mp4;base64,AAAAHGZ0eXBNNFYgAAACAGlzb21pc28yYXZjMQAAAAhmcmVlAACBvG1kYXQAAAKtBgX//6ncRem9\n",
              "5tlIt5Ys2CDZI+7veDI2NCAtIGNvcmUgMTUyIHIyODU0IGU5YTU5MDMgLSBILjI2NC9NUEVHLTQg\n",
              "QVZDIGNvZGVjIC0gQ29weWxlZnQgMjAwMy0yMDE3IC0gaHR0cDovL3d3dy52aWRlb2xhbi5vcmcv\n",
              "eDI2NC5odG1sIC0gb3B0aW9uczogY2FiYWM9MSByZWY9MyBkZWJsb2NrPTE6MDowIGFuYWx5c2U9\n",
              "MHgzOjB4MTEzIG1lPWhleCBzdWJtZT03IHBzeT0xIHBzeV9yZD0xLjAwOjAuMDAgbWl4ZWRfcmVm\n",
              "PTEgbWVfcmFuZ2U9MTYgY2hyb21hX21lPTEgdHJlbGxpcz0xIDh4OGRjdD0xIGNxbT0wIGRlYWR6\n",
              "b25lPTIxLDExIGZhc3RfcHNraXA9MSBjaHJvbWFfcXBfb2Zmc2V0PS0yIHRocmVhZHM9MyBsb29r\n",
              "YWhlYWRfdGhyZWFkcz0xIHNsaWNlZF90aHJlYWRzPTAgbnI9MCBkZWNpbWF0ZT0xIGludGVybGFj\n",
              "ZWQ9MCBibHVyYXlfY29tcGF0PTAgY29uc3RyYWluZWRfaW50cmE9MCBiZnJhbWVzPTMgYl9weXJh\n",
              "bWlkPTIgYl9hZGFwdD0xIGJfYmlhcz0wIGRpcmVjdD0xIHdlaWdodGI9MSBvcGVuX2dvcD0wIHdl\n",
              "aWdodHA9MiBrZXlpbnQ9MjUwIGtleWludF9taW49MSBzY2VuZWN1dD00MCBpbnRyYV9yZWZyZXNo\n",
              "PTAgcmNfbG9va2FoZWFkPTQwIHJjPWNyZiBtYnRyZWU9MSBjcmY9MjMuMCBxY29tcD0wLjYwIHFw\n",
              "bWluPTAgcXBtYXg9NjkgcXBzdGVwPTQgaXBfcmF0aW89MS40MCBhcT0xOjEuMDAAgAAAEXFliIQA\n",
              "F//+99S3zLLtU2+2C6j3op4mX0N1JQGblsTtOoAAAAMABndh3P/s/B5qALz4oXI1enQW46fHZIfW\n",
              "e3pl/wS9h/AAJN5fgS5+AqBoPapXx0PhGDGfCxYoU9tP+7Xmru+rUypXEgBconwVodiDwTnSAAD/\n",
              "GoUdVh6/f6qzpHT51ZRb2RfovloiZZ/6wVE+3B5ZoL/Coyrv5iC+ILi4CGBRntsnV+pkOsRYAkMS\n",
              "tYe5IIqsZK713qIVt0k2y81jU01xbV2wBE41PPw1w49xfsnphpOwd6L7KIRVjgqPONAblQcxlay4\n",
              "SPsB5KeopwkTRFuQrBHzIFzsg3jdb/VC5Tbw/e9jeuX0DeW4QT/plWFeZKqEnciqngf6Rt6fgWYe\n",
              "QvChkAtnUwf+8b1sg76Bu+URhXDqC/qFAY+YEm0kUSKi07890NwYV6Udr3BqRNadzswb84A7Qh8i\n",
              "/Ea48esnGzEM7EGz06qgHMUi61fVoR+D7Zhc7Z89uSt4r/FeN7nBPeuFQ33+c/xIisYhdz759/Qp\n",
              "hg4LePfIQ9Gx2Qzl5D52KTEt5qBjm3G9Ml45RMhKwixJgAACBvqXLWpO90Es4MiciYQZ9hgPi3kj\n",
              "PptwjL638vMTZ499o2MYJIxGXWc0Pf5NUcVBLqd4NN/F8CvXJqrIIwDCuUlNJWTZdx3u5wgHoOZW\n",
              "CZfFnCmW9HPOVfZD3YVLF0XeNQ3wyaMIGf85RcILJAtfdv4vp8fGADkjDCk9Oq5c41i9b8aia+9r\n",
              "AHCgScuctwuI7Ut0u/2mlzI5gKEWw3iR6dTTLjV4gcYyoQgD5IZEL1xov8RO61jUSEgLHONyafJ6\n",
              "I7vAm2VFcuaamz6id5tkIqZo/0sbYO0QbO6zvN6nmDPyn6Y5cattIk3Rn7m8bPPX0cr+Vly/HogQ\n",
              "RPVs9BqwFOzLDdW96Z2VYJTR6pPktmhS7sGK/BGODYP7DWJ/F+OIog626+lvfvniOC1LKL2pLCb2\n",
              "WYiCjDq/gSMr4JLmIEgK48Wjk8PazUFTjxbXxUTCyeDIMf/evK1zZ8ZzWszZLS8Lo4YEmW4CxoIN\n",
              "ziwhT6y0nwsNOu/Eb3kT///1ly9sUb49s80i6ukOZEh50A6AuX3QfH1I8CYlo1Zyy10MvJbCt0MF\n",
              "uQxvrFkqKYSfoQ9AldAQKMWS3igzbq5LO5J2RFEyUx+gKJTvtDRp3galZMgi9LlsBNmewtiZIS0S\n",
              "xWokxvYSyYcLwq20Of9epr6c/abt0ZAtyCciYh5H2qwOC4JSdvg/1nhg4Obgj/TLKxjBuj51VN7f\n",
              "3EFmx0KbXg3uCUiIbilTgZHIVN55j3qd7NPX2u6RcWky7rQY8IKnnSZJlskDnPOL4Hzo+xDFquWJ\n",
              "NBs3QwKLor/OnkrrlmZc55VbugcbvFCL7+7EZRQYJNF8vRZL0O1541Bsvm7Rmur1T/MYmZIAZDQ3\n",
              "Fnpy+NWgFh1h17/ZMo4i/FLeNYRjMVX4S3hZ7fgzIaUHL518BRIL/k0umgSZgTKJES5vJaXp7NLt\n",
              "zWtwdw76kQuIoeHoJ7MqK/TqexWR1c5NGsUhTGJRc2N+SSRHi/JgGu0xORKcmMU/agHxg0jeL7he\n",
              "7j8TmfNTzbbaWnAMrF1ZrNyQI6tc7U2lcuZsUst7+A26lrMgGv+vvsdEnTOgC4Wc3BdMD6APnN6F\n",
              "7yvdK28wLwI/tuUTLvjAvWiLq+yzuxMtpqChww0YUznN1tDQpMxy1jme7NGpirGqaRztvBEzx6yb\n",
              "lJ47K/wu3k2/H28MYd1DVJ4eVEUMwSHpoebdbUqbBT3pn0sWM6+yHmA+oTFtnMcbidJE/iZiGGU4\n",
              "WkHvBdS+2Zk7S5ZoFOR2rhdyqyh8DOAa0guMpGbqxU7ncRZkByuaen5CxhAukPnGiJm9kKhXoQuU\n",
              "dWonkdQdvdG0HibXvaIkiKm2JC6Xe4fQP1hqkeAyvS+Sm1u457T9lZDPF1/5ljEmdaxVCUQvF0Sv\n",
              "EPoI6OiwmUrZVvytQizDomp1RTOOYIP2Kxrl4HJgsmdYFxs4KiEU+NvfWxSrmaswaUzklzfbFcn3\n",
              "RJuqJ1OS2adUpzid26Jn7pjGF/a2O4HMHyVFl6YtM9ZNQeIuWnjNvmCTRNveszLx+GF+9pyHIquK\n",
              "lgh1Na4emZJ8wHePqcS0z4M2PWsNq+y5pSEQZ4AjVGQRw1pSGpulCvsUv6yfSZnqZvSEytyGERni\n",
              "T+9f34nIKNmT9/XOeshE0AT1DvxD4kIW/iW3cUmufydtkgFBfzSrBYS2CW0dgHFlnWatcq7/VmqQ\n",
              "XnQa5fKYvkVoG6jJ2JL/P9dTyo4YAhUkAF5avV1DHCRzQWvzxit8sJUkGUXiAGM4lADwmzQzQtrJ\n",
              "2L8R0P6OS9Pit6YmIiWnkROFEPUZXQH5UpgBrlZ3dFQikcm57qqn3ffr4BP/EWr9pCyl/t5kxC+E\n",
              "e2FKR3rYYznp1uG6aTwMYeMpDISKiJqC6RRmbX9/3FRhLC8PV1Y0Gbes8Uxhix9ckiW8SjsucbAl\n",
              "9EqbvD3f7b723fq3W8515AIdgcNCsCDbaL41ogAvJEqOtxNPnkcT201mbpf+ifdjPIIqZ6UTy2ks\n",
              "s7gaBDDKjqqA10flQ0rHKPtF46/3bvFPIGnoK2xwR1HIltb/M8m2ikjB/C1YjxRmt8r0hYxh7KvR\n",
              "FeCL0qkpIhSgeSYJKVn9o9+n0NOBR7M0EK66VziIyk4gdjI66pZxtZ9e1GX1dSP9QHz10ynVzqfd\n",
              "1/3HYc2Vqm1Yfc99kyFvCiYKdEqFjbT2GeYXd5R1uAs1aFU+ImfGQTsEUrChsQKnukIa9eYuXAWc\n",
              "E87Zuwg1jbXNTKyf92EVrSR/zaYXpKna/4tS6/YsYEgghgg4pMnSQUzdH88bu/5c5YodkxySeSZG\n",
              "wjwEz0s3MWyBAzOcMADtA2mA4uNNZm64vv8lOjVk6yFMhx4uMZTuvMxByWuV2swJrTswhTVGOmH6\n",
              "72E6RuZrh2I5P1jSvP+4NNm12Uh7d8c243pkvHKJkJWEYHMKcSmLKTG3Wrs1yqE6zDrfvFBTTGu9\n",
              "CZPdxkuQpN3n+yeqYGWEJ4Y7v7XvlmZDvUHp0oEC2sJvrW8lrx/CHQcfPDnPbeq//uzuiSl0mf7e\n",
              "BRlrFN/ZJIoDaG+ITr9dR8h7HSpDcbC2XkUMIpYfLXseiFN26lKuQavJS22yO1fqpiD4b04bHp+n\n",
              "189d/DN/F1TCapeHkYg0Ocola4+jiP23jxn0yFd2iXMzIazdMT771J00CnhCsPHDs31XRXqe5dAV\n",
              "hoMmkhBgtB5Drhgba8bxg+6XEZSJEJNIO7UChs5srbuxe2SQeefbvVnYnmyPNzrVH+kgttsRnjI8\n",
              "u5tSXxQQG7Q2NtckqmW4lNk0HV9nggb0L6lnch3Nx/p77SqMEorYAewcJoQ4ClYhbIt9yWkjDgLg\n",
              "8nU4fBLJvNYQ6f6DuSuNmN+yn0kB3cUKRHd9vheUesbcoOvFyY/U+8cBkaWT2mmB3X9wBo3A7cwc\n",
              "Os6OpE5k1nee85ucqcLeH8XJoMOd44bt6DSqlcRwxJ9JJxv12+Ok1gA0Ru61T2wGS7YFZBTTeoyt\n",
              "EVc+klapAgyUMI7kplyNQKAF35d9lmHL65dhfDAI3OS1PVPNXzcEBrjgDOIzf9p4Q7R7xC7/D93h\n",
              "KWHSTy1OdYJjChdgKeRHKyR/Xjo8jKMMdw8ZZHZ+lnNxO9ddTWw61jevcy0maYdgtirJBZ26l1da\n",
              "0X/1ulHBFWCpZmS8dLwCX/QQjbA2/NT8hCBJkWXAZOMSoUEw3gbJj25yCbbjp4Puwh3cv88R37U4\n",
              "cTjpnJ4gw95UTrrBZBT+r0PJpNBTTrTe4h4z8ujhNvsN6am6Dx+cudCYwLBUJp1R5X4G5VX3jfYh\n",
              "jtxX/ppT/Si5xJ8enf8kKWr5lsnBglUUfSkXyO594/IjUvv2r46Co7UezOzd2Dtrf5kd0mFy2XsJ\n",
              "23nhlYAoNbP/GIs/pYmECo9mhHUn+ln64zXEg2gUCBB9MyRGzWp/ByuT4nutE35Flp5lAEkEBZJM\n",
              "kB+7GVnSbwqyYp2QBmW7Z/BHzqveY5jXxaONSPKS1svANGYh/nOhN2RRC+i58/urChhW1RtLtoZF\n",
              "TFPTYxQxFfMq2oQurghhuuUUOJnVbzDxj+PCjm0DZeBdUxgilIYqPfyOn4xsunkAyWv7IpthLagQ\n",
              "AH7H05rJ11EpYuObd8BCpTrIlDN/6pyM3GNzNa3+3fcGQmrpqWTDe9ohRrrGxAJOHL16xG3HJyHw\n",
              "eFwDWCrVLrNUUmPmXDO5Vf3/5W1douSCw3ExTpHtQsgfcm5YAGGaH8CoX+ekC3pWZ+9KpJds/lzj\n",
              "0YE0R67oMyBZ+CmFLF5Ugya94+H9DzSvxfhhDZX1mVkqwS7ZBqv7uvezs0rL65UOayIWtNvDUM6M\n",
              "jx4JONydEK3G8iXF/NZxmAhmFh7JEij0+uLaKbaNQs0G+98yedL5zGJFkw+8Gtb4nOlBrFrMeeUX\n",
              "Ia/XPMlLwumJSOXSziTDaC2hc/38Yd35LgTfU6eg1wY72xhKwxcDHtru/cI2+Yef4yUItxy9mGz7\n",
              "PvevfEYwcLCgan9ybq8+aETClkZY1C8KfQW5jhJO6bDPdF3ZL/PP+whSnI8iEWBbPMXTKqG1Pp1A\n",
              "GoIUE2MJNqjH9oAK9iD8iwE1WLLsR+0qXu+bJVoOBfvaEqH7EPueGDg5vdF+P2v6Zdu4Q731/2pq\n",
              "tXz/CJuGW4MqHq/ocyj4RWDSGnFLe7eblPRnE4t27NFnrM91gNFQhWsQoVhNEhgHmVShwTdk1Gjj\n",
              "RhF7byL0Ye2QHZyCkkyy4A02fSCu3xQLV+gCvWdKqlVWq5cRo6fRkPSGni6dYNuOgmtcylDRKb4H\n",
              "kFFQ2Wrl5bOB6KSj6KdSpToYx/HwrKMMEcnJ1ckVO6oS3aMA79YDCZPcu8Gcbr4/J2mneiWeg2Jy\n",
              "t70gbXsxzzoAuuUe7la3QiF9M5ga2Ba1W6IdpD3ql4QSb2TqxwYul2Ns9lxibQH1DlBRrq0VHVKv\n",
              "1s1y6NYLpWvChbI2ZFcutBP8/eezDdvOUf7i88A73TZSerALAk3/xvdAZSd/wgE3JRpcfQ8baJZI\n",
              "sFM9ofAsDgRXAv6PpfSZlXq61/FLuf5F7drF3+rGMPpqiN4rYF3oTswmovYsUpc9Gq3yvr/tTVQf\n",
              "+xgh8hMiteaIEmhuHFwEMCFMXnSLOrbEzujke7Tw/hS6xC5izKzSpmdE95Zic4ovjuEgj3FMJNtT\n",
              "1qmWDJrv3jFbWVAzf0TgZHJbbcHms4sezgoqGy1cvLZ5k/1+9poXG+tavayKBT0T/bJzObNy4pde\n",
              "kB2CS5EJpZbXzMsYpmUZ1YhlE9Sj2o9E/Ehy3Y2OTEPUWW9/jQ96DyAVAU4ihE45R80QwacsiX2S\n",
              "2wZvcC2EwMi1b5JslAa2ibFlL01da1x2TxJjoMq3dh8vh72Noig44gf9LBiFvFKEaV5ewCWbYwLu\n",
              "jct2+XqgBdQzXwnVEUwg0NHY8cVJwUEsBoJtymF3JdnsG2XsSzkHhWdJR//EfkmzhoGVJtRCta1E\n",
              "iqmLA/ilS35qhSidAcBXSE+FZZMVC5rBtKCMCrwnDtrNQhoFG3vnk8IYApQWWkm9gR3GVt46NkvY\n",
              "Xu39N5jFnEKAZrdhRpyIHer6fNQ3NvKZ6G2T4eZR4AXWrUzsT1Y4jfyPC8NuHoUX/Vs1kml1nKSH\n",
              "fuEz+nKeuaEuAfszyOAB5zhED3rEgfRrXqIEF9/dy0OJt0S6BWIZogUEnRJlyY1CU7iweEGyVkGa\n",
              "Eh6CSbsM3XRauY3K5atUXG6Xu9JEFgvPEy9zykk8rkj7Yfj01NKX33U36xydXDd2qimpbMQjIlnM\n",
              "IujxF3y2akilJBQU4LfiCwXSB5W96QNsjxcgNY4yUe7la3QiF9K+qIjfdOTmqtYbNMRpHM2NJNpe\n",
              "xAv2EpGOkzkdAAAEEEZBAAAIq0GaJGxBf/7aplgB3YcKkAN23gSGlUzaU3KlDR204xr6uA2+jVAW\n",
              "s3CC1EQhIvG1o7q5C2DuaTHwayZgK7ONaopNEXYSzSBwOcpoQzbWx0dJ6ipNjtAApfLZUhNBdSUJ\n",
              "P9ALyvJqKEZRm9k1Y29+ztWKaeHUHX9lKhti17OJFqAdnZ2y5PbI+KCaQXRt6T/KdhTA6czrRxEQ\n",
              "RVJOu4TrFfpVuW4rJVFIwDgmMTlWifbHplVUBrNP4oC5GRe+9WgfqPnGWpp5vcjpeuqAfZgJoidA\n",
              "+U9WSmPCptp91eqeAX/bTWNZK6078nrskhVQ1rAE8OhLX+6yIWGXeg9N+FkCFZNSu/ZAj5QVr7O2\n",
              "iNQW8IPgXLxxmcvU9bVulKGa/II64hscm1Xv1TnN5vuu5SR8dGGB+ZMDm/ZIaKLsL5hhBppq56Lf\n",
              "iO9dPwO4tCaJEo5i+qqaAlxooH4X3tiPa3AmAMGuJPdyxPETXPTS0cAhX0LdG62gjcflRd3R6vzg\n",
              "S9Z4rKU9deefnzO7utXKM+e/ABOlgAgztzVGAR4yM6j5tmuwi9isyyyZ0+YlfEIq275pcBgg5FMa\n",
              "+TEo/YUNZK1DwsA1qiejgpG9lmW4OTwM9FFprGOFsiySTywsXj7NGpxRhuONM4xlr01EcbNN6TjH\n",
              "7hn1mLx7/HCJIiolCpf2yBoZyfddL4dcfZIqRMOPz2DtYwze0rp4sD4E6QurDltxFQO51/hqD3BX\n",
              "qnSWCOSGYDtOg6jU8M9bjA89XgJOFrtbhTTgx2PPk6ZJVbbb3UEuFX0glabdKoK/3trDYqBvJf/Q\n",
              "UFSAjckuewD8zue7qTy4j8nuKhqugwQM+3ASuC8WOEVydpT5bnr5hl3Diu8r2OqYBcnnJM14AZhy\n",
              "yFj91GsU0y1S0S2Xal3RXQOOW6QI/361EN52dRKa6Im4PiTdzJUpaur+M4Z4bAUenH8He9IjqdXG\n",
              "SQghISInzQ0dBnWrpfEVLRO95puetN+j57dUHarVdjEJW+PsV3qqjEVqmK//tCMGDmdrYNNbU875\n",
              "4j2Vvusx7fsxWhdGux01rmR+ZPWl39Hjqg36oqIJNGAluzCIQN6MOJkHwyZa6L4hlMyxRfBr1D85\n",
              "1lOkSk01SwGRkX1fTzXE5KZMtRIKBNt7V25/jV4DntOPWlvmNVe2WeIu1qgR/PpiSCGW8iSmRmGD\n",
              "OLiu+76eGaT1LYTqyAN0dGqjwFvq5kaRSE/7Q2uV/lEJcxzAwQkI93RGh0FIrDi3CpaeGg6FFUGT\n",
              "q1i4/qJTHUbYGOXEBEr+ctsEdvv/bBDN2NdEdPF6icNDOx0Td8VvPjjFKFuzOzGMaDnW8Bz49At2\n",
              "TzgK+JLd7ztsmoNhWCW25t9CR5u79Rot7dF8VIYEGaR/R+/Lyyj3lBUzUNUEuhyCITOOdlJLuu65\n",
              "LEdIVow8Q7636U/ZhLuCH2ofNw8JjK4e+3gvoN4yasBhQxjcebQPO/hFt4PlP0ivoCyUWxXfWKoL\n",
              "QHm9RoSsqpx57dCxh9QAwGXQ+29AosoGaZOdCPBzZhYRNdAIywL0sDE+a2yLqmuxXLbmYJMGAouU\n",
              "gaIqDlKBsvsyKest2GnoJc5nXolBACfAFxI0A466MM5RnyiB6o6yuqRYP/hy4R8BU3W8k3tkNuub\n",
              "K0mboEjlFPd427yVjjQjlyh9IyEVSCQRgM0l9vxbmkmGnVCbRa43TwG1x/SzSAGYwa7kmDREGQqk\n",
              "25kwI6aGbBerIcvPAIP3ewntXdZe6c2SyF+hVSi5SfS+diHmAgr1Rh3jR4CCqW36rCd4BnG3pVb3\n",
              "mjotsb1Yk0WGKxxIAKGVlZ9feGW9V0qEQQJ//jqed1zebcGUnZ4QjZ865/2eFwDmqzfZa8yd6Es5\n",
              "p7D1edsDz5A2loduBB7iVkvR60/mqW+u2kw+TIF6VN6aGnAaLObDzPBKjiy/S2es93a/6VEernoG\n",
              "3rsRi+4E4Ktha2G9oR38Pi6j9I/z29w+xHaii++ktzyfLlC9VOSqts0L8wJeOGkxFD86Y80S+8HH\n",
              "LRiVHfPf9syZ2TASyo0NCX1aFrZjcamNkx8NP4VUTSr8AZlwpHP2K8y9dDzGGptcQdM799QehyJq\n",
              "8GD6uJ07zfBRyPHS3uYVkSuLk0EYexmdWeq/Zr4JZYvZZV4ONhpdexAeO2ughtJYB3yvpuAEhK50\n",
              "MfaNI+uaQNRXzbvyW4FCdfEwN2reE1+Lmy5ju/APm4vhwG3+5TBKgONMLAXL/Iauh3YnkjEBy3A7\n",
              "dgeDMecLyafP4KfNn+Mx4+Uv+iE5f08QeoRGBUlGCFFHByDL1BzHLnixEkLk1QzKyWKNYSht6rFP\n",
              "rI1XuZURejdZfxHYoZuIAqYEepBJgUF9QHbdIdynvk5Yu3BqPbrzCTKBXobE1aXWocuqmLmxUXqE\n",
              "CgNs+W89nsPatS1cY5xiRB2nsfs/eaEkTGXHubxIkk0GNUX9cXl4eG0EC6u+nkUA45a3QEPZ32eL\n",
              "XImjvaxHO1i0OE/J8PMGAdrsxeQmhq7oA+3rRNaQ5v6U1hz/WNqzG450sDvybIBhKGRT8jt5CuN7\n",
              "KIAq5vbHVjApbQAE0sseHEEoaxMjKSBxr9JgeRmiOL2moG2+d0fb01grvA/2yBoQl8meuSoyvUBR\n",
              "UiKOEnXQxPaLb2Arb2B6fa3LucaQ18sOoWyGgYrXvSrwKV/nusQDa0fzmJbBjhh6+znv9EUYrjzP\n",
              "OnchLtrAYMzG8HqAhZ7mD1aq8qCbQ81C5hriqL7bPyI9cNfCZI0hdf2swSo0Q8mi5gKBJ/1OvK75\n",
              "lI7r0xrp/MhZ2z7HFaFMe++yJAnYG8SPaTyd6k7sqgRN5ivcb8gmBecE9MYANysO7huz8xiowiJU\n",
              "jzJLeF+v2vTIIqmfrrL0FgBMkqbrW5QMoxtssH0JmkDAhOtZfto6y5VhwoZVc2OzYhC+OZvS1c0y\n",
              "FZ1FB72I3cRHl4z9IAs4AAAERkGeQniC3wAA0akUoDpE34Q44iGHKRADbaQPVd2rNiZVV+9pbspS\n",
              "u/2uSqUKw40P3J8TLQQFOA03niJJuQFn4Zq648V7mMjzNiXFZ4peEMPwfXVVwxkTePElYxYVfrl/\n",
              "VQjGTBmiugytHmiBKauP2BkkFsq9jhtup2vzQgwx76kJpacKjgRSrxn1CeE4suE53H3G5KE0j+/A\n",
              "Te+YAcZLsyejv5AHffmpqoXYgpkLKM24nk14hXEymbX/e4IrdgxVkUJYENQkbXKkB4TRCGkcuIt6\n",
              "xyedGnWMLhb2Cwcwn8CDSokTj59rzukV6mkqDZZ6gTFogwkoewg4skI32Ltu2UbW15QiUDfrF5Ey\n",
              "GmUsuIxMu05l6nZ2aiXf3JqPLDD02gF/aolc2lPS3MX72kbMK/zxr1s/4ayoqZI31YNREQpKwlnG\n",
              "tGcUq2pJtRvTokm5ZH1TK+Y+tWgX5NCe1SXGvGxTjbLinyaTnMgbx+c70PjYQDLQB/BoGPQZMU4y\n",
              "QTnxGViPq+IHDZophBS9UHqmBiV55Ed9rPeg/11l+0m0YRlksvoXygtJNBfVr/+GbbcdpYV2NCjW\n",
              "viUEyY8GNCBGHj11Qi7IPYKnax2XnRWaW78czpNiQxbkQCK1W+KxgvZB9X8PkWBZ9ML5BaJQ/LQI\n",
              "nIJpqlwLjISiLbedOof9gpg+PAuXz7Oq0+HpngZbCg5Y2wdB4Ad8RsQJ+Ja+agJ+Y/KQI/XG1yeI\n",
              "R9WO6iw49LGWycSliLSIPLhLR7fMz+xGHn6YqJdXh5HecnKr5RIMeIV26t7r31OVWCDIl2zkItL6\n",
              "bnqIngjL44+pLsLHrwR941lL+faSPe2Ii3a83mGhl8WYXFZq6RjkGwaxNxOM+GdMADaO5r4waFvY\n",
              "/oZxdXDFzgnbrcUDnR+OQk4d8lR/0u7Ka30xa96IqpXXUhxddC9l3uyox5xdASiFeerh3+hAJpAp\n",
              "WXjHXHgYjFCphNiQXoUQ61S5xrxCkSWmg6OUZI9RERRY8+01XE+GDpnr3OcLicyS0CWvcgdnSoeF\n",
              "juEE6EfGU6UN8hIqadlvEZU9OgeQFnGfC8HC0iGLqEdNisOHzj/MVDzngFXGkyJUXkcuwtif7tYZ\n",
              "3NrprWo+LyL+Vqzo3ROfObVU6Ar8JSJVzIrC9RTA8oSBOwr2ggBqmfYb0DSvcJkwDPkUqFG8RpXS\n",
              "Gq0vAKfPGKw3RM+etCmUmwUsZxTxmKEMLBBGLTUAZhemOrecGOoFkyuafQste5hBDov6jLhl/ywf\n",
              "+qxxgGN3Abu6OsBVMtgvTAnXgf6E2N3qNVM/o4x8J/GrViHms3Pt0kJSUFFjLAIMfSBbYvTmgcQn\n",
              "cABG4Gsk+s/VUPAqUfSjRu2kUbbzG5KpiSXaAcW3DiXBJB1kKNvU5kZ6ZkIwTByooDBMc2U93nZY\n",
              "QH8ssPYx9WgdrAdheWBFsXuNVveFpgp9Ugc+ALSBAAADAQGeYXRBXwABRTVwToFjl0uUXdoNqICE\n",
              "MCGrqcZNwrROQj8XAB7pb5ty0PzCP+gDaunZJs5CK/GzNl6e6nYW6yArDrqrVNqtrdjbrHFNO5pq\n",
              "k9SxTI6MMznunxdigGPT4ofjFJJq05MscnrfsMWKJ1+bAkrsq7ag7Ly8xNIXh4lWEB9MWKxsH0Pj\n",
              "4krpJJ8zp3IE5PGo+JJYnCzfW2PeKnZbuMuQ0A5MWUhrNNpH86bSEcob95Rbk3NTu0ujBmcqFcZ0\n",
              "9V7pcrdb1W66qxIM69X2X6gBTngxH+Tzjo/OlFcvsXKZ7OXgm0q4aWBOioBh0sGnh/PZR5fU0o/0\n",
              "mxTGewLHceUpCNwcZqRmjigGZag6PG1x1aFOGyeCvnAdy8tOgtkqrfj3E97FpD7i390asjlGSV2a\n",
              "apLe93V/GrqtLFEg6Iv+MW+NjEV+VdZbUZClV1cvYuWcHoJKX1v9+ekEgBSXl4oRZv9z692sAlJT\n",
              "K/ohAqaS7BL6TLcctaMSgILFIL/hevJ+VR9zsu19bpyMGbbzq2KeQT+lcjTGQZq867/h6tJNA2Sy\n",
              "vxyjhKgoUBz00IB3Kq3FXv/U/WHqvdhq8pNUVWfu3ywlTD/7WbwoLfLJSPG49xpgrgGquTdTSmKK\n",
              "swPr8uUDGjGt0zkB1BdbqD6DMGIiVtHhGeHUEv3bRVlwxqeoPbzi3cfE5AMQR7GK0ZneNn7yLvpH\n",
              "agA82oCQOJ3+B7TggCDwBX9W1vVtTLflPWDyvdVW/JhI5U8wgE4+kME9zqC6i4GO8u6RrCMDuHQU\n",
              "KRg2wxjYnrraEXZtco2g6tvkDNMko5qEjKq4lOzDjz1o7y+zk2zMwLA/SgvbOaHCmSH/YWXmeIT5\n",
              "ZR+VGXDIEkv21U7ksaQT/l7htmZFPHxB6kTOtKkSzh7KXUUMMCgWEnke7n2JhrOf7bPsIYL4xK1k\n",
              "qscSK2wbSuveau17Gg/hEkAxjj/ZpGA2vRnD9UkGqoS2EF/8x3/CIYrWDzMWnwEcrWm+Tlg5rrs+\n",
              "OPXNBiwAAAP/AZ5jakFfAAAPfbHYCDqpoT2nH1gBYcMrm2ihRdOqjHNd/wuKABEb2l8RnmJg+6YB\n",
              "bJfXWutQDtkesnY+1f1iCjrntjq2ufTORjrie5rCOfHMPcaMLU4qTXwyGIyb3+C87yk6cqCNUhwQ\n",
              "+Kf4RN5wsl7pVgEPl3MHxytcMGda/P/VPTD0lBtIt64WSIoUlNq8DXQLjpS+2ejfhGNUw9fBSbQO\n",
              "ZsbHTYfoE2WgWw4bNltaUBqTegcvkjUVpx5wTQKi+qdNJh6mhl5EyzsGK0dDepi49qNyL2gc4sma\n",
              "c2T+MYGMRiyE6lzV/dz7lYCnYevcekh5JNhGZ/zIAlhKeRrror44JFAnm6FyzoxzBDrFQfprmIR+\n",
              "dJIzzV08bukxIdAnbZifrHFEAXtKClzNp6trb71j4QdyDcfBL9TtHfnRFO8be+Vux0C8Pbjk/YRZ\n",
              "OwuzoIx6o1vVaJhPZ2hn2n9SxbHzfGFlTdBHtmR4va6vGsCg8JsBHdnuwCVLbKogLTrIYqeBK9r1\n",
              "wyob5Zt79aF+YE5vri4vvleWjSXY7iAvpW2fAReDzmiJk6GuXwMVlJsaRTwcNDZM6bKJeDkKvTzJ\n",
              "Um1KmFw3p+HTzjb6FsEbJe3xStYOUDwWuZSwfY/2mfUxn8eFX+P6tD42oOLwMbZ0GTy+G7RvUxSJ\n",
              "6/JMW3Xt9hGGYWaUSN/Rp7d0Kb8JdHXVDj3epOtqd7imFMsG8CUr1+FaCuTIaRuPLpFofujbcJjx\n",
              "yn5kcehS/ixsPEmnDxP/YqRUCqtQEVfLZQlIV3tmNaI66fdfUgaBWlIlg3nPBMc5SiNDPXnpYr2P\n",
              "yHtOeByI7l3vfzDauSCXtyufS7bhMoFSCSvnoAbsaUNQryA19MYBSX5WVfroc0LIvlOG53iuXH43\n",
              "KFzIzbaHudwLWgWtDH9lSqeevoOoNlAV7FS5tPGLOZ3UDfKKGzBPc9MGZ9+qscwN6wqjx8mi4v8N\n",
              "xdB8kOQ3IWnjDCEiuxMZXlS0TY10pZzTYSrvzwPGWK6sPo5eByYH0XTkUMhrutKcxVGKkjhHSJWd\n",
              "Wq2f1dSpSglv4cLkiPhZeAE0TnWCopEpHEvBttjFeyYj+d9ZL85VxnCoE1IzwMGMtGhp3VmWOYmG\n",
              "l6HgZDHLD6YJU0zoeTOafoU+47y+Q2qu/lXRvuBVd7IOwXZ+DqzqaU+9jDaE27b3fUjARhW3bAyI\n",
              "kjgrnupRibeP1LXCHD1PXtnxbQd06wM92LhyJkSVkiOfkyvKEprC49mOHWn3xgihyb0VZ+ryHjlp\n",
              "dnLy8dnf/X/UwRhk5txPRdXEEZxKgrRBTANeDn5EOjQNZ3t6JWizWvn2ADl9BJUMXCk0lKdYdmYa\n",
              "w/P3W7lBAAATHkGaaEmoQWiZTAgv//7aplgAarfH/xPndgBQVMnC4Qv0MTDriknY3bIs1M5PBZea\n",
              "js6GY2PuuvEfopUZgfuBd1VLqJTwFC7m+vpjxd2z/gMwZLGRvZ/senJxgCkItDcXJGA88kOvyE5m\n",
              "Oeg8Ky/ADfmT9KECcTBcfUAeqENBCvuwCyX+p7EeuqotBYQKUIt4u7nqImq2q+iXR+i5/QLHzZ9X\n",
              "Vu3oaIlzEic+bJgckYfkf/DSoD6EHexSLpQevzXdgBMODWzjOk/BSnh72f2eLvLp4RtKS55vi/L0\n",
              "7AU1gNqqsLFxovlKl8YCce5bpxPNvkAElO2uHpNwCBt+Y76qWLnhOv8PkJDQVWT5gDUQFHqMSqF0\n",
              "ILHmAkeh1ssKnCLUSWfevwy+JLm1Ny0JyIXy0WDVWsow3IUXYME3SWXBy+YPYm5tivNzlPcHMCMx\n",
              "KNTdvsieZ2rbLLbuApray4dbdT8InyRtWSNS59vnTJXw2Nf5EAYOv4bHmGWh2zXHxxIjqeFOa1U/\n",
              "gezv8GqKH9VRVV2If+6XhteG89/BFV2m1eFDYpD1JxK6uWE8Z94bq8867bW50FQFWne6f3XGVfcP\n",
              "K/CGF+7GlY0QnS79LnU1VJP/GJD/ZXe81GNhZ8t1m9bfBDGQQg6vb7iYKzuZEESAvIUbbIhzc82k\n",
              "z7vZWLGV2pEJmO2caSgVkRFfOiLZZhXcuKmYG6romruMLBpLyxw0E+JTd0ofx/SMxh64XaZpLW/U\n",
              "emseAj0LFYsHdWqAYoqVRHKq/xnYUGH+CTPWeps8knXyOZBZcrF7Y3LRsICPOtN0CEmH2OHEpCk9\n",
              "4uM3h0dWvF1Oz4ODBjj0xzeO59Ki1/+our/IRnOwB6MDqOAUTiLnqBRDBeZZi749AlW+SCdPGu7H\n",
              "B3RLKwNSGdWdpToLfxbNdaOhxmefXtOPquQiOEpNhPZ+G8G8sGBANrLHLAGNQD85/7A3635Ov/oW\n",
              "YQ8aqy2ClK+bldopbuRIQ0HZdJOOljvqU0UHNHofQ1Ti6Kz1dGVHyQLfXC8rSQLkbjcUBiK8Ha2I\n",
              "tN+iQUyvJwgCtcDMw8bL2Cu7v09L6nelaBluiQeaD4/C2zjm+fDQIxIDltbC9xUyqR0DFmYmBkzK\n",
              "2MPxoBAfFuMuf//jOZ18yohjCcQcGF3v1pDXWNk/b6wYIt8ZSRKDKrgNooPZ0yKPliVVqsDt0kEs\n",
              "/NKSRHw7pQumTt6aQt1mISTIqpZTfqnr+yyGcPoTaJYx3k6ptPthNFJ4DTR1zMD6/knn+v/FwwMX\n",
              "159p2oa1ylCcOJ6OhjMgADa4z2+FDvO2GYKdQ9bKbKjX5wnbR1Tt2A4ZqNYt9uWxm4MbFvYMzMoi\n",
              "FFGOe5vp0VdyS1o4FAl+hjLwkYcW2+7iLSaa3FdpqQvds8e97miETz7xr5Zzmv6MJqufVG0jRHNS\n",
              "ZR6kE+uDX692ONlELCsS3jVKghSE8loEMVdbRojqFo1G869SRI7Y8fQJGbWxx3QZRVGviHgJmUl/\n",
              "VhigUIhwCS0UIsxnpZ8LnfWRqgSeitag9VTaDi/NdOdpf954vV+orYefcioG3gw6L23cxcf5x3bq\n",
              "iYos/XozDSWs5ELZrI2p0FFOH9SeVW1+McVPIKFTanqSsF3q0kGu0BJWcS23plLXuUi9CHEM6hbK\n",
              "wZxDx8Z/q0o2vmX2I1Q2JxDw867EZFqtvaipJ+RzHdL6KQoKZKHqq1GeVODSSaZtiQbcgd1tdUft\n",
              "gVN4VEcmmj+JnQXTop26f4p+oqLzMh4zc6z/tU8wYvc8D09PhmGxQhJlT2Pdox7uuVgMS3XGSuce\n",
              "1gs86COGOySCt+6VAr4KmTg+bxV6V/5T4AvZJi2kHtotNpdtR1V2pPwPulHwVY0EoRMUZo4MMV20\n",
              "E9NIyISxG2Qc8GLxCNO/BrjZcHwQbVDmKehRs56Z7x9vdXBPymhom/6WVerk6bTh9Nre3I9QiImB\n",
              "RSOoMbgiNnTXuU7we7sFofU2hN5Gn8xSKWbVDcgxL4ty8C4mT+rOv7DwUP8P6WFEDWi/kx4V7pCx\n",
              "n3WYsqci74xN57ehdWp4o5FjvEKzOt/yb+Ty8GR7W0XQTh7P2oD9X2bVnsml07V6F3vPvMRCV1jn\n",
              "E9Jx4D252wpFJaS4hzEEpt0x623P4nLZmqu/13Btz/G0BTKwi5hawZzeUAmT6d3zFOmysSxl6y4Z\n",
              "Vb3NJyQp/5BY03KLHGoK8feJk6ASIumJJL2DDIa3EKrK+WyM7bXVFzFe+JnpIt0WgUgNzufHL2cf\n",
              "eVWmQKOm7qPE+hg6XPqSM2BHpL7xTfryevkBD6LwtnSqvZRIYOeYpyesbhc5V9dwMcYWKi5WSOLI\n",
              "bAK+moyQhY60YzUbwjwS7XhKVocA+P4sWX8EHROXQnh0FO4BSt/Nn78Xq7dUqbzNGEVgrbCX1fBw\n",
              "JLpE7kVlkVzwDrPzHGxgHZLf47pKacTJaqHd9AyeEemkF6rDrff/LGVCe8DG95BU5RV2B3t6+1Hp\n",
              "L3m0ioRb7T9TLAWSrdT20+tJ1MbhxUsEDPX1Fl+y+WP0wFkF3/5vUYWZSPRZ//K26WNDcpCbGFje\n",
              "T3TTgksa5benhrPVZBxwRBTtaO95KJNUkTgeI/PMaXnQhcqdLyH9M3BWPqQgGBcr6V8Ou48gCTef\n",
              "EhAesWDJrDUFiE/1M77YMVgOdmRqsmn4EjFd+f1EQgcVvsAXyGwW2TLZpOLdvjorSH0q+rjWRkfQ\n",
              "STMxfuE2VsRNgQFCO/1X2JViGMkOhiyW5OmtrodE5CeUZDe9ZsEe20a6AH+/nXCFKG7O5tWSbPib\n",
              "Fl7rA+JFAifqOprkxFQbgT+q7tLI43sF7BMN9AoTcyeu8q4P0xajDRmCGYr1CqRwhwANowbEo3TZ\n",
              "7LFx9711ojfGBgurWYbA+rApq2x1ThePxyWKRi+OCLXG/PLFmKgDvmB08JuXqIaLVkGcfXXBhH16\n",
              "Lf8QeFm5Z/Ek3Ao/5UqrFhMuv3xuATd31fC63NvVEOXxv4L4L8sGet1RCvFyJEHb7UFUXv30tj6F\n",
              "ppl4PcOgxzA6mLmGSlXcI6yQ5CCLOLo88htLnC5xZP55/8820dZinWo0oZL1tAN0GRkJuNZpfnNJ\n",
              "h9tVn2j2zTAS09XRZ12aKGcEV3z6uY08917TdWVpLgCEjImfXzOsj8XGxrVdu4JWiaG5AMuQy2vk\n",
              "AW8stXee070a9Pm9u0hYW/pwoLYlTlBXjH7eYVBUz50+pMfzc4JzzKIpf6WHg8+AmTVgmiE8/bai\n",
              "mMnX1CUmNJVj4ifMaATTUXVE9WlBJEhXmDoxozsHym25c2ZJeAhl1+YkPUgHZQYB1c8Y+7IGBnbb\n",
              "qqCmqBnuZlztfRffZwOnU/cCLX9Txl67KFA+LTUdnDeT3vQBvzTnY/mpNDqDK1CnA+gl7deX48mx\n",
              "VmfayBtTzfra2/sVXgWWzEwUEFfkUW0PhgWQou/RE/XExYzOHti367zfzFypr3vLVLV/ie1iywVd\n",
              "Fj1b0MwhcY7UbkTaMIjGPBYZGijQS2Uy4nwlTwvno++34QMQYDd72NZ68NrskuQq4b0tpmqEcuIz\n",
              "KPFXfEuK25ZI7Uo9qKRErni30zmwYjfblyWqeQBVqMLPu/TTV+CZJUZIFLMJFipDF2t0+Q3QHsfi\n",
              "TTjEtPKC9Py5HFkv/u4XW1RXt2+PvhHpf/y5JVpkWKPJsmY06SQW3GKZwlZN9Ih+Gfb++5EiDm3U\n",
              "TI5qGDrh1fEHOVqnJ3EKcDAhUra0dOPk1rtoNF3QokeSWLWm29y4BO/dt9VpDGE5rp5gP6vRoFwf\n",
              "ATWUt9lPv7M5HptyDAZdLmSukTqhqII6OnOXxJEKN/GmdIn16AJfU7zY1ScSLbDqsc9cJbAqvYWo\n",
              "vQtOKsmez7fwrh6GyYmbjjDnsY5zk3jKsNa7coN81jN0vMJKqWZCdNSzf/FfMqLMgdQanUlSWNUJ\n",
              "aSV2HDr6ikfE44Cr9O4oF7vM190P1eA8lYQZnPA5pbhqJy8qUN8KhrYpqi+Lv3SjesNbQhRk80CP\n",
              "Nh5+sQWz7QIWjzt8TCx9lkv2M3dNOplyfXLta3/tZl0O3TGlwNa60PskyQPF36uuBrW9Ch6p5Bfv\n",
              "T3jo844hFZzvlMye19cInbPqcChAZUyQSdImTab2fhfMSJlgJMmgz3yH4qOrwr+lpBwzK65M0dDT\n",
              "ne51KjwUlAfZU8GOnnibMePnxhtMCC6DAAlM+e7FDfHA2A108j0CdngplUTzvKsBs2ra/f/RSOeh\n",
              "J3/LrCwfd8B92zIiKPGuRw2QAZMu4gAhxUOg407woLOwE8YL3ggLNd6GP42OkRMHjnHiPEUdvCK6\n",
              "IS5bayH6MMRs8MDJnFTH/iyIcPX1hWbeckpsKjjmZMuMXz9e5NWBd37W3xXd9thFlMZscnK1/Ptb\n",
              "MnG8LsmoilqcdKnKwVS1n0fwf/hRqbAv2YuJRDH03KXnrhDtlTmKROYIIuuDS8ldYn5uEQ265QOU\n",
              "3VfLNIogNGM6V3KmFCkE/k8JQXXo3Ci8Pu5IlIOKSfxoZ6LVGpJ/YxmLgvjCPKe1BArvWoFbcu6u\n",
              "HEavOKSzeRwSlJvqqFbpS+DmUjllCyevZU4GM6TrXkjWE7V4r7JFouvR2CGtsm1K2587DNIREqtK\n",
              "GZJxlKvc0aYVWI6qtfhLbK3Hz/szb6uLW549UnDVw6brZUL6LjcOK3NgMzP7PVhUVwvzxquJSbKn\n",
              "rMj4nf8q7oTach8YVAnpL+GnFZG/hEpgcm1iGiB4Dbm2H++QOVZQDjjPaeyq59lrn81bw/XRXchx\n",
              "I5A7xu4Azg/P/TkWpuA5btb+sjoWZjZiKQBCOa9iXl3WaeAWu6savIggt3XPDwDxPE94Fz14SIzx\n",
              "Ys0w4201wY3/TpaZsqdYw2fKpJ00UhY9zwWGgnQ9LA+JlyTgnKgNGbMIPI0z4TYSWR09+k8yxHDz\n",
              "0PZ92GTJqCsr9tWjbhVowpEXgqTQ7veT85QLweB+buT7ShH6dWC/RV8h5OSYQ/E3ksfTWuX7MZnv\n",
              "xG6fB4u7xHrpA4ouLyysxgArGLbgigw8rp4d//cws8C0ov9yQqEHTjfCROYQj7P4NF/rwWrNLQaG\n",
              "t6fnuUXL30k8S8oE4nZtyqTx5nuun13eLPjNO+SuVKbJX+OmmJOyPWkWGDhh3QMsUHqky487/trM\n",
              "pfygWFS+cCPZltAfRl/hJH+XHy2kL+WcxbnGVthq3o59V19Y4mV8scxtYfBjkehXVfoEgS31p4wB\n",
              "qsPSp4n70eZUpcfNSHsm0ERfQpFEekASeFuExvLzgzOnEi6dztQ/d5f+uxQhoyR5/XpnlZItWust\n",
              "FiOMf5SlQN1guBcUqk02ChKZ4QP7JIPusa+7UMR0Pb+9miVNgB+c9xDSCWOGVUn1coj1hDccWKYI\n",
              "Y4hffg3g5SdYrDXcMERYlxhkdiPQvAkWGauVbA3lK184hl+FVpeEo6/TOSBxVJ5iTZUp+pcz3xQO\n",
              "Iinx0y2gXTlJczFjSQRVAe45Ea71tHA+Ugf20ODpS6LxOyLLJopn0ZPWkbiQWzduybzEU1U8k+Ro\n",
              "1rec6M3QU3gHYDkS86w1nugg/2qjB4mrAlJn9YbFQ06/vbb+yy7Dn1noFLRgGqU7dYEkh7q/c7jB\n",
              "oIH/usvgOjmjhbOiQVJuAMdRz1qxg27ki5GhUAHkN3cvgOR46yCIMAKEAdXbudldPsjPlAbG1Pjj\n",
              "20QsV2C4iyKouRPMF0ccjp0Bl/+1k7yv5UGmVPHBeRbwDOugSbde7UUCV5n2NcPASsdVCSMPF1/D\n",
              "pJfMMXnwR6hh7C6NKVSMdqxZiIqtPdyVIAV32XBLQuohUoNo45pWr7Ao0aqmzPJnazKYAv9WVaeE\n",
              "Zk5qQbV94uvm0FEpLA6rY7AujIBw/vEZppSEvNWf0jGQlZHmUP4NlDRomsviCWBo28VE5gc+BzCp\n",
              "KfP7r34uqnLyU/ocKico2kfcGMq3rtEL2QPMNNldHagcs30wYbkPvvv+3IAa6hhfe6yTJ9lWEnz7\n",
              "AfUc/zzniwaHOJjs5BP7Se67WiO7xaqDHVjEzLKY4b/nP7fIX2KgxDWDw48bIdS6bB6I/RhrC/NU\n",
              "3wAPSstPag5bVGJxWliSXXyMpSZXWONMkaPyi80ZLOpsbUsKx5XUF7OORE+VLZevEGQ1/X9r9sy8\n",
              "pOD75fv9fHNPChEt0WImJwiO2unOErqgkespYvcW/WTY/8S/K4EXHQmZfTmw9qkv1A0/AMRIzusA\n",
              "8ukcri2snLGzF6AkQu7Y+x5XtgNf01TXubWe5imVR1ORpV8wH6oBzqpopofHBpRR7RAgevHTMb09\n",
              "HltY5W5Xxu/sDQ7vUyDghUhjludSD277w8eQpiVOlwauvm+7hWy7xiauUBcGGq5HlIpVZk+FzoPT\n",
              "5TLu+GUzdDMvVvwhxJdNObl/gydCkzp/6ZtxafLUzf9Yx/tim2JHmUJsztSHOG72uUPfjL+PoDr+\n",
              "PVy1LouQDKIrsc9fl+dScF5VA9Ir1k3dFaYmQ0PU+mpjwb6HymMVdzpf/XoyslME5qTvHINSHtFR\n",
              "L5cAAAxcQZ6GRREsFv8AAC5eYrztUKaEn/hnwXAQSIY+h5yMmbxFMRXdt25OxeAzaR8bygl1lzta\n",
              "BuCFH3SBVogRAZjgKVsrS/Gk1XGbeMmHu1vq8dNDEQKliSDWPr392C/L32Jk6KG5oNz379700rkH\n",
              "G19j+kCbOUh3giSSfL8SBGE81Ckn4tBDXfI3Dp0koIL4WLiizG66EuVKmXi5W4CzCQ+QUaFxDcrU\n",
              "3J8qonkNyuIUjROua4tEwakAQduz/+67SIhnaBKvwimO82EQBHeK1/G3ur5+/knUpa1LmNWrCyu5\n",
              "BJGYLek3DH+EeTF1DSFTBVClfCT2mqtXqPiFSXqYsU6ZDorwkVkJnCxA89pDrdd9jzYwAIfv7mv3\n",
              "dwKHM+ntyYHMmkVq9FmfdCefJNl/PWd95qrUFQ7dK+63tnzMkbbct6teViDzKgGzm6J8rqnH/lD9\n",
              "vlKWsr+PHLHXbSbE9J0W28ev8q8vJS9jbgxSsbuGsMXIQSP3mEd9xMjlYQ93+OB4TzUopdFjp/bC\n",
              "Y3vzakSXL4g1FaFTRCsqOGEXH+UlaP7mWYrFebCjIoah2rGY+3piaIIXxp2vsBst0TrlZXWR/1cC\n",
              "wxBw3WGwoS0iYQ8mJWSlB5Gl9wIwe4zpEMe9VW0uWkGmbYImeuqEfhFnQK+tZ/yfgvGrJhpecrDa\n",
              "TdF4uLEeBpqtfewY7u4BfrasVOT2A/5Y3vbQPVVbgU+lws+aX3AyHtk+cnil89mJKBz3oairbJZa\n",
              "tkapqxnAlerWewSb+cEOOyks0cPodPSb6z6OYApMi173s+QRv0a+XiH0q1cc+s66LVWGOSEH8xCq\n",
              "1h5TJwETJD+UzLFihIy2fhFvofphaas2pYXgu4Kd1q3/Ynh7AbbzXzqr1d73TBgykMfZAWqJbBxZ\n",
              "Brfa2EGyhpSL106exgqskO1nDzKxRunWLjY7nlreVjijS0FqyPHp1S63w1sPZsP7jZ34YCt/fhsx\n",
              "nGHmeZncatW454FGK7KXOasL7SnJq2yGvtoK+CM/TJjFEnOc4Sd0ATTX1tbcM4yG4Dua43wzWrnV\n",
              "8WcWFUmNiPIKi0f9C9wZUXD56fhywXptnwkLPuVlIsFb/iw7VaFOimThMnAg/q2HHfpDW4FmfyRo\n",
              "Mixg+lFL4dELYMKgfE7SNzJyI26/bPHipDJtao2sklM1m7Rh47/qesFiLSCwd18fC7jO8N5jGJQZ\n",
              "FiPEDQFRO5EVTLEKdwqUcbfHBo2KklFXg7fsfx5ehNGm7gs8xckJOVKUJjbjLEfvSh2STRQb6yPM\n",
              "ugaRvb/j2VOc19o1/FITh7fo///SMYkg0JPT7Im4J9COW9IbS88joyZFyx3D83JjwD3lVKlT069m\n",
              "OuYg7y0PJFx5TjWHB/okx4OqY2izazclFbos9DGtCxBmacigw0wvwFp8o99hbXwuKfgYSPwDbM5O\n",
              "V+FVMiyBtndhtvttLUJZsCI1167p+zG40soMx8idxUuvbClaxWltKmHcV78Euja082UKvFtKv0L1\n",
              "Dndc5+1jucasCjc6NYcuFKKorQ/dch9yyJ6ZCmuRTI597XUpOZM4ObpbGFTxH98afHvZce2cnexi\n",
              "+N0w/20hDy9yzth68WRkA1EsyVhWZpvnVuouoYcUimbVEipxekWkJYOcgixbeeNGzVuZKykhObS7\n",
              "e5bzxqRM4PT3HrURV5oR9untG9gPFZ8BJ4NdRotixwdi7vjpbYzOPdTDASOEcKqQacHZ6HJIIXeV\n",
              "oUSeiWESC+T7tAZDgIFmco5DMHhJzPzNfx5fDlCyGEx/R5QvHppgPgncwI2hDRHT19rjtbDGJHK3\n",
              "wXZaQqWn157UU+g1rMnd5v4/IEKp4SPMLOoCyw+Au93/SXH0FF1TY71gShWf7mEX+jljuf0tkYXI\n",
              "Qp92tzFNLwPEsQ5eUZgjNPulsLQDHf97/jUV4Z+UPG5PnZP00Dj44Xb5mTZViF8quqM35WNH/AqN\n",
              "TDbp2IHWhblhkPXdCgk+MdPZAp/s54pOO4mNBhbRzNgW+pMcyHbMIvrNuP2JRqA8vOuQMP1Xg68q\n",
              "rqm2GPLhLRhOu/tM2g++OElRqcPisafZ3ALu73Vugk4Se/GNjism1b7zNP+dQ+QWbtWxRbmP1k4S\n",
              "NEcBM2ecaqf+oUPuhnTskAfmAbryw21mbi7MfzxLo4PdB8MoqNt8aYaWzb12DOk6ZEWl3f9LXBgv\n",
              "LUCh1OruFuk2d9QG6QIaIP4Zyx24OUeQVdDI78Do10dXiV8D1LnRAYQmUvXeaJby6Wc7/F+BKdYg\n",
              "9pWYVnk94ZjeUdY2vf1YP4yngI62Jx364SaBGU5b+T011wVoGRT4TaQAI61d5ukL/23fKdckhRSk\n",
              "8x/ficRRDkHpLEZB1yjiSmZUDOEdQ64TmcAHE6UF3NfA1b8r7g62xsafTFHZuTiCatFUvU8UYy4F\n",
              "i2ye3oSWYl3JZGtovc0pA1370ZKyM6x8kJsS0PL5epKDJHRQSO1wo7fhH5JIPbu1/6IEd6RbFjg3\n",
              "tjCbNxvFOqou24g7vjtu9LxLr04fSyODEFstrCjMguWS8jbIIxNoNPBogLLZ0KKAQ5aSeoDksIMz\n",
              "/hoTAOKkr+23FzzkxH05k94JeNEEAcCN8vgOvqFSaoAsIx087Z15OIuaVy+HTcACipaABZ77Mk7I\n",
              "7nndyotqaP/waIuTdeTbt66GfTBNhKIJ+K/SxCzEYnJEfAkpnDdwLUIrMUqn2uEV0yXF9D89R49D\n",
              "/pTvJwv3iI7+XoGNaj6i7fUtiUyeSpfRDDr5WAgeP/6Xda65Do9s0SKkVp745Zow3hZeNVvoUz3L\n",
              "jrY8BoRTblTJb5WeurC5pZfDm/pSJVnjlgtuNix06bfsmP5bFpHTp6SxaQ8h5zEXBUZsYkFkfk2H\n",
              "mmDSJl7alRiBtnAxczI0Be5DL+bvrlMch1n6Rj3gKL2EGyuvoTw+bnK5xWCcRh/bXqnkiZmbsyqX\n",
              "bb9aF/bKoUoUHsoTwuZ+TwY9FO8STO7Y9gDOdj0icubPWmAzXSYlnh2FMNE0n9w5AIag+wXNW22c\n",
              "V4PTZ4CWgsChO5yENHP3KrqePrwGrm7sI1woEAjBNHU5TYEwofU9DSlzA6OmnIH84Q1q+xpU3aZR\n",
              "jTlZREWRzO/OV7hms/8qCWOsLWpOfJx75smHKw75BjAP1A/cjEemHinrZiV7IEFqPR7HqUoU/rMV\n",
              "7YDV+xRfeS209mVl2EeOWkggOj0yOXCbscw7oGnfs1+rEhyUmUgBUJI7+N25ppzG56ed+9OiumCt\n",
              "T59CwSHsFnS3JLuDEUn2r0ILmlov9vmwQQSemvt2xHdrVJWyFi1N8dgEGLN/OXkFpr10AH8NyK5F\n",
              "jiUN6JaXVRNhHmU0wcRpAfknegfQmCzUo1XxeC7Jps1lE0Q9x9iRmb83rltTixtZreTZair5XLbr\n",
              "tvk5xt02y2BYvOuy9Ndd87rxPL11TtwU9rRuubuBVD8/Ib1a6Dm2opNV0cA+eC0JTR+IzyJduXH2\n",
              "wgyab3mXmtYFUhjI/vct1v+nlmyAA0W6cebBfztuZfr61f6EyzX5Gk+WA1iNRCSkB0xIfBevXceD\n",
              "20KcV6tKilCCeD6EKLqwFyfc75GnPbSJu1NqPlR8j1txPR3BRD2W3UHlZGbWFc4TTcuqXleDtWvD\n",
              "ah5L2S1yZvjlOr8x+NPbQgBAIvLLXguH5LZ43DpcwufSt/VRWwuMr1KUvtaeMGpHTbwOXi9Ld9Zx\n",
              "5qEQQJb4i9CuJIHAIBMaoGyFiruWEu3UjOITgTJTJCQSA/N/i1djOu9y1STzTIal5uFKCHp3I0Tg\n",
              "aWj0A9uLqsNimxOfcomTvXSb2OfQlV44wJoCh0MtmYZygfygQQ6bDSD2rGJMqC6UL9heMMU6MN9A\n",
              "auzKD26tbpk6u1l2N2SCnaZwuYAptmntBVHK1pjuVmuBGEU/gf2pMNfL7b3b7x7GiZ/WGQjCfY7r\n",
              "N8gvHYPBj6Xqu09XB345FZRKeY7AtHnrymdPDcX+6BcdOX8NQ/OzsAST9VYPHy2fJLOOqxeDwzzO\n",
              "a8aGXLRWR5BUbbt5nX9j+YB0tl2TAioC+PX7aBntfKw/9fJumonRWFHukQPy5nVXqf2BMIzPhKtQ\n",
              "EI8xY587YdF/QqqxRsO7NBKHM19D/iCUU9hTS15PhsIWysrvGSwu/OeTvd33V2vTEJKZXBx2QeVg\n",
              "a7Gh2ypM9jJBgEq4VxEKsBnxtaUmeoJ+F9NchUBEVFhRmsEAAAcTAZ6ldEFfAAAik6KkQFT/9jfB\n",
              "oDGOzGrbf3/SiqaxNaARv0ox0sjDMlAultCoyanDKfCbHs1R3c9jJ3okTLvRq3PllR4IWAc97PyO\n",
              "MaIGPa0NY/mDN/YFU3R3ge5zOYKTYo4qfU8uxDHFDazRIQ9jQ7y3QeNEnV7aWwgDHfqRnTD3zrPu\n",
              "YYBGJRwqzRwxa5bmhLUYtvGzl0NLso/+u53rdmjt4lDzi3NMh9ANyVsJqn5bgk05ocJhDLuywAXV\n",
              "uBthnWZp7vj92ijDIInmw2YkOLfPl03LRXRTdM5LxtOzeJssCP0Cm67wCYsiDHStvD0wlovNZkJN\n",
              "MQjxVJQKRUJzma+VDMOGivAx4GwDP67BBv/ZFME2x5HFs/hauNyeysgsEmi/bEgQJnIPMnHgO5V+\n",
              "ZW9o25Z/L2p90FTPskN9ikVtxMEtz8wSM4bpRCg8mLBETo3E3wB3fWBDD11Q07njmuwFSE1jWaQh\n",
              "7uFhG6JL5vSUO30diVFwIuahIsJx79tz3vUC+zxucaFy2Un9tn9BwM7/GO8vmBuOjjCO7KStgtA3\n",
              "Jpt7m9Igon4TffuTGs1KAmt1AyArxhGkoGEdyClJ10ay9CAmXnMn3dq7q/EWO2CS6cYil8KQYRBi\n",
              "7Gi6mVQbJmw7JvVSEUGKAGUtPVJ5pJ0XgyC7TMp7LMxQx8dWFLmjPwDosUUAEZJQdsZrLti7EZEn\n",
              "za0w+nRujsOL1VL41weWL/Bbpe27BFauj/a5mhhdepr9JRYrGi+bpmnDT5VBPFaGxtWBw/09TgZ4\n",
              "IlzbB1Dr8wAWjonFXLCOxXoBnQ6Wnb2et1wAOeuFjDjkwCB3kVrKsiMO2rYQbYtlwRe9sMfxEhH0\n",
              "boKl1FgxWSu649edbS8LJbupVj1hcr5DXiASorq/90uRSahUpDmGu5yA9X2celtHNrB4wQwmhv8C\n",
              "Vvo0robaIceLeHr2GY5KmEgzCgcKDpSOvb86jI9t4lAqH8KJOwI7ZeJWvuVsT63nksTx0i+CHE9H\n",
              "xNJH3ObwILDqSqphA85PkdhYcBw30jaIzSC4nSGd4On8IwpvrFSdUZgsj6CDdKUy+i2C30wlpt73\n",
              "rszu88aMvxl7n/gLkxyNEg5O0aDOifqQAGjBFmlYs+1/7fI0bqQsO++3DpAxFINHs6QZr40q/ccF\n",
              "aFE/GcB7lrEphZOjHTHM2ndqGQ8TABooJXiYFoU0Z738XFX7+QriqkHtf+2CpDknmUYp796NqjZy\n",
              "Vdw4rq3oTld2byv9gEQP3vYF5Yv6NsgqDGJC63O69nWsUVoYZWn7yVL1FXzXw8i31Hbpm1k+t6PR\n",
              "Lpzkk3i7q4H3NBqQGKxmOzatCTYDGfIdpbbJ3OsPOS/VfYLBuKtduNzoCnFnpx+9Y82CCVcBxbTm\n",
              "YR84dctH1KMMO5aLXDy7Tu6amPOJB3RQuTgG3n/qxJ8Om2A3NbIwswJvQy7fvh+zIxTYrC1eQiOA\n",
              "Ltn7rJnsXzR3Fr/2h1m/eU4qt+AL081CbBaUqJPQ8+3lePttiFNDd40kK34R9s9tlu65R0UUDV7R\n",
              "7hYETWwzXHuw5I5pDmNYcvla1LoFN0kpXTHDBuE5ih9mCvYgTNoVeh7b+uC6pmdQJuR9UCQMVz6U\n",
              "JO+j1FyNbsftBWd1lb5f1+91lyOD8kP/DdgQvND3UY/ycCR8M4Xikb2BIMWdzw5Fqzn6vk0TwLXy\n",
              "FRz7Ut0HJBNuhHk+Ru9CJfeAHtWG75ABJCroLE/1M68PHXjRItCAJZtTavwQkEltVOhQlG8M6PUi\n",
              "tsTWrAnJBwomC3LC9XhF+pwsmALZ/zAlCgbazi58DDslkaOv+j3mrnoPgw2tLPlLt26cW3XfFvgj\n",
              "UzZNmIUQSFMCNaPRdc9X8V6p/JZGfwliNbERMXo/DcoWheL7rx/e1VCflbSlUrs4kiP/ANoF5ut7\n",
              "olFdkv+SlrT1mMAtylUom/La/tGLiRxKlg6yhM1NzMrwzwcyzLbbjH1bGz2+a8SI30yWoviqUs35\n",
              "u/K4TRaxk/nPTx+y6geZ1ASQC7crxAkMTAHjMFrQ5FhU22bXkwQxs2egE+ZOoOeOriTg9Ge8uZfa\n",
              "sZ6ctj8s3yHn+sdP7DQYs72bGC8VyLc3FsIhhUDxQfirhdQgTyHMYLqlPptDGUXJeTpDdU3ZluO5\n",
              "p0gzrulSbWNPwuUMTZqaLxRVLdhPC0YntcEcO+hHbbRZtRfA0vUjiCUZyLiMwjiWlayH/hmILJiW\n",
              "pskUWC+2zR7Tvs7nsLwgyE0f7QaEhBBVfQEX+5tQx+OiHttmp3aeQ5gFhum0xoFd9MndJQLIt4iR\n",
              "rpVYw11+G8DwsQQndvl9rW9QG23QZhshvQZhVnainUalZa6/EsKqTWaMXHjdt1GuQ/yit77OyiCg\n",
              "TdohqgCdlOJwERIsE6OnstPkwloT9sy8MbkAAAmLAZ6nakFfAABHJ7VvJ+o5fQSXMG+61E+15ilJ\n",
              "ii1pdl2z02wS6Y5xkQ/IezDQsz0sLHJ9Ri0ZWIrS65X/fi5xRW0xqFPZZl9LOoSqG7CppNAPdXlP\n",
              "Ra5zoCUps8mLW47UBt8KIuy/HZDCt5qYa3IxX0QDEAwWd/v9BR+7QlZ4PZdQ28XjjNlHblJHZcR7\n",
              "SG9+2IdjuJmcfQikh8RHcxVPuS7wLuzkAdsKD20mQR/M7Y9osOZbvJs78HyeRNkwiE/0isgpYkzl\n",
              "zcDsNkWM8nLXg/7VhhN9BV7G8wHdx9l5yeAfp7yCqNbgQPLS/ka9TOTjqmzbfC4K/3nAQrY8+t32\n",
              "OH6nBwFUSgoty4b1cttZi8S0/sp72xwJxU7ayQkZpGbU2MRobbsWQ7ellNfg/Lx/4RcdsT+RuSEG\n",
              "GF6PuRlQ5mefM4iDrwS8tynRIE94GEeDDbCLQ/C9Y2E4dqPdwRmcUhVa6faMaNqT7KAK5fwBupCp\n",
              "8w66T9zl2vmubXakQZAKXgHQn7avau9SPhVrEBDkpWXlJyXtL5hHAnFdQ5tEUZkoXAwjihp9LuB5\n",
              "EvlmGWEOzmxoFnA5V9i85Lp2ser8N9FxVc0DTzP/3WeJ7IYSxbPThyA7VdQkuxjtFlmePwS8Kxvt\n",
              "dCqzOZcWx6BdUxzFq7ZZW7NsT/xssZiUhps/5SEfGgBMztrR5HRGmwlOou4gLFE3nfNhJ8NQOc32\n",
              "k9RmT1L+BaGBwtB4FI32XFD+m36RLWTAjDytBIVJIfwIrVFF6FRNdFMW+pZ72Kd0gxrfT0bEEt50\n",
              "M+d5+ruOkbv7ciN3eyg7s/2nLdWfzaQf9CARGpmPZsPMMqqA6cHA86V3bHocrBRriF3ws4NU+S+Q\n",
              "GJrr/sjyBzZZ1hohIggGETXDeoNJy9y5IkBRnkvaQV+y8R/RiG58Q/VpWW8qopKxpn/PtEGV881V\n",
              "HXLw05QgG0p/L25et88o5cwxg1NcwYpfHw/IIHMiQw/s8I1SeorWfN0Zl0NHo8yVll8xu/PIQOkt\n",
              "kWLm17gF85BTLNDlhBfhAroyvN8nbcR2HL8z7UADOSpcubA43svfUj+s9J8HNjet5UuVyhF8Al/O\n",
              "DAWZyqiHdtU08laxs8h3ZN2D1Xad2pwk5yV5FYAZi7g008vIQiJb7MN4Ig4PsZhwjcI7lUDdcFVX\n",
              "E7TBF/16D25lLbAPWP3AZBUI8wiv5gift1CtzYVvFJKwznKzH/oKI3g0cOGBHqxZK+gaq+ZkzRg6\n",
              "LXBdLMkE0mz+PGkM+ICUC61gaqi1yrRB1rwH054tVlhDWhSiatrg+PhYfrybyAda0RKnTUVIsCvD\n",
              "gfQ+GcP+H79p7HPNE5ytomJNTq9icCgCjCcNzJmTAtER1P7ecx7vB3NsadiwVfQx/xGef9+qG7Wl\n",
              "toBKeHTwZY9A6QniV3DOy3yWBacTDPN8ue4sEWJYln2PQ/fmgfAas3xa1ATGyoOKS7Y9ojwtf2KE\n",
              "Mk8LZmIYNqJrQfzG4/oiSkMI02FPnxaooJGslwBU8b30F/MQRFXyhKEnJ2qf70XOLGCLCZRdmR1o\n",
              "gvk8yJV2UNLs6w+vXVx2edblD33Qg3AjC3NOAY5Cn+NGNnscZcjGhYpDvAPDDxLgEUPLhrtQbAQQ\n",
              "1elptu0dJwG1BMuWWPji67/F6giyEBBFDnszV5OAeLISOl2rLe2YAVdjlpGEyCKdOIss3CoNet9O\n",
              "YFQr+YAury0a/wiCXCitjzhe4TGhlGlfNk8NSmMDieDXqDSH/fg5n9VS7EPb50jJGKcbaMG9CUz3\n",
              "pP5EHmZfwYK3ycM2YPm4iVug1izBPUZzIc/r9rWK/XsIe49psmxa1/tG9I71Yli0uhS6TVq7dmCE\n",
              "fWgTjjqk0FTdnFONyqahPMUwLplmN59aIczHMEYVpfgiLcdk5OEUaYXtnrNdHGmiCeRyAJvadm/A\n",
              "oq0b25PztHNyHKjBdssUXfhS/1jGUmJridPPejrcvcBnQRhpLVRgoL4SL/WlSdefOjjI9EiJS7ns\n",
              "gyiR9+I4XUAE8iLWC7M95QrCCANgeZkVgNvLJKRDbvnRLTxyLKrRZ/bWxEvd1uzj71BN0kGf2pGr\n",
              "HrR6W/yVrjw+/HcOFtoLPtqyEGPvbwoUg1ukgDZvg8jWOTzvrfV+igKJ5j16wC9igAM4NvyS03D6\n",
              "hBxYRMgBhKq48NHKaQASHRXXu+ByRw05LvllbKO3lRcnBZ1lxfWVr9i4TCI6IZCjoXXCEtuVdZp4\n",
              "XKHzf3GqHGdlb4ADXj1s5jB4vltZOU8sIinFxPp9d5XPpG7XNTp6GXMxLJAObhLURSxzM/gptgUO\n",
              "ggsTU1Bc+gIUSBqvVjqUdtemZ+nRxKrCKEMacPWzTqODPJjNC1wkxKb6OoZqtCxrJfgnoaVyfieg\n",
              "Izh4uA1yvQBoZZJk3LQU78HuUTrp0mT8QiJtHYfAVosl2BBhVhYaNzmps2K8kDCaq0tkgFq/uQwP\n",
              "c6ujBHDzd6GVLgLEmj99jZVaQzh4BO7Pz7XbgMgLw8PgihVbYW2ZB9jNZ16tgfTcGpt0/fkkLtU0\n",
              "JDIPQjflh2Gseytlwbt1NPP1JLofxlpUN3ToT94fxyHuYEt+bpHTWMJiu75/okiD3wMx5kurzaFs\n",
              "etZdQgTWxYWJqWYI4I8qEsHG5Da4knlk4JBswbWS7ZQGiG/eqDqFJdSV1/3WTO3o8N96XFqUxGjs\n",
              "L9b4PzbeYRMGE9dNViVdPo40G7V4jkdtTDxkYZmARCM+9v0q7BQd/UDAq4k8rHZ0lvMaRAIXoYn3\n",
              "ggYlvIZl7eXPJm9aPzfHuZwqzE1Zed4Kx4h7x5FmSVmPw5yBWJh+ab43tK8VFgsDo+x0c/10v7FV\n",
              "rDnlIBXSThNzEdb0pvBBbpeVOK3QaJkqOOFHyZjsklWI2jfutQcAwfMy6pJ6P8O7D2NpG5BNO1ZZ\n",
              "hYr1t6V3cyyEWItPnIwcubxQTyeVjqL07sJYgFq/qgKS46gb4IHK29Ddxiorlv3u9glj1gJMVTGL\n",
              "pnKA5L8qyWK99X36rVJQIMfU0MSJvtUNk6ezESf7edyYlJc36A0CkYNBXCJFK1Db8EOeUJ09kEAm\n",
              "IViF3tivE6+MebKJuy3gS8sVe8mHlUkYyn/xe4EC+XlkoQP+spg6FwTkD0nrGV3xF6zL8K+G7eN0\n",
              "ilwXna4Y3i9Zgb53K+k1OHcx5VbNMOszdqd2Qa82SV2QM/mj8ir+2scSXqCufBNuJ1N3GbLl5rvl\n",
              "aAQjcBl5LVd0eDlOaiRVWfWQ8ip5kAAAGitBmqpJqEFsmUwUTBX//talUADecQ+QBCrzA3VvgLCS\n",
              "RK6ovPwMHCPnFdR6S18hWT69fsa+x2gUqdpfTFuGZXhR7gpO7hm9DdXwGc+XqkuZt5s59GQNMlvS\n",
              "/kPM4qBbnVtLBFSE+vk17SaeBrROyIZENFrqCjm9GVV0So9/dN2QJRTEnw6tYVphgzXZvcCIVmgW\n",
              "Yq0Q9sD0WVmI8POpOPhAjY1Z815Bs8BXQ76LZiNveRNcD3Q4WwWrL3vjyFzQHzJawUSS0aUwr6l1\n",
              "qeUG6xfpxTNjc7Ua8IZ00iur3HB4JOjcDoaD5IGVfubUQxC+yOT83ExZ9sPgL6EFbD7wWoaRki/t\n",
              "s7K5Kxi+hMa/mFjjZT9zLlL28qeAfdUoGwe/fcGaw85zKEvchAQJnPaM3KjF0wD+AIbt79wfVjRT\n",
              "ZAFNoo26/so4OdCIr2UxGt2gDroanJ1mdNg6YYnAaK+jbjAswt/s/2Jawe0HeTkGjgS2ad2DQQXl\n",
              "E0qbJMAXA5Ps6r9zcxHNSKpPlIMiRKFvCafZHQayF4eI1US5NOTqowx0ozyPHLgXi4G+hq7tPcHf\n",
              "hCKMw7azIgYUGUnsFsb/4V+wpMxiQq3L7J+JgI6BG4TkdBSa/og/pFEJExJofBNZdx4ovhBVN7lY\n",
              "bL6DFFIhf3/RR5MHCAPtcRgYyqsp0dNGeKBgw4gtR8PJ7ky/R6hcKvbOLa3Q3JPCz1ZWOSrrFC1r\n",
              "LYJg4QU1RYX6ImCCrAj+3RlTbgZK5FKk85W4YAcVovKdt3y6jIH4FWQfNqcuZA5MnN0XnKjyeCSM\n",
              "Bn21X2cC8suQ4xxK5AVQkoweNgK/zrEPzkKr3nTTEuNJP7DnIhzQmEwguj3O2Fpwwm8hFDAaTCyq\n",
              "w22Eqk5MqzdfcBvohoCevtimPEx8vGT2JlVzRy0BBzhcArowm3YrhowVCK2STivMWcQqEAHTVDfe\n",
              "fsijlAG/u+uWroz1+/JX0u1BVfnMxWc8FCiDhwxlTGyiSsgTKyHEN1wtbVQ7gBMN4Y0DvqT3wpTv\n",
              "aGtX2LdliKYHUe35bwbI0yHE4cAirt4UpoZ/ggKEDuWWhE7oVfsvxkULWyn3eJjuWMf7iP2Rlpfv\n",
              "do6jbNj/e1WJvhGnL7uAM9mqapEHN5oLMXbwHzFeIBKRXd3EijkS53etuB75nr9AqHWNJjw96Jhh\n",
              "HjP3Ux+AHpJtJBHuamTv5+hJ7SPwngne6eJW/x1DxUYye8ViXN1SQ9lTYnjTofbuP1NCrFULhrFx\n",
              "ofkcn5VzAt3d+PkyEMbhLXH3VGQDFncQlKsOrVRFT9RcRmhuGl8Oc9ljVRBc7/iE0acL043Xxbzp\n",
              "6q8TQj2LKRCuU1sXMqnMBkcDGIA2MWdrZJaM+os/2mQJZYRGN3aHJadulJoLMonPfwbX/eninlR8\n",
              "X/33NhCGGfjaZuMDPjwzLtu7Emig14GbHIevHZ09jtVVtcZWw828qIo2rzuF09hSDgcBlObwNe2s\n",
              "0xaWoVKSouZ/XdMlOBap/ISqWHg6SM+RzgdZi2rgimVwZNVcUZuYW0+vddvTgIa3koPQiM8rjGO4\n",
              "BMFG0zpTEplrffqH+LR5i8LfGk6BoPRbdv4GGT2F6FmR8R1xBoxCWFjeqGZ8n5fGvTVDNldGRauv\n",
              "1Wi6ydBIdFqSOac15ZBwpy3BqW2YbAtsGUw2NHTlXEP0a2ntRtvuXpBD/LdBv9FXl6Nkg2nnzFvu\n",
              "H6dTPt4Lu8HEa1M8uqJwW0rYf9Pn/LsS6+LccXkW4BA8HGz0dd4qJoQm5NkjQvGNDTNCsZwKs2b7\n",
              "Ayd9g2vTVDmHnosFftVHZIjutMks/UzmwJ9vCeDqoTexFNJD6oXw/Vs2dWqyj3/4KlAjnT/aUN0L\n",
              "xh6kiWgelKax0m2QFWnLXYnWEKHKxtOqvSkE0bfLRqxsTMs0IqUXCPGrXLjxdLV9JjMLTXhAhpX7\n",
              "1VoFG3vGGNUwQ5ghx1D+VhHg1jnyuWhzG89MIlwPIp5h5LOnzwB5wfNZLj2zlGarrafGJ/bQU/fI\n",
              "xAmx9XWQU4NqqQUXcYe+NY0HOKIIeQ/H0tnPXg7FsbdgP/q/l48QXFg/G42x+Bqp79+0RvnoJHIi\n",
              "NW+cyBnYmn1UsC4U7tPpzDt/ZOnHy0Vas9HBgmMgxeKw6NzVpAeS9LND/cLFvryc31f6rxTGrQhm\n",
              "qSU92kn8i4X4QW/xbVo5Ogcmf5RT5kuFAiG710NkL9Cz7FkqlgtrUBQ22lkggsDhcxRxmKWZMjYx\n",
              "cLLCTCW+EFB7gYHxDksipPeAF3q0q8As6juRBNdh8blJTWACzCKXjxCXRu2F8tqHRe1RXb/dbXVd\n",
              "PgU271iTDwqMPHG4NSHVQVLl67ua6ev6s0yL3/wCkdBY/tICnnqmqBFf/p7vTYHeI+CVHzK9elrc\n",
              "qcu/19U3vgKftTlE3Jiboy3GFcSjy4FziQ7N2OKPtYBrNJfNnQI2ceEUhxm38R/ETb2JxahvkfvD\n",
              "5Mv2ZQr5cfydo5keGPznV3cMaGNzLmv+7ANdIeYpKqpZxUbEv8YoZ4/ntFqT0xyzb7V3oGhrON0d\n",
              "OxS02HJCK+DjWF5sWY56lDzLYDXavRQzqSiM2okUJCkAaUVFqpyB7ZSCIugcjK48A/6NS1CJnylz\n",
              "YQzxKykq4/SdEU3XL+f6+H/eY5H2fL8G+QTuOP+eH6+s4Ao4tj+fa16tCBiQ8slMNo7POxWV9ddR\n",
              "K8iCbeFwdH4sWF4PGdcUq6nR1tjdMsfdSkG2YAmO7RHXRzQVZaMAq+NqV2V9O7Xm7EdxHx3NP29r\n",
              "QsbUY8BqgFJwWfn/wQjicVnP+PIGDnoY+YjxYw+ghc6YfyPx0QfU/V37TJGYa94RfLE0P2Y3EVu+\n",
              "3rMdJ8MXvi0R9GTRCbjtyidvHKv7Towgx6sQ/rv2GbsNYWjhpeFYvcrhJm7ze2WNweHK7NlpsLUm\n",
              "HUH6hYLPX6ZSuWoQkrEJQ7ZwC1dGVw+K2zdagLxP/HUbrRtx/KcnXpGwEUU7hhptpuCnkiasQr54\n",
              "LUsEb7jTpQinbcMeXfHaMOJYV7h5cp7tSRkU/fgUrBlFCm0lZ6NLDLeSPyQ8Bis8UdbAZHkFuJnx\n",
              "rkTK0WPmmfw54XfAKe+fXXfOFMogfWy2ZiJ1e7yQ7W1GkJeB78pWZ5ysDsdMCfDLTXKp8gH6g14p\n",
              "4T/w1/ccHCLlP2LLClMoRQcZ3mLRmTrVIauTstNvhQZGuPFdGn6IN5Opq+Hq9JeyUxwJfLQY59/9\n",
              "woe6Pncd6biu6ipM6CuYko0l0DETI/SR1T8IFw6I4ZybY725NMPbwoHjy3HtkXxgKj0B0CedC+Ow\n",
              "Z/VCb2MqImeO33Nn0SfbS+VWPWOi5SWa4YKyz9g5kDO82ffOIU9UoxuuaRL03CReQNtv6whYL1WR\n",
              "Ba/Ui5fesJRvamU8L8gVDKKdJMIJ4j0snUysMhceJPx50o+IvvKaGugUI1Mi/iOkjbSMn2MvQba+\n",
              "EkbUxfwwL1jlJhz7rRy2A2LhDwO1YTJlCLghV7nG/mEBxTFxwCbPoYvqf2qAUsMyWpYjHYydfXLv\n",
              "//TnSgpVwZJKbA87u1cXniwePJe9l0Bim5fR7ZktmPxz4QihcaVFpNrQWnOajna/Avi/UrcwrlE8\n",
              "aplaNL0ge3HEpu/D8YZUPRYawBTzgMfB6jcJNTfHb6ADmsI+kj119/npipQRbem4PNTsPcOOEPH9\n",
              "bLG6ZMkHDg4+rATfB/CiSQ9pl/YlEYyznHglPRCmCg+JBqWOwOcrG1p6piDX05jmOY7n+VBARwho\n",
              "jMYg3NZdspoA+t23Mv2k0qIpkGfB0OmSPslWVeYB4NxCHm5ZYWFx6jIJcjfEeddWLnmyGPaGD6Vk\n",
              "WI33kXM11HfaLnmiEOJG7KehA88gV5AB7p+Fjpp3IveJaFagpUDP3hSxzoeqiuGpuIW3MwH5ZI9q\n",
              "SZBdnotUlkapy/SxzGe04izPechc4PC/2QSWKVmEzqh/gNKEjT/I9HpKOFPS+dUW1qhYghgD51la\n",
              "IU2b4q/AK0cZxTqdkBf8Pe6RNMSBT7s3Ueu7hzMtnEP+W4hUAAgHG2ua+JfxKQM01Ta+1DOoI1Gi\n",
              "7+Le6Jxo1+c1Fa9yg80NqucPf9byNfa2N1pg9q5sJW30vSJNIfIiXZkb3vK4KAjj37Og3Jawoyii\n",
              "2Oikg6U+ewdRdp1xvE9d6EP0Kj82BvAJ4LJC9GvocG9gOf2XkJwkH1jrnhz18dnSG1MCT4au/pAa\n",
              "sXXeaMON3JJz1fBM8I/Metvl5GSNiTdzKRBfFaW1J0oOeL8ctuN1OuwGNfo1SmM3D/+pjOFtX9p+\n",
              "WtcnkFutFFaLOlrWVT0Wj2ngUJOma7OULR6iqUiTfmIsEFC1DVcNsWYESs0nJYNRs6wcFY2gz3wr\n",
              "+kxHNGielWfCTaDBPZqea1DlP9AMKBnEBqGw0PjV2bm8ATd+Pi9Qos31QMCrBi8+CwaR1U5KZUyn\n",
              "ZpR+l5KMXstRezB2UW3mD+JWqW8RsLhr1DIEOUanbLQZY9zzm5JmmL2Nds2GWrZTlmjbvwWI4aLW\n",
              "PXRsiMf5OQ48F+3i4VVtJzV5Tl8wSqrwXZPa+Mn3vcv3XXIoLTxu/oJ7p9q+TRFyH+Vjfuvl9OSN\n",
              "rhsnS/zKZG6S9oX+v/OMinu5AyQnDjrPw3B7FTaVAG5sNzNP+ZzILZaoQZXyCgbRFhxkyr9wMxap\n",
              "+bWDDiunk7nZpBQauJaVAVHBvIatKTDPqHMTKMawgoLDXqYRiDc4H/dhS68HtEIABx1J+IuvdRw3\n",
              "mku/fG7K8sdhyMla5y+P/zMDriKClreNnmy6hOj2FPn4QWOGJ/+YISqkFVjFhMPE8sUk4qEaZO/V\n",
              "Px0sjzcN1cOI4lI7E8U3s6CAxU/5gC5x7WtxTVKts3vXQ4DPAQOKmn4A1rvfszCEZ4MTAIT3S4c6\n",
              "4PBoNkE1icHcIfHhg42NTumNdzJ98XhbsVc0jg39WjmUHtRVN1tYaoKJCg25skN76rDh2wkZ9Zv8\n",
              "mk1pwumkvyHX8Qg1ZhcjSfp1HMw0lyyqYO7V6j79rCzU7Fb1OsQf/8lbgogMjao2PKcCdgANfclP\n",
              "TZdBqspr1Vi0Y3LTlIAf5Cw/FrHeAwXAuFvAKW9vEvgTJrSk8nm+AW8qxPgzLg+QlBuxQ7cvaGQR\n",
              "PYXTIaziC+mPFoACM+TG1s975+xJM/P8cCAhDSjU0jzszC7lVA7sV6BCpSFauQBCpVlF3ORG6VAM\n",
              "qHoTULe4jeQfo8epEUTXldQpD9xlPj0y40wReE4Xvqq7DWCeNRWxKssxZPB/ZHQGKSSJQrFUlZmz\n",
              "q5P3/ko37X4NVq50iGF1YtMYk+dm4cL4qRzXcNQ7qrHRCFjO3oschDO3wDVVkE07lE5Ae26g0hqZ\n",
              "YMWJOWn0vX9uOGgzF/McKh6SebzZD4MMB1lXgomDDG/wC3JbTf3nMZ0IkJWxKBMqap+TiimFdURE\n",
              "YCkn52c6oWDMUIrUeVB6DARqaR+Sa0SYv3abNc8pe0f0LADkMW547ITzIRGkYP95M8EQ9g5Gr7i7\n",
              "AJ3oyKzjAIfvNk1nNMO3JJ+vmJFVVgxxwD3/bu3YT1q7yq6fUMn+sNwnkQc4SEzWTK4P0Fl/PDXa\n",
              "Nk6msi+W257neE+CbKbXtmH6DCJSQB/gGA1cfhmGfkjBSpZoAjdSzAGAOYWOz0F0Q0Qt+i7h2fwo\n",
              "04eL3ipp+AdaVqlFm2GTTDkimWqH4mR4kYaPZD/UUNT5ekDP+QGms0SxlMcQFLzmftAdepTPoG1L\n",
              "wE5ll0bt2+bq4dgl5k3jrFI1IHbo/YnG/31UrdrvlZ0z3SC0H2qUzPgH1ueQ4aWjNLESHjAvpENL\n",
              "Z8WeU0Iu0pUeKgmIFNE02jq945lpKT0CF841beE6t1kfM9dfTXZEUB1AmYNlOPXeqDkpwd2nVAQ1\n",
              "SOlae6a7BoCDMF6FjD/xrVWc7WYL/Sel1xb39HYxL83kvovOY+vNtMb6+xAA6cXG46eJiuolq1/+\n",
              "pxGyFjEpbM6sEKi8g+zaBbf42lKVMZ3lXdF9EDjGoqxd60lzg21KpbquvCwl+H4wTdLocMVrJR69\n",
              "LCUEVHGPyiMHiMYVMiGKxsi2cg/ReX2NkN/yRiJhYjY0QkbhwnAuXUoX19cghhgnRwhYO0jfLmYJ\n",
              "smv5gdXBqaXgTde2SWYLS4Um8PizSXMbwsiv0snbZPPqw6RUjgtvELrEqir3k23dZFdaw3qleO2v\n",
              "lhbGb74Xtsk8q4BeK88mn6iXP9HFsT1AvxcZF13J4yMs7wigRhkmqMNu9WmCVw+SL7Jmf1ekUGu/\n",
              "9gLArQv0WqOBjJ1zaqfMrsB81eVtNk73Vw+WprDjsCVIW/X56JpEI+CyGuSWrPDH88/cCZkT2mhj\n",
              "Am0OEkuIfR0C0k74XLscF6svOYnNeNKHzROtZrZy0k+dnZmXHr/hcNW5CiEgLRmpnmGgcA93fJC6\n",
              "3M0s7u5GCDI4jqOCvK487O8lvtaVmjfAXpWsQIS3CdaH/5amxyZ8D/coe7i0l191cHQedrE+mSEm\n",
              "rT2Jqfi9XLShEt/djGFqhlN1jw4BJUZKxwV5aw5w1GksBDEtsV329YZ8iEECsssGKWEmjl4GHkAq\n",
              "0bww5+BwVCaNRsliAM4l9ojwCJw/23UmCzMc0okcrA9cPPkMNC4XsZRACoPMVW0eUKf62BqpuK/6\n",
              "ekTSlBs1hRx0Zusc4EALpuQYaAGrrAofl0IKgiihSlN+rDZqOxCRG5rbjE4MCHZtNzLT8ciNty6K\n",
              "9yh5gKCRCNLe2gFQEW4Yhq9FkzofIv95pehQxpsQ15BkpGXEm0x7a63TXUCnGOjfW+4ngCJfzlQ8\n",
              "f+toSmj4P+6f6B55Y4DTJaCeagxIDN/5ib6Z4xuRTbuVrJJoIDBXkukBKcWYz53eBiY8DkPZQMtB\n",
              "oS6z5UqpnmBWh0u3oc7MsM8Obk9X3earuXreOQ8612uXzoY49VSYRmiyuBtDVtvxi0KDJkkBRRXn\n",
              "vGWP8X8LLXloY3DEltxR+1jEEfVs+JzVEzfD26Yuol3AWPu6NU+6E/GdLyslFUtkOnxogXWOR53a\n",
              "JLA0jOKJVYOv2ybDNqXys6U28OfyZBLU93B0Q6NjjvfsSLDd6AdM+68LmDA+3y/uKFbfXrCDTUhO\n",
              "7cPXFVMClqSnnM19782ZCnSZoLeZQbjo943l79AjBXS7ig9gN3JSowgKmjBW5Zvu/IPIbONHAufO\n",
              "fAM/o6lxTQfzTXeNZqcis9/m9rqG5IHSoTqruXEaRk3aiIo6pfrB/V4pN83MiRz9Pm2gA42fs220\n",
              "kyeQNMQa2E/8FnU+zAZve1w+N3bdVAYHROh5XJjfDGvPIyqxzEKfwFDjVdsmB+XEEssuwXx7jXC1\n",
              "ST3QaxUkbsrTMQvnnXV+j/pQvrlbRPbVI5ahhO6OcMkPLiVaNkds4QTGPVb8GNnLlaK86MTe7dhk\n",
              "iI3+FvSUvTMLam/Ig+DN0J38LOg68ecYRISb0gA0hKca7UPkXtxuf5mKJ1viOfygEHpxsipvq5g5\n",
              "vlEsdOJWW8JSsRYMmja7fuf/kDGMHDJAfpvqkw+bI6Ko6JCL5JBBJ7ZZRExcNnKmtQDwY87q9Gv4\n",
              "s+PrCKQ8higOsJIIGOMkGy26dlImT20wuCLwtaOuqlJxuBhMpeQyo2XNsJSG7WX/ui4OEkcdYh+W\n",
              "xpkDCu42Sw0qFEycYns8UpM22XyrOWM5+jg67TiuebuYQgr9EG2A/JepXiWJQzlQp2RYBU5zu/pr\n",
              "W3pi6czNN6WNTiJkn3dCr2XFaJbkqRpQl/c9EFBHVDBmeLeZNTTdWDr8Kz1mfwW7U1al0u4YNpIX\n",
              "47Ba0OJn0eU8ZwZMezzGDoFLjRG3aMlBCMnuHFniiDTPslU3mgvNLnXE0DZSoQkeZrc4CpDfDdwo\n",
              "xJhpOkVL4AikxNAqVnQ0Z9rTYLmAy1sFRDT4x+V1wvVJlAIKjDR/KgpmtOv4nJDzrneTZ0fPS1Dq\n",
              "+ijsazrqX8cLH8c4+Hq3Yuil/qUNEVR78j3/Tba2s+rD3MDTQDStPR3Wp//r4BA3LNkHxe8l7nUU\n",
              "T4Z/xN6yF14/enDyUAxQ7Ohwm6TvSBpD34tA9J7N2dUexOUNwGOo5y+d7AUCPhiazA18L6F3R7yW\n",
              "/hn7lPAqXCwGEUc0bUh4Q2asynQsVrIVnLjQK15YfrG9vhrVZcxb8Q2tJxmyBTTvyFbakL9qunV5\n",
              "h7DTmpqhiRBMHoTPcLfBuVqQcmxiLuX58g3Uq4NBzoz80IKSnhTaEkek1p7K6r1xnliQRtn3AjPQ\n",
              "ifEzc4HznNHlwTMyXtLU5nUnUTNmR+EHSDrX/t+8vyCJnksBvXuQYh98g33t2lYKE+Y/gGrH3LOq\n",
              "El6DsPX96QHrIeCHuADXNyyWbNBdnlBNCXiDJqljiEn2voDytNTZ9nAm/iEPnYd0d6bjkhXlwKgp\n",
              "vgNgi0HNdn0IGEEmHmfcAXHhfdaPJTaJOo6nHhnN+K+SU67NKG7o0oo7sJC7HY6cQ+c9OOF3Iomd\n",
              "keZQaYH7WM94vozIrhHkUBKYk6COD7IEsW/bL4o70OT0k7HHiY+yoL3D8Y6XMRFlaGC6VEJg0scY\n",
              "p5CjeEiR33b73+pjHE4Qd2JVawC2PU1FQ3Kha9h9aq+Af+uYIohM3/YYxm5YEax1MK/mvz8eT3QX\n",
              "AouqedMIAahPgJYOoC+AHGPOazhYFo2QLbr7ygVEh5sgWRYgvt5lUFm5DRmrh2j3PpxAN9s4EEKr\n",
              "ti6MvRClSOecdquaifRHsOKiSywdxJWzflkchsvObtRdlmtPL3RssizzYBbISHAy6OcS6oqRjoJ7\n",
              "WlyW2W8W1AWfDxVTl5nwMTiJjojF3kDEGTEkGdbUicxcWCU+H3wuATelFqeJ7dTHVbix6X5IIPCJ\n",
              "Lz4KOauZOATLr0CH3WXAkDCCDiXbnbNhIF8WlDnZ88CXoXDhy8BQtEPpv7788bB/+F6lskTcD+AA\n",
              "AA8yAZ7JakFfAACWT2sne3vqSyE83D9J/dFFUAX961buzj37puzHU9PM4LMxJvlrDHIg8uXoO1Tx\n",
              "I54wLIH+8hwu3ERMyj8yQTz8rqgzGMvboKZKcpXh24VX4UfWAl3CzBzhtZ/lpBm7rh9hr3yR+Chx\n",
              "UoxrVZN58OsPLNGJ8nR8vThq/h7Q3yCzp6DnSeReoHEkc5EopRQI6TcAy2cea/9tKM+ll2dG4dgW\n",
              "F/f9u6YUzvgxgvvUcg892GXHYtnsI00lfC7+f+6SEfSKri8l/uqblDwQKx97N0tUjZMU/2RqxU1t\n",
              "ZKtr5ZowFEZY/zcbhLrinPCVYgZqu4SpqtjP0Hh6FGWnS3+xuQmH1VKvEUVaxnYpv4wLCd26D1F8\n",
              "t4Qzt35CJtLeCfj9ZC0HR/OvyDNEinpMGjdn+ERh029ZT+O4OTjdcFd60AmBdnSF5FB/8JuQsIdH\n",
              "/XqBNs6yTqDWZ2JtAw9qa+ri6YDAoc/GbIFdLZ+DqVNhK9cJxkaok8og7gC3MfwF5qed7wJeqMFE\n",
              "9Rsw+2wyMpz8XxdOvzfZH4MEkJozX23+8YMETnT+VqbkaTEWesSy2z2bU5/pyFyAQJbinjdNPkON\n",
              "sbAHSqKubsbPjxucf596gux66712xMVPusw0fCEqkV4WdOr2kCf6R+hpEUV7Uj9rCWep31Gc1IMW\n",
              "s8Jwo7a7tRtB+38oJ//v3/w++yeu5gWaLcKYkcybAWKM+yEBos9Kkvs4249WNmN68BeOi7gqL5lu\n",
              "poliNNmSTg/rpxwaZhP7ndOoQ8XH2ULnVjR4KHWHitHY4R9B2d/0RZE3k+Fvsty0OznlUYerCHD8\n",
              "y2+/XsP5mhEYtZWl39nwO7s4a76MFmWULFt6hYVVPJME4SZcGoZBtdLc6O31OX15TszRIyPz+QV+\n",
              "Bv51yxGVP1n35c/ynyc9V/+UU+SykvDdxuF1pHLQtUCrDebJ/uohnsmKSYiCnL9FBrZt2JTGnOWn\n",
              "H5q2B6eLwLSmsRvdtNKLeUnvCH0MVKrGmFtdzrJsUCGtD7CNaB1+zw3RIPJ2AvvTyyTHnNdE3ptM\n",
              "WUZsUtW7e6Tf/DyoJ/svvRbVR+LHDd9ZJxEWXJVbTOgdQ2J1Vf7GnPqbyyO9bNMhIKG/bN4leKsd\n",
              "hLUtVOWwu49xge4gqDWoDO6IJguRXIUJ1UaTMFHySRPPEaglZclqgajgpc4m8qOWdoIjfn9XkZOu\n",
              "obHn5ylNghpVOa4vvgaBIIcdlMgm1U30Oq+RGlv31uQI0fkbbpw44OOFM5xPQlfabXRH5k/kvnRN\n",
              "4EvGI9BRHQxlPinEjEBW5/5oM2Smr29FX7Z1ZDYCymg9pFVUl0W0Jy4AhtSLTaiO7ICBvMvc0/K8\n",
              "fPY8rqZ0A6QuR0m3Ku6W+CLhjHPTGBcMPwrK13tDLYdTorlkGFesuDeg/1voulMTqWb1LmwH46+C\n",
              "aUidCZMrURyGkFoKbTSTCi6x01cv8/6OUi3EsSjWS0aITnSD+0ROWIRefF1nSu1dRiaDO8C+M91i\n",
              "eLPwhwpmpR5OE5TfxaaygfqGHYavonK6d+z8C5hd0OPVN/jx2XCNxDFruZ65ioqNUgm7spDlNwp0\n",
              "dwumGUf2Nw3n4XKNecgVToBuuFMl3rvtI9tCBKhw9nkWHO8jn0UQsI9gnX9ou27h/01ghOD2YFa3\n",
              "P6ZNRoukgeOIh96ie4MqlXQh805DS3Bj68i/986pOiNRsZNsaiZ4/UPD8rWuXEvwwQYKvyDwjyU1\n",
              "ekI99uMoV6tZTCiPxZF9oKINjQHlJ9YkVAhC0Z5vp2UgsAu2wPXW0MMcdUQ8YUVyMG0vg4TytEn4\n",
              "HVD7NoAmDC2zJ4q5GfneN+W2KerPBw/GtNVUL8GgX0liB7gxIVlM55OIyVOYxwYWJM0t8EYUaHOH\n",
              "PZviZlhuvgSHpZUPTXJRI+hjHfTVTDbq8yB8LAiSb8EYTWeqHsuLWn6toKCOmfpNMMrp2ULqZDfO\n",
              "ByVk6QUgiTuKJaZ9LrShiqJtirLfczueB1X2iMzWzG5v2jxDwBRB+xQ0GrTE0z6zXJevCa5AVhtQ\n",
              "znePvXdIXMcH4oD1QsBF0pF9iyhJWwyJ+993BEVpttpgPz2spmemwPOKxAHplFEHYY9Wqs+578vm\n",
              "YRP0m/nDYmT3mwbSgew25wrnwMvrEHFh0o1B7dd1GdNh3WHJ/3h28Aan4OjhIOsMPhCg2m4NQ6pl\n",
              "upgCCfTNRI9rJX4IfzV7tJQMi7X0DlDLlMhrPGvVhmm2T2oZyTjy7rRw10EnmjoRvFIve1FhuhQf\n",
              "GHo/Wr2s66pD2ctjLQf0jtJswKnk53qrLpb6hBIvXC+xdFzT+GeKLJG0t/j37ZYTnZ/r9K0GJKl7\n",
              "0H6Tm2JZ/A3l6WorL/XYCKhW+ByYuhbDBfPvLoMdg7nMp/n/ymiaJCITPwG1hcLwBCEoxVt08W5p\n",
              "pVlhIGryBGoQqrDMnt0S3AGaXQJJlIDffA0K+ZtAWPJxub23t2VqacC31e6KdwC8ETiw8Rt8oEDp\n",
              "0OdZ35MKf51AjZPX5f78KV/f3SgRIhUlnQv7x41ma04kvIZStVDY5dBadgSMZz0L4I/0K5tvxVuP\n",
              "Y0grb/mR9Fr5Hekvw+fgV5ZcrW6XnMgDgI5eoCfrQAT5juDy4g+VNTwJ8BTAXBuT1mvX2a/WPbqY\n",
              "XM9VWOs23vNEYLMkdYArzRIz+6UajSHRAzB7jUpLpFSw5SPD2pOAmSXpQSQbaeppCj0S+K3S/lVO\n",
              "EBiI4E833dgvE7Z8uyaFIQAjvEq64PIFQJbKKOMxOeTl0GyG4kP50JYWPUFjfegaQNwjrfpj0lKi\n",
              "AcwxIZcqPzs9FiMGm+pbGc/ihpKZ013UB52i/Kkled9qKRv+9odxXfd77oa5QWgWuch4Lt1iQSAr\n",
              "uCa+gUmP0ynfmYbvzmgSat6J8VFQu+Vv7/afk1nsNSplieWwMFxIl+1RABW4//85X/vL1yQkjRFo\n",
              "5UPKt+Bt0mo0IuMyyKW7GiSx3Ia0fwGdMO223L52dWRsIuMrSjV6FkkG/7ltasIrK5dVSQ8ZnW1W\n",
              "501o/tOnfMeyj5jFsE93VcmxnfB0r1BGi9WZhCRLCAfFgGW0wOUH1PuuGhXTFc1B5aakUeimlxdU\n",
              "47ts0FGTk0/GeG3A7O0VGnlLIkjEUpPenDVexiLUwvSpERUKEpVNXIMbOGONl/nOtaygEhAQVsa9\n",
              "eoh/o1xtIbOyWTJEMW4XpJiKo2nn5W6MF6OGbNYPCxc5lcuygS0MelK++tYF+dXzv87B8Uf9ptiq\n",
              "FFR2j/9K/j495HUmQa6mmBLS5YUezRtlygu4SM6imtV6IZnttdk9ZqSHBstD6N6CeY+xVIPozR8p\n",
              "MuIi0a6e3FUrJKurXeKzAeafP/Nh2VRGZrHQ+Co6nLe77h5Kf8IAdTYwxEmUhCffGd24FFAMmTC7\n",
              "yFAzUl/t652OtltqeikqY0Qx6ciXXLneQZgwAIYT28cPUF8zJ5ta8LT+frhypkOxIUC6fr38C0Yv\n",
              "NTvoWgNwNz5FA3s4dTVD6coy3fO+1G1fMXlbztwa9PiRfk4QTt9kigQ1u8IOlqnyz4GbfujGqZRU\n",
              "JzGoOUiYfyl73ynKnII0y/EDpM8s6oUb3i9Ir9EKre2Mx9Dp5k0b35ZpzV4v1xQOblp80tRMFAeV\n",
              "7xtzALn+T6WCXHzsq6/vu+I+tHMjwjEOzQLB/+x1w2YMfQNxws8bU2jAt4+Ub14jHxdzTJdBw+vr\n",
              "Qg8voo85ph6xNAGlzs4WeJZK8yDiPMogeMWG8hfGbDKD1jPAyv8DNLwymJldZNJ6tp0N+ul3Sn3p\n",
              "eLPisyHbAcusq+tF4HP+Cl+5FOzxFF6c/3SV4GyuWNKfeH5M/AP7aD9sGf5ywA4WbDh72aob24Om\n",
              "RKHGlsRHUaLG0jZWJrHdT3l+tHXaqEtL4YkuCaMB0VBLB07Kczc0Z+/f/ScUx1aJinCsjxPEpmDU\n",
              "lbSCwhuBUwAtTenHay9PnqLWcrHY2WOkihDohBj+Ps++YmItFKGobasrr/sn++iCXv8dm9LK+b4j\n",
              "hx/Ei4qrwjNF+wLCon4xlpxDdC3QymwfilX6/nUq4+fByIBgscIcGtqOGPCC6a0CyD20uPXtmEKs\n",
              "WlNpv/DCCi0GMpA9q/+MNiA3xEnN9f6oXl3UxeQ6hlXy0GN5xPKKVbXJZShnCzOeH90qfYlLlTrX\n",
              "Wf+Ke+UASyLiyevj2eYGo/X1AV9o9zpJamDHWbg8SK7HDVmQkMlNtgiy4ZT2bq7eVIdwq7WAL0Dp\n",
              "/ir5aSzsuS3GXmjWlnvaUUq9AFKMbPnWIeORkaaA8Oj+xrrJJ/snpwg4GE1DUdmAyUf3D6zUHcBG\n",
              "l+pVmJZrg97M3IRtvBjfsYzyYeCjuoRwp8ZqlQyNQPV7cjR7RNtelylJksM3Th8rjEDctc6nPfzj\n",
              "ZxmA6aO3FjLESxuFbsIEDhnm2k5rZSc4oRsYXFTBObt9NlxuaD/g+FvSfGb7yt+vogcCpVP1UNrV\n",
              "Pz7rYJjW54JVSMvzTorwg7kAs4/Gz5o4WDaNnowolIwYmv3+WRHEELuzwlBHPnDQ5rezP5gSdxJW\n",
              "uGUIxrWta5wctSHW0BtDTNDYuhMKCOW0rjmoMgUR8wtTjhbINo9sd7IUnVAMs8qg+d3G9IPe2O/P\n",
              "fESiIBvbCsXD7zZsmD8ghA6qIOkEtNdKqa9EAw765E3KZkPZVER58fqKDuhBxd5ywCejmSlXRsDD\n",
              "ikjIQzIjrl6aRCpkQqT5sVXmVgwbFyZ7XUi68XjwaNX+ZsS09PD2FcEYPzBAPlleA98S5GOz+hA7\n",
              "uPK97inSL8Wkm2jUNYI9uZIJzUSHYnQc6l8Ip4k6uBTiM4yIuA4GgFs0JQ508Swy++0z2lp6IgkZ\n",
              "5/yt0JMYlW77jV4dSOG+GqVaiSWAPhLAbd49hmHw/qMr6r8Uii3fAPzwYUI3MYikwMsoGF672TyS\n",
              "zeHmEUI7/8VDIrVuTf0YvEAAyGdXxcqtAl0/gN8G69TiqKDRCVr65gq+PzAnO1hIJDkpvnhYiGoj\n",
              "y9h/Sp40stke8gD/02ExBpxuz2i+z3ITTKF0u5z3udQ88tenoXlMGHw0E/4DPlzsfsF93Dr3ICP1\n",
              "6ohuzGMtEy1PnLzEOU8q8KLyUGO/3uW70PSPwmp/1YlAqtpIlufF0+GIlxQVEQdNpD+Pf1uMGqhm\n",
              "5hSOOr8rOLA/E9qo4eX0KU0AAAOybW9vdgAAAGxtdmhkAAAAAAAAAAAAAAAAAAAD6AAAKvgAAQAA\n",
              "AQAAAAAAAAAAAAAAAAEAAAAAAAAAAAAAAAAAAAABAAAAAAAAAAAAAAAAAABAAAAAAAAAAAAAAAAA\n",
              "AAAAAAAAAAAAAAAAAAAAAAAAAgAAAtx0cmFrAAAAXHRraGQAAAADAAAAAAAAAAAAAAABAAAAAAAA\n",
              "KvgAAAAAAAAAAAAAAAAAAAAAAAEAAAAAAAAAAAAAAAAAAAABAAAAAAAAAAAAAAAAAABAAAAAAbAA\n",
              "AAEgAAAAAAAkZWR0cwAAABxlbHN0AAAAAAAAAAEAACr4AACAAAABAAAAAAJUbWRpYQAAACBtZGhk\n",
              "AAAAAAAAAAAAAAAAAABAAAACwABVxAAAAAAALWhkbHIAAAAAAAAAAHZpZGUAAAAAAAAAAAAAAABW\n",
              "aWRlb0hhbmRsZXIAAAAB/21pbmYAAAAUdm1oZAAAAAEAAAAAAAAAAAAAACRkaW5mAAAAHGRyZWYA\n",
              "AAAAAAAAAQAAAAx1cmwgAAAAAQAAAb9zdGJsAAAAs3N0c2QAAAAAAAAAAQAAAKNhdmMxAAAAAAAA\n",
              "AAEAAAAAAAAAAAAAAAAAAAAAAbABIABIAAAASAAAAAAAAAABAAAAAAAAAAAAAAAAAAAAAAAAAAAA\n",
              "AAAAAAAAAAAAAAAAGP//AAAAMWF2Y0MBZAAV/+EAGGdkABWs2UGwloQAAAMABAAAAwAIPFi2WAEA\n",
              "Bmjr48siwAAAABx1dWlka2hA8l8kT8W6OaUbzwMj8wAAAAAAAAAYc3R0cwAAAAAAAAABAAAACwAA\n",
              "QAAAAAAUc3RzcwAAAAAAAAABAAAAAQAAAGhjdHRzAAAAAAAAAAsAAAABAACAAAAAAAEAAUAAAAAA\n",
              "AQAAgAAAAAABAAAAAAAAAAEAAEAAAAAAAQABQAAAAAABAACAAAAAAAEAAAAAAAAAAQAAQAAAAAAB\n",
              "AADAAAAAAAEAAEAAAAAAHHN0c2MAAAAAAAAAAQAAAAEAAAALAAAAAQAAAEBzdHN6AAAAAAAAAAAA\n",
              "AAALAAAUJgAACK8AAARKAAADBQAABAMAABMiAAAMYAAABxcAAAmPAAAaLwAADzYAAAAUc3RjbwAA\n",
              "AAAAAAABAAAALAAAAGJ1ZHRhAAAAWm1ldGEAAAAAAAAAIWhkbHIAAAAAAAAAAG1kaXJhcHBsAAAA\n",
              "AAAAAAAAAAAALWlsc3QAAAAlqXRvbwAAAB1kYXRhAAAAAQAAAABMYXZmNTcuODMuMTAw\n",
              "\">\n",
              "  Your browser does not support the video tag.\n",
              "</video>"
            ]
          },
          "metadata": {},
          "execution_count": 39
        }
      ]
    },
    {
      "cell_type": "code",
      "source": [
        "# f = \"drake_animation.gif\" \n",
        "# writergif = animation.PillowWriter(fps=1) \n",
        "# anim.save(f, writer=writergif, dpi=160)"
      ],
      "metadata": {
        "id": "b8F5m1DFSpu5"
      },
      "execution_count": 40,
      "outputs": []
    },
    {
      "cell_type": "markdown",
      "source": [
        "# Visualizing Taylor Swift songs"
      ],
      "metadata": {
        "id": "onEH2ObySFCF"
      }
    },
    {
      "cell_type": "markdown",
      "source": [
        "Finally, let's see the songs of Taylor Swift. \n",
        "\n",
        "Stay tuned to the end, since we make an interesting discovery!"
      ],
      "metadata": {
        "id": "e-P3VBLAZKlG"
      }
    },
    {
      "cell_type": "code",
      "source": [
        "swift_id = 'spotify:artist:06HL4z0CvFAxyc27GXpf02'\n",
        "swift = []\n",
        "swift_colors = []\n",
        "swift_sizes = []\n",
        "for id in songs:\n",
        "    if songs[id]['artist_uri'] == swift_id:\n",
        "      swift.append(id)\n",
        "      swift_colors.append(0)\n",
        "      swift_sizes.append(15)\n",
        "    else:\n",
        "      swift_colors.append(1)\n",
        "      swift_sizes.append(3)"
      ],
      "metadata": {
        "id": "XoHm_e5iSyBP"
      },
      "execution_count": 41,
      "outputs": []
    },
    {
      "cell_type": "code",
      "source": [
        "colors = ['red', 'skyblue']\n",
        "cmap_swift = ListedColormap(colors)"
      ],
      "metadata": {
        "id": "F9TyEIR0TdjQ"
      },
      "execution_count": 42,
      "outputs": []
    },
    {
      "cell_type": "code",
      "source": [
        "# First set up the figure, the axis, and the plot element we want to animate\n",
        "fig, ax = plt.subplots()\n",
        "\n",
        "ax.set_xlim(( -0.8, 0.8))\n",
        "ax.set_ylim((-0.8, 0.8))\n",
        "\n",
        "scat = ax.scatter([], [], c=[], s=[], alpha=0.3, cmap=cmap_swift)\n",
        "\n",
        "# NOTE: this plot will be empty! Just ignore it and continue to the next cell"
      ],
      "metadata": {
        "colab": {
          "base_uri": "https://localhost:8080/",
          "height": 269
        },
        "id": "MWgt7Ob6Tdlf",
        "outputId": "58f4bc0b-6bb2-436e-c282-248f843070f8"
      },
      "execution_count": 43,
      "outputs": [
        {
          "output_type": "display_data",
          "data": {
            "text/plain": [
              "<Figure size 432x288 with 1 Axes>"
            ],
            "image/png": "[encoded data removed]"
          },
          "metadata": {
            "needs_background": "light"
          }
        }
      ]
    },
    {
      "cell_type": "code",
      "source": [
        "def init():\n",
        "    scat.set_offsets([])\n",
        "    return scat,"
      ],
      "metadata": {
        "id": "aiFLt3uLTdng"
      },
      "execution_count": 44,
      "outputs": []
    },
    {
      "cell_type": "code",
      "source": [
        "def animate(i):\n",
        "  embs = pca_embs[i]\n",
        "  x, y = embs[num_playlists:, 0], embs[num_playlists:, 1] # only plotting songs, not playlists\n",
        "  data = np.hstack((x[:,np.newaxis], y[:, np.newaxis]))\n",
        "  scat.set_offsets(data)\n",
        "  scat.set_array(swift_colors)\n",
        "  scat.set_sizes(swift_sizes)\n",
        "  return (scat,)"
      ],
      "metadata": {
        "id": "wyFvmNaDTp68"
      },
      "execution_count": 45,
      "outputs": []
    },
    {
      "cell_type": "code",
      "source": [
        "anim = animation.FuncAnimation(fig, animate, init_func=init,\n",
        "                               frames=11, interval=1000, blit=True)"
      ],
      "metadata": {
        "id": "xYivVQQtTp9K"
      },
      "execution_count": 46,
      "outputs": []
    },
    {
      "cell_type": "code",
      "source": [
        "HTML(anim.to_html5_video())"
      ],
      "metadata": {
        "colab": {
          "base_uri": "https://localhost:8080/",
          "height": 309
        },
        "id": "hfVeSGSLTp_C",
        "outputId": "c670485d-b268-4c43-a760-cfd23d569d7a"
      },
      "execution_count": 47,
      "outputs": [
        {
          "output_type": "execute_result",
          "data": {
            "text/plain": [
              "<IPython.core.display.HTML object>"
            ],
            "text/html": [
              "<video width=\"432\" height=\"288\" controls autoplay loop>\n",
              "  <source type=\"video/mp4\" src=\"data:video/mp4;base64,AAAAHGZ0eXBNNFYgAAACAGlzb21pc28yYXZjMQAAAAhmcmVlAAB6M21kYXQAAAKtBgX//6ncRem9\n",
              "5tlIt5Ys2CDZI+7veDI2NCAtIGNvcmUgMTUyIHIyODU0IGU5YTU5MDMgLSBILjI2NC9NUEVHLTQg\n",
              "QVZDIGNvZGVjIC0gQ29weWxlZnQgMjAwMy0yMDE3IC0gaHR0cDovL3d3dy52aWRlb2xhbi5vcmcv\n",
              "eDI2NC5odG1sIC0gb3B0aW9uczogY2FiYWM9MSByZWY9MyBkZWJsb2NrPTE6MDowIGFuYWx5c2U9\n",
              "MHgzOjB4MTEzIG1lPWhleCBzdWJtZT03IHBzeT0xIHBzeV9yZD0xLjAwOjAuMDAgbWl4ZWRfcmVm\n",
              "PTEgbWVfcmFuZ2U9MTYgY2hyb21hX21lPTEgdHJlbGxpcz0xIDh4OGRjdD0xIGNxbT0wIGRlYWR6\n",
              "b25lPTIxLDExIGZhc3RfcHNraXA9MSBjaHJvbWFfcXBfb2Zmc2V0PS0yIHRocmVhZHM9MyBsb29r\n",
              "YWhlYWRfdGhyZWFkcz0xIHNsaWNlZF90aHJlYWRzPTAgbnI9MCBkZWNpbWF0ZT0xIGludGVybGFj\n",
              "ZWQ9MCBibHVyYXlfY29tcGF0PTAgY29uc3RyYWluZWRfaW50cmE9MCBiZnJhbWVzPTMgYl9weXJh\n",
              "bWlkPTIgYl9hZGFwdD0xIGJfYmlhcz0wIGRpcmVjdD0xIHdlaWdodGI9MSBvcGVuX2dvcD0wIHdl\n",
              "aWdodHA9MiBrZXlpbnQ9MjUwIGtleWludF9taW49MSBzY2VuZWN1dD00MCBpbnRyYV9yZWZyZXNo\n",
              "PTAgcmNfbG9va2FoZWFkPTQwIHJjPWNyZiBtYnRyZWU9MSBjcmY9MjMuMCBxY29tcD0wLjYwIHFw\n",
              "bWluPTAgcXBtYXg9NjkgcXBzdGVwPTQgaXBfcmF0aW89MS40MCBhcT0xOjEuMDAAgAAAEUhliIQA\n",
              "F//+99S3zLLtU2+2C6j3op4mX0N1JQGblsTtOoAAAAMABndh3P/s/B5qALz4oXI1enQW46fHZIfW\n",
              "e3pl/wS9h/AAJN5fgS5+AqBoPapXx0PhGDGfCxYoU9tP+7Xmru+rUypXEgBconwVodiDwTnSAAD/\n",
              "GoUdVh6/f6qzpHT51ZRb2RfovloiZZ/6wVE+3B5ZoL/Coyrv5iC+ILi4CGBRntsnV+pkOsRYAkMS\n",
              "tYe5IIqsZK713qIVt0k2y81jU01xbV2wBE41PPw1w49xfsnphpOwd6L7KIRVjgqPONAblQcxlay4\n",
              "SPsB5KeopwkTRFuQrBHzIFzsg3jdb/VC5Tbw/e9jeuX0DeW4QT/plWFeZKqEnciqngf6Rt6fgWYe\n",
              "QvChkAtnUwf+8b1sg76Bu+URhXDqC/qFAY+YEm0kUSKi07890NwYV6Udr3BqRNadzswb84A7Qh8i\n",
              "/Ea48esnGzEM7EGz06qgHMUi61fVoR+D7Zhc7Z89uSt4r/FeN7nBPeuFQ33+c/xIisYhdz759/Qp\n",
              "hg4LePfIQ9Gx2Qzl5D52KTEt5qBjm3G9Ml45RMhKwixJgAACBvqXLWpO90Es4MiciYQZ9hgPi3kj\n",
              "PptwjL638vMTZ499o2MYJIxGXWc0Pf5NUcVBLqd4NN/F8CvXJqrIIwDCuUlNJWTZdx3u5wgHoOZW\n",
              "CZfFnCmW9HPOVfZD3YVLF0XeNQ3wyaMIGf85RcILJAtfdv4vp8fGADkjDCk9Oq5c41i9b8aia+9r\n",
              "AHCgScuctwuI7Ut0u/2mlzI5gKEWw3iR6dTTLjV4gcYyoQgD5IZEL1xov8RO61jUSEgLHONyafJ6\n",
              "I7vAm2VFcuaamz6id5tkIqZo/0sbYO0QbO6zvN6nmDPyn6Y5cattIk3Rn7m8bPPX0cr+Vly/HogQ\n",
              "RPVs9BqwFOzLDdW96Z2VYJTR6pPktmhS7sGK/BGODYP7DWJ/F+OIog626+lvfvniOC1LKL2pLCb2\n",
              "WYiCjDq/gSMr4JLmIEgK48Wjk8PazUFTjxbXxUTCyeDIMf/evK1zZ8ZzWszZLS8Lo4YEmW4CxoIN\n",
              "ziwhT6y0nwsNOu/Eb3kT///1ly9sUb49s80i6ukOZEh50A6AuX3QfH1I8CYlo1Zyy10MvJbCt0MF\n",
              "uQxvrFkqKYSfoQ9AldAQKMWS3igzbq5LO5J2RFEyUx+gKJTvtDRp3galZMgi9LlsBNmewtiZIS0S\n",
              "xWokxvYSyYcLwq20Of9epr6c/abt0ZAtyCciYh5H2qwOC4JSdvg/1nhg4Obgj/TLKxjBuj51VN7f\n",
              "3EFmx0KbXg3uCUiIbilTgZHIVN55j3qd7NPX2u6RcWky7rQY8IKnnSZJlskDnPOL4Hzo+xDFquWJ\n",
              "NBs3QwKLor/OnkrrlmZc55VbugcbvFCL7+7EZRQYJNF7sIqnGiOBl+88ag2YB/ONPDJF7B0dwJao\n",
              "OfcaXrzdzqLMojgJYGGSUWNt4UIGJcpEMJJQ7vE3ZoVZL13d394bL6H6IqPVqrVQa7t+gSYsmoUP\n",
              "ML1H5OwY6C0qMj+ySmiZN7RaDMH9j3mWyrQGPHIfKQyknO84L5ZPtrnCMxqQLA0Yy632Ir2yDBlS\n",
              "VG9XFBp6W78QGPQ56jswup6whXAFfOMbnGuXV7k63F6+2sdt369FxtZve0SEpKtTcVppUGvhvPJn\n",
              "wfC7Y4mGU5MntaMOdtfZ1/ZHwXXhVVZXC0l4gAY22/tCsFFV933c2xA8QSPkFMLXob7vgqcA5oLn\n",
              "IB1nYNUQejuhgVnKK3b3iyk7cxVcz8iexGvkygJtxUxFmlRr2tT6iEodp3Xzwf1RzN64wfkzT69n\n",
              "lJcg87psFUHlIoORoZ+Pg8DjZGXMWDPGsR1I51ay1ValUPHadnzWXASJl79VLDWtGYjRKVdXE3c9\n",
              "MA0BuJ2oa12fMoZBJV6qO/34DcTz1hr2fac/oQc9xVgf0EXpnDxdO6zGXXc/et6Fz7qsolx+fd70\n",
              "xxEveDHXt7CMgGpryD3bOTu8GQdbLjVwqczhU+8v7ebHSD+3ikcd+gxFqrXKJ4fKYZoyS7N8K6/P\n",
              "cvlARLGkd02cwBesU3FuYVJp16gb/44nJbGrGZrDE39yo1C4owjOYLuudqfIMVbHQo3mv9ErGsU8\n",
              "gZ83P5qUFKcijVpoK0zs+4Iv4SJp62hkntz2IyklTjV9HBV4HOe/HzdVYp1JVoILnid8MFy9VUKB\n",
              "G44gmU0hM2orHXgPRjnrRjd4cDw5ScbuOZ7dWmhh6c8almprS/3A+2IRXM79H73fagOLGPZ4FNUL\n",
              "JEKBO5mAixCGCc58vfq4NDwnQThyEqayRFssde2GRhhw6V4fqu/gYpD3rgePKhbRNVfAbQXnJB4y\n",
              "wBP/EYG1SWtjcR2PQnUEeykastjlZ/oDtxfRAPRXfsfj5KBfzA84aCIgza/v+4niCqwtdIZ9pVBU\n",
              "WG/WkFQlzc0LZsb8lODdPZjHd2w+yKK+9A5ZO+H5b8JzbGQduKtKRho983O0z7MrGlwVMPPI4ntp\n",
              "rM3VJq17sclQBYJX/mt1Omt6j2Fwyo6qgNdH5TE2RVR9ovHX+7d4o1UC3QVtjgjqORLa3+Z5NnUC\n",
              "KhwUs5d5XB2ycN6NsB/JYH2vBF6VSUkQpQPJMCsrTrHNuN6ZLxyiZCVhF744HP2ivXtPP8zYtrIr\n",
              "5lDLJcsY6gPnrplOrnU+6r+uPutBPryBige52ngt4UTBTolQsbaewz2Vf3lHW4CzVoVT4iZ8Zh6z\n",
              "HS2fa2wdEv51Cl2yf8BZwT8HdxWUrG2uamVk/7sIrWkkciSAXpKna/4tS6/YmfCQQQwQcUmTpIKZ\n",
              "tj0RB1GYuM7wHYch6/JMjYJ1ypjfcL3miKr3Zy8AGBgrW8fuyLppdiHmVYEd6MhXLrV9mEQyOgYP\n",
              "OLP+det6YyhOzCFNUY6YfrvboTMa+qGiGDoOdp0/8R9AeSYUx7d8c243pkvHKJkJWEXwomki5N1G\n",
              "L03wuk+JDcvI0UlFD1jVwmfl6gZ06ura9ZEXu4fuXvibCvf+C4ZDMMlNtTUDWeJJnCuc6RHf8Rpj\n",
              "HB4z6VNIPVZda6IaVzr/blV/B0wltpJr0JTXsn0TlyLEdABHIC3I9ZeRQwilh8tex6IU3bqUvzz/\n",
              "SgGJJjk1GQNSo2OKOuQX7byZxuQhO96nJRUNsxQxqDnSEEzRex91tlmd+1VtOFo8ZpXrN0xPvvUn\n",
              "TQKeD9w8cOzfVdFep7l0BWGzJHObmoGaGPmgu+Hps3C4QFdt68kOcO92oFDZzZU0wyCR5QrUeRB0\n",
              "T0+UdssWuaP3bp3WwgLByrZIQqyOUNluxiqY+T0zM/COmg6vtHMZ2hfUs7kO5uP9PfaVRgl5Jg4e\n",
              "ErFCpFUUmPserykVGDXqlJteVrB9+KeTsvVCaFNQ6AXL49ZHOtIF4H4q808oVVbCAag68XJj9T7x\n",
              "wGRpZPaZYHdf3AGjcDtzBw6zo6kTmTXB6zzm5ypwt4fxcmgw13jhu3oNKqVxHDEn0knMvXtyezUJ\n",
              "vLye8wx5gMl2wKyCmm9RlaIq5eD1/Rt/HsXsT3p+KrzqNF53RJ3TVHn3nQUEModQOH9yJOUtr3rM\n",
              "ZYYh6awdN5l03skqSCvYz+EOHSTy1OdYJjChdgKeRHKyR/Xjo8jKMMdw8ZZHZ+lnNxO9ddTW3A2S\n",
              "ZoTLAMI9nnE08Ct/0V1tMXUJuZaYYhFWCpZmS8dLwEX/GrTfdEaMYk2sCHJtylconFQoJhvA2THt\n",
              "rPuMUb2UCYSJYJVw1aQ83XucF2ppEsoUGYZb88M6N72/HQu/CmnWm9wwBn5dHCbfYb01N0HjoA7N\n",
              "RbvF5TyjR6ZENGATGUXdlhDLnRKlBXouiPeZdIQf5oljybN0gBq+oo+lIvkdz7x+RGpffvsAp7H3\n",
              "PPQkT862J+FphgSYXLZewnbeeGVgCg1tZuB7o80x8Jd5ou0MKXdq4VFd6C9Q9jLzjWCQiNmtPiFl\n",
              "cnxPdaJvyLLTzKAn8ICySZID92MrOk3hVkxTcgDMt2z+CPnVe8xzG1s0cakeElTZeAaMxD/OdCbs\n",
              "iiF9Fz5/PhXz/x1AbsPIYy9B6hyqqo0TINlIKdZQ/xpe9Q4mdVvMPGP48KObQNl4F1FtMKUhcs3/\n",
              "K6fjGy6eQDJa/r6m2EtqBAAfsfTmsnXI4Igxk274CFSnWRKGb/1TkluMbma1v9u+4MhNXTUmuW97\n",
              "RCjXWNiAScOXr1iNs+TkPg8LgGsFWqXWaopLZK8U9VNcjoN+pt1RyKiKBNDAzdzaCKYtywAMM0P4\n",
              "FLLt2+Qrez/q/+La+ZLb6UF2JKoQ1WAoCz7lMKiLypBk17x8P6HmlUAWaMmyvrMrJVgl2yDVf3db\n",
              "JnZpWX1yoc1kQtabeGoh0ZHjwScbk6IVuN5EuL+DNbdlt96Oii6S8HYasi020ahZoN975k86XnmM\n",
              "SLJh94Na3xOdKDWLWg88ouQ1+ueZKXhdMSiUulnDl+0FtC5/v4w7vyXAm+p081rIx3tjCVhi4GPb\n",
              "Xd+4UzKYef4yUItxy9mGr7PvevfEYwcLCgab9ybKuJDr+m1hbo5MlqmRpJ69gWK/DPdF3ZKIMv/I\n",
              "kkkH01jwAq8dTgjIe6LTGFA+NCrBMJNqjH9oAK9iD8iwE1WLLsR+0qXu+bJVoOBfvaEqH7EPueGD\n",
              "g5vct+f2v6Zdu4Q731/2pqtX0CPJuGW4MqHq/ocyj4RWDMhgKbGYFiITewrhZsRfLj3nTvTvSgSz\n",
              "zN1WhmK5QJ3cpBTkDQMAg3fo2xXazUcSlwYCODKWTIotPDGNzJ8R70D9AFesydVaqtVy4jR0+jIe\n",
              "kHvF5nEo704e8AhW4Rv3Q9L+ESbMXLy2cD0UlH0U6lSnQxj+PhWUYYI5OTq5Iqd1Qlu0YB36wGEy\n",
              "e5d4M43Xx+TtNO9Es9BsTlb3pA2vZjnnQBdco93K1uhEL6ZzA1sC1qt0Q7SHvVLwgk3snVjgxdLs\n",
              "bZ7LjE2gPqHKCjXVoqOqVfrZrl0awXSteFC2RsyK5daCf5+89mG7eco/3F52B3umyk9WAWBJv/je\n",
              "6Ayk7/hAJuSjS4+h420SyRYKZ7Q+BYHAiuBf0fS+kzKvV1r+KXc/yL27WLv9WMYfTVEbxWwLvQnZ\n",
              "hNRexYpS56NVvlfX/amqg/9jHj5CZFa80QJNDcOLgIYEKYvOkWdW2JndHI92nh/Cl1iFzFmVmlTM\n",
              "6J7yzE5xRfHcJBHuKYSbanrVMsETXfvGK28qBm/onAyOS224PNZxY9nBRUNlq5eWzzJ/vv2jQuN9\n",
              "a1e1kUCnon+2Tmc2blxS69IDsElyITSy2vmZYxTMozqxDKJ6lHtR6J+JDluxscmIeost7/Gh70Hk\n",
              "AqApxFCJxyj5ohg05ZEvsltgze4FsJgZFq3yTZKA1tE2LKXpq61rjsniTHQZVu7D5fD3sbRFBxxB\n",
              "BxirELeKUI0ry9gEs2xgXdG5bt8vVAC6lmvhOqIpgBoaOx44qTgoJYDQTblMLuS7PYNsvYlnIPCs\n",
              "6Sj/+I/JNnDQMqTaiFa1qJFVMWB/FKlvzVClE6A4CukJ8KyyYqFzWDaUEYFXhOHbWahDQKNvfPJ4\n",
              "QwBSgstJN7AjuMrbx0bJewvdv6bzGLOIUAzW7CjTkQO9X0+ahubeUz0Nsnw8yjwAutWpnYnqxxG/\n",
              "keF4bcPQov+rZrJNLrOUkO/cJn9OU9c0JcA/ZnkcADznCIHvWJA+jWvUQIL7+7locTbol0CsQzRA\n",
              "oJOiTLkxqEp3Fg8INkrIM0JD0Ek3YZuui1cxuVy1aouN0vd6SILBeeJl7nlJJ5XJH2w/HpqaUvvu\n",
              "pv1jk6uG7tVFNS2YhGRLOYRdHiLvls1JFKSCgpwW/EFgukDyt70gbZHi5Aaxxko93K1uhEL6V9UR\n",
              "G+6cnNVaw2aYjSOZsaSbS9iBfsJSMdJnI6AAAIIIyQAAB/FBmiRsQX/+2qZYAd2HCpADdt4EhpVM\n",
              "2lNypQ0dtOMa+rgNvo1QFrNwgtREISLxtaO6uQtg7mkx8GsmYCuzjWqKTfmX5hiCywckDgc5TQhm\n",
              "2jbADOl6c4127qrfYUZo4aD1z4lP4GoJYKnHcIX1bXiY+Q+YmpJNH+3SQtX9rvrqpwZrGJsGkGs/\n",
              "dIbjHv+sXYa0OQnbuS2gbXCGtW8WnedB9RrJJyIVjRwyIX/ixFD4/lKbseRzFdhmsnKU4wunhIP8\n",
              "qOJcehsXvtbSAYiA6ctCAu2JBo0/Wo752b8B4vfueQW1pvjYlR1xn4jKOp84y/pYik+YzPzqetQR\n",
              "je0SbRO5yQPyP59Ftt21R+dCUVrlJTLLWUG6xwGIJH+F0w2L/qn04Nb/hpEyrzwh48xz0OgJSiWD\n",
              "S8C8cQ5M8wCMmk1MqhWByE9ISqz0XqZxhmwFPveLTVC8i8HVPIuceiHWAhvNu4oIAOs4zhHgGfxY\n",
              "2IIo15JDMrWBrNNfs0yklJca/G4lockTTjQPFnMWYlwxUF57SS7VDNozdCaGQzLVGUM2ueXpWTxJ\n",
              "AIjLasVYmMs465+L6WMmV++qNh4Incz9RfRHauYVudhlRgpbQ6dDANK1RLWjblhiLMWVn4NWdfMu\n",
              "zsz2Frk4IRoSvyq1CHtBcB3NGzXDmOZu9B09QbrslEnZ/5o6LMAuPFzWP64D7hUI9q6Ze0sZy77G\n",
              "FMoaJk6VS1AbPjVPzOYzdH2/FNmMj/CVdijHx8v9QbjJF8KZ9VH3RrP6DyvpguoIgPMjjJhjnTod\n",
              "z8BOL7MZNal3hxSrOpiMlFK09T5gmXEIy+QgIPvR80I57GLHd2l+CTxtsQy0qCP65+OcfQXGU+yf\n",
              "uUsjRW7daRyKaY8D5Nf0WDLxNsnzRsPA8mIeK5swvDjsDMEDP3vLXPcY85KirPgJgMEf4Fj4SrSp\n",
              "oa3fjsN2Jkne5idHc4fYS+2Gklw83TLQU39vvVnnFujnLrlrNncawwDLlPSqvvcqSZUygxCoAXxu\n",
              "F2Rbs3IWxWUiNU4vOC5n8fOhA+467/1oMWVEj5sQ7ZKQYYBRh7Nk/npiX15qBwe/ktU19kNRQfcD\n",
              "148dh365NTMC6LGZoDzEJIHQox8T1e6XuaFJOxkhEhQm1mc3DD34rJFjHfV5bW1kj3otNTApByd4\n",
              "hnVngmnLPJFmmuhuntpzwZQCnlTbUwCel8sQVPiKX8y0WSnzYpH88XFhQc9WVIl0uNeif20tko0w\n",
              "OvnzXAElJUf5+1mvxPZp53IPpNdabho4NjjTtV30xCKLrFSennzHItMLsZQoKPAfhCzJYGbL4W3K\n",
              "amtusKanSgH7UHxFwS8887fCSsRsHGmXb1zmW+/7y/HPC9N9iff2hfe4IUx2sBTde/jFjyfS/iqB\n",
              "RUJZ8ve5TIAiwiHHdV7BX3Duvb7A5U5S8AJ2nv20aoNOCagA0LEihH2J9gjppWcmt2dIHQkJG9nS\n",
              "3rxfCHKhu+6f0Mg+ArtpIYgYMj3+9R9w+evjgd8SEkQaIN5xgIO+VGegNE5iQ7AqBiigWu++Z4Hh\n",
              "x/xxhBVc8JxwrEE+fYLK6S8Go4U/l+ttcvxOIbtTBk5ArtCVTnvwOHNj8DQeGHxAXuSGuYd78zBs\n",
              "VXtBSapxyT8a+AJcVjC2bCorx3AdsjmLw9Y3swIHV8iJIJU4fM3/hhbY3m7rBSxL/Ok1ZXhRpdp3\n",
              "OwSXnS89tUG2+jDT/0vJKLWeaa2T34POhX9SiaEZFS4lITL7oia5X/1Q2tUu/T9JWe0ib0+z46Gs\n",
              "sEUE3W3NreX5I/buyk5Sy9aT1Foy8iYu5xKPE4Mvn4EG4opXQVT6UTdwpiZTgzI+3Trh7aTpgOly\n",
              "f7/OTmLPKmlKj/kuTWqD/Vh+CEl4LgZmJhddHnuTN7snLJLnncEyGisI/XtRBbJl50YSwM4Je9XX\n",
              "bxmyKrsVzeR22nLM30CW5/I04LQFQlcG2GP0bXtHb/HnDzRq8O1SOPj5gtiTLT2dhgKJ5LuuMCbp\n",
              "BDTvQAKlrNkOLaqEUE3KYkPP0hibCfeIKhJijixQPklX60XAbUEzY6IRYh8GPJucZ6sujqWL/d9M\n",
              "ESWFXSXpJLkmn+fwk+sCPVDWyjO4cvY0CMASNUzWEqz/QO/xAD6Aq9FZsXKM6zKv2CfvbWrjRanb\n",
              "PV/LJGtYPBQGZKq4UW7dVL++/DFZYFkBJiN7+pyRKo1odMyyhrffndwy/tk48HJvpQkR/ezr8eRP\n",
              "STGZ6RmsNiKIH/IEYJbeiZSzjgNOZTkOa8U7Vn0u4fTo5JoFtSROlh32i8k2QXwUwmzMQA6y2Clu\n",
              "Uw8At6ne9E5rg/Kv3fpMVIpBW9HfO7bfFi/jUmzzPtpqA5Mzla3x335GRgx/AIAOXDwpl8hczwN4\n",
              "Sz2iGVsvHdKuBix8tYsKL3LioWAiCjtDuaaK20bxyZ+tjNRc6Q7/Hb+1RCRqf1jgxSvh5Et+JT03\n",
              "W8sLOgs+wHprzqGlQV5U34u2J9+TaQ1AV2wBcDRk3tk9cNe9y4ikQdJUuJ8Z3Ff+hZ+DiQ2S7OsZ\n",
              "bkdXV8F0/mQs7a/6/RRTHvvsiQKeMdRmk1mTvUndlKBNnENMw/IJgXHBPTGADcxdGfXOwCbSyFp/\n",
              "ubX4euJvrReMSmlZ+usvQWAEsb9lix6gZRjbZYPPnKoGBCday/TW3RTvrp4uTp9Vz4hC+OZTo4DJ\n",
              "AvgMgi71BBu7hqg6wyAkoAAAA9xBnkJ4gt8AANGpFKA6RN+EOeowyYIAbbSB6rwO1nBFVX+0cB8v\n",
              "3wudKntFr9gyxYAdDOC2HgNPE3niJG7UlcBnEs0HptcvfxaNZwB0fXANBHItlF+2v1s+YSvOnWHY\n",
              "qZsS5EGg5ACYnbhKUCJg3xOqObBYfE8JUriSvkqxWQOGKdMIN88ryxk8oyqYFboY2yH3gld8PD8a\n",
              "W+9aLqhFa72rBC7pfPcHnaDCRNg2o0t4kL/gnZbJPuN03BtUjTK0CEYj84nrYT3lnwRNYXn3/evm\n",
              "JdvrEvUgbHyXRFSYR9+Ifiij67bduZ8aMhwbBfpbER4VquZFC83dmbuQqdyrhnueRM3uAm6JA0nx\n",
              "TLnrqscQ0Wszxg7l34Gznj+36Vr1pZ2E0QMJP0or4Ryw/r3d+1N1Igg/mSDyYYj1Y+9vvQhX9R88\n",
              "MBYA1+jtwrE4CP2RYO3DMwHIlYDc3FYNrxYo1NMoOfDLaBtSb/W4TcjahM9+onmwTAyjCpHvdA7d\n",
              "ktIEOH5d4DiBzUe93ewWy03/UralL7JY2D1zYzisepBJ1zfV3Qcup9bttDK7MIKp52ypznipvNQh\n",
              "OuTl0XuYbUZBoogQvxofL4DO5/hELK8j49cvVC4x/ZZlnLHT4gwxvRtNFB5iMaW2glYzhRhZPaNS\n",
              "WceCutK4GNPf1yUZM+jms0lWN/uuEGS8Nx48aTvaRLfHdPXPq9E6jHws4VQoR3lZtq+79n56yXKp\n",
              "mKhiyJe94PkZdy7qXAIJrxEkPL2MdY+PKOsu1DEHcy7z0v+bInt9PEet93CpzZqI+TfW3eU9DIqS\n",
              "wsXLnlNc91ohS+0hT8T7ZMPrFAFq1eDY0b4hjhC41huXTvICcEDbryvThIaSm+BgLKGYHnBe0auc\n",
              "lotMwdbR0ReYX4GwBpDNFt50nR5K/KWmJgLMTDrFaUn0Fzydool/C3dIBWIg22XZugam8+iqVoXs\n",
              "uYSz/KnKavs/Vw9RL4oiqC2h/NNVvS5RCjR3n8LYfPlx5E0G6Dh+cbhuigOE4kHYFL5+7xWaHiTT\n",
              "W2xoUemEueMNqxIZXn1UjFHK2yRvhIW6QfZNW14u9mz7pVfMwZPluQbM7+t8V3juegE0UwvZRLga\n",
              "14M63BtK6PtX75FlCaZv9TVggjlW7PeHQisBAx/rEnF8mL5LE0GXvabfgBBJ/xrnj7SnX6kktuUW\n",
              "RIwoznOdZwl402itepwX9zO7cjh3HJplh0KYGO5u56ff2w6eqq9gIexIypx10cJ/daMQyft7TqNh\n",
              "ST0rLioUA8v/hwE9qbwzN0OZOWTJxTqBGmBsgXeODPq170Hn1AhpAAAC1wGeYXRBXwABRTVwToFj\n",
              "l0uUXdoNqICEMCGrqcZNwrROQj8XAB9AHzQ7pjGG16ANrJZhV7UJBBjqWChvrl7iJL7tbIa1+T5v\n",
              "COzZa27MMwulNrmnlYrsJjNlZZO/aQsbtqI2tD2WCYuxXY/sbVeTGfFuoxVYX7dm6fXALzjozmOR\n",
              "/96fQWXVu3s6ad8/xxMY9mXfzKfy4HatGIJOxgiY9iWZ/LDWjyCJRhWWkczMR8IFjrQHHeuxbf+x\n",
              "Cd+k4DTQMTodku753aS1ekXXWsfrvA9OZk0wywyG9IMf65QHXegzBNxELKKe0t4KWO17IJv9T1/k\n",
              "HFXhOnk9/2HNtC8Bw5orp1hkse4/G6SKIkWGY1be1Z/A+H3jF2drvbDYzsDvvC+MSrSnJE1mitBE\n",
              "Rm6/8rVFEtnUqFf59u0TbE94nOZB0EjS+C8vz2/5lsJQ4S0yzwtPfCCYtKUF09cS3gjbthOvm6md\n",
              "eEVWkdSWd4KdaUPzoxYM2irZ/sqwwKOIfIAaZk7mZdm4fPcC7nXRnhlXEWiACvBRJakUsrfWDgho\n",
              "9SEY5ggzE/03C54cDDHVNeAbdTP+Tq7YeLeCvqoXzuyJ5gfvZkPHg2Yq6GJxaOihbtF+TR05aOao\n",
              "9Cqf5+5CJ5X4quoD8zQtxwPhBJPxajzCo3Mg4UFcZcXJ/pu3jnYD4ln98HuIEEwg1XJfrunoXY42\n",
              "7RjnpG0tJTHgqddpWAt1jKdn7N7twyeShvSL0c7r70v7HiqiossGZwfNMpA8M+9K8hP0i5Ev8Rrw\n",
              "LRK3QDyCh6CDMRpHMRyP6s75SmNmmwHDlcDScnXfDExhzxptJXoc/7fQCWw6u4w/Q4F7oKURr65I\n",
              "GzlbBjPrhufUdOzoiZ26hGrmY64mqOMbPnWnYDz2ePgWiW988ndNKnUJzjOgUr/ZLbByeltjk0e2\n",
              "UVg5YtaDXWpGjYXNnZXZPxANGU9k/A1OzwZOg7IAAANvAZ5jakFfAAAPfbH2lROHYXzb6AI7CL/W\n",
              "plW1YxtfqVict4I1oRWpSgLeeUE+ObPMmWbprT8v5sdr3HFWmJ7uMy28tqosh1PJ7eyTNu/cQcTq\n",
              "av4sBcxVxlP25fag4+unizCXF56HrXcAAHzkphdlPsupJtzDqq7MKCaJtwhuIOGEsP+sbqPBmx0p\n",
              "eYQPQncBu3sbo8Yrz2+3kIFOusvfPcOvecxuW9AIo1zI4wn9tPqjsqLFiYuzHef20/6IqeJ7DmCz\n",
              "voM+56lAlqSUGGwnfg70PGE+HlpLHNYEqwJBRgvhBNJ9duQms6vOrCOdWA+eUnj6e9QB+B6xXGL0\n",
              "ex98QxKQAPpHtAoxQ4Yc2zb3zJrEdksbxuNx1sdvuFmt3XFkv4iX4bsu342Xb4S7OnEsdxNIQ7/q\n",
              "5u3nNJ/D8tPcT2y0Hniy+fr3qnuUgzwSsswyQL8awIDm+S4dFw5ikJOyKSSeR7Ei+UBHhTJ3jdOG\n",
              "v1xVYXYdSJqjaT3Q440GjEUzhk98qrwI0ifcAcYcqu4sPp7989xcECbpXbKfAi/T1LhciqraZnmo\n",
              "AZiA/5nmCfMob+utVBEpyBafXAxT+cuex8YMp0Klq+rrNCL3ONpxnSih6iy+S0Ki6SgeBjhM3HJI\n",
              "DGYQytxfOqEpdGrisXpZbxoZHMX7lNXPiebCcjGx90PTZ5pxWxQgDEG1ARp5ccMnje/suOLD2oHy\n",
              "E0UtJ18HIUBzNmWJGJv/ZiSD4wEuecqvAWvEKGzhVq/xdWojKXWcm9dXLrgqeBXnin91XeOfNNx5\n",
              "R7wGE1ITd1iubwX8cyTrT1mgwYp/QchZft5p9+5EQ79OQA/OFn/1zRLT5c9zw0nbaMYQV6ljvhHl\n",
              "nkImm3rVqZ+G8hAh07KqKdD7DhL1gyQ/wPB2uJyxfcorNf42rEGNpq1N6B2sGutygloGibxLk+xf\n",
              "zH18iF/t/JYCrblBqOhWyr9rVSuKpQ4w9oFs3z5amRoOVFbRsXTj12XXeUGsrLo1CMv2aNnQgM1V\n",
              "U3MUqu9QPbwZ3LmWMlxBpEc9qC6E1RR9IQUQRmfnv4atgsA9k8d9Hd4nU36fsdfB7J2Y4HmRJ/hf\n",
              "d8PkUa2rN9O3/WX2N8t6QijHN+i7Mqx2701SHXOQfTLrWUCFgrMl2nfAroEyxc9K7Mw7BcByVPSB\n",
              "AAAR1EGaaEmoQWiZTAgv//7aplgAarfH/xPndgBQVMnC4Qv0MTDriknY3bIs1M5PBZeajs6GY2Pu\n",
              "uvEfopUZgfuBd1VLqJTwFC7m+vpjxd2z/gMwZLGRvZ/senJxgCkItDcXJGA88kOvyE5mOeg8Ky/A\n",
              "DfmT9KECcTBcfUAeqENBCvuwCyX+p7EeuqotBYQKUIt4u7nqImq2q+iXR+i5/QLHzZ9XVu3oaIlz\n",
              "Eic+bJgckYfkf/DSoD6EHexSLpQevzXdgBMODWzjOk/BSnh72f2eLvLp4RtKS55vi/L07AU1gNqq\n",
              "sLFxovlKl8YCce5bpxPNvkAElO2uHpNwCBt+Y76qWLnhOv8PkJDQVWT5gDUQFHqMSqF0ILHmAkeh\n",
              "1ssKnCLUSWfevwy+JLm1Ny0JyIXy0WDVWsow3IUXYME3SWXBy+YPYm5tivNzlPcHMCMxKNTdvsie\n",
              "Z2rbLLbuApray4dbdT8InyRtWSNS59vnTJXw2Nf5EAYOv4bHmGWh2zXHxxIjqeFOa1U/gezv8GqK\n",
              "H9VRVV2If+6XhteG89/BFV2m1eFDYpD1JxK6uWE8Z94bq8867bW50FQFWne6f3XGVfcPK/CGF+7G\n",
              "lY0QnS79LnU1VJP/GJD/ZXe81GNhZ8t1m9bfBDGQQg6vb7iYKzuZEESAvIUbbIhzc82kz7vZWLGV\n",
              "2pEJmO2caSgVkRFfPNWeK9pnTHARpUETYeYWrbkbr/FAU5E6oe+P/XHnji2vgipmWT+ScW1oGkBE\n",
              "I3VNVzJv2PNxD81LKEm+/Wfk7+jpkcsRBQDJ4/YAv4ILcpmwKp5hBicOyozpTds6IXmDv+mr8Shx\n",
              "/X5R3/9EgLmlvNeduUhcYkkUghO1wNa+mvPk17l4CH3WTZgxhAmYMJyDGQmTX1dpXSkjjfDghA9t\n",
              "CA7ZFqWEFxy3QbsYkBw5qNpmVT/bBnFzOD8N4N5Xc7+pPP9u6xZ9fI/n62mia+OE8WM8eiXtp754\n",
              "jFXPTyoaIjIrRaebtICykSjk22ZGcTm4Vs73k2qHUUynHvph/XvKi19sgeJdzfrBEqC95LgKEp2g\n",
              "AFa4GZi6XUd/NYW5wkc2+I+vXcXZYLwJOKKf+MrxL+mkqn6nRNDbfcIn6JSDSh+5KdOqLl+jUD6F\n",
              "rmhL//5mNNPfVF87D1zPZDnsAJ0xk7iFEbizsfsMW1w1Rp0yV50vZeijtTVTvwwFBbrGqtubD2vP\n",
              "NhaKN0EL1pxqZDFC+3lNpfS3sb7jv0UPg++uYiuK2eEg3qYPFZEBeCbjIEY3c78F/efm514PngxZ\n",
              "rFYneJRU2CxaHVVJtJTABMqeEXjHOl99mDQ72BdBWLAEgonJcMF10Dwv6hz1zEjnzMgGF92z1gZd\n",
              "9ra5r6ZsHL7UaZC0h730hHCkqIfVEBSj1ga3epUoUkDLa4YzE+oudau4DZhV6SQiIgVjogT8z9yP\n",
              "Rh2WBUoxtK3E3VJFUYJSnISu3wTPgm+0tJebRw0ytAilykOmY2KDzhS88RRrjuu0AeyPUDRIVx0k\n",
              "gCBXGwP7rSbFMZnUo96U7oraN4Pp5sf/+myD54osUoyNogqMLjJNXccXNPcAbUid2aSUIzwlWxjA\n",
              "PiMt/WXarZFIQbOeLfsMd3B8RUOOcNXCtJUAuEBzuH7fTm9ORA33qtXOlD5zBe+Z4wi8y/f/95st\n",
              "5lY/PxzYGZeCqcgirUD7m0Wxkcy/xnphOvEbe7lDkCTO0vCqE09xXiG399RFWVURXWzTphA6ioWb\n",
              "E39y1TqGI0Lv1sEXgpLESxNY82tTqEXGsKs4425nWzdsRAhO7KhEUT7hi4DEEJUfODsRe84X0M1b\n",
              "QROYioS8vdv8Hpr9A+f727jzAKpIm5D/GxqO3JexGTbvN/CRsttluz78M6F+VkzSCPl3NkItjbzL\n",
              "J+CA2DLeVwqDmjqEplJ8WHsUt8yb8Ny6N9YOt9R/A7F5/AVhbPjyF+ZmbvCmlr1dVhFPfKAFVyyN\n",
              "B2yc1Q7baym1noNwB77jAlZKpeNYgjydu8Dd0VQYYXfv+/Nj6i32PPYEqxVkVwYcUbqPBF6zLMk6\n",
              "6yNmdfL+JDj+NQwufDutm59UDENttxdxoLPZ42dKWImgVG1SGrK47hoPXupkEPD+LbYapnQZp2md\n",
              "m8jG6GvaCmpHLNamy98Zz7nvzC7Z+sbn/oNMaSAXaiGDSjYWs19UAZ1JCoWuE1+2W3fUOrGEcn1y\n",
              "w3e5k3Ah9ZPpN/U8IC15QpAQD+BAn2fzKDTU2UeTmnRKJkdsB+R/BrZ14fXTwp49tnhrSgIvPqjz\n",
              "iYYrk2ArAo4sU6McMyI3lOYAXbiFAyzTxM4CCmcO0zzvOAhl8pJqcTxgYcvezZi9iIC+WLWKqz3X\n",
              "Xy5/suJ4umwqA69Mc1M4bIncsNeE52eW/FIIRPhTq7hnr1cptNGOQz0G5QBTNaVzW7ehc0uYqx+0\n",
              "AoHde7YcJHaa+xHASCP66LJjbKxjjj2pbLzWrkcWqnEe5eV/YBqqHrTTJpxOjypJP5Xw9NOoNIoq\n",
              "epdW99hJ3F0CG20/6kICS9uWXI6Z63PASfusZAJTF6SuxSpfyOD/C74j2JqfE4PkmMmkHtcMEVpX\n",
              "BrMTjL7/eaLIZ/FX83JHx5fjY256y8BzhcqsdwzVuydtzqtCiw9AE3XgCGRvh6CblsvvIq6yxLTj\n",
              "80z5rLJPMFkbvvkU/Oib97xo3g0EeFeu8IFVbolxG9b0/daBaF4vC9BVtld/aIMhEryZf8PrgLGg\n",
              "jplpwkxMwaHWKMJXVW6Z16Js3MIxFh3v1lTRmWv6zJfbNMsQLnKb+lEX/dRlji6vTx7RBm/z2oZO\n",
              "b6biELmgOXVBWaZBcwZ2o7R2K5m34UAwr7wr3NH5dMKaMasGQIr8Hr4QijI+ZPUnHB7eJEWBly0e\n",
              "1xr2iYJjsZZ3a9/1oXUUW7MSJjVz2swqOzqtNAqzEDBe1qRm6icV8tOJSXLTAgXKa9F4r+h0NF9/\n",
              "AsZvVh6lauiWQTbA7qwwUrXjGVn2Vq8VGLp/fDf/okCs8pyCP01KA/6ipZ9A1zXpXl9u4McfwTRh\n",
              "jxQUK1EKfP5rwzS/Txf6IB+ublfJkOLo/v3EuN6GJtDD+zb4jvqHXejSXdkuBcA1CofvkOEGnnYW\n",
              "WluAaX26qolQoxJ2S2P6O0hHvgdHhqrj8EsnNQi+w4iiy9NEU7WxEeBnBe+xxFp8AStH5WoMCUaC\n",
              "/XhfdkBKXVmjnqQm6501ggjBBjwDnBIYT7bCMOFkzRjzL31ow4MPK1g9O2K7PACrGuopXyHgLQ+4\n",
              "c9l3xhhbetTBFtoGccoDgMsEMLbgtj07jhyB1Aycs+1hMo4TXywoWCiplOVBizqk79llL3B1ygmD\n",
              "KJTBvQZy5PhnmvS46Typ++AlMuE9Howu6iSgXTgH8AUi95wq4zeSPXOecMGCDYHhiMXPrDDQwDXD\n",
              "r3TttrCcxwRP5SItFUirG1p4ETv1LKatnlMMCPoSGUvrqvXOwpE7fiYJ6KWIUyhnEEJP0j/8RIAp\n",
              "xZAJC9yQ78T2blrIMSg4Z2jxAna0b86mZTrseny578X9R5/wcDVIL/5WUXt8Kjy+Ym2BH3cW+TVM\n",
              "vmtyTt2Q83tSBvu3YIMycPXIkF/pHn1DadHCJMSoZvuqCM1FW4lHK1IBkkbmQQXLr+15AFC0a9tI\n",
              "4k0b9go5ySHQ3hYlRuRYMK+MtPTY2aCO/pav8gX5kA+6K76sSdDycq+7TdKsnYS2dH190p0aSUqN\n",
              "vBhRuci0flWnmbI6qIxO/WRsLSphR3Pnrjh+zuRK9uCk2/7Tfw64ykav4tBbLRHydzlTEGVvOMNC\n",
              "X1kr1BHnr1CaJdgnXPh6ho+VXpim3dCYEqvGu4aJmdgu9DOkWWMzXkDduSFLUt2KApYNhBoB3Azu\n",
              "VQn4pVci+vZ9BDvZVrLpaV1z+N8iz9iwsQsDtOYwkzViJ7GVi9tQmKMIiQr3YSKnj2CipM83cgr6\n",
              "5yjdobGQhykAY2Ym/9vZMQtA5flUuenHUPYDYENaxqZrjf/WIhzg0kiKe8HuLvFkxTgA0+u/DiiL\n",
              "pitoRVoKxLXAoAD9sfVloYmo/83ib1gB5qHm78/EsUojBOwLTSq2TkT/RpIqsMo2ALvxYNU6k4TP\n",
              "NV+gsP3dpILvLHaL4lyZO2JEFXxX1UUHAFSdOu3ehJ6GUlJvCCOYeLzaDdcETGZHNvOv1LBSIguw\n",
              "w1/09qnTDBNMz79lZcoev9k/tjb4wnTbl4nUhon/+D/4pj5eNUaCC99gFiKxsQ45Ou1FxnPa/B6t\n",
              "3XEZWyJ8ed16g48iNaR9LaKfzyE3qyo7/4QeAtADhJiO1SYjzzpR+Rbov6nn1yYVxoALnp+NCsrj\n",
              "VPvk+feS4vvtZBfP8JjTXYh2+Bkfh7RwBGR9uI0K18iMUdvN71UtlrLdGT+DEtEyYga6FYCXE54x\n",
              "zvCfyXn1YGdhH8XxkP0eaN058KtsUpwW0wVSdBpkN1Ah7tXB7c0oVxx0BGtLo97ZUxTq4jBOh+3Y\n",
              "Teu539jtxC2jTpSR4CpzkdvHC/MYAPiL08hQpB+iV/rIevTYFH9yGq81e9CbpfEw6lpZsU0YI8S0\n",
              "asvvDTGDJZvjHYzPSBsn2m73tpM6dVlNEDtmzNiJTTiRL4zFOYWMUEkkV6iiaqNu8ngBm/VaAa4U\n",
              "9WavDDfIyYD+/CbgK5n/5zOlCrc/+hRTti3DRchZ0iw+yfODMgWqDIuINToZZBoTSqOZwLciQ3PP\n",
              "pkAIJmu1YCuC5IaebRx6hYqHnTZaMxLDPrz/vIl7le2vAXiLxOVo60J6C7im2zg55u4yrk5lhdJH\n",
              "pUywrEiIn46BRTW6/mHXDywjPHdaBfkoOvwL03llZWYkrJmjepLK+8Vy1ST7WrIcWCZdJi5NNe/T\n",
              "lg6J2rfUlsYJDi89FW1x7rVEo8UqEwxpPsfNAH82XnMhsy3IM0X9sy1fbl0mm9H3ybBZGHGvf9Zv\n",
              "cKO4DcYynR3OmvfsWbC0Iu3n9xOq4O6yx1BI3bhqhhQPLNeXbhywMbyGYq6hPrMEW1KFSAvNcjMb\n",
              "+fWPIxEL3JQOCVxciWQMOa6n22dC3l9aQmqrHLUFtt2MQ5/mXHSUlTf2n6sr2eDF90Ukeub8vgny\n",
              "gw5uzPdaOawE8Yx5n0nhT+vZhN9GEas1g5EUZlUt47ddTNFjFwwGgUZ0wCjXvJMpBcDT78LUn0Ts\n",
              "nAcMZF/eayIt+COyRXafIzQdzlDh4OFPdIfebUB55I7JtW/W4UagCpY6/1VC8SG4wjydMnqMga9g\n",
              "H5i+E6Z93ExjbZqLtl7/2Bm4QkGIMqKj/l7JYxgi+GYW/Lf6jM4L/frrYQldndfZZJkwIY56NQOZ\n",
              "4v1h3g539lSR2x/qaNIYSnH8awrDl6I6kDZF6fCFPhkoWWIoBYNJcXVae2qycc4BFT+de0BT4UZK\n",
              "69o3nhEw9vAehww36qWBEgxwYwOmJyL3XrW6IC9uFuaXxRwduoKaJlPIr9rD0lkK2zs/Xl5j/q8J\n",
              "bXHj0PnrdkTM07FdojsiQSeNSZvDKN2v9vgplCxDN4Efuf+QQIFvg9tTSxWrvnEwgu+pJ+poAzBv\n",
              "JAHi/SWSdziP9mHYPNTG+Aq4UqsIYbPzKH1X/U5N8POGmPELuXiS1caecs7wqcsv7QUqUGUNAS7n\n",
              "pRW8INjaWWvrtlp2rK+NnXYvr16YDvpBrCxJWfBg0b3Q53RW4wEk6J2TUsIUiwAsAYr9OLBfHOKo\n",
              "jbNGbuhfwXapNOjED0XTu10fpt//Kvzgw6zGx4zIxPQS1Lc97fy4t+5wS67SRGmDd3EPFtMhnpdw\n",
              "ezBxF+3hW5t3IunHI71zB7fZHg7uNWGdatgDufwsytv8pXlVXk6K+kT0Kut96KY6bI9Bvhn0OVR7\n",
              "mrKVhA3N+5IE2+K+O1QIUiagLay96DInKE978efIGXT4sQkfhva6kcJ91sf+BOprW9i8MEEjLWBA\n",
              "ODyFtQjkafZ75x0L1l8clvCOVlMEGxAW3kLeiiLb4TRJ8ZK5cjgfs8/QQL//xWkJdE8biCwc31qT\n",
              "o+/vtR8a+rSeojnV+uEgjRQ2vbS+LCR2sA4+DKDAUwoHs4c9MbRfPw4GfuYkwneVMA6D+REfg0i6\n",
              "Q5kh+lhgrYEAAAr8QZ6GRREsFv8AAC5eYrztUKaEn/hnwXAQSIY+h5yMmbxFMRXdt25OxeAzaR8b\n",
              "ygl1lztaBuCFH3SBVogRAZjgKVsrS/Gk1XGbeMmHu1vq8dNDEQKliSDWPr392C/L32Jk6KG5oNz3\n",
              "79700rkHG19j+kCbOUh3giSSfL8SBGE81Ckn4tBDXfI3Dp0koIL4WLiizG66EuVKmXi5W4CzCQ+Q\n",
              "UaFxDcjU3J8qshdmiBbXsuwluD9cYRqLP0zm5qnqw7bNOxyWEqj++tkywghpDRKL75+/knaePjdq\n",
              "7iVoU4f4Rmdvsgy8cdBivGf8Z4ZaKWm51J7DWAwbS6Yvmy896Bx6wzvDVDywxtpvw5f5Mqnm3Tjh\n",
              "6ckYGL01eK8IVs3FGVJFIqkBupZn3QnnyXTMtmm22l9u1dJR7NY7YhKqvapX5b7yOssiEvUxdPNA\n",
              "pieTGDVomPvksHjSJPp3pSuCsI8G2oPq1Z5empvWdROm3VE53of9FBldmEUbWf3dJxivrBA2JasC\n",
              "tiXRCSyZ/pIC3xc2Int46Xrm4Ae8EbbdzwiH5fvMwF/td/amXfi3P8vYZ18TuFCVw5hTWUyS068g\n",
              "2r6pcnrX8izZyHgRwxryNpjWK8VwjdIU5Ad2fy4lWw45OQhq/Z9EKewCQ+XVm5qiNaKoIP47j46u\n",
              "mI5UfyOCeIjQqp53NZ8O5KVyE2478e64shVEQXoE0WH2G0o3o/gv46w9lkTegmaEQzX9n2bSTD55\n",
              "eJTmd6sd1Sl4g9cUvzJPmChWu8u5Wf2wUbVemG+w3woftO98Hq5SWel3q62mzsYiM2ohseLnNSMR\n",
              "EeGmRbQmHKL5ClbFSYE0rkm+tXxnUuKBdWawWoXyJ1tT6EstSwnVDmxFzyiv+5CNol3mFxSoli4Q\n",
              "wmM1eaJY9txztGLhNPXXBvozPKkhD6+iHfNjQxcW7yJqDh/aeYZr4Wu7FFMGAfFwdZ7U9SoKCYmo\n",
              "fK0isaJ+OFO2bxeTUK0t7g+pWFo5HJSN4P8M9JBVETbuMaDfYaNrCN6Q7Bc2LXTqQDtvqf686+qU\n",
              "YOn0/CersRCK4Q8X2pvlV0nkNHDdZ2RhvqKoxPkWsso/kl1z6Cvkwcmv4pxAbJGj+oXQp8n7zwj+\n",
              "AGFBFKrCrZDtjmBOD9fjQMzswgNhi2nM1udoaJCf166Ku2otlabVBkTCitkKX5wxAlSUSoGaYcXM\n",
              "ZcKdVi6Vmj21HvASHUoLQlGEvm1Ms9JIERlUG5vLoaN7fumErdrFQa2F/b+q+MIjKu0xGbF2F+ib\n",
              "kTOFQTcCYyv/wvNMLzGycxhjLn5DOux1fRYDKjrtoGZtGlWeqGR8ZKy+XRIAqdvprTk2RF4CJahT\n",
              "jVnaL971OFP+FN6AkkzvG8RTZ+ZP1pBzp+6pBrjVxmtM1xyqaGOIdGpFOrgViQBtmoKy0QBxPCmU\n",
              "pr9yoozx+iVBDVjIGzl1AnOtiqkwcCNL0BYfB70kzz+Jq0NCoeZ5N+HrTOLKVGc1EFVWqlT+0zkw\n",
              "V5py1aYGhxi5H2vWXVTkbH6TiQGFVd/Naj1TcEkatu5ScBie+mTiSwytjtxOZ3lOp/RLKo8k+c+C\n",
              "pLtk3gX31bCVBoTvYZuKOZwK3AFLScHYgyTCi6Q20R65FzpUo5vOwzL88QoKNVTp0JsoQyrIyaju\n",
              "rjpspv4pdKEnYknp0wJ1Wz8C1y9l8Y+oEsM1QK1Hr2vamotUXq47J84BHPy1YcoNLsOF6EE5vHQj\n",
              "n4dFMAsPQQ7Qls71GvdkYwiBNq0xwLU+eF/f/O0UDZLiKxjRAXTLCx3ooOulifKGdKQIWtBiLMvh\n",
              "CFp7u7lbCNx53LmXgxuQF+ubVm2Sk5Jzn4zNrU/tbxAg5yPp9tix454Tg7wZ8P5z0EgEKb+pfVAq\n",
              "H00xx++8YQMwj0I0ZDTLPyIetzxAqZkz5Tz+ipEuVLNI17by1m1ekh+ByTRvy1amw1JLVJLSoPEU\n",
              "Y4z0L21UjkcwV4vDM5GS28g1pYUP1NYMjPM3G9kosCqS26cIw/ov03a+APfYmjHZFTWTYhYnaBMN\n",
              "xzwpdv+wXCdtIG2HEm4s8JWv8MqSMLlaEjAj/KzpUuNlixxSzwpeBYjyi7qP5gv1lyz0r3dtaHaC\n",
              "7oY0y4/eZ8+NtoZ0FuuM6gHgldhZ8Yw4pdGf1BUH/7fJ/oeK4gjo9Kj21gPecEMDt3LWQ2I72cBD\n",
              "AxR7yFbCEkwkss841+dq+7eEOgcTATLPUx7OrHLU01K0/zz5jeaP+XQcdAq2Ds4RTmre0cpKkIkd\n",
              "GEa1JmGJRopiEVTMZPRnQjXlXa06ihdwnNiwcEiu4VX/Zy6zhWKYRAypk5VvxekN3ORenvSvBy42\n",
              "CijaFod6njfAwPb/a+rUbzkH3S1LkGyDrX8J1bYJ1fOH427Lff+DPMEe2hAZNeQGMA/U5cbhhDcs\n",
              "BDnsmuhPiKAdQtdJFAS2pcj/6g+gz4yjEbIPU/LoWcZ8QUMg6g1vJDGYob/KAIi6m6iGUEIzspwe\n",
              "Q983JCTcFSZI+Lv389RnVQdo8k3EJEZK9PLcztESoe7rkDlE0qb26IBdgT/SNfX5o8WK9LQiw92M\n",
              "TGc+22PAUzGY6XmJIS3SeD+zhSHuGFB5G5bt8zEUQulSPp8j/4emBqZTAoLrL+FYAnhqdeNgoXIM\n",
              "fmSPbU72N+ChIKlc7yyvFvYZa2Ip5Ad9f81KRFzqCNgRB0kXH0Ar1DvC+srmwVRUb0xNLifbZCbQ\n",
              "Nwfqwejcr8ahO0W3zG/GBNP25MeFti07FjmElCHb3rOfTHVgIGDWtJVzjlviwmwTRjwfbkGHv0Co\n",
              "4nA2RKYsncI3ufCbBE2Ut+Bp3ehrdnZqHLH43uOg3Eu+mqGltbIzM+K/lVcaTt9Hbp1nrP1qbb4a\n",
              "+L36jpgPXfL6xWhdB+Fol9GotYLi0n1T9btpBqtjFEH0mzbSpZ2cI9Sj3YLxjgR+eksU6P02OuB5\n",
              "taHQcoSneCp0kvMTcMT1QGBw+kEe4EOzV1RoCeS9TB/TnjmUr4y6pfo/IqhTtMw286kVvgxDpH3I\n",
              "97IlE0ceqVxAKSwnbSHSoKODnO8+7oMx596yuTc53/QTtkEi9q/rWODfKqmxHp3jKOAuUSs9+uJj\n",
              "+9XEnPW2395CFeSo0EgJMUNcM0NeZQRXyMvl1QxUqyxHAGhAnaa/KXlodPUkPXfsFIr2kn5KTTEW\n",
              "vgtKoCCv7gWoHQisspVTjo2dfXWMUDsjU6UTe6MyDTwUsEPpIQoR7b1u5UVTTaO7xCzfQc9ejSNe\n",
              "6y+rtlQy4g4QMvc/umu32/DAlxeU+Bsd/h9NQWDDZYbiFic4L27Bh2ScvH+OLNo6iUbpa0PBUoir\n",
              "ypPzU0QXOFY1Ng3vnFX8bCBo7s6B/d9/uaq7eIxJv36zSK8UJCi5Ic+4QbdQmWrVLEGdqgK3qhZt\n",
              "irB001oupV9pG3KsbnTMxGK46M+BAz1lv/6HNHHwHyj40A9y2a9ojwmlrkLzJIAXkzcZ7pWcOV5d\n",
              "A34haaLGsIToflVCzlR5rI5/k1gn0+9fQnIUTV0LO/2Lod/vYpFoTTlKJvdXngXaqtn3StA0NAyN\n",
              "mmZW6N49mHA1FeSYz8ybDlP1YfAkoVy3WWY2q4qTxCCgDVRQWltCE+/jiiGfytnOcYez8M5985Bk\n",
              "wQ3a72mchiwkowPdognV9n04+zicj0maTC2CIPKW4lYqMtsb+fDwzgXCA1s6qEJBKjLsD12RRGRD\n",
              "fZfjau/onnwhVkQ+sAMiVSBiTbV+KCewtIuVhaSHMQAABpkBnqV0QV8AACKToqRAVP/2N8GgMY7M\n",
              "att/f9KKprE1oBG/SjHSyMMyUC6W0KjJqcMp8JsezVHdz2MnehLfx68rXvxnhv0exlbbwV3vMcqY\n",
              "XDwFw6hwun/vaMtKxy051YAH5PHDOKyoP7xZN/hHcZ1WHwmiR00Jew5X7w8PKQIYucK/58680r0M\n",
              "aUY6AWwrnEitPXNJZ8CzbHTg1yVAK0gut3fXWrho4vQhIhwKjZglYCbhqZoiEG1hZavj4a1beRhy\n",
              "lI4uKATo/XLjNX2W7HuzYfrP0Lk7kr6BxvQAY4WBUErw46Ac8z4ods53yN1LZHltVQBmhJuF2a6E\n",
              "uuDOl+mkBe/iGlUYODx/aLbZAhqUEtcBWrlBQLLog1314fMwqbnYUQYlQb7v7bw8N60H190tfmmx\n",
              "uaf06RUgsMM7WB0wmeIrvGf/D52Y4hOKqP7ms54sv8ufajm0Pq0fg1ZCQQB+GcCgcbj7P51VcpPQ\n",
              "MMkF2WBpsvtXnuaDRrqRcdDeLPYRwxjJc3TCOkOmn8e6dMpDPPIazQd3gGcKBMsdQT1GD+N3UJen\n",
              "S8c2+Q1rLL2xewjcuN2UGeqTk5mWTV/JgnAfOSv5AG/ONGwhE5sozPlsnLZnBiFkqJmBpfVqXRpe\n",
              "UHT36o6XscI6ziLsrJodoztw03sJ6w+89h+H37dYRy7ekSryocd8us2BuC90d9Xu20JIiPW3Ow/L\n",
              "vasZpNHzHpM4h/HNBf7i+KKlpSSzsXm9VUaj6oweuu/qiXLmAtzS7jj8VaHFEbI6WdjkQwqk2F7P\n",
              "5dnRkQL6xeyCVO6aRLK+nUmfhKPElmHjrTK7ggdOpzDp5hIQeVRNmccmQgmkG2pSzvIpyjf6lRNP\n",
              "singKk7zkoQq7OBHKPcP442j9dgh9+aXfduN5Yla1haiys197IA9cN7tBDMm9sJJfB6tQGmY0Wl7\n",
              "cOX/XdPi2/dQyGi2R1/IF8Y/IG+TiA0EWWsW4Ofab2X71y5u25bauSnVbCLjr3hfrj16fhglPjdk\n",
              "m9uvkEmJ0aAp02jYrvTSItmnaHyGdjfOHC8PCVzgqL84k3NSG6JUTHTdWnSWdikuCoXd224SNKDr\n",
              "qHVCXhqOH9lQXYBjJApSkYggNNHF9/LKhVCjcbRu4qzSk/AmwUznQwS9y9EqfAOjZUrgMeAO0z28\n",
              "7hCYm1xEM6Bv+SjWxxD3C2ZuUDq/zEBMCwG1KulRiWXUUo1lH3PC6QUN5t0gDIQAzUB1OYlKPPIh\n",
              "l7OHjixMJZM44p3FSTOSW3jq8F0yc6nL5iaRHrZHsRopjxqjOkmuFRwO48gQL0lacAIAEczcKviG\n",
              "Q2kDf3PcCFL5BcsDjOnua7SRdRGyUW9p+YVu5k9Fw2HjhJkAYaPcX4kbfeb5S7ySKe0HhtnaRBoc\n",
              "uKNPKP1Bcq7SDev8aqiYZ86L5+landwIEUXlZSILmXimIq9v+QNORooCwzLocLQqbUfkX407vUKe\n",
              "rULbcPRQRrajPw+sgJsOTBn0YFYUW/Omaj5Dg3TfuweMVgi2Po4ELuCbfnLcKQatFrHmcBT4EkNz\n",
              "5xrRGUxFf9pE2xgKvteJKhVJHIHxJ0+ibo2GycSSo9KRQ4510vbOD1b2feVVrQY3PPE6zlCqKL/g\n",
              "Ae8nkvKBHmB87OeH9FyWdHmtFAAbq1B5ZpTppold+Nji85W9FIXjIW/0rgzmvTKWk3poMSsesnLL\n",
              "kHcgc+iUakJ7akHHc/nCG9l556HaC48ZHcIZJ7wpri+4XjccqO87PI/7f/TZJBC/hWcxxr+ErGaU\n",
              "/3W+3B0SEfXPt+DcmnHnBLVgTUsu7ZB5zGUh2t5DEnHeY1yof/Yx7WDwHZILDZGr4LWl4UOaFW8I\n",
              "JhyQkTcxSomGDOCidsb20+GGSdA3ye5Rf16qMX1kD7+Kl4oBLzIF34lwxy2arQdr99xeqY8POdOa\n",
              "8xF4xIf/S7Zdrcskxr1rjIWLzDGkTrkW+wCQjzRPmf7jvN4gBANEStABBox47YgaCVTM2/3Mjr90\n",
              "UwBunBZd9YxqS+13DPFoh8oxEoTKCykl2Q7EZ6yITOJA+JZj6/yb4lndchob+VK5bauUW5LGttzv\n",
              "lo1w3u1Q41GsaLl1s9xiML+pbyfDYzzjImk+MlqO+Ca8SdObSJ8cd6r/Bjrvv8kMh1hJkLV3JRHb\n",
              "MZngsU6DSbUCHuUhq4SAbh7qSNmRdAq8XGCHrdSdEH1ZFHEtFnhTMGNvNcU0fs1T6pz9zfKnvUZS\n",
              "e1tF/65YzhOjyyTkvMEAAAkDAZ6nakFfAABHJ7VvJ+o5fQSXMG+61E+15ilJii1pdl2z02wS6Y5x\n",
              "kQ/IeyNUgcMzp5Put6MMToJV4sYKTJCRQa3GeyzL01W3KQKcNX/MVuWxVmiYZVeEOyHzchgx6dcR\n",
              "xY8RihTpVzxL4khPeSmxPXxG+0uNUmJNlDnkI3VXMdxAnSUMFrQKO2G24My6Ib06QWWm1gnajXtB\n",
              "H+M7bhyo/xFtJ39l4HMpAgQgmqF2x/P4/ifZ7jRLhPXyBiDM79xuqfAGTSN6o6ORfcMpUnaBhXiv\n",
              "E1HNfbta1dNIFb0bHXTcqjqOUsNjuLJBHNnzLg7TKTpP80uae0Y4DmvrE3piVewkR15Ct75nxqpX\n",
              "dgy5TAfRgsYmNXbqEa4xCgBGxRDzP+nTEiKjqj235z4ZgbaNWne11E5caCtO0ru+a5tR+zda64eA\n",
              "Bl1pTnxOtwxReVO40g7lNZw7QBwDdyp7BrOyVu7gZomnUNrgl8kMhkcUQETMsrDrcEh5+kqlF7S/\n",
              "I72ZmDBJhDrnWl1WiAIhqoyaSZNSk60LJMxZkGx0aida5QXHoqKX9gXB0a991gxNZecSt7+5LA1m\n",
              "54rgdCc/FNRZtsh4Gth5ctWmdS2DhCHohpaeCyGZLHpqzFsLdgAmwxqios/k38zrY41Uk2ns+oZj\n",
              "fyTWxEKj3WYWutkxl76oHTH9RVH97KlOeLMCKG4SYFCl2+iNLcwwcDVEOj6fjguVH210+AhRiocR\n",
              "neTJ0X30aSw0hpaKWd+Skq5qm/zSEMBUcU5fR9ETB2AyRGHnkVnr9zWKpmAa6J6PbmHUK/dI1xjf\n",
              "kxSj1Ln1O77U5wMUj3h3SOII4lgRVF+OL2YaLJ8l4lgJMmG655+BNpVqJJ+WZyrUX8qRlu9EDfHv\n",
              "b7NtKQJKbqlFHvzjD/9hH9K2ElV5lQQAvS1CGiK5tVWEYHs2UAfLW36LIJYroFE71GhMIUQyo7CM\n",
              "vxTEqGodWojRThBsCjtFWGmwyTH7vPnW1T+1QEtKBztHO0IAaqDZ0olfg2t7GAaphMRgPFIl00vN\n",
              "e63g9/cs8zYDHf91O0GCJCW1pO1mnrwXmOmeEhNv5CdT+rp52MZ6kP04x3QwNebS+vrscwdlBvsy\n",
              "c9Uv4Owlzl25PWgjbgTKGtdCU0VkpZmdILQVNjwc+ZxF8T9855EuxhWGvOhPpoOkA1tD90fBLnLX\n",
              "jxxptmufJ3lJQM2U9BQ7nnnVqVxYTAgrjVp2qqKWQo9AOtsQGDUh/J5FtIqoo94LQspsN6FKlLdJ\n",
              "KY73jv8DsDDt4cnXy3VoAMQCmBsvRtXY6vZecxPhV3uqMnkyre0wEaLm7z5vgXKF7MilehOxDfzp\n",
              "ffbaqFW3PgRTwVYgt341awH5Qquq2g9bqKJRATiA4GZXPnQB/ob3RZLqr6H3YDcq1W3LbPezmQQ2\n",
              "8P5tLfBnd9H1i/UegnKj2DkApzv5rOa7T6T6HDVSdMirQ7NswjlMQazpOcoD1hBCM8+Dh4jTwEvm\n",
              "hxtm4IKhs8LFhbnwUBQbPLDWBZzzglbuzGIyFGH+tDkhSWlKgxola6Fe/X6FFloToMRLlV4Ihpsb\n",
              "p8xH4eoFhr1RPFr78Vzb66uZeiOohULkgLxoNzyUFUUIDZ2OBsPVQf6iaoX2KlrLIPJBchNnt4uO\n",
              "3JN2Lx4IXPbE2f+4EKS6PG1aBQasPqDulP4ROOy8OniS7jHfv2FcY5W5KP6BdHVTdEnHs6Y8clAB\n",
              "R/PWlFHU02hI7Jq1YEhzp0a74da52DOjm1wNYHjulC32r2ogzZWgmsV5pUjaqj7qR4J4weyNhbh8\n",
              "w5cZ/ICgEVHz/pOkJ8VZFa2DhiQxjok5slPadZH6vHP1Tf2TGdVOzA155ioPtpdb3nPBpx6M44o/\n",
              "E6Pg//IouHUXLar9SsIQxbIYQ48VQ3jkQp1uugvnwaxTFQwYL1fw5COSwsC8Ss3lq/3f36y3zXvv\n",
              "qjR9nC6+AQiCh8ohshA8DWG/6iUp8gEndkaUmDov5XvcRESxt+1CdJsIlAcAnCcIc69kiw57qfJn\n",
              "8ad8tG6n8LyUQXeHUFS5hufkd2LDixnqWasAMQCgCovL+kyn/0qNsauSPPAGuGV2VJQiWOnDX4gn\n",
              "PqlMOM3Vrpxg5ny4tquHTmUZYByVjMjHIEFwqT7wQMQmYVSO/lMa3hJcKjimoT/dxNQQeMPuwhTZ\n",
              "3yIYjs4kof78TMNVQS9Me88oue58FHERkISeKMHtrBthDvroeXGhizU4G6QGZihNwfhDhSUZ9g/x\n",
              "lazVkoTc4nOyop78IcaZP9g+4pc+F7vtYsUVQz/ikyYVBrkQdB9b/robUoy9I+ILkRCp1pXkAE3q\n",
              "RBF18u1oOHjCdHg46swPUmvwBtPYqQmO87XP9Kpges1k1GjX0vfC4dQMpQ47dmRojxpOn3aOYmIg\n",
              "4OCjR6op6aKj8899UQrruqX8ZyAomJ5NidXbmXp5m4gU79f6qsTDKWODchaBfLBZfHLJuyErzP2Q\n",
              "GDcwSaRqrEMVAbKhYDm4SF92Q8fi5kltLZXnRh3Pyi+YYPzKpLRhCaPLKBVbDCeszmtkuNgwIRMP\n",
              "7KwUOmlXJ2pMO91cX0xJNGOGcEViYCgUwfgMwvMDsNEci/eTJC9Z21E/Eegvq58rKqkBgyHKOOlq\n",
              "kypqDTtFeY6MNYPhlznSJ+meolr6XB2lNKBmTuMtTB8dXeQ61SP1sNJJhz/VUJNWlGd7WFm2cnsh\n",
              "S0AwGdoVpVYObr+rayd4BIIrQKJORlbWnZzPv00oAj2ndU84XmlAUkSaZ/XTjYHqQ4EEnc/aGs0H\n",
              "DfzaWZFqvTkgzgWau4WzunavreDHy9fAzUyHlWmLWP4lSCy/+tfn77/hRu0ojkCPqj/UgM8P/o0e\n",
              "1ZK4ICvdKXSIZgsiGROgtUMjYXnBbN++YnF+UUTP7dwF28JBB0REcJCWChDmVrDbKKEDLmFaQ2ST\n",
              "Uprduwp4mDMvQzBsfkWPG57BUOihvSxc9vhZiFt+srNc90l3FsLWwVaOlZ0zXvdFrQcbp9h6ru/E\n",
              "Ml1HC9ObyQIg/Fh5ryATA3Sh99Btazl4Y3Gub+ytUbAtu7eCi9g0rBn2VchgAAAZDkGaqkmoQWyZ\n",
              "TBRMFf/+1qVQAN5xD5AEKvMDdW+AsJJErqi8/AwcI+cV1HpLXyFZPr1+xr7HaBSp2l9MW4ZleFHu\n",
              "Ck7uGb0N1fAZz5eqS5m3mzn0ZA0yW9L+Q8zioFudW0sEVIT6+TXtJp4GtE7IhkQ0WuoKOb0ZVXRK\n",
              "j3903ZAlFMSfDq1hWmGDNdm9wIhWaBZirRD2wPRZWYjw86k4+ECNjVnzXkGzwFdDvotmI295E1wP\n",
              "dDhbBasve+PIXNAfMlrBRJLRpTCvqXWp5QbrF+nFM2NztRrwhnTSK6vccHgk6NwOhoPkgZV+5tRD\n",
              "EL7I5PzcTFn2w+AvoQVsPvBahpGSL+2zsrkrGL6Exr+YWONlP3MuUvbyp4B91SgbB799wZrDznMo\n",
              "S9yEBAmc9ozcqMXTAP4Ahu3v3B9WNFNkAU2ijbr+yjg50IivZTEa3aAOuhqcnWZ02DphicBor6Nu\n",
              "MCzC3+z/YlrB7Qd5OQaOBLZp3YNBBeUTSpskwBcDk+zqv3NzEc1Iqk+UgyJEoW8Jp9kdBrIXh4jV\n",
              "RLk05OqjDHSjPI/2YQo9hzzgOLu428u33Yg5wCUVwqs3GulRGePgr/UnSMw7fa9ugd0zbu0nwHAs\n",
              "m6EspkpoePD3DXlToYpIIVF4JDqFZqHU55OPVpxAFzed+Sfsq3USi0sAHTMBqdRNlHdHMbVbkull\n",
              "EF0GE3u30lJjioY2xRHEh5ncxBtm9rk6WV2krZwM/kG3+oqd6DFg0nqpE36vaVrebhsppHABy5XZ\n",
              "q/VENnUID6qzZuGEGUqg3U8VM1MbYfoMZ3NiPZP/LP/8eGQ7eTLjz6WjoRPqSkCdFIVmt0p6mzy8\n",
              "RcRFawtNJa7WGKKxFQgkw1BJTXD8bMzsby/YM33xdKTxA3GMyJ8LVwGZO6QMsvX/nj2YPlOFETfg\n",
              "9swUqXjqmsicBJxbkBS0PApYBhDNLpt+23S14zbvcAsNHtsczp98lMOgRIAReLGf1ciZqBHb95WL\n",
              "EGMErhaWIeaJvX2XB2R94D7Sy14UyumjILO3JgqVOqrykgbju+mtaQ6xnZoSYB0ww4bNbaii+yKt\n",
              "w8GRkdT0/jCIdppeFwES7cbZa02iLw5/CSg2V445shmiChnnqLMYFjueSml3FZzwW5SSprJ2zo9v\n",
              "Lccd1TgYBOs5PGQDBAKk6WLieasjO5tNVW0zK09Th+tD2rC+d2YCUnUG7L2VzmWLHsGSbEu8e+U0\n",
              "+iP2mgOn3ix/qPVtQJPOQdXEf4G54QDUn8Ul0X/3qKV6fGJ8wT0kVCN8fZk1edUA6ik6iT3WdsTu\n",
              "ODY7Xw98OAbi5UJ43OeyYtnyOH74eygx9HrlcJO47yb0egZB+iA2rjaexU3nBbFPMdNp6+n7YeA0\n",
              "a71Ct+aVnuJ21OVs9QDs9dihvOrm2QCTsIWrx8/xjbDZ3pChngVvXPjWjEN7Q/uLhTp2KMNrR3nu\n",
              "MoHzVGJsVmqD5h6XcPqN3MXXo1Qc70Cj3wNb0D4n5edW+Q/s3Pa1Qd8OEnW9JpmJuCKotiwYq9ag\n",
              "GWJoXPphUueFn8Bmo7xwxcUb7Etxmf3JArcUmH2KGXlFExfVP6BMlfw/4a/xQlS7KrkI9Aw1DxOS\n",
              "kuQhBP/Baoy/y88/dP4VJaWF3Acid7YgJlpVy8r5jd/2Yin/wC7fQ9WJsX0dSRVI4Yqom8DCITHS\n",
              "1FkovOkF0yWDSLPtDWKAM0GQEizK2hA76ScD5LZySXQl0t2Xy5M1eWfyfDL9Gn//BHqXBc6bsatA\n",
              "MojToZVWFL9WfT47o4ylnoqksXPNPH3/4iW/lYtm8Ddb9Mjeercfg7KLRO3xaUMXYww/QdkqGlDC\n",
              "SwmZgM1Sbgy96uCUFp+aGAXn5OXy7oO6ZQ+hZqK/7MLDAIZGQyeCnys3mPPwh3vGZ0cbLFKSpj8d\n",
              "VKr4N3SEjmtB6T/oAy9dDgWVgq4R/O1l+Wl+2GIu6wbmhOciXonzkd3pabAZG5xDodo6CnbiUZAL\n",
              "K8/dAAhQlBofXZ4ydAZDgBB3rH54urcbO5w5i4qb6R3cxiXXZuaV6DU8P3ihxsV2+i7NmlJn5l5P\n",
              "0mlt0DqKKXylMdQQwT2nk/nUYK3KzY7Q30Ch3WDTkibJPJBILvFPt176jp4BI1u6+kH9eK3Gpzf2\n",
              "ALkK2FUg5H6o4G2f0hL4kOmok/wnpJH42cT2pxbYJ4+Gwv1dyrfiUf7WWdF+HjfNr1H9M4Tnhwdy\n",
              "kD+7CeGQK4K6mz/SMoOO+2B2f/jiaNk+9ELnnhOEIARHQDXOJmOCy2+nmNMqecE0X9BkR3Sbf2Aj\n",
              "t9Cd5fkhWMAbPEMPH/5RIqoILt5I9ePvmreYdEllNBNjvd0RAfXgKXqTNohZejSCxR0RnGwbsMFW\n",
              "UMS12QOa7n0Ch8TzbCAcAtoh7bcyC3BfbrvwZauixnvaFI5C3It55p0LEy7zjoWAwd4DVnXlt8sP\n",
              "Xd2XeM158TF5JodjbnkZ56v3GKPKh1sEGlwLjLQoM1yfSnJfnc9dkw2ThS+ygbMrEaYX/0jzpkYg\n",
              "HRliNs8z4YFCgbENSwCt2nPWDKCLmAshMXlqPsH7/bKDl68bfHGO377vyV5Z1LYdyHJ1GS6ADs2i\n",
              "imc/zEnxnfFIs4kQwlzhXkEP5o8TlA+DxqVDFAZ4oPSc8jQyNiC9tVz6/Oc/9WkT/EzWgh3Kfn/Z\n",
              "QCs9WLPcXLVY6KDiT5jYRKEGxg8RnqEbur6r98s+73T59A2Dj1++5pRdv3GvjoVSmYCLoTnFJMTs\n",
              "LvDKGYvvSFDJrCbYjm2doTtAtT40+ifhcS4xg2MFLraDvAYbndQg4w8RruCQ0HUfhFeiaPAapQgo\n",
              "K1qLi12l4L78rMxKwCoP4r6YxPQOpEigMGcShLS7CuKMeyMfpbF35oVL4pbOtPp8opNn2HryS3Ud\n",
              "/2T5nPUohEtjS8nqgE6RQ8jJc2HBPG92Hvuk0uz75fnFe/ivvcWnmhByEm0maOLCsIm5m8D0DQd9\n",
              "Pa8XMsL9qwYB8mQiVluoGltaRoTJOplsi1Ec1dphOOZuOarlKbIZz54nrfB9s5IrFnLnwJ0LvHx0\n",
              "FXX6ZGHiiKv0JpcIFzzvL7PgEjnJshSnwv6jJFOGWxncNaERoDIqybwNMhn5VdnLWc2tPfbHW8G/\n",
              "Uo0PZgWlRJqU8WcIrvrfFP0LGj+W4ZirBPd0QW2D3NYptP0X8w8H6EvpTerLm8P/JRlUjtznefqa\n",
              "lJrzyWoeFS/0PlopIEiqe9FNzzBnzaFbh+m+mZuiRGMw6/Y23H7mQXIUKFAQeefO4KfShIHtwMBW\n",
              "7rx5mC7bVtkXhAH4rDZ/6hl6M37wxthgwuIFnwDNCTvXpgewk9MXwuHpkK/IuJ0gKcxZ/2+oEtl/\n",
              "s3kdnLIuW4hIxtIgZOcHomhymjH0tDfyDWC7gOMKkIK36Qcs3stHqvttlqCuS/WCbvOPakRblX5i\n",
              "wcv36hQl2rHWNdg7EadMBwrRDsywhkNjcKhbsYZYEjs4tHoq8hA6pSLangCnwqiTWZxaKuWcJN02\n",
              "BC6u0iyqtY5eHc3+R4/65yQsaL+RmMZeKjuNFDCZOV/dDDlZknAAQaLu40uwzjngr2Bi0I62xyzR\n",
              "/AtoM6PHOfdy/qRIwbMjEmKsxl6XjsH3edOoFtlXmqPREa2WOIeeb4eA/TXjhpdUgqm6c4P+1pEj\n",
              "ssHm5Ibwo97fNT51Ra+C7WFu5OBKK1UjuviBm7lW0zH6MkBcmQxlAyTldic6/L9kg5nwQhlA6l8l\n",
              "UBw0Qi6I1TCwF3cDtIaaj8RNay5HbwZqNiquXQN9+BVN/oDPhe+vdkWJTlZohyQww2wVoeCcgTqt\n",
              "cIH2I1fny2zb4w3MXTZhSaUtm5jUmIclyjXCX3j9NQT9E0ufd1HM4C85u8E39uA0gzaHCuKAmt0p\n",
              "qPZbrgJzZud2Oq3oad2Cx/rAFcSSwHIaGMPkrA/0qpWdQeN6tNkubL6WdsaJcLiUyGDic9PW4ZRB\n",
              "6NobJe82JCNs0mxV02v2LB+/6YvmhUZCLVLM6jCu/+oIGnLuJhKY8dyqB2whzYqAKaqavRXMJ0RX\n",
              "5s+lbp8C4YhBLYDU23+go/Yt08MGTQ2z6u9AhslvphJGv/xO/RMDEWy46th1iMfoWr2xxDHmzjom\n",
              "j3omVXf/BIkUlvAflXPG9VyF1igqwVDXXmjtchXWplOn7nCtAKi2uVP2MmIaoEOWs4hwkodECx/y\n",
              "d6ZOJHBUb2T3mjQiqERPPpbgRkeikjOw1cBDVlvyiJqRknR7f0rE2x91+xilkETwL+T/5ae7/yKC\n",
              "FrOD4dcoxQCgO6aX0f73YdfbXwu3UXMgZxv4OnBQpy9MACfmrftrRZyjMwKu41iu5uC/A0Vq2a60\n",
              "pRRVJxgbL/2l0i4LNBfQ7KOP1gCRhhfPz+LkH7bARZMQ/cVG6z8U7iVLwUVGtNNRI2J3sBmDApmA\n",
              "5ccdoR4jLyJ5humN+xxWAdI8GdyrG7B/Rvd63FrVNIqRciWdyble1jmDwp3cL7wZF+//3DUYncjU\n",
              "kQLKXdj7qXPjOAVsgJxQuaVnUJtdEaOAXNonfLQ2mC5ZJS1lGyRIIvyKIWE/BdI2BIwqGvwO5Ctz\n",
              "gI8tbpcy8BrDmB4IZfyVleSq2VqVL3FcRHGEiXDiEaVRZ3vDdlmsGR4erqU9Eo/pSJQFdIVlpg5Q\n",
              "JDLO2wOk98brWqlRikwoH2H5tnkXxAQ+YaIW2DJIMJlCt4sxhBeLrHOiQJ6K+W8VWMJRjJqn/YH/\n",
              "fZSPKYF2JuLmx7i2nCVR5FlkyM0SpqkZ9cRxGc4zqxwCIoTI/N4+tLgxRjpyOzSswmE9lKVIazKT\n",
              "Rxp8cwHKRCMQojANh4fUgbDGR8TJjuS/PfLXy/N4YRg7fwk+E+qk/2uFEuQIKz5Ch33/emjeHbIm\n",
              "c0b8NYCYC8+1khj0Tk6IrbqPbMkKknXJSz0g2erjw8ZAY9LfdJ87sD55ReC9wezUqnYcaa0EjjSK\n",
              "+xfMn/j0USqXkPoACsNIvHKfeSHpb4t5C4Cbz0AqO8vgYz0EYV1TA3aWe37VpAlxyTWi5n+40bDy\n",
              "VImsJJJWElYUFsnfvE1880NOQDqCD5ewyeOp/SeXheq5zWmwqj9FeHMaRfqAuTl+5vmcgEfUT91m\n",
              "Rgb1wIYcf30kkLkC88GBP/QPh1WuNx2ch6i0CMadA6nop3UduaprLA/6tWxXUjEH3csJyYQlZxXY\n",
              "M2PHV/LwjFbPomeyliF/wmNlq2RLWrSZ6atNysY9H2GdAbexYQEPWFEZssO4mXwAwvq5jDAkqhOL\n",
              "2uTd8HEoRbGyBkwLSqJgGRkR1lU7aoNrL6pYMzV7HZCjFcbRAIOcln51Szl3mQjEFoP70EiDGMaP\n",
              "hYzeN6BWqGbpfj8+lvaXFZL6W/IJzDyhgW2+Wif3clv1lRe2l7zgqvHMIFmCdAKryxJd4VVN+uHK\n",
              "vz5fHlKcePvoVsspcuN6ZiGz2pWhnuazwY6PtyhfrtZgKbgHDy/b/0we/Qehatg6NU7ugVX7xcRA\n",
              "8VNkwauh+pNw01tN1pg4/fD2xZ/ZcWCU1YXFtxLhAFtPXOCSxZYnv5N5tNEI8p5/HHoF6rVjbqHf\n",
              "L6PRJ3wyFW+wduFyBt/8SxTBwvO0gA4Sq9wr1GYjsz88QYRWYroTjcIg0+/pl86GiWDmJTFw9c7W\n",
              "yc4eWOujH0z/7jBYcQoFr3MqNZIJfvBxW3zDensQ35ehuILwekA2GYM4rcaQOAr28xN2JRYMpGMi\n",
              "LLvNIBBj2h+aSojEbgxtfbT9TwOR6y8wEgVX6hijmQVFBU9x8BE5LXsOvxCzfuupV87gEm6oyfuj\n",
              "vdjzXhQrb9gxOHKaN4YFBjtrEnrJOYR8cs0leG14JSwSEN06FIs191YtBWesjWDhuWXQ9MNV7ZRl\n",
              "+yCdZci7MeokBzt/F6TSqpZRO87JcqVGD4myhyMCxTzMAJzpwroMAmw2UOecJT5Pr0p7fH8tppcZ\n",
              "NruZleaD4dxdVXZJICQF1lZRJJHYi3o40AOh05e/KCc1/bQPGY0pGniUTgi+kXf1x/UDYoVXDqhO\n",
              "7WwMzlieHRxlhgNSFv5mN+lcT43MYzKN4lpQCs1M4lV6d44oaTZdxqhK++bjxCrFdCGTqibUPnHx\n",
              "o33SdHB1/Bllo3oYgjlOcpz9jYCpMUxR/p1t2xw1bKAaBA52+qT6XRXXtTJ3AzfDg8aXTqYINZ02\n",
              "OhO7jxnincgdPOkw7pP2o6iLrsD9JVmCqBGd5Q1G6IkZmTXuMFWSOHglquzTP9IidDCS7GWYQGIF\n",
              "V0CoAaC5K/pzlsVy5gWWAqrvlzjts16UJX6zNh03xGUoS8q3BYouM6LW5Kr/x1Mx4HgtnxKyytzp\n",
              "6p8UwfV6eVJ93La81lPPMuOfEKFxtMJwSJ9W3dTS6wgHsBHfQ94qvorGv5lq4R/ZmSBqyReRWJ3y\n",
              "s1XZZKHsYojYoxRQ45pxSPWcEk+K5oRdDw7IhY6MilBQoKmPRN0brZHFcvk7nSdBuuWnuTTthmUU\n",
              "WstgeHs7I8P9XroVuafo8JBkBbMjCJR9BhZ774sn24YtM9zD5TYFINR9mIAsK0jgU5mGABrwH590\n",
              "BFlvdkUPJNq6R/pOHTazIp9HiPrqxV0lrWkgg37VwMBG+dbfHDZaed6o2HMCJyk0XpSsBchTdQl/\n",
              "eNkq5LZm9Fzxo3nn/bXsKTafoqdM6Z4n71URnJYK0vQ0A51T+UGHVdksVm0cHH2NmC1ZF5vPCJwK\n",
              "3VKVjiml/jnyrA0/qIu+Mx5ISzYmww2MvJtjxsY2e98GrRT8mkDX5IYofc0ri4y+eFh7OyAvvnAi\n",
              "TWuvakZKGAgljDXnYk3eK6xCFt+JDGJ5ejwsu6uodbCJ960q95/mEc90LyFB1F+m2SAe7qziIP5C\n",
              "01YPfFU938i0zglCfGYsvpyZHQJyd7AZN2Aie1f0bYuDrBYUCuKjHViZ1svfSzMSPF6nL7WZXeRN\n",
              "g2Iwo5uG5Lihx7APioidFbg+KD4J4r+6wtA3fmZ3gKke3sdECU2PwqtXarWO8JIXPFI0VvmDga/u\n",
              "TFwl0baGRjssq9ErV0KllYGK4E78DQ1NQcHm8ScPKpcZbN73G/cKxs58XiqKH6dZEMDJH7S34qFm\n",
              "2lJDXZx+8/TDOVs++bhYQ3+yLnLCqQarTgCfH5/chKQgzw49jAKBCC/NPEC1G7gbeDoGOpFJQrY9\n",
              "s3Z+6k1AkYoaCBfOq6Y2FaNydU6obRk8iACnLqjMgORMtl8yiRyS4wCJadm4T2/VytHKAwmUiw6b\n",
              "IktMNMaRZr7qrmkOG0mnCoSCrt9/BaHyN4i6KuJmSmcR8ziAOXb3VBKtnW9aYhOYx/wAJldxYMYD\n",
              "I9ucWE9pBJUk8g8GGJNcr3btRvTxLjxFElH/2UZnfgggeS/eN3PIV8TyaHr3o4lmxwFJ1G1Nu+2v\n",
              "d/SBD9O6+l4kvCD7C0QO6QkXpTKzBRqvxXEAYd0MpFpsatZYsGQewFiIWI+uGv25QQ5YWDOvYqIA\n",
              "8jlTC3qYg1nKHSWJUZXiNaFSW97BFj1vyGhy0AOiJT/2PsDCNtXwS0EIOAGmFXKI/8/PDQC1OvPT\n",
              "qhK3EQntsG4/I/fA0ND23Z8TdazlrVuaqgWsh6CdAm6qCAEXv3jxmn/ZEhRYr9ltC5hbZBJzgZfH\n",
              "KKjcqGc0fJI75e2RBlM2MCCOuog7jT1Nm1bHICUn4yRrHHF/dI90i5zA+7vhHr+YrF/NT/0c/zFu\n",
              "qdBQdCapHDg1MGEXs27Ap1vN8/trWWAYivcJWYWZeCcxqeZl3f+Uq+9SU8LoWSX7XhwBftijy36E\n",
              "QWdsYhYrVo+gp/xhrd+AeMjJhZXPL45dWuzXXMUELWSDWNwNwDfJfjh8vE5zvaE4zEBGdgDVYEE5\n",
              "qQZ/rLB/NQBTP4csWBGW7xNLaNz5X5zVQPwGYhbs/9O4ivZnL3/0R7k7/02Qd/MxgFcZKN/VCEcz\n",
              "r90rEc1L//D/dIxyIFY5Czm8l4oXSY2TVM4gEBDLk03ygb8GRxEJmanTTEiLdJymAxqKR5emExKV\n",
              "6rTcXs3jl2fnBSC7D/LVuC46mI3WZG7zR8UQX7h4Z3a8gCuPyDajgrt+QAb0bCHifFcyCKBlxSOJ\n",
              "bIvilMq+PlgAWQ2Os9bbeOM0Z4LdUGCYLhd4a/LnunCR172rQQTYIBCtO7ys3+yGCsreETGaSCnY\n",
              "v0JEOeqO1SD85ZKOt2om6wGOpirnv+NAB85hDeBVDqgOmCyhF6TM5SmiPszPOgU98EmGv1sbA0Ef\n",
              "87sVM+vZ0BJYOfeyulsVrfooFxcujMPYlweYRbycsN4zfyn9u2EoyHIgVehElI0AdNkkksoyQG9j\n",
              "u3zqaSjs5p9sUDi+JVHuJkJ1G2MX7Bgl7PO5LjC0qHgTzfdu/Z20oyTy6qlfyqonurmQYL6RXSA7\n",
              "n8OfYvGnWXO4WEcp1NHsj68bkn2Ce5oUwy1UCjqiX7fZqczfBfRIUh/IKmKvlqchI13LlzS4NUg9\n",
              "du8mgepuW2wm+5VjvbKdUZoLU5wm4TdBxvXHUsqpb/HoOSo5IJ1hEDx4DJMYL3FQPV3PLLsZO/km\n",
              "aItOnOCAi/Frhw3jOAUMHBGn4W8D+AAADnkBnslqQV8AAJZPayd7e+pLITzcP0n90UVQBf3rVu7O\n",
              "Pfum7MdT08zgszEm+WsMciDy5eg7VPEjnjAsgf7yHC7cREzKPzJBPPyuqDMYy9ugpkpyleHbhVfh\n",
              "R9YCXcLMHOG1n+WkGbuuH2GvfJH4KHFSjGs514ooNHydHy9OGr+HtDfILOnoOdSXftLosp7ATUno\n",
              "3uRfX9jxdM1I8V/13HX9o1pJLbmGo4J6GKWM1KexJFFYymIgJG20M39nOKoz60A3gp/yjiHfOfA3\n",
              "Cchbp2aaq2BbEfE31+hgpPCuPPkFj2xNvc38g9vjUw1SxET6cTooQq5Wg0afExvELKFO6qAmQSIH\n",
              "N16WimwI2c3NwGu5U4rPzLPFw7pxEtaV8JxBb5+LriOOsQc/gGfCYuz4LgrtYLZef+Fr7RrulpfY\n",
              "xR/4pht2H3gjXRDhVjIsChQL5mnyBCi+ybg7s++HEBdzBAAtGlZXS9G4YJnLUF8ysMn+k/wgsnWc\n",
              "NY7dVJW/0JkZva/Te74g02iC4zmzttm+mH4c9qL4utC1h3Nb917esbdnva6w/IBWBm+c1WH9IpzB\n",
              "gnmUC4rvaX4h6n+wdAC8iUYQ9Cljy540x1C0Ml5AK4Zahe2nZiPlMLA8LBywKzwlgqQkIdzzihZt\n",
              "WDYrtiYqfeFGCdPylzX8SCkUl+2AUOjxlKEK2EUb5AxD1QD3jMhQ5FSkHt5FJESTKePWHcIbTvqq\n",
              "U5X8+4DcBm1oUdJYH9i8VQ0+xwptoYevxTnZRTydA++KunRxLbu1NOemL1zS6W4ABUR1Kkg6EJOb\n",
              "0kaXjGE0bPA2oWpP/AlmQ4c3AY7yrKLSkbbuByCYZwObQc/8S8I2Lv0Hd5pKPdm1cWoRN2f31cWU\n",
              "xhpgsFY3f7K2YaH5xiM4UAKwqRJpeFm9d02io4ZoECRdkOgd0l/5Opr5ZK65oyYqnfKQXXCnnUXW\n",
              "jlKxcACr7qvMjzBYJca5bBOspYwb81ugGeIzitoi7h/41dR3O3mS2C08xfYzajkJs1zWW7i+OgMP\n",
              "eWOJBeUEymJRfygsqKDTsifORbsGmdl1PZiZazluApcj+LndN5VgBapX1UJtoR574lsoidcYtR4D\n",
              "u5bhjI50E86F13jgQcPG5zEdQ9ir+CoQU9CdbqDh1pivwPmMW2JCSvxS4+i/f+h4JA0cRAT29uQp\n",
              "Mo+KKvb+n97LGooor2QSDEpjRmLSjjqBIk8c3Q3RS0YLs76hoNt7cUyDp0kuORiTWp1nTh+MJ4aD\n",
              "ePJNdGRod9E8hLaJD6lAMzM+OjIb8Yvhu2M5cNzosK6Scta1r9lBsiQ9UmCWxzu/5VldvLyGttRs\n",
              "nQYu6NH2suwsoQPTMN77G5pdSZCexlE1wSYG7TUsTj/Pn9J0yJBMCMiLeNaFV8D+cigQ6aExWGaD\n",
              "riGzNLIbjkXNlk4bwR+Twj7GOqwYHsZKQqt+OPObmyeGu/bOyGt5MBz96WThgfGG8ySfI7yuqZgF\n",
              "9AyrG9Ohf3vrgqhxN8pRjL44SMiYZ7XlbCW/8yoX8S2JQvVKrgTVc+spCGtk8RrQlyIUhgHRRp8I\n",
              "HGM9wemQS7uoq9cxeyIYmxY73sN9rT43r+Pk/hhX/4oGv3UU8yM2iPtLBb6Eze++kf7eUafAeKuw\n",
              "wapmyXz1q/7p7IEkDhxn3lGsnXHC2XgX4GSvu4blP8hX3rcxj5XI7WJCw2/Uyi5V4BHIw4V0T82/\n",
              "5AeF96/LMEdFpn/lOF3JYf0nN4828jrEkQ979onZFAkSc32Odv8A8DBJW2+CQi8gsdljNN8uHIBh\n",
              "07m5cRfV35FmIqZq56T6Z4K2DahMz/q/w+jdNvoMohciNH1OW0/KDxeCcjPRe7cql7X+u4+ZwezI\n",
              "eUOleJAoyf7E6SJcEJOL5C+6hkPhZfVOtSnldccN9q5AZiow1LuMjjI1jQL62cZ8N4moLDD7l83V\n",
              "ogsQOMC/RoPo4R+GOzRUny8xAOMdLFI0l8iBJajpR1CJCxM1ONXHTZEs3ln3xGkGVB1kmJW80eTz\n",
              "uqhudwgznqfeOpdaQV/k5ArnH3lwtuKj6WW2iLoQZ3xO0OGQkEEfHVzI4yp+v1UzbIp/EUB819PH\n",
              "DQeDDlYAsb3uUGCynePbdFYMLDGlfTCmqlPJXysCbs1DZ6z0AkeQSi9r5MhAGcd7yPlbP0R74mjR\n",
              "A2PArLymJeAezW253u12Mus25+b0amK71qVL10rm3Ii1ksve0bwa5n1YFRVHbFX1+JGAS3hfyt+K\n",
              "q9THfzyGW/skrQYYvc8qrx1UxVuLan4SwDTUtZEIrJCAsFEeLqNX6TFdoE+ZsrJjZIYVFZvIWVOK\n",
              "TCv1a0HPWe9CAjniWSjvru+VOvdYpR/+3eh2grLVReyVp3uQckr2Jn9EtA91rN5W3l7Rz2Vjm4gN\n",
              "pvXiYbjrV8gXudYDyo3xcm9A+TNiO2YoapIE2PGpTMzHXCX7UXTXksR05i4fxoLUufV0wfEbkcjf\n",
              "IBSpLJ233TJqUu/EsMtHWiiOUWETG7G2mn4dJVjeX3tYInA3ImO9Ecj7RfVVlKf3fI25DuT8qNbj\n",
              "BZHhyM5sgjensaj3YscPQJhMwcITvgedU0dRbHdJs9xJkAGZJGRTAEIsA7g8wvW303OthQ+uzN83\n",
              "MePmo13DxABOnv87vz3vbRoo8ExXdOVksfDTVy4M+TaTQrt1RdIab/fW9Uq6LhaFOWA4ZQuOOwlQ\n",
              "PRWGRNIPDsqwIAd3OyqWrUQQQLjUmGiNTI4IGSCRHeUjTsSN/jJWPrxVgttzKg/bAuOua4XO6gv3\n",
              "xqXQdZBuwuG9FbYHxXEey/VqWLiMIzp6rmXJdg5Bz7trt3wzV/2eARZ706ZmE6t7R9b/ha5NsTKz\n",
              "2SIlepAxnNFrUt1kI1mdDRtscnIUigRJp9+sAKSNKhPFFblaMSo3xPo/8aQf2mRBZa98uX+XiNXS\n",
              "gnyAlV6okIpOE+dONHQtGlzVLBIDxye4z9B6l5kNbQrvZ0rtXi7oUmeKCZcQ5n0AZ4dA3YtKjnMz\n",
              "KAwUeyKpV9ShXFHCtKomoBm+MRr0h7hL+/SRpZmRyqbX76j6VXD/t67RiYc6INCbx3lbk2fTvp/0\n",
              "gtJmnQVOZcDKmpDOXRNtwHB0OeiuTe8hjoF8bsH0hTA7Pp2ALLu4WeLE0bX1nbzf3hGco15u0Qla\n",
              "Nq9CNdX/Ei1GDCuIX1oDKXr5ckvJ97diO/NqjzX9uhpaYtF+1YOxpctAMJUktr7cPKoPXIQzUmbr\n",
              "Py4uL+sjdn9ba2JqeoWK6YYRmNhOnMrl6r0g8CP6BcC4exzU4aAUCVk8oLIoIhQbjjXyHAl35Lcn\n",
              "TjvsmcSr0/F0/W0VhI9t7K7+SPhkfHLG8na7TUAD4tjuLeqgEznkVqeAoaMyonjvpV54tA9iSHVu\n",
              "Uah9xzSTDZ50h3zjZwpmSA6CviK65S2LjVW+MJBUA3ubZQm2cZN0V6/i8eJExZW9dHxR35GrqJbh\n",
              "F60X1GvzpuVrHoHd79+c5SwL0ID8Vh+J1xRSZiOt2zE5NK+EQcXYqVop263/Io36QSZz0HXzTMOi\n",
              "2RHbmLeCDgikq6H0RfA2MzoXKeNUMlYdDKtjdY+ndgEonyX3GNPEJbGG9Hvu4MvO+oMaOYoZYvgn\n",
              "7Yi1WE/7WXza6QzVyO1feJBCBS/JOHQPtzG6BkOsRvxuEqqnOYBPAm9pkU/cXofls3Y1bhKjUDuy\n",
              "dkdP0v6FbmZS/oZMgiPGEu7/jM4AdUixz0/SLsDH2aJ0i3vn9xHXfJzTEhYAXRcyIcRLgzsYV0VB\n",
              "dO25PLqmm/HTD6/z3JuxEkdB/aBtXEjciWrVmVnnacAs+OsVAstBzXb2c/a06BNN9T7wYa298Ilm\n",
              "eAzFIxjp4AS3ZrZ8P1ZsBqhQH1+kNnx6HDc9imp4JeNNmW5jCTRbqe6Cn/NWeBFenQEOgn43IEdj\n",
              "mllv62Dh5r5ZYqEmaXEpDQo4gF6tZ072+afimT7SCkqNoLIOv1ByeIBefjm6YkkGOrSz2rqac5If\n",
              "1ftanhT/ECZHBsglSMvB19TXxhRYxx3GFjmBWigQsxmghA3QkDL/F12qHbYQITYy8BFHM6w5pB6/\n",
              "/OaqesT0kW0pVsKtekd3FTqVoom44/nYs1xJwkhI1QlP/6kzDXiz5m0o52ngDpfMIF8r2mBELzvc\n",
              "Yhhj8PXJ2MZVVkbgLkLMdNCrAOdvYjzRYSKQrtrfAvdFfsvv0l15hC2jymZ5cv3OZbQxzHAL5saa\n",
              "iwWHYxvZmSl82rEN3cZ3csaA2qF9KVIus+i1ZLfG0Yjs3PuY22nrRXZZQpedRpd+iAWht4fMG2QR\n",
              "hDJBYg3WSXmqf+Erfmxd6/jtTdk9QcKR9q0lx2l1f60NVG1YX6MJEAbWndYkgogWde+2zhNsmzQa\n",
              "JhduPLMvdak0KMUNRXFvq/vt/mslA04VkN7MYCnwTXXDHqTBAOVlcLcVjsdPHmzuvTV9v0+RD4yp\n",
              "4XuLduBES/ii8xZQcTPalt0XlLPOPlz9kRtJVyqgY/ZK6Ag1zH5apbGy6zeACpHn1+HLvEov5LZv\n",
              "SB0iVGXsCQV6DuCCAmOvmzH3nQqduzXCLODHCN1yfCQzq3cpBTsHvBcQQjaM8Qp+x36ZxXyz+pMe\n",
              "P7IqiMZ/keemqU4nswdk4Mge5UwsH9kJe/W+ak5rgTzdwdlCOGn7tIUzhLUA7hqlqqitDCHwrEta\n",
              "D2KbPZhuXixe1An6wCGLs2Le6nPENRG/cV26Dsu9f71M8mdZsx+Es24DTYxej+RoP3ybNLKCRmLF\n",
              "FT3sTMXHuS+zGE8ogK6uWe0a/0ki0mE3PJriDHGRpogJdy+wM0STEhliZZ3fOpVes/AzLhfVLWFm\n",
              "95BVVkcMl0Vz6LwtT0lxPoz2vheci3SQ8cMaCmIXLpbzEbSvaAOhIb+TO+fsrpD3pzKk+vXfLGdr\n",
              "xZMTJ0z/rfFYS9/D2QL31WgkHTdK1Zx1pckAAAOybW9vdgAAAGxtdmhkAAAAAAAAAAAAAAAAAAAD\n",
              "6AAAKvgAAQAAAQAAAAAAAAAAAAAAAAEAAAAAAAAAAAAAAAAAAAABAAAAAAAAAAAAAAAAAABAAAAA\n",
              "AAAAAAAAAAAAAAAAAAAAAAAAAAAAAAAAAAAAAgAAAtx0cmFrAAAAXHRraGQAAAADAAAAAAAAAAAA\n",
              "AAABAAAAAAAAKvgAAAAAAAAAAAAAAAAAAAAAAAEAAAAAAAAAAAAAAAAAAAABAAAAAAAAAAAAAAAA\n",
              "AABAAAAAAbAAAAEgAAAAAAAkZWR0cwAAABxlbHN0AAAAAAAAAAEAACr4AACAAAABAAAAAAJUbWRp\n",
              "YQAAACBtZGhkAAAAAAAAAAAAAAAAAABAAAACwABVxAAAAAAALWhkbHIAAAAAAAAAAHZpZGUAAAAA\n",
              "AAAAAAAAAABWaWRlb0hhbmRsZXIAAAAB/21pbmYAAAAUdm1oZAAAAAEAAAAAAAAAAAAAACRkaW5m\n",
              "AAAAHGRyZWYAAAAAAAAAAQAAAAx1cmwgAAAAAQAAAb9zdGJsAAAAs3N0c2QAAAAAAAAAAQAAAKNh\n",
              "dmMxAAAAAAAAAAEAAAAAAAAAAAAAAAAAAAAAAbABIABIAAAASAAAAAAAAAABAAAAAAAAAAAAAAAA\n",
              "AAAAAAAAAAAAAAAAAAAAAAAAAAAAGP//AAAAMWF2Y0MBZAAV/+EAGGdkABWs2UGwloQAAAMABAAA\n",
              "AwAIPFi2WAEABmjr48siwAAAABx1dWlka2hA8l8kT8W6OaUbzwMj8wAAAAAAAAAYc3R0cwAAAAAA\n",
              "AAABAAAACwAAQAAAAAAUc3RzcwAAAAAAAAABAAAAAQAAAGhjdHRzAAAAAAAAAAsAAAABAACAAAAA\n",
              "AAEAAUAAAAAAAQAAgAAAAAABAAAAAAAAAAEAAEAAAAAAAQABQAAAAAABAACAAAAAAAEAAAAAAAAA\n",
              "AQAAQAAAAAABAADAAAAAAAEAAEAAAAAAHHN0c2MAAAAAAAAAAQAAAAEAAAALAAAAAQAAAEBzdHN6\n",
              "AAAAAAAAAAAAAAALAAAT/QAAB/UAAAPgAAAC2wAAA3MAABHYAAALAAAABp0AAAkHAAAZEgAADn0A\n",
              "AAAUc3RjbwAAAAAAAAABAAAALAAAAGJ1ZHRhAAAAWm1ldGEAAAAAAAAAIWhkbHIAAAAAAAAAAG1k\n",
              "aXJhcHBsAAAAAAAAAAAAAAAALWlsc3QAAAAlqXRvbwAAAB1kYXRhAAAAAQAAAABMYXZmNTcuODMu\n",
              "MTAw\n",
              "\">\n",
              "  Your browser does not support the video tag.\n",
              "</video>"
            ]
          },
          "metadata": {},
          "execution_count": 47
        }
      ]
    },
    {
      "cell_type": "code",
      "source": [
        "# f = \"swift_animation.gif\" \n",
        "# writergif = animation.PillowWriter(fps=1) \n",
        "# anim.save(f, writer=writergif, dpi=160)"
      ],
      "metadata": {
        "id": "0pJ0RUvrWWOE"
      },
      "execution_count": 48,
      "outputs": []
    },
    {
      "cell_type": "markdown",
      "source": [
        "You may notice something very interesting! \n",
        "\n",
        "By the end of the GIF, Taylor Swift songs are right at the border between the country songs vs. non-country songs. This makes a lot of sense, since she started off as a country singer and later switched to pop music.\n",
        "\n",
        "To explore this further, we will manually classify each of the 21 songs as being from her country vs. pop phases. We are mainly going off of the classifications of her songs on Wikipedia. You can see these below:"
      ],
      "metadata": {
        "id": "tOxJrVLYWZ2p"
      }
    },
    {
      "cell_type": "code",
      "source": [
        "swift_pop = ['Look What You Made Me Do',\n",
        "             'Shake It Off',\n",
        "             'Style',\n",
        "             \"...Ready For It?\",\n",
        "             \"Wildest Dreams\",\n",
        "             \"I Knew You Were Trouble.\",\n",
        "             \"22\",\n",
        "             \"We Are Never Ever Getting Back Together\",\n",
        "             \"Bad Blood\",\n",
        "             \"Blank Space\"]\n",
        "\n",
        "swift_country = ['White Horse',\n",
        "                 'Picture To Burn',\n",
        "                 'Our Song',\n",
        "                 'Everything Has Changed',\n",
        "                 'You Belong With Me',\n",
        "                 'Love Story',\n",
        "                 'Red',\n",
        "                 'Sparks Fly',\n",
        "                 'Mean',\n",
        "                 'Crazier',\n",
        "                 'Safe & Sound - from The Hunger Games Soundtrack']"
      ],
      "metadata": {
        "id": "MryDP1wNTqA6"
      },
      "execution_count": 49,
      "outputs": []
    },
    {
      "cell_type": "markdown",
      "source": [
        "Now let's plot her country songs in blue, her pop songs in red, and all other songs in gray, using the embeddings from epoch 10."
      ],
      "metadata": {
        "id": "9lc9UMZwWzgP"
      }
    },
    {
      "cell_type": "code",
      "source": [
        "swift_colors = []\n",
        "swift_alphas = []\n",
        "for id in songs:\n",
        "    if songs[id]['artist_uri'] == swift_id:\n",
        "      swift_alphas.append(1)\n",
        "      if songs[id]['track_name'] in swift_pop:\n",
        "        swift_colors.append(\"red\")\n",
        "      else: # then it's in swift_country\n",
        "        swift_colors.append(\"blue\")\n",
        "    else:\n",
        "      swift_colors.append(\"gray\")\n",
        "      swift_alphas.append(0.2)"
      ],
      "metadata": {
        "id": "MiZZdL4LPKwP"
      },
      "execution_count": 50,
      "outputs": []
    },
    {
      "cell_type": "code",
      "source": [
        "plt.scatter(pca_embs[10][num_playlists:,0], pca_embs[10][num_playlists:, 1], alpha=swift_alphas, color=swift_colors,\n",
        "            s=swift_sizes)"
      ],
      "metadata": {
        "colab": {
          "base_uri": "https://localhost:8080/",
          "height": 283
        },
        "id": "74AKRVCKPKyU",
        "outputId": "a4d604f7-7e1a-4fe5-f9b7-c0a586403ed5"
      },
      "execution_count": 51,
      "outputs": [
        {
          "output_type": "execute_result",
          "data": {
            "text/plain": [
              "<matplotlib.collections.PathCollection at 0x7f8dff5d1810>"
            ]
          },
          "metadata": {},
          "execution_count": 51
        },
        {
          "output_type": "display_data",
          "data": {
            "text/plain": [
              "<Figure size 432x288 with 1 Axes>"
            ],
            "image/png": "[encoded data removed]"
          },
          "metadata": {
            "needs_background": "light"
          }
        }
      ]
    },
    {
      "cell_type": "markdown",
      "source": [
        "It looks like we were correct! Her country songs (in blue) are much closer to the cluster of country songs, and her pop songs (red) are right in the middle of the non-country song area.\n",
        "\n",
        "It even makes sense that her country songs are not entirely in the country cluster, because she has a lot of crossover appeal, which means she probably has many fans that listen to her country songs even if they don't listen to much country music in general. This crossover appeal likely pulls her country songs a bit back more in the direction of the non-country songs.\n",
        "\n",
        "Anyway, this is an extremely interesting result. Our model appears to have learned to embed the different phases of Taylor Swift's career into two parts, completely by itself!"
      ],
      "metadata": {
        "id": "8ubRFhw-W4i5"
      }
    },
    {
      "cell_type": "code",
      "source": [
        ""
      ],
      "metadata": {
        "id": "xffIdmHwWhxX"
      },
      "execution_count": null,
      "outputs": []
    },
    {
      "cell_type": "code",
      "source": [
        ""
      ],
      "metadata": {
        "id": "mZuI0ue7YkMw"
      },
      "execution_count": null,
      "outputs": []
    }
  ]
}